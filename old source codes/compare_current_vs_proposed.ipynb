{
 "cells": [
  {
   "cell_type": "markdown",
   "source": [
    "Outline of the Notebook\n",
    "\n",
    "Date: April 09, 2023\n",
    "Filename: compare_current_vs_proposed.ipynb\n",
    "Copyright @ Tanmoy Das\n"
   ],
   "metadata": {
    "collapsed": false
   }
  },
  {
   "cell_type": "markdown",
   "source": [
    "# Input"
   ],
   "metadata": {
    "collapsed": false
   }
  },
  {
   "cell_type": "markdown",
   "source": [
    "## Data Import"
   ],
   "metadata": {
    "collapsed": false
   }
  },
  {
   "cell_type": "code",
   "execution_count": 1,
   "outputs": [],
   "source": [
    "import data_preparation\n",
    "import custom_func\n",
    "import model, model2\n",
    "import model_analysis\n",
    "\n",
    "import pandas as pd\n",
    "import geopandas as gpd\n",
    "import matplotlib.pyplot as plt\n",
    "import numpy as np\n",
    "import seaborn as sns"
   ],
   "metadata": {
    "collapsed": false
   }
  },
  {
   "cell_type": "code",
   "execution_count": 2,
   "outputs": [],
   "source": [
    "# Import data\n",
    "spill_data = pd.read_excel('Inputs/data_oil_spill_resource_allocation_Arctic_2023.xlsx', sheet_name='spills', header=0).copy()\n",
    "spill_data = spill_data.sample(n=1000, random_state=42, replace=True)  #+++\n",
    "current_station_data = pd.read_excel('Inputs/data_oil_spill_resource_allocation_Arctic_2023.xlsx', sheet_name='current', header=0).copy()\n",
    "current_input_param = pd.read_excel('Inputs/data_oil_spill_resource_allocation_Arctic_2023.xlsx', sheet_name='current input param', header=0).copy()\n",
    "\n",
    "\n",
    "potential_station_data = pd.read_excel('Inputs/data_oil_spill_resource_allocation_Arctic_2023.xlsx', sheet_name='stations', header=0).copy()\n",
    "potential_station_data = potential_station_data.iloc[[0, 4,7, 10, 11, 18]]\n",
    "input_parameters = pd.read_excel('Inputs/data_oil_spill_resource_allocation_Arctic_2023.xlsx', sheet_name='Estimated parameters', header=0).copy()\n",
    "sensitivity_dataR = gpd.read_file('Inputs/ArcGIS_data/Sensitivity_data/Sensitivity_data5.shp').copy()"
   ],
   "metadata": {
    "collapsed": false
   }
  },
  {
   "cell_type": "code",
   "execution_count": 3,
   "outputs": [
    {
     "data": {
      "text/plain": "1000"
     },
     "execution_count": 3,
     "metadata": {},
     "output_type": "execute_result"
    }
   ],
   "source": [
    "len(spill_data)"
   ],
   "metadata": {
    "collapsed": false
   }
  },
  {
   "cell_type": "code",
   "execution_count": 4,
   "outputs": [
    {
     "data": {
      "text/plain": "  Station # Facility location               Coordinates   m     c     r\n0        s6         Hay River  (60.758054, -115.789890)   0  1400  4000\n1        s9         Churchill      (58.55084,-93.62352)  78   800   800\n2      s200       Tuktoyaktuk     (69.459, -132.974304)  50   100   257\n3      s300           Iqaluit   (63.742885, -68.464958)  24   200   400",
      "text/html": "<div>\n<style scoped>\n    .dataframe tbody tr th:only-of-type {\n        vertical-align: middle;\n    }\n\n    .dataframe tbody tr th {\n        vertical-align: top;\n    }\n\n    .dataframe thead th {\n        text-align: right;\n    }\n</style>\n<table border=\"1\" class=\"dataframe\">\n  <thead>\n    <tr style=\"text-align: right;\">\n      <th></th>\n      <th>Station #</th>\n      <th>Facility location</th>\n      <th>Coordinates</th>\n      <th>m</th>\n      <th>c</th>\n      <th>r</th>\n    </tr>\n  </thead>\n  <tbody>\n    <tr>\n      <th>0</th>\n      <td>s6</td>\n      <td>Hay River</td>\n      <td>(60.758054, -115.789890)</td>\n      <td>0</td>\n      <td>1400</td>\n      <td>4000</td>\n    </tr>\n    <tr>\n      <th>1</th>\n      <td>s9</td>\n      <td>Churchill</td>\n      <td>(58.55084,-93.62352)</td>\n      <td>78</td>\n      <td>800</td>\n      <td>800</td>\n    </tr>\n    <tr>\n      <th>2</th>\n      <td>s200</td>\n      <td>Tuktoyaktuk</td>\n      <td>(69.459, -132.974304)</td>\n      <td>50</td>\n      <td>100</td>\n      <td>257</td>\n    </tr>\n    <tr>\n      <th>3</th>\n      <td>s300</td>\n      <td>Iqaluit</td>\n      <td>(63.742885, -68.464958)</td>\n      <td>24</td>\n      <td>200</td>\n      <td>400</td>\n    </tr>\n  </tbody>\n</table>\n</div>"
     },
     "execution_count": 4,
     "metadata": {},
     "output_type": "execute_result"
    }
   ],
   "source": [
    "current_station_data"
   ],
   "metadata": {
    "collapsed": false
   }
  },
  {
   "cell_type": "markdown",
   "source": [],
   "metadata": {
    "collapsed": false
   }
  },
  {
   "cell_type": "markdown",
   "source": [
    "## Data Processing"
   ],
   "metadata": {
    "collapsed": false
   }
  },
  {
   "cell_type": "code",
   "execution_count": 5,
   "outputs": [
    {
     "data": {
      "text/plain": "       St_Latitude  St_Longitude\nindex                           \ns6       60.758053   -115.789886\ns9       58.550838    -93.623520\ns200     69.459000   -132.974304\ns300     63.742886    -68.464958",
      "text/html": "<div>\n<style scoped>\n    .dataframe tbody tr th:only-of-type {\n        vertical-align: middle;\n    }\n\n    .dataframe tbody tr th {\n        vertical-align: top;\n    }\n\n    .dataframe thead th {\n        text-align: right;\n    }\n</style>\n<table border=\"1\" class=\"dataframe\">\n  <thead>\n    <tr style=\"text-align: right;\">\n      <th></th>\n      <th>St_Latitude</th>\n      <th>St_Longitude</th>\n    </tr>\n    <tr>\n      <th>index</th>\n      <th></th>\n      <th></th>\n    </tr>\n  </thead>\n  <tbody>\n    <tr>\n      <th>s6</th>\n      <td>60.758053</td>\n      <td>-115.789886</td>\n    </tr>\n    <tr>\n      <th>s9</th>\n      <td>58.550838</td>\n      <td>-93.623520</td>\n    </tr>\n    <tr>\n      <th>s200</th>\n      <td>69.459000</td>\n      <td>-132.974304</td>\n    </tr>\n    <tr>\n      <th>s300</th>\n      <td>63.742886</td>\n      <td>-68.464958</td>\n    </tr>\n  </tbody>\n</table>\n</div>"
     },
     "metadata": {},
     "output_type": "display_data"
    },
    {
     "data": {
      "text/plain": "       St_Latitude  St_Longitude\nindex                           \ns1       70.000000   -134.000000\ns5       60.529999   -114.379997\ns8       60.060001    -95.889999\ns11      62.669998    -92.708000\ns12      73.400002    -88.160004\ns19      63.150002    -69.680000",
      "text/html": "<div>\n<style scoped>\n    .dataframe tbody tr th:only-of-type {\n        vertical-align: middle;\n    }\n\n    .dataframe tbody tr th {\n        vertical-align: top;\n    }\n\n    .dataframe thead th {\n        text-align: right;\n    }\n</style>\n<table border=\"1\" class=\"dataframe\">\n  <thead>\n    <tr style=\"text-align: right;\">\n      <th></th>\n      <th>St_Latitude</th>\n      <th>St_Longitude</th>\n    </tr>\n    <tr>\n      <th>index</th>\n      <th></th>\n      <th></th>\n    </tr>\n  </thead>\n  <tbody>\n    <tr>\n      <th>s1</th>\n      <td>70.000000</td>\n      <td>-134.000000</td>\n    </tr>\n    <tr>\n      <th>s5</th>\n      <td>60.529999</td>\n      <td>-114.379997</td>\n    </tr>\n    <tr>\n      <th>s8</th>\n      <td>60.060001</td>\n      <td>-95.889999</td>\n    </tr>\n    <tr>\n      <th>s11</th>\n      <td>62.669998</td>\n      <td>-92.708000</td>\n    </tr>\n    <tr>\n      <th>s12</th>\n      <td>73.400002</td>\n      <td>-88.160004</td>\n    </tr>\n    <tr>\n      <th>s19</th>\n      <td>63.150002</td>\n      <td>-69.680000</td>\n    </tr>\n  </tbody>\n</table>\n</div>"
     },
     "metadata": {},
     "output_type": "display_data"
    },
    {
     "data": {
      "text/plain": "       St_Latitude  St_Longitude\nindex                           \no103     73.953308    -84.663979\no180     70.490967   -131.429703\no93      64.239845    -63.442661\no15      61.233242    -66.397713\no107     73.604279    -84.559357\n...            ...           ...\no156     68.041595   -111.912453\no212     62.443607   -111.002525\no209     61.485672   -114.259880\no78      63.448772    -79.562271\no79      63.427216    -74.947815\n\n[222 rows x 2 columns]",
      "text/html": "<div>\n<style scoped>\n    .dataframe tbody tr th:only-of-type {\n        vertical-align: middle;\n    }\n\n    .dataframe tbody tr th {\n        vertical-align: top;\n    }\n\n    .dataframe thead th {\n        text-align: right;\n    }\n</style>\n<table border=\"1\" class=\"dataframe\">\n  <thead>\n    <tr style=\"text-align: right;\">\n      <th></th>\n      <th>St_Latitude</th>\n      <th>St_Longitude</th>\n    </tr>\n    <tr>\n      <th>index</th>\n      <th></th>\n      <th></th>\n    </tr>\n  </thead>\n  <tbody>\n    <tr>\n      <th>o103</th>\n      <td>73.953308</td>\n      <td>-84.663979</td>\n    </tr>\n    <tr>\n      <th>o180</th>\n      <td>70.490967</td>\n      <td>-131.429703</td>\n    </tr>\n    <tr>\n      <th>o93</th>\n      <td>64.239845</td>\n      <td>-63.442661</td>\n    </tr>\n    <tr>\n      <th>o15</th>\n      <td>61.233242</td>\n      <td>-66.397713</td>\n    </tr>\n    <tr>\n      <th>o107</th>\n      <td>73.604279</td>\n      <td>-84.559357</td>\n    </tr>\n    <tr>\n      <th>...</th>\n      <td>...</td>\n      <td>...</td>\n    </tr>\n    <tr>\n      <th>o156</th>\n      <td>68.041595</td>\n      <td>-111.912453</td>\n    </tr>\n    <tr>\n      <th>o212</th>\n      <td>62.443607</td>\n      <td>-111.002525</td>\n    </tr>\n    <tr>\n      <th>o209</th>\n      <td>61.485672</td>\n      <td>-114.259880</td>\n    </tr>\n    <tr>\n      <th>o78</th>\n      <td>63.448772</td>\n      <td>-79.562271</td>\n    </tr>\n    <tr>\n      <th>o79</th>\n      <td>63.427216</td>\n      <td>-74.947815</td>\n    </tr>\n  </tbody>\n</table>\n<p>222 rows × 2 columns</p>\n</div>"
     },
     "metadata": {},
     "output_type": "display_data"
    }
   ],
   "source": [
    "coordinates_st = custom_func.extract_station_coordinate(current_station_data)\n",
    "current_st_coord = pd.DataFrame(coordinates_st[1]).T.reset_index().set_index('index')\n",
    "current_st_coord.columns = ['St_Latitude', 'St_Longitude']\n",
    "display(current_st_coord)\n",
    "\n",
    "coordinates_st2 = custom_func.extract_station_coordinate(potential_station_data)\n",
    "potential_st_coord = pd.DataFrame(coordinates_st2[1]).T.reset_index().set_index('index')\n",
    "potential_st_coord.columns = ['St_Latitude', 'St_Longitude']\n",
    "display(potential_st_coord)\n",
    "\n",
    "coordinates_spill = custom_func.extract_spill_coordinate(spill_data)\n",
    "spill_coord = pd.DataFrame(coordinates_spill[1]).T.reset_index().set_index('index')\n",
    "spill_coord.columns = ['St_Latitude', 'St_Longitude']\n",
    "display(spill_coord)"
   ],
   "metadata": {
    "collapsed": false
   }
  },
  {
   "cell_type": "markdown",
   "source": [
    "## Locations before modeling\n",
    "Fig of current facilities and potential proposed facilities"
   ],
   "metadata": {
    "collapsed": false
   }
  },
  {
   "cell_type": "code",
   "execution_count": 6,
   "outputs": [
    {
     "data": {
      "text/plain": "<Figure size 800x800 with 1 Axes>",
      "image/png": "[encoded data removed]"
     },
     "metadata": {},
     "output_type": "display_data"
    }
   ],
   "source": [
    "fig, ax = plt.subplots(figsize=(8,8))  #++\n",
    "# Load geometric file for map\n",
    "ArcticMap = gpd.read_file(\"Inputs/ArcGIS_data/ArcticShapefile2/ArcticShapefile2.shp\")\n",
    "ArcticMap = ArcticMap.to_crs(epsg=4326)  # 3857\n",
    "ArcticLand = ArcticMap[ArcticMap['Region_EN'].isin(['Arctic'])]\n",
    "ArcticWater = ArcticMap[ArcticMap['Region_EN'].isin(['Arctic-Water'])]\n",
    "ArcticLand.plot(ax=ax, color=\"seashell\")\n",
    "ArcticWater.plot(ax=ax, color=\"lightskyblue\")\n",
    "\n",
    "st_current = plt.scatter(data=current_st_coord,\n",
    "                 x='St_Longitude', y='St_Latitude', marker='^', alpha=1, s=250,\n",
    "                 c='green')\n",
    "\n",
    "st_potential = plt.scatter(data=potential_st_coord,\n",
    "                 x='St_Longitude', y='St_Latitude', marker='s', alpha=.25, s=100,\n",
    "                 c='blue')\n",
    "\n",
    "spills = plt.scatter(data=spill_coord,\n",
    "                 x='St_Longitude', y='St_Latitude', marker='o', alpha=.25, s=50,\n",
    "                 c='black')\n",
    "\n",
    "# legends of all shapes in this figure\n",
    "plt.legend((st_current, st_potential, spills),\n",
    "           ('Current Facilities', 'Potential Facilities', 'Potential Oil Spills'),\n",
    "           ncol=1, handlelength=5, borderpad=.5, markerscale=.4,\n",
    "           fontsize=7\n",
    "           )\n",
    "# plt.xticks([])\n",
    "# plt.yticks([])\n",
    "plt.xlabel('Longitude')\n",
    "plt.ylabel('Latitude')\n",
    "plt.xlim([-140, -60])\n",
    "plt.ylim([50, 80])\n",
    "plt.show()"
   ],
   "metadata": {
    "collapsed": false
   }
  },
  {
   "cell_type": "markdown",
   "source": [
    "## Input parameters"
   ],
   "metadata": {
    "collapsed": false
   }
  },
  {
   "cell_type": "code",
   "execution_count": 7,
   "outputs": [
    {
     "data": {
      "text/plain": "  Station # Facility location               Coordinates   m     c     r\n0        s6         Hay River  (60.758054, -115.789890)   0  1400  4000\n1        s9         Churchill      (58.55084,-93.62352)  78   800   800\n2      s200       Tuktoyaktuk     (69.459, -132.974304)  50   100   257\n3      s300           Iqaluit   (63.742885, -68.464958)  24   200   400",
      "text/html": "<div>\n<style scoped>\n    .dataframe tbody tr th:only-of-type {\n        vertical-align: middle;\n    }\n\n    .dataframe tbody tr th {\n        vertical-align: top;\n    }\n\n    .dataframe thead th {\n        text-align: right;\n    }\n</style>\n<table border=\"1\" class=\"dataframe\">\n  <thead>\n    <tr style=\"text-align: right;\">\n      <th></th>\n      <th>Station #</th>\n      <th>Facility location</th>\n      <th>Coordinates</th>\n      <th>m</th>\n      <th>c</th>\n      <th>r</th>\n    </tr>\n  </thead>\n  <tbody>\n    <tr>\n      <th>0</th>\n      <td>s6</td>\n      <td>Hay River</td>\n      <td>(60.758054, -115.789890)</td>\n      <td>0</td>\n      <td>1400</td>\n      <td>4000</td>\n    </tr>\n    <tr>\n      <th>1</th>\n      <td>s9</td>\n      <td>Churchill</td>\n      <td>(58.55084,-93.62352)</td>\n      <td>78</td>\n      <td>800</td>\n      <td>800</td>\n    </tr>\n    <tr>\n      <th>2</th>\n      <td>s200</td>\n      <td>Tuktoyaktuk</td>\n      <td>(69.459, -132.974304)</td>\n      <td>50</td>\n      <td>100</td>\n      <td>257</td>\n    </tr>\n    <tr>\n      <th>3</th>\n      <td>s300</td>\n      <td>Iqaluit</td>\n      <td>(63.742885, -68.464958)</td>\n      <td>24</td>\n      <td>200</td>\n      <td>400</td>\n    </tr>\n  </tbody>\n</table>\n</div>"
     },
     "execution_count": 7,
     "metadata": {},
     "output_type": "execute_result"
    }
   ],
   "source": [
    "current_station_data"
   ],
   "metadata": {
    "collapsed": false
   }
  },
  {
   "cell_type": "code",
   "execution_count": 8,
   "outputs": [
    {
     "name": "stdout",
     "output_type": "stream",
     "text": [
      "['s6', 's9', 's200', 's300']\n"
     ]
    }
   ],
   "source": [
    "Stations, OilSpills, ResourcesD, Demand, Availability, Eff, Distance, TimeR, Cf_s, Cu_sor \\\n",
    "= data_preparation.generate_input_data(current_station_data, spill_data, current_input_param)"
   ],
   "metadata": {
    "collapsed": false
   }
  },
  {
   "cell_type": "code",
   "execution_count": 9,
   "outputs": [],
   "source": [
    "NumberStMax = 6\n",
    "DistanceMax = 15\n",
    "TimeRMax = 220"
   ],
   "metadata": {
    "collapsed": false
   }
  },
  {
   "cell_type": "code",
   "execution_count": 9,
   "outputs": [],
   "source": [],
   "metadata": {
    "collapsed": false
   }
  },
  {
   "cell_type": "code",
   "execution_count": 10,
   "outputs": [],
   "source": [
    "#max(Distance.values())\n",
    "SizeSpill = SizeSpill_R = list(spill_data['Spill size']).copy()\n",
    "Sensitivity_R = custom_func.calculate_sensitivity(coordinates_spill[0], sensitivity_dataR)\n",
    "# normalize\n",
    "SizeSpill_n = dict(zip(OilSpills, custom_func.normalize(SizeSpill_R, min(SizeSpill_R), max(SizeSpill_R))))\n",
    "Sensitivity_n = dict(zip(OilSpills, custom_func.normalize(Sensitivity_R, min(Sensitivity_R), max(Sensitivity_R))))\n",
    "\n",
    "Distance_n = dict(zip(Distance.keys(), custom_func.normalize(Distance.values(), min(Distance.values()), max(Distance.values()))))\n",
    "# (x_0-x_min)/(x_max-x_min)\n",
    "Effectiveness_n = dict(zip(Eff.keys(), custom_func.normalize(Eff.values(), min(Eff.values()), max(Eff.values()))))"
   ],
   "metadata": {
    "collapsed": false
   }
  },
  {
   "cell_type": "markdown",
   "source": [
    "# Model"
   ],
   "metadata": {
    "collapsed": false
   }
  },
  {
   "cell_type": "code",
   "execution_count": 11,
   "outputs": [
    {
     "name": "stdout",
     "output_type": "stream",
     "text": [
      "--------------MIP-moo--------\n",
      "Set parameter Username\n",
      "Academic license - for non-commercial use only - expires 2023-12-04\n",
      "Set parameter PoolSolutions to value 1024\n",
      "Set parameter PoolGap to value 0.8\n",
      "Set parameter PoolSearchMode to value 2\n",
      "Set parameter LogFile to value \"Outputs/Logfiles/model_moo(Apr 12,1839).log\"\n",
      "Gurobi Optimizer version 10.0.1 build v10.0.1rc0 (win64)\n",
      "\n",
      "CPU model: Intel(R) Core(TM) i5-8265U CPU @ 1.60GHz, instruction set [SSE2|AVX|AVX2]\n",
      "Thread count: 4 physical cores, 8 logical processors, using up to 8 threads\n",
      "\n",
      "Optimize a model with 1555 rows, 900 columns and 2110 nonzeros\n",
      "Model fingerprint: 0xfe1b03de\n",
      "Variable types: 666 continuous, 234 integer (234 binary)\n",
      "Coefficient statistics:\n",
      "  Matrix range     [1e+00, 4e+03]\n",
      "  Objective range  [2e-04, 1e+04]\n",
      "  Bounds range     [1e+00, 1e+00]\n",
      "  RHS range        [2e+00, 2e+02]\n",
      "Warning: PoolSearchMode != 0 is not supported for multi-objective optimization.\n",
      "         Reset PoolSearchMode to zero.\n",
      "\n",
      "---------------------------------------------------------------------------\n",
      "Multi-objectives: starting optimization with 2 objectives ... \n",
      "---------------------------------------------------------------------------\n",
      "\n",
      "Multi-objectives: applying initial presolve ...\n",
      "---------------------------------------------------------------------------\n",
      "\n",
      "Presolve removed 1381 rows and 493 columns\n",
      "Presolve time: 0.02s\n",
      "Presolved: 174 rows and 407 columns\n",
      "---------------------------------------------------------------------------\n",
      "\n",
      "Multi-objectives: optimize objective 1 (objective_re_1) ...\n",
      "---------------------------------------------------------------------------\n",
      "\n",
      "Found heuristic solution: objective -134.8238639\n",
      "Presolve removed 174 rows and 407 columns\n",
      "Presolve time: 0.00s\n",
      "Presolve: All rows and columns removed\n",
      "\n",
      "Explored 0 nodes (0 simplex iterations) in 0.06 seconds (0.00 work units)\n",
      "Thread count was 1 (of 8 available processors)\n",
      "\n",
      "Solution count 2: -3435.24 -3435.24 \n",
      "No other solutions better than -3435.24\n",
      "\n",
      "Optimal solution found (tolerance 1.00e-04)\n",
      "Best objective -3.435244570537e+03, best bound -3.435244570537e+03, gap 0.0000%\n",
      "---------------------------------------------------------------------------\n",
      "\n",
      "Multi-objectives: optimize objective 2 (objective_cost_2) ...\n",
      "---------------------------------------------------------------------------\n",
      "\n",
      "\n",
      "Loaded user MIP start with objective 60000\n",
      "\n",
      "Presolve removed 175 rows and 407 columns\n",
      "Presolve time: 0.00s\n",
      "Presolve: All rows and columns removed\n",
      "\n",
      "Explored 0 nodes (0 simplex iterations) in 0.08 seconds (0.00 work units)\n",
      "Thread count was 1 (of 8 available processors)\n",
      "\n",
      "Solution count 1: 60000 \n",
      "\n",
      "Optimal solution found (tolerance 1.00e-04)\n",
      "Best objective 6.000000000000e+04, best bound 6.000000000000e+04, gap 0.0000%\n",
      "\n",
      "---------------------------------------------------------------------------\n",
      "Multi-objectives: solved in 0.09 seconds (0.00 work units), solution count 2\n",
      "\n",
      "Problem has 2 objectives\n",
      "Gurobi found 2 solutions\n",
      "Solution 0 :  3435.24   60000.0 \n",
      "Solution 1 :  3435.24   60000.0 \n",
      "cover[o180,s200] 1.0  \n",
      "cover[o93,s300] 1.0  \n",
      "cover[o15,s300] 1.0  \n",
      "cover[o72,s9] 1.0  \n",
      "cover[o72,s300] 1.0  \n",
      "cover[o189,s300] 1.0  \n",
      "cover[o21,s6] 1.0  \n",
      "cover[o211,s6] 1.0  \n",
      "cover[o215,s6] 1.0  \n",
      "cover[o75,s300] 1.0  \n",
      "cover[o203,s300] 1.0  \n",
      "cover[o88,s300] 1.0  \n",
      "cover[o100,s300] 1.0  \n",
      "cover[o152,s6] 1.0  \n",
      "cover[o131,s9] 1.0  \n",
      "cover[o150,s6] 1.0  \n",
      "cover[o53,s9] 1.0  \n",
      "cover[o2,s9] 1.0  \n",
      "cover[o158,s6] 1.0  \n",
      "cover[o38,s6] 1.0  \n",
      "cover[o38,s200] 1.0  \n",
      "cover[o130,s9] 1.0  \n",
      "cover[o192,s200] 1.0  \n",
      "cover[o188,s300] 1.0  \n",
      "cover[o161,s6] 1.0  \n",
      "cover[o204,s6] 1.0  \n",
      "cover[o58,s9] 1.0  \n",
      "cover[o22,s200] 1.0  \n",
      "cover[o89,s300] 1.0  \n",
      "cover[o49,s300] 1.0  \n",
      "cover[o219,s200] 1.0  \n",
      "cover[o59,s9] 1.0  \n",
      "cover[o170,s6] 1.0  \n",
      "cover[o170,s200] 1.0  \n",
      "cover[o220,s200] 1.0  \n",
      "cover[o208,s6] 1.0  \n",
      "cover[o190,s9] 1.0  \n",
      "cover[o175,s6] 1.0  \n",
      "cover[o175,s200] 1.0  \n",
      "cover[o55,s9] 1.0  \n",
      "cover[o64,s9] 1.0  \n",
      "cover[o135,s9] 1.0  \n",
      "cover[o73,s300] 1.0  \n",
      "cover[o167,s6] 1.0  \n",
      "cover[o167,s200] 1.0  \n",
      "cover[o18,s6] 1.0  \n",
      "cover[o132,s9] 1.0  \n",
      "cover[o60,s9] 1.0  \n",
      "cover[o14,s9] 1.0  \n",
      "cover[o90,s300] 1.0  \n",
      "cover[o84,s300] 1.0  \n",
      "cover[o92,s300] 1.0  \n",
      "cover[o111,s300] 1.0  \n",
      "cover[o199,s200] 1.0  \n",
      "cover[o172,s6] 1.0  \n",
      "cover[o172,s200] 1.0  \n",
      "cover[o35,s200] 1.0  \n",
      "cover[o206,s6] 1.0  \n",
      "cover[o81,s300] 1.0  \n",
      "cover[o164,s6] 1.0  \n",
      "cover[o50,s300] 1.0  \n",
      "cover[o134,s9] 1.0  \n",
      "cover[o54,s9] 1.0  \n",
      "cover[o106,s300] 1.0  \n",
      "cover[o4,s300] 1.0  \n",
      "cover[o221,s200] 1.0  \n",
      "cover[o191,s9] 1.0  \n",
      "cover[o146,s6] 1.0  \n",
      "cover[o218,s6] 1.0  \n",
      "cover[o44,s300] 1.0  \n",
      "cover[o162,s6] 1.0  \n",
      "cover[o202,s300] 1.0  \n",
      "cover[o95,s300] 1.0  \n",
      "cover[o200,s9] 1.0  \n",
      "cover[o200,s300] 1.0  \n",
      "cover[o40,s6] 1.0  \n",
      "cover[o40,s200] 1.0  \n",
      "cover[o213,s6] 1.0  \n",
      "cover[o82,s300] 1.0  \n",
      "cover[o24,s200] 1.0  \n",
      "cover[o154,s6] 1.0  \n",
      "cover[o217,s6] 1.0  \n",
      "cover[o41,s6] 1.0  \n",
      "cover[o41,s200] 1.0  \n",
      "cover[o157,s6] 1.0  \n",
      "cover[o45,s9] 1.0  \n",
      "cover[o65,s9] 1.0  \n",
      "cover[o71,s9] 1.0  \n",
      "cover[o136,s9] 1.0  \n",
      "cover[o216,s6] 1.0  \n",
      "cover[o63,s9] 1.0  \n",
      "cover[o139,s9] 1.0  \n",
      "cover[o163,s6] 1.0  \n",
      "cover[o5,s300] 1.0  \n",
      "cover[o28,s200] 1.0  \n",
      "cover[o201,s300] 1.0  \n",
      "cover[o151,s6] 1.0  \n",
      "cover[o62,s9] 1.0  \n",
      "cover[o37,s6] 1.0  \n",
      "cover[o37,s200] 1.0  \n",
      "cover[o99,s300] 1.0  \n",
      "cover[o214,s6] 1.0  \n",
      "cover[o193,s6] 1.0  \n",
      "cover[o193,s200] 1.0  \n",
      "cover[o1,s9] 1.0  \n",
      "cover[o142,s6] 1.0  \n",
      "cover[o27,s200] 1.0  \n",
      "cover[o137,s6] 1.0  \n",
      "cover[o137,s9] 1.0  \n",
      "cover[o207,s6] 1.0  \n",
      "cover[o42,s6] 1.0  \n",
      "cover[o42,s200] 1.0  \n",
      "cover[o205,s6] 1.0  \n",
      "cover[o179,s6] 1.0  \n",
      "cover[o179,s200] 1.0  \n",
      "cover[o52,s9] 1.0  \n",
      "cover[o52,s300] 1.0  \n",
      "cover[o222,s200] 1.0  \n",
      "cover[o143,s6] 1.0  \n",
      "cover[o171,s6] 1.0  \n",
      "cover[o171,s200] 1.0  \n",
      "cover[o29,s200] 1.0  \n",
      "cover[o36,s200] 1.0  \n",
      "cover[o13,s9] 1.0  \n",
      "cover[o187,s200] 1.0  \n",
      "cover[o86,s300] 1.0  \n",
      "cover[o66,s9] 1.0  \n",
      "cover[o185,s200] 1.0  \n",
      "cover[o30,s200] 1.0  \n",
      "cover[o128,s300] 1.0  \n",
      "cover[o3,s9] 1.0  \n",
      "cover[o198,s200] 1.0  \n",
      "cover[o155,s6] 1.0  \n",
      "cover[o165,s6] 1.0  \n",
      "cover[o165,s200] 1.0  \n",
      "cover[o186,s200] 1.0  \n",
      "cover[o39,s6] 1.0  \n",
      "cover[o39,s200] 1.0  \n",
      "cover[o184,s200] 1.0  \n",
      "cover[o87,s300] 1.0  \n",
      "cover[o224,s200] 1.0  \n",
      "cover[o147,s6] 1.0  \n",
      "cover[o68,s9] 1.0  \n",
      "cover[o183,s200] 1.0  \n",
      "cover[o145,s6] 1.0  \n",
      "cover[o69,s9] 1.0  \n",
      "cover[o69,s300] 1.0  \n",
      "cover[o144,s6] 1.0  \n",
      "cover[o70,s9] 1.0  \n",
      "cover[o70,s300] 1.0  \n",
      "cover[o148,s6] 1.0  \n",
      "cover[o195,s200] 1.0  \n",
      "cover[o168,s6] 1.0  \n",
      "cover[o168,s200] 1.0  \n",
      "cover[o178,s6] 1.0  \n",
      "cover[o178,s200] 1.0  \n",
      "cover[o159,s6] 1.0  \n",
      "cover[o7,s300] 1.0  \n",
      "cover[o140,s9] 1.0  \n",
      "cover[o197,s200] 1.0  \n",
      "cover[o166,s6] 1.0  \n",
      "cover[o166,s200] 1.0  \n",
      "cover[o153,s6] 1.0  \n",
      "cover[o110,s300] 1.0  \n",
      "cover[o194,s6] 1.0  \n",
      "cover[o194,s200] 1.0  \n",
      "cover[o169,s6] 1.0  \n",
      "cover[o169,s200] 1.0  \n",
      "cover[o176,s6] 1.0  \n",
      "cover[o176,s200] 1.0  \n",
      "cover[o109,s300] 1.0  \n",
      "cover[o182,s200] 1.0  \n",
      "cover[o61,s9] 1.0  \n",
      "cover[o46,s9] 1.0  \n",
      "cover[o46,s300] 1.0  \n",
      "cover[o6,s300] 1.0  \n",
      "cover[o181,s200] 1.0  \n",
      "cover[o67,s9] 1.0  \n",
      "cover[o25,s200] 1.0  \n",
      "cover[o223,s200] 1.0  \n",
      "cover[o174,s6] 1.0  \n",
      "cover[o174,s200] 1.0  \n",
      "cover[o127,s300] 1.0  \n",
      "cover[o43,s6] 1.0  \n",
      "cover[o43,s200] 1.0  \n",
      "cover[o26,s200] 1.0  \n",
      "cover[o57,s9] 1.0  \n",
      "cover[o173,s6] 1.0  \n",
      "cover[o173,s200] 1.0  \n",
      "cover[o20,s6] 1.0  \n",
      "cover[o196,s200] 1.0  \n",
      "cover[o94,s300] 1.0  \n",
      "cover[o19,s6] 1.0  \n",
      "cover[o23,s200] 1.0  \n",
      "cover[o16,s300] 1.0  \n",
      "cover[o76,s9] 1.0  \n",
      "cover[o76,s300] 1.0  \n",
      "cover[o85,s300] 1.0  \n",
      "cover[o10,s300] 1.0  \n",
      "cover[o138,s9] 1.0  \n",
      "cover[o80,s300] 1.0  \n",
      "cover[o74,s300] 1.0  \n",
      "cover[o141,s9] 1.0  \n",
      "cover[o105,s300] 1.0  \n",
      "cover[o177,s6] 1.0  \n",
      "cover[o177,s200] 1.0  \n",
      "cover[o210,s6] 1.0  \n",
      "cover[o83,s300] 1.0  \n",
      "cover[o133,s9] 1.0  \n",
      "cover[o91,s300] 1.0  \n",
      "cover[o56,s9] 1.0  \n",
      "cover[o149,s6] 1.0  \n",
      "cover[o156,s6] 1.0  \n",
      "cover[o212,s6] 1.0  \n",
      "cover[o209,s6] 1.0  \n",
      "cover[o78,s9] 1.0  \n",
      "cover[o78,s300] 1.0  \n",
      "cover[o79,s300] 1.0  \n",
      "select[s200,c] 1.0  \n",
      "select[s300,c] 1.0  \n",
      "select[s300,i] 1.0  \n",
      "select[s6,c] 1.0  \n",
      "select[s6,i] 1.0  \n",
      "select[s9,c] 1.0  \n",
      "deploy[o93,s300,c] 31.0  \n",
      "deploy[o15,s300,i] 37.0  \n",
      "deploy[o72,s9,c] 5.0  \n",
      "deploy[o72,s300,c] 5.0  \n",
      "deploy[o21,s6,c] 31.0  \n",
      "deploy[o211,s6,i] 157.0  \n",
      "deploy[o203,s300,c] 31.0  \n",
      "deploy[o88,s300,i] 7.0  \n",
      "deploy[o152,s6,c] 110.0  \n",
      "deploy[o150,s6,c] 31.0  \n",
      "deploy[o53,s9,c] 5.0  \n",
      "deploy[o38,s6,i] 157.0  \n",
      "deploy[o130,s9,c] 80.0  \n",
      "deploy[o188,s300,i] 37.0  \n",
      "deploy[o161,s6,i] 157.0  \n",
      "deploy[o170,s6,c] 31.0  \n",
      "deploy[o170,s200,c] 31.0  \n",
      "deploy[o175,s6,c] 31.0  \n",
      "deploy[o175,s200,c] 31.0  \n",
      "deploy[o64,s9,c] 31.0  \n",
      "deploy[o73,s300,i] 37.0  \n",
      "deploy[o167,s6,i] 37.0  \n",
      "deploy[o18,s6,i] 7.0  \n",
      "deploy[o132,s9,c] 31.0  \n",
      "deploy[o90,s300,c] 5.0  \n",
      "deploy[o92,s300,c] 31.0  \n",
      "deploy[o111,s300,c] 31.0  \n",
      "deploy[o199,s200,c] 5.0  \n",
      "deploy[o35,s200,c] 5.0  \n",
      "deploy[o206,s6,c] 110.0  \n",
      "deploy[o50,s300,c] 5.0  \n",
      "deploy[o54,s9,c] 80.0  \n",
      "deploy[o106,s300,i] 37.0  \n",
      "deploy[o4,s300,c] 5.0  \n",
      "deploy[o191,s9,c] 31.0  \n",
      "deploy[o218,s6,i] 7.0  \n",
      "deploy[o44,s300,i] 37.0  \n",
      "deploy[o162,s6,c] 5.0  \n",
      "deploy[o202,s300,c] 5.0  \n",
      "deploy[o200,s300,i] 37.0  \n",
      "deploy[o82,s300,c] 31.0  \n",
      "deploy[o24,s200,c] 31.0  \n",
      "deploy[o41,s6,i] 7.0  \n",
      "deploy[o157,s6,c] 31.0  \n",
      "deploy[o65,s9,c] 5.0  \n",
      "deploy[o71,s9,c] 80.0  \n",
      "deploy[o136,s9,c] 80.0  \n",
      "deploy[o216,s6,c] 110.0  \n",
      "deploy[o139,s9,c] 31.0  \n",
      "deploy[o99,s300,i] 7.0  \n",
      "deploy[o142,s6,i] 37.0  \n",
      "deploy[o27,s200,c] 31.0  \n",
      "deploy[o137,s6,c] 31.0  \n",
      "deploy[o137,s9,c] 31.0  \n",
      "deploy[o207,s6,c] 110.0  \n",
      "deploy[o205,s6,i] 157.0  \n",
      "deploy[o179,s6,i] 7.0  \n",
      "deploy[o52,s300,i] 37.0  \n",
      "deploy[o143,s6,c] 110.0  \n",
      "deploy[o29,s200,c] 5.0  \n",
      "deploy[o36,s200,c] 31.0  \n",
      "deploy[o160,s6,c] 5.0  \n",
      "deploy[o86,s300,i] 37.0  \n",
      "deploy[o66,s9,c] 5.0  \n",
      "deploy[o128,s300,c] 5.0  \n",
      "deploy[o165,s6,i] 37.0  \n",
      "deploy[o186,s200,c] 31.0  \n",
      "deploy[o39,s6,c] 5.0  \n",
      "deploy[o39,s200,c] 5.0  \n",
      "deploy[o87,s300,c] 31.0  \n",
      "deploy[o147,s6,i] 157.0  \n",
      "deploy[o126,s300,i] 37.0  \n",
      "deploy[o183,s200,c] 31.0  \n",
      "deploy[o144,s6,i] 37.0  \n",
      "deploy[o70,s9,c] 5.0  \n",
      "deploy[o70,s300,c] 5.0  \n",
      "deploy[o148,s6,i] 37.0  \n",
      "deploy[o168,s6,c] 110.0  \n",
      "deploy[o168,s200,c] 31.0  \n",
      "deploy[o7,s300,i] 37.0  \n",
      "deploy[o140,s9,c] 31.0  \n",
      "deploy[o166,s6,c] 31.0  \n",
      "deploy[o166,s200,c] 31.0  \n",
      "deploy[o169,s6,c] 31.0  \n",
      "deploy[o169,s200,c] 31.0  \n",
      "deploy[o176,s6,c] 5.0  \n",
      "deploy[o176,s200,c] 5.0  \n",
      "deploy[o109,s300,c] 31.0  \n",
      "deploy[o182,s200,c] 31.0  \n",
      "deploy[o61,s9,c] 5.0  \n",
      "deploy[o6,s300,i] 7.0  \n",
      "deploy[o127,s300,i] 37.0  \n",
      "deploy[o43,s6,c] 110.0  \n",
      "deploy[o43,s200,c] 31.0  \n",
      "deploy[o57,s9,c] 5.0  \n",
      "deploy[o20,s6,c] 110.0  \n",
      "deploy[o19,s6,c] 5.0  \n",
      "deploy[o23,s200,c] 31.0  \n",
      "deploy[o16,s300,c] 31.0  \n",
      "deploy[o85,s300,c] 31.0  \n",
      "deploy[o10,s300,i] 7.0  \n",
      "deploy[o138,s9,c] 5.0  \n",
      "deploy[o105,s300,c] 31.0  \n",
      "deploy[o177,s6,c] 5.0  \n",
      "deploy[o177,s200,c] 5.0  \n",
      "deploy[o83,s300,i] 7.0  \n",
      "deploy[o56,s9,c] 31.0  \n",
      "deploy[o149,s6,i] 157.0  \n",
      "deploy[o156,s6,i] 157.0  \n",
      "deploy[o212,s6,i] 37.0  \n",
      "deploy[o79,s300,c] 31.0  \n",
      "\n",
      "    Variable            X \n",
      "-------------------------\n",
      "cover[o180,s200]            1 \n",
      "cover[o93,s300]            1 \n",
      "cover[o15,s300]            1 \n",
      "cover[o72,s9]            1 \n",
      "cover[o72,s300]            1 \n",
      "cover[o189,s300]            1 \n",
      "cover[o21,s6]            1 \n",
      "cover[o211,s6]            1 \n",
      "cover[o215,s6]            1 \n",
      "cover[o75,s300]            1 \n",
      "cover[o203,s300]            1 \n",
      "cover[o88,s300]            1 \n",
      "cover[o100,s300]            1 \n",
      "cover[o152,s6]            1 \n",
      "cover[o131,s9]            1 \n",
      "cover[o150,s6]            1 \n",
      "cover[o53,s9]            1 \n",
      "cover[o2,s9]            1 \n",
      "cover[o158,s6]            1 \n",
      "cover[o38,s6]            1 \n",
      "cover[o38,s200]            1 \n",
      "cover[o130,s9]            1 \n",
      "cover[o192,s200]            1 \n",
      "cover[o188,s300]            1 \n",
      "cover[o161,s6]            1 \n",
      "cover[o204,s6]            1 \n",
      "cover[o58,s9]            1 \n",
      "cover[o22,s200]            1 \n",
      "cover[o89,s300]            1 \n",
      "cover[o49,s300]            1 \n",
      "cover[o219,s200]            1 \n",
      "cover[o59,s9]            1 \n",
      "cover[o170,s6]            1 \n",
      "cover[o170,s200]            1 \n",
      "cover[o220,s200]            1 \n",
      "cover[o208,s6]            1 \n",
      "cover[o190,s9]            1 \n",
      "cover[o175,s6]            1 \n",
      "cover[o175,s200]            1 \n",
      "cover[o55,s9]            1 \n",
      "cover[o64,s9]            1 \n",
      "cover[o135,s9]            1 \n",
      "cover[o73,s300]            1 \n",
      "cover[o167,s6]            1 \n",
      "cover[o167,s200]            1 \n",
      "cover[o18,s6]            1 \n",
      "cover[o132,s9]            1 \n",
      "cover[o60,s9]            1 \n",
      "cover[o14,s9]            1 \n",
      "cover[o90,s300]            1 \n",
      "cover[o84,s300]            1 \n",
      "cover[o92,s300]            1 \n",
      "cover[o111,s300]            1 \n",
      "cover[o199,s200]            1 \n",
      "cover[o172,s6]            1 \n",
      "cover[o172,s200]            1 \n",
      "cover[o35,s200]            1 \n",
      "cover[o206,s6]            1 \n",
      "cover[o81,s300]            1 \n",
      "cover[o164,s6]            1 \n",
      "cover[o50,s300]            1 \n",
      "cover[o134,s9]            1 \n",
      "cover[o54,s9]            1 \n",
      "cover[o106,s300]            1 \n",
      "cover[o4,s300]            1 \n",
      "cover[o221,s200]            1 \n",
      "cover[o191,s9]            1 \n",
      "cover[o146,s6]            1 \n",
      "cover[o218,s6]            1 \n",
      "cover[o44,s300]            1 \n",
      "cover[o162,s6]            1 \n",
      "cover[o202,s300]            1 \n",
      "cover[o95,s300]            1 \n",
      "cover[o200,s9]            1 \n",
      "cover[o200,s300]            1 \n",
      "cover[o40,s6]            1 \n",
      "cover[o40,s200]            1 \n",
      "cover[o213,s6]            1 \n",
      "cover[o82,s300]            1 \n",
      "cover[o24,s200]            1 \n",
      "cover[o154,s6]            1 \n",
      "cover[o217,s6]            1 \n",
      "cover[o41,s6]            1 \n",
      "cover[o41,s200]            1 \n",
      "cover[o157,s6]            1 \n",
      "cover[o45,s9]            1 \n",
      "cover[o65,s9]            1 \n",
      "cover[o71,s9]            1 \n",
      "cover[o136,s9]            1 \n",
      "cover[o216,s6]            1 \n",
      "cover[o63,s9]            1 \n",
      "cover[o139,s9]            1 \n",
      "cover[o163,s6]            1 \n",
      "cover[o5,s300]            1 \n",
      "cover[o28,s200]            1 \n",
      "cover[o201,s300]            1 \n",
      "cover[o151,s6]            1 \n",
      "cover[o62,s9]            1 \n",
      "cover[o37,s6]            1 \n",
      "cover[o37,s200]            1 \n",
      "cover[o99,s300]            1 \n",
      "cover[o214,s6]            1 \n",
      "cover[o193,s6]            1 \n",
      "cover[o193,s200]            1 \n",
      "cover[o1,s9]            1 \n",
      "cover[o142,s6]            1 \n",
      "cover[o27,s200]            1 \n",
      "cover[o137,s6]            1 \n",
      "cover[o137,s9]            1 \n",
      "cover[o207,s6]            1 \n",
      "cover[o42,s6]            1 \n",
      "cover[o42,s200]            1 \n",
      "cover[o205,s6]            1 \n",
      "cover[o179,s6]            1 \n",
      "cover[o179,s200]            1 \n",
      "cover[o52,s9]            1 \n",
      "cover[o52,s300]            1 \n",
      "cover[o222,s200]            1 \n",
      "cover[o143,s6]            1 \n",
      "cover[o171,s6]            1 \n",
      "cover[o171,s200]            1 \n",
      "cover[o29,s200]            1 \n",
      "cover[o36,s200]            1 \n",
      "cover[o13,s9]            1 \n",
      "cover[o187,s200]            1 \n",
      "cover[o86,s300]            1 \n",
      "cover[o66,s9]            1 \n",
      "cover[o185,s200]            1 \n",
      "cover[o30,s200]            1 \n",
      "cover[o128,s300]            1 \n",
      "cover[o3,s9]            1 \n",
      "cover[o198,s200]            1 \n",
      "cover[o155,s6]            1 \n",
      "cover[o165,s6]            1 \n",
      "cover[o165,s200]            1 \n",
      "cover[o186,s200]            1 \n",
      "cover[o39,s6]            1 \n",
      "cover[o39,s200]            1 \n",
      "cover[o184,s200]            1 \n",
      "cover[o87,s300]            1 \n",
      "cover[o224,s200]            1 \n",
      "cover[o147,s6]            1 \n",
      "cover[o68,s9]            1 \n",
      "cover[o183,s200]            1 \n",
      "cover[o145,s6]            1 \n",
      "cover[o69,s9]            1 \n",
      "cover[o69,s300]            1 \n",
      "cover[o144,s6]            1 \n",
      "cover[o70,s9]            1 \n",
      "cover[o70,s300]            1 \n",
      "cover[o148,s6]            1 \n",
      "cover[o195,s200]            1 \n",
      "cover[o168,s6]            1 \n",
      "cover[o168,s200]            1 \n",
      "cover[o178,s6]            1 \n",
      "cover[o178,s200]            1 \n",
      "cover[o159,s6]            1 \n",
      "cover[o7,s300]            1 \n",
      "cover[o140,s9]            1 \n",
      "cover[o197,s200]            1 \n",
      "cover[o166,s6]            1 \n",
      "cover[o166,s200]            1 \n",
      "cover[o153,s6]            1 \n",
      "cover[o110,s300]            1 \n",
      "cover[o194,s6]            1 \n",
      "cover[o194,s200]            1 \n",
      "cover[o169,s6]            1 \n",
      "cover[o169,s200]            1 \n",
      "cover[o176,s6]            1 \n",
      "cover[o176,s200]            1 \n",
      "cover[o109,s300]            1 \n",
      "cover[o182,s200]            1 \n",
      "cover[o61,s9]            1 \n",
      "cover[o46,s9]            1 \n",
      "cover[o46,s300]            1 \n",
      "cover[o6,s300]            1 \n",
      "cover[o181,s200]            1 \n",
      "cover[o67,s9]            1 \n",
      "cover[o25,s200]            1 \n",
      "cover[o223,s200]            1 \n",
      "cover[o174,s6]            1 \n",
      "cover[o174,s200]            1 \n",
      "cover[o127,s300]            1 \n",
      "cover[o43,s6]            1 \n",
      "cover[o43,s200]            1 \n",
      "cover[o26,s200]            1 \n",
      "cover[o57,s9]            1 \n",
      "cover[o173,s6]            1 \n",
      "cover[o173,s200]            1 \n",
      "cover[o20,s6]            1 \n",
      "cover[o196,s200]            1 \n",
      "cover[o94,s300]            1 \n",
      "cover[o19,s6]            1 \n",
      "cover[o23,s200]            1 \n",
      "cover[o16,s300]            1 \n",
      "cover[o76,s9]            1 \n",
      "cover[o76,s300]            1 \n",
      "cover[o85,s300]            1 \n",
      "cover[o10,s300]            1 \n",
      "cover[o138,s9]            1 \n",
      "cover[o80,s300]            1 \n",
      "cover[o74,s300]            1 \n",
      "cover[o141,s9]            1 \n",
      "cover[o105,s300]            1 \n",
      "cover[o177,s6]            1 \n",
      "cover[o177,s200]            1 \n",
      "cover[o210,s6]            1 \n",
      "cover[o83,s300]            1 \n",
      "cover[o133,s9]            1 \n",
      "cover[o91,s300]            1 \n",
      "cover[o56,s9]            1 \n",
      "cover[o149,s6]            1 \n",
      "cover[o156,s6]            1 \n",
      "cover[o212,s6]            1 \n",
      "cover[o209,s6]            1 \n",
      "cover[o78,s9]            1 \n",
      "cover[o78,s300]            1 \n",
      "cover[o79,s300]            1 \n",
      "select[s200,c]            1 \n",
      "select[s300,c]            1 \n",
      "select[s300,i]            1 \n",
      "select[s6,c]            1 \n",
      "select[s6,i]            1 \n",
      "select[s9,c]            1 \n",
      "deploy[o93,s300,c]           31 \n",
      "deploy[o15,s300,i]           37 \n",
      "deploy[o72,s9,c]            5 \n",
      "deploy[o72,s300,c]            5 \n",
      "deploy[o21,s6,c]           31 \n",
      "deploy[o211,s6,i]          157 \n",
      "deploy[o203,s300,c]           31 \n",
      "deploy[o88,s300,i]            7 \n",
      "deploy[o152,s6,c]          110 \n",
      "deploy[o150,s6,c]           31 \n",
      "deploy[o53,s9,c]            5 \n",
      "deploy[o38,s6,i]          157 \n",
      "deploy[o130,s9,c]           80 \n",
      "deploy[o188,s300,i]           37 \n",
      "deploy[o161,s6,i]          157 \n",
      "deploy[o170,s6,c]           31 \n",
      "deploy[o170,s200,c]           31 \n",
      "deploy[o175,s6,c]           31 \n",
      "deploy[o175,s200,c]           31 \n",
      "deploy[o64,s9,c]           31 \n",
      "deploy[o73,s300,i]           37 \n",
      "deploy[o167,s6,i]           37 \n",
      "deploy[o18,s6,i]            7 \n",
      "deploy[o132,s9,c]           31 \n",
      "deploy[o90,s300,c]            5 \n",
      "deploy[o92,s300,c]           31 \n",
      "deploy[o111,s300,c]           31 \n",
      "deploy[o199,s200,c]            5 \n",
      "deploy[o35,s200,c]            5 \n",
      "deploy[o206,s6,c]          110 \n",
      "deploy[o50,s300,c]            5 \n",
      "deploy[o54,s9,c]           80 \n",
      "deploy[o106,s300,i]           37 \n",
      "deploy[o4,s300,c]            5 \n",
      "deploy[o191,s9,c]           31 \n",
      "deploy[o218,s6,i]            7 \n",
      "deploy[o44,s300,i]           37 \n",
      "deploy[o162,s6,c]            5 \n",
      "deploy[o202,s300,c]            5 \n",
      "deploy[o200,s300,i]           37 \n",
      "deploy[o82,s300,c]           31 \n",
      "deploy[o24,s200,c]           31 \n",
      "deploy[o41,s6,i]            7 \n",
      "deploy[o157,s6,c]           31 \n",
      "deploy[o65,s9,c]            5 \n",
      "deploy[o71,s9,c]           80 \n",
      "deploy[o136,s9,c]           80 \n",
      "deploy[o216,s6,c]          110 \n",
      "deploy[o139,s9,c]           31 \n",
      "deploy[o99,s300,i]            7 \n",
      "deploy[o142,s6,i]           37 \n",
      "deploy[o27,s200,c]           31 \n",
      "deploy[o137,s6,c]           31 \n",
      "deploy[o137,s9,c]           31 \n",
      "deploy[o207,s6,c]          110 \n",
      "deploy[o205,s6,i]          157 \n",
      "deploy[o179,s6,i]            7 \n",
      "deploy[o52,s300,i]           37 \n",
      "deploy[o143,s6,c]          110 \n",
      "deploy[o29,s200,c]            5 \n",
      "deploy[o36,s200,c]           31 \n",
      "deploy[o160,s6,c]            5 \n",
      "deploy[o86,s300,i]           37 \n",
      "deploy[o66,s9,c]            5 \n",
      "deploy[o128,s300,c]            5 \n",
      "deploy[o165,s6,i]           37 \n",
      "deploy[o186,s200,c]           31 \n",
      "deploy[o39,s6,c]            5 \n",
      "deploy[o39,s200,c]            5 \n",
      "deploy[o87,s300,c]           31 \n",
      "deploy[o147,s6,i]          157 \n",
      "deploy[o126,s300,i]           37 \n",
      "deploy[o183,s200,c]           31 \n",
      "deploy[o144,s6,i]           37 \n",
      "deploy[o70,s9,c]            5 \n",
      "deploy[o70,s300,c]            5 \n",
      "deploy[o148,s6,i]           37 \n",
      "deploy[o168,s6,c]          110 \n",
      "deploy[o168,s200,c]           31 \n",
      "deploy[o7,s300,i]           37 \n",
      "deploy[o140,s9,c]           31 \n",
      "deploy[o166,s6,c]           31 \n",
      "deploy[o166,s200,c]           31 \n",
      "deploy[o169,s6,c]           31 \n",
      "deploy[o169,s200,c]           31 \n",
      "deploy[o176,s6,c]            5 \n",
      "deploy[o176,s200,c]            5 \n",
      "deploy[o109,s300,c]           31 \n",
      "deploy[o182,s200,c]           31 \n",
      "deploy[o61,s9,c]            5 \n",
      "deploy[o6,s300,i]            7 \n",
      "deploy[o127,s300,i]           37 \n",
      "deploy[o43,s6,c]          110 \n",
      "deploy[o43,s200,c]           31 \n",
      "deploy[o57,s9,c]            5 \n",
      "deploy[o20,s6,c]          110 \n",
      "deploy[o19,s6,c]            5 \n",
      "deploy[o23,s200,c]           31 \n",
      "deploy[o16,s300,c]           31 \n",
      "deploy[o85,s300,c]           31 \n",
      "deploy[o10,s300,i]            7 \n",
      "deploy[o138,s9,c]            5 \n",
      "deploy[o105,s300,c]           31 \n",
      "deploy[o177,s6,c]            5 \n",
      "deploy[o177,s200,c]            5 \n",
      "deploy[o83,s300,i]            7 \n",
      "deploy[o56,s9,c]           31 \n",
      "deploy[o149,s6,i]          157 \n",
      "deploy[o156,s6,i]          157 \n",
      "deploy[o212,s6,i]           37 \n",
      "deploy[o79,s300,c]           31 \n",
      "\n",
      "select_1s\n",
      " s200  c    1.0\n",
      "s300  c    1.0\n",
      "      i    1.0\n",
      "s6    c    1.0\n",
      "      i    1.0\n",
      "s9    c    1.0\n",
      "dtype: float64\n",
      "\n",
      "deploy_1s\n",
      " o93   s300  c     31.0\n",
      "o15   s300  i     37.0\n",
      "o72   s9    c      5.0\n",
      "      s300  c      5.0\n",
      "o21   s6    c     31.0\n",
      "                 ...  \n",
      "o56   s9    c     31.0\n",
      "o149  s6    i    157.0\n",
      "o156  s6    i    157.0\n",
      "o212  s6    i     37.0\n",
      "o79   s300  c     31.0\n",
      "Length: 111, dtype: float64\n",
      "\n",
      "cover_1s\n",
      " o180  s200    1.0\n",
      "o93   s300    1.0\n",
      "o15   s300    1.0\n",
      "o72   s9      1.0\n",
      "      s300    1.0\n",
      "             ... \n",
      "o212  s6      1.0\n",
      "o209  s6      1.0\n",
      "o78   s9      1.0\n",
      "      s300    1.0\n",
      "o79   s300    1.0\n",
      "Length: 218, dtype: float64\n",
      "assignment_name     Spill # Station no. Resource type  Assignments\n",
      "0       o93        s300             c         31.0\n",
      "1       o15        s300             i         37.0\n",
      "2       o72          s9             c          5.0\n",
      "3       o72        s300             c          5.0\n",
      "4       o21          s6             c         31.0\n",
      "..      ...         ...           ...          ...\n",
      "106     o56          s9             c         31.0\n",
      "107    o149          s6             i        157.0\n",
      "108    o156          s6             i        157.0\n",
      "109    o212          s6             i         37.0\n",
      "110     o79        s300             c         31.0\n",
      "\n",
      "[111 rows x 4 columns]\n"
     ]
    },
    {
     "ename": "ValueError",
     "evalue": "Length of values (1000) does not match length of index (222)",
     "output_type": "error",
     "traceback": [
      "\u001B[1;31m---------------------------------------------------------------------------\u001B[0m",
      "\u001B[1;31mValueError\u001B[0m                                Traceback (most recent call last)",
      "Cell \u001B[1;32mIn[11], line 3\u001B[0m\n\u001B[0;32m      1\u001B[0m model, select, deploy, mvars, names, values, \\\n\u001B[0;32m      2\u001B[0m         spill_df, station_df, select_1s, deploy_1s, ResponseTimeM, coverage_percentage, assignment  \\\n\u001B[1;32m----> 3\u001B[0m     \u001B[38;5;241m=\u001B[39m \u001B[43mmodel2\u001B[49m\u001B[38;5;241;43m.\u001B[39;49m\u001B[43msolve\u001B[49m\u001B[43m(\u001B[49m\u001B[43mStations\u001B[49m\u001B[43m,\u001B[49m\u001B[43m \u001B[49m\u001B[43mOilSpills\u001B[49m\u001B[43m,\u001B[49m\u001B[43m \u001B[49m\u001B[43mResourcesD\u001B[49m\u001B[43m,\u001B[49m\u001B[43m \u001B[49m\u001B[43mcoordinates_st\u001B[49m\u001B[43m,\u001B[49m\u001B[43m \u001B[49m\u001B[43mcoordinates_spill\u001B[49m\u001B[43m,\u001B[49m\u001B[43m \u001B[49m\u001B[43mSizeSpill\u001B[49m\u001B[43m,\u001B[49m\u001B[43m \u001B[49m\u001B[43mSizeSpill_n\u001B[49m\u001B[43m,\u001B[49m\u001B[43m \u001B[49m\u001B[43m\\\u001B[49m\n\u001B[0;32m      4\u001B[0m \u001B[43m          \u001B[49m\u001B[43mDemand\u001B[49m\u001B[43m,\u001B[49m\u001B[43m \u001B[49m\u001B[43mSensitivity_R\u001B[49m\u001B[43m,\u001B[49m\u001B[43m \u001B[49m\u001B[43mSensitivity_n\u001B[49m\u001B[43m,\u001B[49m\u001B[43m \u001B[49m\u001B[43mEff\u001B[49m\u001B[43m,\u001B[49m\u001B[43m \u001B[49m\u001B[43mEffectiveness_n\u001B[49m\u001B[43m,\u001B[49m\u001B[43m \u001B[49m\u001B[43mAvailability\u001B[49m\u001B[43m,\u001B[49m\u001B[43m \u001B[49m\u001B[43mNumberStMax\u001B[49m\u001B[43m,\u001B[49m\u001B[43m \u001B[49m\u001B[43mDistance\u001B[49m\u001B[43m,\u001B[49m\u001B[43m \u001B[49m\u001B[43mDistance_n\u001B[49m\u001B[43m,\u001B[49m\u001B[43m \u001B[49m\u001B[43mDistanceMax\u001B[49m\u001B[43m,\u001B[49m\u001B[43m  \u001B[49m\u001B[43mCf_s\u001B[49m\u001B[43m,\u001B[49m\u001B[43m \u001B[49m\u001B[43mCu_sor\u001B[49m\u001B[43m)\u001B[49m\n",
      "File \u001B[1;32m~\\OneDrive - Dalhousie University\\PhD Tanmoy Das\\Multiobjective-Optimization-of-Resource-Allocation\\model2.py:266\u001B[0m, in \u001B[0;36msolve\u001B[1;34m(Stations, OilSpills, ResourcesD, coordinates_st, coordinates_spill, SizeSpill, SizeSpill_n, Demand, Sensitivity_R, Sensitivity_n, Eff, Effectiveness_n, Availability, NumberStMax, Distance, Distance_n, DistanceMax, Cf_s, Cu_sor)\u001B[0m\n\u001B[0;32m    264\u001B[0m spill_df\u001B[38;5;241m.\u001B[39mcolumns \u001B[38;5;241m=\u001B[39m [\u001B[38;5;124m'\u001B[39m\u001B[38;5;124mSpill #\u001B[39m\u001B[38;5;124m'\u001B[39m, \u001B[38;5;124m'\u001B[39m\u001B[38;5;124mSpill_Latitude\u001B[39m\u001B[38;5;124m'\u001B[39m, \u001B[38;5;124m'\u001B[39m\u001B[38;5;124mSpill_Longitude\u001B[39m\u001B[38;5;124m'\u001B[39m]\n\u001B[0;32m    265\u001B[0m spill_df[\u001B[38;5;124m'\u001B[39m\u001B[38;5;124mResource needed\u001B[39m\u001B[38;5;124m'\u001B[39m] \u001B[38;5;241m=\u001B[39m pd\u001B[38;5;241m.\u001B[39mDataFrame(SizeSpill)  \u001B[38;5;66;03m# ++ update with spill size later\u001B[39;00m\n\u001B[1;32m--> 266\u001B[0m \u001B[43mspill_df\u001B[49m\u001B[43m[\u001B[49m\u001B[38;5;124;43m'\u001B[39;49m\u001B[38;5;124;43mSensitivity\u001B[39;49m\u001B[38;5;124;43m'\u001B[39;49m\u001B[43m]\u001B[49m \u001B[38;5;241m=\u001B[39m Sensitivity_R  \u001B[38;5;66;03m# ++\u001B[39;00m\n\u001B[0;32m    268\u001B[0m station_df \u001B[38;5;241m=\u001B[39m pd\u001B[38;5;241m.\u001B[39mDataFrame(coordinates_st[\u001B[38;5;241m1\u001B[39m])\u001B[38;5;241m.\u001B[39mT\u001B[38;5;241m.\u001B[39mreset_index()\n\u001B[0;32m    269\u001B[0m station_df\u001B[38;5;241m.\u001B[39mcolumns \u001B[38;5;241m=\u001B[39m [\u001B[38;5;124m'\u001B[39m\u001B[38;5;124mStation no.\u001B[39m\u001B[38;5;124m'\u001B[39m, \u001B[38;5;124m'\u001B[39m\u001B[38;5;124mSt_Latitude\u001B[39m\u001B[38;5;124m'\u001B[39m, \u001B[38;5;124m'\u001B[39m\u001B[38;5;124mSt_Longitude\u001B[39m\u001B[38;5;124m'\u001B[39m]\n",
      "File \u001B[1;32m~\\OneDrive - Dalhousie University\\PhD Tanmoy Das\\Multiobjective-Optimization-of-Resource-Allocation\\multiobjective_location_allocation_env\\Lib\\site-packages\\pandas\\core\\frame.py:3980\u001B[0m, in \u001B[0;36mDataFrame.__setitem__\u001B[1;34m(self, key, value)\u001B[0m\n\u001B[0;32m   3977\u001B[0m     \u001B[38;5;28mself\u001B[39m\u001B[38;5;241m.\u001B[39m_setitem_array([key], value)\n\u001B[0;32m   3978\u001B[0m \u001B[38;5;28;01melse\u001B[39;00m:\n\u001B[0;32m   3979\u001B[0m     \u001B[38;5;66;03m# set column\u001B[39;00m\n\u001B[1;32m-> 3980\u001B[0m     \u001B[38;5;28;43mself\u001B[39;49m\u001B[38;5;241;43m.\u001B[39;49m\u001B[43m_set_item\u001B[49m\u001B[43m(\u001B[49m\u001B[43mkey\u001B[49m\u001B[43m,\u001B[49m\u001B[43m \u001B[49m\u001B[43mvalue\u001B[49m\u001B[43m)\u001B[49m\n",
      "File \u001B[1;32m~\\OneDrive - Dalhousie University\\PhD Tanmoy Das\\Multiobjective-Optimization-of-Resource-Allocation\\multiobjective_location_allocation_env\\Lib\\site-packages\\pandas\\core\\frame.py:4174\u001B[0m, in \u001B[0;36mDataFrame._set_item\u001B[1;34m(self, key, value)\u001B[0m\n\u001B[0;32m   4164\u001B[0m \u001B[38;5;28;01mdef\u001B[39;00m \u001B[38;5;21m_set_item\u001B[39m(\u001B[38;5;28mself\u001B[39m, key, value) \u001B[38;5;241m-\u001B[39m\u001B[38;5;241m>\u001B[39m \u001B[38;5;28;01mNone\u001B[39;00m:\n\u001B[0;32m   4165\u001B[0m \u001B[38;5;250m    \u001B[39m\u001B[38;5;124;03m\"\"\"\u001B[39;00m\n\u001B[0;32m   4166\u001B[0m \u001B[38;5;124;03m    Add series to DataFrame in specified column.\u001B[39;00m\n\u001B[0;32m   4167\u001B[0m \n\u001B[1;32m   (...)\u001B[0m\n\u001B[0;32m   4172\u001B[0m \u001B[38;5;124;03m    ensure homogeneity.\u001B[39;00m\n\u001B[0;32m   4173\u001B[0m \u001B[38;5;124;03m    \"\"\"\u001B[39;00m\n\u001B[1;32m-> 4174\u001B[0m     value \u001B[38;5;241m=\u001B[39m \u001B[38;5;28;43mself\u001B[39;49m\u001B[38;5;241;43m.\u001B[39;49m\u001B[43m_sanitize_column\u001B[49m\u001B[43m(\u001B[49m\u001B[43mvalue\u001B[49m\u001B[43m)\u001B[49m\n\u001B[0;32m   4176\u001B[0m     \u001B[38;5;28;01mif\u001B[39;00m (\n\u001B[0;32m   4177\u001B[0m         key \u001B[38;5;129;01min\u001B[39;00m \u001B[38;5;28mself\u001B[39m\u001B[38;5;241m.\u001B[39mcolumns\n\u001B[0;32m   4178\u001B[0m         \u001B[38;5;129;01mand\u001B[39;00m value\u001B[38;5;241m.\u001B[39mndim \u001B[38;5;241m==\u001B[39m \u001B[38;5;241m1\u001B[39m\n\u001B[0;32m   4179\u001B[0m         \u001B[38;5;129;01mand\u001B[39;00m \u001B[38;5;129;01mnot\u001B[39;00m is_extension_array_dtype(value)\n\u001B[0;32m   4180\u001B[0m     ):\n\u001B[0;32m   4181\u001B[0m         \u001B[38;5;66;03m# broadcast across multiple columns if necessary\u001B[39;00m\n\u001B[0;32m   4182\u001B[0m         \u001B[38;5;28;01mif\u001B[39;00m \u001B[38;5;129;01mnot\u001B[39;00m \u001B[38;5;28mself\u001B[39m\u001B[38;5;241m.\u001B[39mcolumns\u001B[38;5;241m.\u001B[39mis_unique \u001B[38;5;129;01mor\u001B[39;00m \u001B[38;5;28misinstance\u001B[39m(\u001B[38;5;28mself\u001B[39m\u001B[38;5;241m.\u001B[39mcolumns, MultiIndex):\n",
      "File \u001B[1;32m~\\OneDrive - Dalhousie University\\PhD Tanmoy Das\\Multiobjective-Optimization-of-Resource-Allocation\\multiobjective_location_allocation_env\\Lib\\site-packages\\pandas\\core\\frame.py:4915\u001B[0m, in \u001B[0;36mDataFrame._sanitize_column\u001B[1;34m(self, value)\u001B[0m\n\u001B[0;32m   4912\u001B[0m     \u001B[38;5;28;01mreturn\u001B[39;00m _reindex_for_setitem(Series(value), \u001B[38;5;28mself\u001B[39m\u001B[38;5;241m.\u001B[39mindex)\n\u001B[0;32m   4914\u001B[0m \u001B[38;5;28;01mif\u001B[39;00m is_list_like(value):\n\u001B[1;32m-> 4915\u001B[0m     \u001B[43mcom\u001B[49m\u001B[38;5;241;43m.\u001B[39;49m\u001B[43mrequire_length_match\u001B[49m\u001B[43m(\u001B[49m\u001B[43mvalue\u001B[49m\u001B[43m,\u001B[49m\u001B[43m \u001B[49m\u001B[38;5;28;43mself\u001B[39;49m\u001B[38;5;241;43m.\u001B[39;49m\u001B[43mindex\u001B[49m\u001B[43m)\u001B[49m\n\u001B[0;32m   4916\u001B[0m \u001B[38;5;28;01mreturn\u001B[39;00m sanitize_array(value, \u001B[38;5;28mself\u001B[39m\u001B[38;5;241m.\u001B[39mindex, copy\u001B[38;5;241m=\u001B[39m\u001B[38;5;28;01mTrue\u001B[39;00m, allow_2d\u001B[38;5;241m=\u001B[39m\u001B[38;5;28;01mTrue\u001B[39;00m)\n",
      "File \u001B[1;32m~\\OneDrive - Dalhousie University\\PhD Tanmoy Das\\Multiobjective-Optimization-of-Resource-Allocation\\multiobjective_location_allocation_env\\Lib\\site-packages\\pandas\\core\\common.py:571\u001B[0m, in \u001B[0;36mrequire_length_match\u001B[1;34m(data, index)\u001B[0m\n\u001B[0;32m    567\u001B[0m \u001B[38;5;250m\u001B[39m\u001B[38;5;124;03m\"\"\"\u001B[39;00m\n\u001B[0;32m    568\u001B[0m \u001B[38;5;124;03mCheck the length of data matches the length of the index.\u001B[39;00m\n\u001B[0;32m    569\u001B[0m \u001B[38;5;124;03m\"\"\"\u001B[39;00m\n\u001B[0;32m    570\u001B[0m \u001B[38;5;28;01mif\u001B[39;00m \u001B[38;5;28mlen\u001B[39m(data) \u001B[38;5;241m!=\u001B[39m \u001B[38;5;28mlen\u001B[39m(index):\n\u001B[1;32m--> 571\u001B[0m     \u001B[38;5;28;01mraise\u001B[39;00m \u001B[38;5;167;01mValueError\u001B[39;00m(\n\u001B[0;32m    572\u001B[0m         \u001B[38;5;124m\"\u001B[39m\u001B[38;5;124mLength of values \u001B[39m\u001B[38;5;124m\"\u001B[39m\n\u001B[0;32m    573\u001B[0m         \u001B[38;5;124mf\u001B[39m\u001B[38;5;124m\"\u001B[39m\u001B[38;5;124m(\u001B[39m\u001B[38;5;132;01m{\u001B[39;00m\u001B[38;5;28mlen\u001B[39m(data)\u001B[38;5;132;01m}\u001B[39;00m\u001B[38;5;124m) \u001B[39m\u001B[38;5;124m\"\u001B[39m\n\u001B[0;32m    574\u001B[0m         \u001B[38;5;124m\"\u001B[39m\u001B[38;5;124mdoes not match length of index \u001B[39m\u001B[38;5;124m\"\u001B[39m\n\u001B[0;32m    575\u001B[0m         \u001B[38;5;124mf\u001B[39m\u001B[38;5;124m\"\u001B[39m\u001B[38;5;124m(\u001B[39m\u001B[38;5;132;01m{\u001B[39;00m\u001B[38;5;28mlen\u001B[39m(index)\u001B[38;5;132;01m}\u001B[39;00m\u001B[38;5;124m)\u001B[39m\u001B[38;5;124m\"\u001B[39m\n\u001B[0;32m    576\u001B[0m     )\n",
      "\u001B[1;31mValueError\u001B[0m: Length of values (1000) does not match length of index (222)"
     ]
    }
   ],
   "source": [
    "model, select, deploy, mvars, names, values, \\\n",
    "        spill_df, station_df, select_1s, deploy_1s, ResponseTimeM, coverage_percentage, assignment  \\\n",
    "    = model2.solve(Stations, OilSpills, ResourcesD, coordinates_st, coordinates_spill, SizeSpill, SizeSpill_n, \\\n",
    "          Demand, Sensitivity_R, Sensitivity_n, Eff, Effectiveness_n, Availability, NumberStMax, Distance, Distance_n, DistanceMax,  Cf_s, Cu_sor)"
   ],
   "metadata": {
    "collapsed": false
   }
  },
  {
   "cell_type": "markdown",
   "source": [
    "# Output"
   ],
   "metadata": {
    "collapsed": false
   }
  },
  {
   "cell_type": "markdown",
   "source": [
    "## Fig 10(a) Map. of current vs proposed facilities with edges"
   ],
   "metadata": {
    "collapsed": false
   }
  },
  {
   "cell_type": "code",
   "execution_count": null,
   "outputs": [],
   "source": [
    "current_vs_proposed = 'current'"
   ],
   "metadata": {
    "collapsed": false
   }
  },
  {
   "cell_type": "code",
   "execution_count": null,
   "outputs": [],
   "source": [
    "model_analysis.draw_network_diagram(DistanceMax, NumberStMax, Sensitivity_R, spill_df, station_df, ResponseTimeM, coverage_percentage,\n",
    "                         assignment, deploy_1s, select_1s, current_vs_proposed)"
   ],
   "metadata": {
    "collapsed": false
   }
  },
  {
   "cell_type": "code",
   "execution_count": null,
   "outputs": [],
   "source": [
    "assignment_line = pd.DataFrame(columns=list(assignment.columns.values))\n",
    "for i, o in enumerate(assignment['Spill #'].unique()):\n",
    "    minD = min(assignment.loc[assignment['Spill #'] == o]['Distance'])\n",
    "    df = assignment.iloc[np.where(assignment['Distance'] == minD)[0]]\n",
    "    assignment_line = pd.concat([assignment_line, df])\n",
    "\n",
    "resource_allocation_c = assignment_line[['Station no.', 'Resource Type', 'Quantity deployed']]\n",
    "resource_allocation_c = resource_allocation_c.sort_values(by=['Station no.'])\n",
    "resource_allocation_c = resource_allocation_c.groupby(['Station no.', 'Resource Type'])['Quantity deployed'].mean().reset_index()\n",
    "resource_allocation_c\n",
    "resource_allocation_c['Facility'] = 'Current'"
   ],
   "metadata": {
    "collapsed": false
   }
  },
  {
   "cell_type": "markdown",
   "source": [],
   "metadata": {
    "collapsed": false
   }
  },
  {
   "cell_type": "markdown",
   "source": [
    "### Proposed location allocation"
   ],
   "metadata": {
    "collapsed": false
   }
  },
  {
   "cell_type": "code",
   "execution_count": null,
   "outputs": [],
   "source": [
    "#NumberStMax = 4"
   ],
   "metadata": {
    "collapsed": false
   }
  },
  {
   "cell_type": "code",
   "execution_count": null,
   "outputs": [],
   "source": [
    "# Input param\n",
    "Stations, OilSpills, ResourcesD, Demand, Availability, Eff, Distance, TimeR, Cf_s, Cu_sor \\\n",
    "= data_preparation.generate_input_data(potential_station_data, spill_data, input_parameters)\n",
    "\n",
    "SizeSpill = SizeSpill_R = list(spill_data['Spill size']).copy()\n",
    "Sensitivity_R = custom_func.calculate_sensitivity(coordinates_spill[0], sensitivity_dataR)\n",
    "# normalize\n",
    "SizeSpill_n = dict(zip(OilSpills, custom_func.normalize(SizeSpill_R, min(SizeSpill_R), max(SizeSpill_R))))\n",
    "Sensitivity_n = dict(zip(OilSpills, custom_func.normalize(Sensitivity_R, min(Sensitivity_R), max(Sensitivity_R))))\n",
    "Distance_n = dict(zip(Distance.keys(), custom_func.normalize(Distance.values(), min(Distance.values()), max(Distance.values()))))\n",
    "# (x_0-x_min)/(x_max-x_min)\n",
    "Effectiveness_n = dict(zip(Eff.keys(), custom_func.normalize(Eff.values(), min(Eff.values()), max(Eff.values()))))\n",
    "\n",
    "# Model\n",
    "model, select, deploy, mvars, names, values, \\\n",
    "        spill_df, station_df, select_1s, deploy_1s, ResponseTimeM, coverage_percentage, assignment  \\\n",
    "    = model2.solve(Stations, OilSpills, ResourcesD, coordinates_st2, coordinates_spill, SizeSpill, SizeSpill_n, \\\n",
    "          Demand, Sensitivity_R, Sensitivity_n, Eff, Effectiveness_n, Availability, NumberStMax, Distance, Distance_n, DistanceMax,  Cf_s, Cu_sor)\n",
    "\n",
    "current_vs_proposed = 'proposed'\n",
    "# Draw the network\n",
    "assignment_line = model_analysis.draw_network_diagram(DistanceMax, NumberStMax, Sensitivity_R, spill_df, station_df, ResponseTimeM, coverage_percentage,\n",
    "                         assignment, deploy_1s, select_1s, current_vs_proposed)"
   ],
   "metadata": {
    "collapsed": false
   }
  },
  {
   "cell_type": "code",
   "execution_count": null,
   "outputs": [],
   "source": [],
   "metadata": {
    "collapsed": false
   }
  },
  {
   "cell_type": "markdown",
   "source": [
    "## Fig 10(b) Barplot. Resource allocation:\n",
    "stockpile of m,c,i in each proposed facilities"
   ],
   "metadata": {
    "collapsed": false
   }
  },
  {
   "cell_type": "code",
   "execution_count": null,
   "outputs": [],
   "source": [
    "assignment_line = pd.DataFrame(columns=list(assignment.columns.values))\n",
    "for i, o in enumerate(assignment['Spill #'].unique()):\n",
    "    minD = min(assignment.loc[assignment['Spill #'] == o]['Distance'])\n",
    "    df = assignment.iloc[np.where(assignment['Distance'] == minD)[0]]\n",
    "    assignment_line = pd.concat([assignment_line, df])\n",
    "\n",
    "resource_allocation_p = assignment_line[['Station no.', 'Resource Type', 'Quantity deployed']]\n",
    "resource_allocation_p = resource_allocation_p.sort_values(by=['Station no.'])\n",
    "resource_allocation_p = resource_allocation_p.groupby(['Station no.', 'Resource Type'])['Quantity deployed'].mean().reset_index()\n",
    "resource_allocation_p\n",
    "resource_allocation_p['Facility'] = 'Proposed'"
   ],
   "metadata": {
    "collapsed": false
   }
  },
  {
   "cell_type": "code",
   "execution_count": null,
   "outputs": [],
   "source": [],
   "metadata": {
    "collapsed": false
   }
  },
  {
   "cell_type": "code",
   "execution_count": null,
   "outputs": [],
   "source": [
    "resource_allocation = pd.concat([resource_allocation_c, resource_allocation_p])\n",
    "resource_allocation"
   ],
   "metadata": {
    "collapsed": false
   }
  },
  {
   "cell_type": "code",
   "execution_count": null,
   "outputs": [],
   "source": [
    "plt.bar(data=resource_allocation,\n",
    "        x=\"Station no.\", height=\"Quantity deployed\",\n",
    "        alpha = 0.5, hatch = 'Resource Type'\n",
    "        ) # color='Facility'"
   ],
   "metadata": {
    "collapsed": false
   }
  },
  {
   "cell_type": "code",
   "execution_count": null,
   "outputs": [],
   "source": [
    "fig = plt.figure()\n",
    "ax = sns.barplot(data=resource_allocation,\n",
    "                 x=\"Station no.\", y=\"Quantity deployed\", errorbar=None,\n",
    "                 hue='Facility', palette=[\"g\", \"yellow\"],\n",
    "                 alpha=0.7)\n",
    "#sns.set_style(style='white')\n",
    "ax.grid(False)\n",
    "plt.show() #, ls='Resource Type'\n",
    "fig.savefig('Outputs/barplot_compare.png', transparent=True)"
   ],
   "metadata": {
    "collapsed": false
   }
  },
  {
   "cell_type": "code",
   "execution_count": null,
   "outputs": [],
   "source": [
    "fig10c = plt.subplots(figsize=(7,3.5))\n",
    "ax = sns.barplot(data=resource_allocation,\n",
    "                 x=\"Station no.\", y=\"Quantity deployed\", errorbar=None,\n",
    "                 hue='Facility', palette=[\"g\", \"yellow\"],\n",
    "                 alpha=0.7)\n",
    "sns.set_style(style='white')\n",
    "ax.grid(False)\n",
    "plt.savefig('Outputs/barplot_compareHatch.png', transparent=True)"
   ],
   "metadata": {
    "collapsed": false
   }
  },
  {
   "cell_type": "code",
   "execution_count": null,
   "outputs": [],
   "source": [
    "fig10c = plt.subplots(figsize=(7,3.5))\n",
    "ax = sns.barplot(data=resource_allocation,\n",
    "                 x=\"Station no.\", y=\"Quantity deployed\", errorbar=None,\n",
    "                 hue='Facility', palette=[\"g\", \"yellow\"],\n",
    "                 alpha=0.7)\n",
    "hatches = ['', '', '', '', '', 'o','o', 'o','','','', '', '', '', '', 'o','o', 'o']\n",
    "# Loop over the bars\n",
    "for i,thisbar in enumerate(ax.patches):\n",
    "    # Set a different hatch for each bar\n",
    "    thisbar.set_hatch(hatches[i])\n",
    "sns.set_style(style='white')\n",
    "ax.grid(False)\n",
    "plt.savefig('Outputs/barplot_compareHatch.png', transparent=True)"
   ],
   "metadata": {
    "collapsed": false,
    "pycharm": {
     "name": "#%%# Define some hatches\n"
    }
   }
  },
  {
   "cell_type": "code",
   "execution_count": null,
   "outputs": [],
   "source": [
    "ax.patches"
   ],
   "metadata": {
    "collapsed": false
   }
  },
  {
   "cell_type": "markdown",
   "source": [
    "## Fig 10(c) Violin & Zitter plot.\n",
    "Compare performance metric (coverage, response time & cost)"
   ],
   "metadata": {
    "collapsed": false
   }
  },
  {
   "cell_type": "code",
   "execution_count": null,
   "outputs": [],
   "source": [
    "data_compare = pd.read_excel('Outputs/current vs proposed.xlsx', skiprows=[0])"
   ],
   "metadata": {
    "collapsed": false
   }
  },
  {
   "cell_type": "code",
   "execution_count": null,
   "outputs": [],
   "source": [
    "data_compare.info()\n",
    "coverage_df_stacked = data_compare[['Current','Proposed']].copy().stack().reset_index()\n",
    "coverage_df_stacked.columns = ['Index','Facility','Coverage']\n",
    "cost_df_stacked = data_compare[['Current.1','Proposed.1']].copy().stack().reset_index()\n",
    "cost_df_stacked.columns = ['Index','Facility','Cost']\n",
    "\n",
    "time_df_stacked = data_compare[['Current.2','Proposed.2']].copy().stack().reset_index()\n",
    "time_df_stacked.columns = ['Index','Facility','Response Time']\n"
   ],
   "metadata": {
    "collapsed": false
   }
  },
  {
   "cell_type": "code",
   "execution_count": null,
   "outputs": [],
   "source": [
    "time_df_stacked"
   ],
   "metadata": {
    "collapsed": false
   }
  },
  {
   "cell_type": "code",
   "execution_count": null,
   "outputs": [],
   "source": [
    "coverage_df_stacked"
   ],
   "metadata": {
    "collapsed": false
   }
  },
  {
   "cell_type": "code",
   "execution_count": null,
   "outputs": [],
   "source": [
    "def draw_boxplot(data, y, ax):\n",
    "    sns.violinplot(data= data,x='Facility', y=y, alpha = 0.5)\n",
    "    sns.stripplot(data= data, x='Facility', y=y)\n",
    "    plt.ylabel = y\n"
   ],
   "metadata": {
    "collapsed": false
   }
  },
  {
   "cell_type": "code",
   "execution_count": null,
   "outputs": [],
   "source": [
    "fig, (ax1, ax2, ax3) = plt.subplots(1,3)\n",
    "draw_boxplot(coverage_df_stacked, 'Coverage', ax1)\n",
    "draw_boxplot(cost_df_stacked, 'Cost', ax2)\n",
    "draw_boxplot(time_df_stacked, 'Response Time', ax3)\n",
    "\n",
    "plt.show()\n",
    "fig.savefig('Outputs/boxplot_{}.png', transparent=True)"
   ],
   "metadata": {
    "collapsed": false
   }
  },
  {
   "cell_type": "code",
   "execution_count": null,
   "outputs": [],
   "source": [
    "plt.rcParams[\"figure.figsize\"] = [7.00, 3]\n",
    "plt.rcParams['axes.edgecolor'] = 'lightgray'\n",
    "fig, (ax1, ax2, ax3) = plt.subplots(1,3)\n",
    "\n",
    "sns.boxplot(data= coverage_df_stacked, ax=ax1, x='Facility', y='Coverage',\n",
    "            boxprops=dict(alpha=.3), palette=[\"g\", \"yellow\"])\n",
    "sns.stripplot(data= coverage_df_stacked, ax=ax1, x='Facility', y='Coverage',\n",
    "              alpha=.3)\n",
    "\n",
    "\n",
    "sns.boxplot(data= cost_df_stacked, ax=ax2, x='Facility', y='Cost',\n",
    "            boxprops=dict(alpha=.3), palette=[\"g\", \"yellow\"])\n",
    "sns.stripplot(data= cost_df_stacked, ax=ax2, x='Facility', y='Cost',\n",
    "              alpha=.3)\n",
    "sns.boxplot(data= time_df_stacked, ax=ax3, x='Facility', y='Response Time',\n",
    "            boxprops=dict(alpha=.3), palette=[\"g\", \"yellow\"])\n",
    "sns.stripplot(data= time_df_stacked, ax=ax3, x='Facility', y='Response Time',\n",
    "              alpha=.3)\n",
    "plt.tight_layout()\n",
    "\n",
    "#plt.axis('off')\n",
    "# plt.xlabel('')\n",
    "plt.show()\n",
    "fig.savefig('Outputs/boxplot.png', transparent=True)"
   ],
   "metadata": {
    "collapsed": false
   }
  },
  {
   "cell_type": "markdown",
   "source": [
    "# Pareto Front"
   ],
   "metadata": {
    "collapsed": false
   }
  },
  {
   "cell_type": "code",
   "execution_count": null,
   "outputs": [],
   "source": [
    "import pandas as pd\n",
    "import seaborn as sns\n",
    "import matplotlib.pyplot as plt\n",
    "data_pareto_front = pd.read_excel('Outputs/pareto front.xlsx', sheet_name='pareto front')\n",
    "data_pareto_front"
   ],
   "metadata": {
    "collapsed": false
   }
  }
 ],
 "metadata": {
  "kernelspec": {
   "display_name": "Python 3",
   "language": "python",
   "name": "python3"
  },
  "language_info": {
   "codemirror_mode": {
    "name": "ipython",
    "version": 2
   },
   "file_extension": ".py",
   "mimetype": "text/x-python",
   "name": "python",
   "nbconvert_exporter": "python",
   "pygments_lexer": "ipython2",
   "version": "2.7.6"
  }
 },
 "nbformat": 4,
 "nbformat_minor": 0
}
