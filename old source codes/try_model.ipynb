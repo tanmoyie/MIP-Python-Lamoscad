{
 "cells": [
  {
   "cell_type": "code",
   "execution_count": null,
   "metadata": {
    "collapsed": true
   },
   "outputs": [],
   "source": []
  },
  {
   "cell_type": "code",
   "execution_count": 5,
   "outputs": [],
   "source": [
    "import gurobipy as gp\n",
    "from gurobipy import GRB\n",
    "model = gp.Model(\"MIP-moo-LAMOSCAD\")\n",
    "# ---------------------------------------- Decision variable -------------------------------------------------------\n",
    "Z = [1,2,3,4]\n",
    "\n",
    "deploy = model.addVars(Z, vtype=GRB.CONTINUOUS, lb=0)\n",
    "    # C10: resource capacity constaint & deploy only when facility is open\n",
    "C_resource_capacity = model.addConstrs((deploy[z] <= 100 for z in Z), name='C_open_facility')\n",
    "# C16: deploy less than demand\n",
    "C_deploy_demand = model.addConstrs((deploy[z] >= 10\n",
    "                                    for z in Z), name='C_deploy_demand')\n",
    "\n",
    "model.ModelSense = GRB.MINIMIZE\n",
    "\n",
    "\n",
    "model.setObjective(gp.quicksum((deploy[z] for z in Z)))\n",
    "# Write the model\n",
    "#model.write(f'Outputs/model_moo0012.lp')\n"
   ],
   "metadata": {
    "collapsed": false,
    "ExecuteTime": {
     "end_time": "2023-07-09T04:10:11.245492Z",
     "start_time": "2023-07-09T04:10:11.235445Z"
    }
   }
  },
  {
   "cell_type": "code",
   "execution_count": 7,
   "outputs": [
    {
     "name": "stdout",
     "output_type": "stream",
     "text": [
      "Gurobi Optimizer version 10.0.2 build v10.0.2rc0 (win64)\n",
      "\n",
      "CPU model: Intel(R) Core(TM) i5-8265U CPU @ 1.60GHz, instruction set [SSE2|AVX|AVX2]\n",
      "Thread count: 4 physical cores, 8 logical processors, using up to 8 threads\n",
      "\n",
      "Optimize a model with 8 rows, 4 columns and 8 nonzeros\n",
      "Coefficient statistics:\n",
      "  Matrix range     [1e+00, 1e+00]\n",
      "  Objective range  [1e+00, 1e+00]\n",
      "  Bounds range     [0e+00, 0e+00]\n",
      "  RHS range        [1e+01, 1e+02]\n",
      "\n",
      "Solved in 0 iterations and 0.01 seconds (0.00 work units)\n",
      "Optimal objective  0.000000000e+00\n"
     ]
    }
   ],
   "source": [
    "model.optimize()"
   ],
   "metadata": {
    "collapsed": false,
    "ExecuteTime": {
     "end_time": "2023-07-09T04:10:36.175522600Z",
     "start_time": "2023-07-09T04:10:36.116422700Z"
    }
   }
  },
  {
   "cell_type": "code",
   "execution_count": 8,
   "outputs": [
    {
     "name": "stdout",
     "output_type": "stream",
     "text": [
      "Problem has 1 objectives\n",
      "Gurobi found 1 solutions\n",
      "Solution 0 :  0.0 \n"
     ]
    }
   ],
   "source": [
    "\n",
    "import pandas as pd\n",
    "# %% Query number of multiple objectives, and number of solutions\n",
    "x = model.getVars()\n",
    "deploy_series = pd.Series(model.getAttr('X', deploy))\n",
    "deploy_series[deploy_series > 0.5]\n",
    "nSolutions = model.SolCount\n",
    "nObjectives = model.NumObj\n",
    "print('Problem has', nObjectives, 'objectives')\n",
    "print('Gurobi found', nSolutions, 'solutions')\n",
    "solutions = []\n",
    "for s in range(nSolutions):\n",
    "    # Set which solution we will query from now on\n",
    "    model.params.SolutionNumber = s\n",
    "\n",
    "    # Print objective value of this solution in each objective\n",
    "    print('Solution', s, ':', end='')\n",
    "    for o in range(nObjectives):\n",
    "        # Set which objective we will query\n",
    "        model.params.ObjNumber = o\n",
    "        # Query the o-th objective value\n",
    "        print(' ', round(model.ObjVal, 2), end=' ')\n",
    "        # query the full vector of the o-th solution\n",
    "        solutions.append(model.getAttr('X', x))\n",
    "    print()\n",
    "\n",
    "for j in range(len(x)):\n",
    "    if x[j].X > 0:\n",
    "        print(x[j].VarName, x[j].X, end=' ')\n",
    "        print(' ')"
   ],
   "metadata": {
    "collapsed": false,
    "ExecuteTime": {
     "end_time": "2023-07-09T04:10:37.621098700Z",
     "start_time": "2023-07-09T04:10:37.565280100Z"
    }
   }
  }
 ],
 "metadata": {
  "kernelspec": {
   "display_name": "Python 3",
   "language": "python",
   "name": "python3"
  },
  "language_info": {
   "codemirror_mode": {
    "name": "ipython",
    "version": 2
   },
   "file_extension": ".py",
   "mimetype": "text/x-python",
   "name": "python",
   "nbconvert_exporter": "python",
   "pygments_lexer": "ipython2",
   "version": "2.7.6"
  }
 },
 "nbformat": 4,
 "nbformat_minor": 0
}
