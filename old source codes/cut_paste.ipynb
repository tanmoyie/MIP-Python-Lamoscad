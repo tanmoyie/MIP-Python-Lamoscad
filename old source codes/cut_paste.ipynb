{
 "cells": [
  {
   "cell_type": "code",
   "execution_count": null,
   "metadata": {
    "collapsed": true
   },
   "outputs": [],
   "source": []
  },
  {
   "cell_type": "markdown",
   "source": [
    "## grbtool"
   ],
   "metadata": {
    "collapsed": false
   }
  },
  {
   "cell_type": "code",
   "execution_count": null,
   "outputs": [],
   "source": [
    "# grblogtool\n",
    "# !pip install grblogtools\n",
    "import grblogtools as glt\n",
    "import geopandas as gpd\n",
    "import matplotlib.pyplot as plt"
   ],
   "metadata": {
    "collapsed": false
   }
  },
  {
   "cell_type": "code",
   "execution_count": null,
   "outputs": [],
   "source": [
    "\n",
    "results = glt.parse([\"Outputs/Logfiles/model_moo*.log\"])\n",
    "summary = results.summary()\n",
    "summary.columns\n",
    "\n",
    "summary = summary[['Runtime','ObjVal', 'ObjBound', 'RelaxObj', 'IterCount']].dropna()\n",
    "glt.plot(summary.sort_values(by=\"Runtime\"),\n",
    "         type=\"bar\",\n",
    "         color=\"Log\")\n",
    "\n",
    "progress_iteration = results.progress(\"nodelog\")\n",
    "display(progress_iteration.columns)\n",
    "progress_iteration[['LogFilePath', 'Incumbent', 'BestBd', 'Gap']]\n",
    "\n",
    "results.progress(\"rootlp\")\n",
    "\n",
    "glt.plot(summary.sort_values(by=\"Runtime\"), #\n",
    "         x = \"IterCount\", y = \"ObjVal\", type=\"scatter\",\n",
    "         color=\"LogFilePath\",\n",
    "         log_x=True,\n",
    "         title=\"Gurobi Performance\")\n",
    "\n",
    "glt.plot(timelines[timelines[\"Log\"]==\"model_moo(Mar 01,2217)\"], type='line', y='Gap', color='Seed')\n",
    "glt.plot(summary, x= 'Time', y='Gap', color='Seed', type=\"line\")"
   ],
   "metadata": {
    "collapsed": false
   }
  },
  {
   "cell_type": "markdown",
   "source": [],
   "metadata": {
    "collapsed": false
   }
  },
  {
   "cell_type": "markdown",
   "source": [],
   "metadata": {
    "collapsed": false
   }
  }
 ],
 "metadata": {
  "kernelspec": {
   "display_name": "Python 3",
   "language": "python",
   "name": "python3"
  },
  "language_info": {
   "codemirror_mode": {
    "name": "ipython",
    "version": 2
   },
   "file_extension": ".py",
   "mimetype": "text/x-python",
   "name": "python",
   "nbconvert_exporter": "python",
   "pygments_lexer": "ipython2",
   "version": "2.7.6"
  }
 },
 "nbformat": 4,
 "nbformat_minor": 0
}
