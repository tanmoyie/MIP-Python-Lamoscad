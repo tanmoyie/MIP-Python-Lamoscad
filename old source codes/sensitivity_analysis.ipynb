{
 "cells": [
  {
   "cell_type": "markdown",
   "metadata": {},
   "source": [
    "# Sensitivity analysis\n"
   ]
  },
  {
   "cell_type": "code",
   "execution_count": null,
   "metadata": {},
   "outputs": [],
   "source": []
  },
  {
   "cell_type": "code",
   "execution_count": null,
   "metadata": {},
   "outputs": [],
   "source": [
    "# grblogtool\n",
    "# !pip install grblogtools\n",
    "import grblogtools as glt\n",
    "import geopandas as gpd\n",
    "import matplotlib.pyplot as plt"
   ]
  },
  {
   "cell_type": "code",
   "execution_count": null,
   "metadata": {},
   "outputs": [],
   "source": [
    "\n",
    "results = glt.parse([\"Outputs/Logfiles/model_moo*.log\"])\n",
    "summary = results.summary()"
   ]
  },
  {
   "cell_type": "markdown",
   "metadata": {},
   "source": []
  },
  {
   "cell_type": "code",
   "execution_count": null,
   "metadata": {},
   "outputs": [],
   "source": [
    "summary.columns"
   ]
  },
  {
   "cell_type": "code",
   "execution_count": null,
   "metadata": {},
   "outputs": [],
   "source": [
    "summary = summary[['Runtime','ObjVal', 'ObjBound', 'RelaxObj', 'IterCount']].dropna()"
   ]
  },
  {
   "cell_type": "code",
   "execution_count": null,
   "metadata": {},
   "outputs": [],
   "source": [
    "glt.plot(summary.sort_values(by=\"Runtime\"),\n",
    "         type=\"bar\",\n",
    "         color=\"Log\")"
   ]
  },
  {
   "cell_type": "code",
   "execution_count": null,
   "metadata": {},
   "outputs": [],
   "source": []
  },
  {
   "cell_type": "code",
   "execution_count": null,
   "metadata": {},
   "outputs": [],
   "source": []
  },
  {
   "cell_type": "code",
   "execution_count": null,
   "metadata": {},
   "outputs": [],
   "source": [
    "progress_iteration = results.progress(\"nodelog\")\n",
    "display(progress_iteration.columns)\n",
    "progress_iteration[['LogFilePath', 'Incumbent', 'BestBd', 'Gap']]\n"
   ]
  },
  {
   "cell_type": "code",
   "execution_count": null,
   "metadata": {},
   "outputs": [],
   "source": [
    "results.progress(\"rootlp\")"
   ]
  },
  {
   "cell_type": "code",
   "execution_count": null,
   "metadata": {},
   "outputs": [],
   "source": [
    "summary"
   ]
  },
  {
   "cell_type": "code",
   "execution_count": null,
   "metadata": {},
   "outputs": [],
   "source": [
    "summary[['ObjVal', 'RelaxObj']].dropna().to_csv('obj1vsobj2.csv')"
   ]
  },
  {
   "cell_type": "code",
   "execution_count": null,
   "outputs": [],
   "source": [],
   "metadata": {
    "collapsed": false
   }
  },
  {
   "cell_type": "code",
   "execution_count": null,
   "metadata": {},
   "outputs": [],
   "source": [
    "glt.plot(summary)"
   ]
  },
  {
   "cell_type": "code",
   "execution_count": null,
   "metadata": {},
   "outputs": [],
   "source": [
    "glt.plot(summary.sort_values(by=\"Runtime\"), #\n",
    "         x = \"IterCount\", y = \"ObjVal\", type=\"scatter\",\n",
    "         color=\"LogFilePath\",\n",
    "         log_x=True,\n",
    "         title=\"Gurobi Performance\")"
   ]
  },
  {
   "cell_type": "code",
   "execution_count": null,
   "metadata": {},
   "outputs": [],
   "source": [
    "summary, timelines = glt.get_dataframe([\"Outputs/Logfiles/model_moo*.log\"], timelines=True)"
   ]
  },
  {
   "cell_type": "code",
   "execution_count": null,
   "metadata": {},
   "outputs": [],
   "source": [
    "timelines"
   ]
  },
  {
   "cell_type": "markdown",
   "metadata": {},
   "source": []
  },
  {
   "cell_type": "code",
   "execution_count": null,
   "metadata": {},
   "outputs": [],
   "source": [
    "glt.plot(timelines[timelines[\"Log\"]==\"model_moo(Mar 01,2217)\"], type='line', y='Gap', color='Seed')"
   ]
  },
  {
   "cell_type": "code",
   "execution_count": null,
   "metadata": {},
   "outputs": [],
   "source": [
    "glt.plot(summary, x= 'Time', y='Gap', color='Seed', type=\"line\")"
   ]
  },
  {
   "cell_type": "code",
   "execution_count": null,
   "metadata": {},
   "outputs": [],
   "source": [
    "glt.plot(summary, x= 'IterCount', y='ObjVal' ,type=\"scatter\")"
   ]
  },
  {
   "cell_type": "markdown",
   "metadata": {},
   "source": [
    "# Surface Plot"
   ]
  },
  {
   "cell_type": "code",
   "execution_count": null,
   "metadata": {},
   "outputs": [],
   "source": [
    "import random\n",
    "cover_v1 = [0.7, .5,.8,.95,.8,.81,.74,.9]\n",
    "deploy_v2 = [42, 50,66,70,54,88,92,60]\n",
    "obj2 = [random.random()*cover_v1[i]+ random.random()*deploy_v2[i] for i in range(8)]\n",
    "obj2"
   ]
  },
  {
   "cell_type": "code",
   "execution_count": null,
   "metadata": {},
   "outputs": [],
   "source": [
    "import matplotlib.pyplot as plt\n",
    "from matplotlib import cm\n",
    "from matplotlib.ticker import LinearLocator\n",
    "import numpy as np\n",
    "\n",
    "fig, ax = plt.subplots(subplot_kw={\"projection\": \"3d\"})\n",
    "\n",
    "cover_v1, deploy_v2 = np.meshgrid(cover_v1, deploy_v2)\n",
    "obj2 =obj2 \n",
    "\n",
    "# Plot the surface.\n",
    "surf = ax.plot_surface(deploy_v2, deploy_v2, obj2, cmap=cm.coolwarm,\n",
    "                       linewidth=0, antialiased=False)\n",
    "\n",
    "# Customize the z axis.\n",
    "#ax.set_zlim(-1.01, 1.01)\n",
    "#ax.zaxis.set_major_locator(LinearLocator(10))\n",
    "# A StrMethodFormatter is used automatically\n",
    "#ax.zaxis.set_major_formatter('{x:.02f}')\n",
    "\n",
    "# Add a color bar which maps values to colors.\n",
    "fig.colorbar(surf, shrink=0.5, aspect=5)\n",
    "\n",
    "plt.show()"
   ]
  },
  {
   "cell_type": "code",
   "execution_count": null,
   "metadata": {},
   "outputs": [],
   "source": [
    "import matplotlib.pyplot as plt\n",
    "from matplotlib import cm\n",
    "from matplotlib.ticker import LinearLocator\n",
    "import numpy as np\n",
    "\n",
    "fig, ax = plt.subplots(subplot_kw={\"projection\": \"3d\"})\n",
    "\n",
    "# Make data.\n",
    "X = np.arange(-5, 5, 0.25)\n",
    "Y = np.arange(-5, 5, 0.25)\n",
    "X, Y = np.meshgrid(X, Y)\n",
    "R = np.sqrt(X**2 + Y**2)\n",
    "Z = np.sin(R)\n",
    "\n",
    "# Plot the surface.\n",
    "surf = ax.plot_surface(X, Y, Z, cmap=cm.coolwarm,\n",
    "                       linewidth=0, antialiased=False)\n",
    "\n",
    "# Customize the z axis.\n",
    "ax.set_zlim(-1.01, 1.01)\n",
    "ax.zaxis.set_major_locator(LinearLocator(10))\n",
    "# A StrMethodFormatter is used automatically\n",
    "ax.zaxis.set_major_formatter('{x:.02f}')\n",
    "\n",
    "# Add a color bar which maps values to colors.\n",
    "fig.colorbar(surf, shrink=0.5, aspect=5)\n",
    "\n",
    "plt.show()"
   ]
  },
  {
   "cell_type": "code",
   "execution_count": null,
   "metadata": {},
   "outputs": [],
   "source": [
    "print(X)\n",
    "print('Z')\n",
    "print(R)"
   ]
  },
  {
   "cell_type": "markdown",
   "source": [
    "# Multiscene"
   ],
   "metadata": {
    "collapsed": false
   }
  },
  {
   "cell_type": "code",
   "execution_count": null,
   "outputs": [],
   "source": [],
   "metadata": {
    "collapsed": false
   }
  },
  {
   "cell_type": "markdown",
   "source": [
    "# Pareto Front\n"
   ],
   "metadata": {
    "collapsed": false
   }
  },
  {
   "cell_type": "code",
   "execution_count": null,
   "outputs": [],
   "source": [],
   "metadata": {
    "collapsed": false
   }
  },
  {
   "cell_type": "code",
   "execution_count": 2,
   "outputs": [],
   "source": [
    "import pandas as pd\n",
    "import seaborn as sns\n",
    "import matplotlib.pyplot as plt"
   ],
   "metadata": {
    "collapsed": false
   }
  },
  {
   "cell_type": "code",
   "execution_count": 19,
   "outputs": [
    {
     "data": {
      "text/plain": "    Facility  Max Coverage  Min Cost  Unnamed: 3  Unnamed: 4  Unnamed: 5  \\\n0   Proposed      0.747688    260000         NaN     6335.19         NaN   \n1   Proposed      0.747688    260000         NaN     6335.19         NaN   \n2   Proposed      0.367335    230000         NaN     3112.44         NaN   \n3   Proposed      0.886893    160000         NaN     7514.68         NaN   \n4   Proposed      0.872138    180000         NaN     7389.66         NaN   \n5   Proposed      0.707361    180000         NaN     5993.50         NaN   \n6   Proposed      0.308082    170000         NaN     2610.39         NaN   \n7   Proposed      0.885160    190000         NaN     7500.00         NaN   \n8   Proposed      0.338890    180000         NaN     2871.43         NaN   \n9   Proposed      1.000000    190000         NaN     8473.04         NaN   \n10  Proposed      0.991970    180000         NaN     8405.00         NaN   \n11  Proposed      0.537115    240000         NaN     4551.00         NaN   \n12   Current      0.510523     40000         NaN     4325.68         NaN   \n13   Current      0.209889     40000         NaN     1778.40         NaN   \n\n         Max       Min  \n0   1.000000  190000.0  \n1   0.991970  180000.0  \n2   0.886893  160000.0  \n3   0.510523   40000.0  \n4   0.209889   40000.0  \n5        NaN       NaN  \n6        NaN       NaN  \n7        NaN       NaN  \n8        NaN       NaN  \n9        NaN       NaN  \n10       NaN       NaN  \n11       NaN       NaN  \n12       NaN       NaN  \n13       NaN       NaN  ",
      "text/html": "<div>\n<style scoped>\n    .dataframe tbody tr th:only-of-type {\n        vertical-align: middle;\n    }\n\n    .dataframe tbody tr th {\n        vertical-align: top;\n    }\n\n    .dataframe thead th {\n        text-align: right;\n    }\n</style>\n<table border=\"1\" class=\"dataframe\">\n  <thead>\n    <tr style=\"text-align: right;\">\n      <th></th>\n      <th>Facility</th>\n      <th>Max Coverage</th>\n      <th>Min Cost</th>\n      <th>Unnamed: 3</th>\n      <th>Unnamed: 4</th>\n      <th>Unnamed: 5</th>\n      <th>Max</th>\n      <th>Min</th>\n    </tr>\n  </thead>\n  <tbody>\n    <tr>\n      <th>0</th>\n      <td>Proposed</td>\n      <td>0.747688</td>\n      <td>260000</td>\n      <td>NaN</td>\n      <td>6335.19</td>\n      <td>NaN</td>\n      <td>1.000000</td>\n      <td>190000.0</td>\n    </tr>\n    <tr>\n      <th>1</th>\n      <td>Proposed</td>\n      <td>0.747688</td>\n      <td>260000</td>\n      <td>NaN</td>\n      <td>6335.19</td>\n      <td>NaN</td>\n      <td>0.991970</td>\n      <td>180000.0</td>\n    </tr>\n    <tr>\n      <th>2</th>\n      <td>Proposed</td>\n      <td>0.367335</td>\n      <td>230000</td>\n      <td>NaN</td>\n      <td>3112.44</td>\n      <td>NaN</td>\n      <td>0.886893</td>\n      <td>160000.0</td>\n    </tr>\n    <tr>\n      <th>3</th>\n      <td>Proposed</td>\n      <td>0.886893</td>\n      <td>160000</td>\n      <td>NaN</td>\n      <td>7514.68</td>\n      <td>NaN</td>\n      <td>0.510523</td>\n      <td>40000.0</td>\n    </tr>\n    <tr>\n      <th>4</th>\n      <td>Proposed</td>\n      <td>0.872138</td>\n      <td>180000</td>\n      <td>NaN</td>\n      <td>7389.66</td>\n      <td>NaN</td>\n      <td>0.209889</td>\n      <td>40000.0</td>\n    </tr>\n    <tr>\n      <th>5</th>\n      <td>Proposed</td>\n      <td>0.707361</td>\n      <td>180000</td>\n      <td>NaN</td>\n      <td>5993.50</td>\n      <td>NaN</td>\n      <td>NaN</td>\n      <td>NaN</td>\n    </tr>\n    <tr>\n      <th>6</th>\n      <td>Proposed</td>\n      <td>0.308082</td>\n      <td>170000</td>\n      <td>NaN</td>\n      <td>2610.39</td>\n      <td>NaN</td>\n      <td>NaN</td>\n      <td>NaN</td>\n    </tr>\n    <tr>\n      <th>7</th>\n      <td>Proposed</td>\n      <td>0.885160</td>\n      <td>190000</td>\n      <td>NaN</td>\n      <td>7500.00</td>\n      <td>NaN</td>\n      <td>NaN</td>\n      <td>NaN</td>\n    </tr>\n    <tr>\n      <th>8</th>\n      <td>Proposed</td>\n      <td>0.338890</td>\n      <td>180000</td>\n      <td>NaN</td>\n      <td>2871.43</td>\n      <td>NaN</td>\n      <td>NaN</td>\n      <td>NaN</td>\n    </tr>\n    <tr>\n      <th>9</th>\n      <td>Proposed</td>\n      <td>1.000000</td>\n      <td>190000</td>\n      <td>NaN</td>\n      <td>8473.04</td>\n      <td>NaN</td>\n      <td>NaN</td>\n      <td>NaN</td>\n    </tr>\n    <tr>\n      <th>10</th>\n      <td>Proposed</td>\n      <td>0.991970</td>\n      <td>180000</td>\n      <td>NaN</td>\n      <td>8405.00</td>\n      <td>NaN</td>\n      <td>NaN</td>\n      <td>NaN</td>\n    </tr>\n    <tr>\n      <th>11</th>\n      <td>Proposed</td>\n      <td>0.537115</td>\n      <td>240000</td>\n      <td>NaN</td>\n      <td>4551.00</td>\n      <td>NaN</td>\n      <td>NaN</td>\n      <td>NaN</td>\n    </tr>\n    <tr>\n      <th>12</th>\n      <td>Current</td>\n      <td>0.510523</td>\n      <td>40000</td>\n      <td>NaN</td>\n      <td>4325.68</td>\n      <td>NaN</td>\n      <td>NaN</td>\n      <td>NaN</td>\n    </tr>\n    <tr>\n      <th>13</th>\n      <td>Current</td>\n      <td>0.209889</td>\n      <td>40000</td>\n      <td>NaN</td>\n      <td>1778.40</td>\n      <td>NaN</td>\n      <td>NaN</td>\n      <td>NaN</td>\n    </tr>\n  </tbody>\n</table>\n</div>"
     },
     "execution_count": 19,
     "metadata": {},
     "output_type": "execute_result"
    }
   ],
   "source": [
    "data_pareto_front = pd.read_excel('Outputs/pareto front.xlsx', sheet_name='pareto front2')\n",
    "data_pareto_front"
   ],
   "metadata": {
    "collapsed": false
   }
  },
  {
   "cell_type": "code",
   "execution_count": 36,
   "outputs": [
    {
     "data": {
      "text/plain": "<Figure size 600x400 with 1 Axes>",
      "image/png": "[encoded data removed]"
     },
     "metadata": {},
     "output_type": "display_data"
    }
   ],
   "source": [
    "plt.figure(figsize=(6,4))\n",
    "plt.scatter(data=data_pareto_front, x='Max Coverage', y='Min Cost',\n",
    "            alpha=0.5, edgecolors='b', s=200, color='g')\n",
    "plt.xlabel('Max Coverage')\n",
    "plt.ylabel('Min Cost')\n",
    "plt.grid(False)\n",
    "plt.tight_layout()\n",
    "plt.savefig('Outputs/pareto_front.png', transparent=True)"
   ],
   "metadata": {
    "collapsed": false
   }
  },
  {
   "cell_type": "markdown",
   "source": [],
   "metadata": {
    "collapsed": false
   }
  },
  {
   "cell_type": "code",
   "execution_count": 41,
   "outputs": [
    {
     "data": {
      "text/plain": "<Figure size 600x400 with 1 Axes>",
      "image/png": "[encoded data removed]"
     },
     "metadata": {},
     "output_type": "display_data"
    }
   ],
   "source": [
    "plt.figure(figsize=(6,4))\n",
    "plt.scatter(data=data_pareto_front, x='Max Coverage', y='Min Cost',\n",
    "            alpha=0.5, edgecolors='b', s=200, color='g')\n",
    "plt.scatter(data=data_pareto_front, x='Max', y='Min',\n",
    "            alpha=0.5, edgecolors='black', s=200, color='r')\n",
    "Max = data_pareto_front[['Max']]\n",
    "Min = data_pareto_front[['Min']]\n",
    "plt.plot(Max, Min,\n",
    "            ls='--', alpha=0.5, color='r')\n",
    "plt.xlabel('Max Coverage')\n",
    "plt.ylabel('Min Cost')\n",
    "plt.grid(False)\n",
    "plt.tight_layout()\n",
    "#plt.axis('off')\n",
    "plt.savefig('Outputs/pareto_frontier_points.png', transparent=True)"
   ],
   "metadata": {
    "collapsed": false
   }
  },
  {
   "cell_type": "markdown",
   "source": [
    "## a. Facility location"
   ],
   "metadata": {
    "collapsed": false
   }
  },
  {
   "cell_type": "code",
   "execution_count": null,
   "outputs": [],
   "source": [
    "# Draw the Arctic Map\n",
    "fig, ax = plt.subplots(figsize=(10,10))  #++\n",
    "\n",
    "# Load geometric file for map\n",
    "ArcticMap = gpd.read_file(\"Inputs/ArcGIS_data/ArcticShapefile2/ArcticShapefile2.shp\")\n",
    "ArcticMap = ArcticMap.to_crs(epsg=4326)  # 3857\n",
    "ArcticLand = ArcticMap[ArcticMap['Region_EN'].isin(['Arctic'])]\n",
    "ArcticWater = ArcticMap[ArcticMap['Region_EN'].isin(['Arctic-Water'])]\n",
    "ArcticLand.plot(ax=ax, color=\"seashell\")\n",
    "ArcticWater.plot(ax=ax, color=\"lightskyblue\")"
   ],
   "metadata": {
    "collapsed": false
   }
  },
  {
   "cell_type": "code",
   "execution_count": null,
   "outputs": [],
   "source": [],
   "metadata": {
    "collapsed": false
   }
  },
  {
   "cell_type": "markdown",
   "source": [
    "## b. Resource allocation"
   ],
   "metadata": {
    "collapsed": false
   }
  },
  {
   "cell_type": "code",
   "execution_count": null,
   "outputs": [],
   "source": [],
   "metadata": {
    "collapsed": false
   }
  },
  {
   "cell_type": "code",
   "execution_count": null,
   "outputs": [],
   "source": [],
   "metadata": {
    "collapsed": false
   }
  },
  {
   "cell_type": "markdown",
   "source": [
    "## c. compare outputs (coverage, cost, time) by Boxplot /violin plot"
   ],
   "metadata": {
    "collapsed": false
   }
  },
  {
   "cell_type": "code",
   "execution_count": null,
   "outputs": [],
   "source": [],
   "metadata": {
    "collapsed": false
   }
  },
  {
   "cell_type": "code",
   "execution_count": null,
   "outputs": [],
   "source": [],
   "metadata": {
    "collapsed": false
   }
  },
  {
   "cell_type": "code",
   "execution_count": null,
   "outputs": [],
   "source": [],
   "metadata": {
    "collapsed": false
   }
  },
  {
   "cell_type": "code",
   "execution_count": null,
   "outputs": [],
   "source": [
    "fig, ax = plt.subplots(figsize=(3,6), dpi=300, alpha=.1)\n",
    "sns.boxplot(data= coverage_df_stacked, ax=ax, x='', y='Coverage')\n",
    "sns.stripplot(data= coverage_df_stacked, ax=ax, x='', y='Coverage')\n",
    "plt.show()\n",
    "fig.savefig('Outputs/boxplot.png', transparent=True)"
   ],
   "metadata": {
    "collapsed": false
   }
  },
  {
   "cell_type": "code",
   "execution_count": null,
   "outputs": [],
   "source": [
    "coverage_df_stacked.columns"
   ],
   "metadata": {
    "collapsed": false
   }
  },
  {
   "cell_type": "code",
   "execution_count": null,
   "outputs": [],
   "source": [],
   "metadata": {
    "collapsed": false
   }
  }
 ],
 "metadata": {
  "kernelspec": {
   "display_name": "Python 3 (ipykernel)",
   "language": "python",
   "name": "python3"
  },
  "language_info": {
   "codemirror_mode": {
    "name": "ipython",
    "version": 3
   },
   "file_extension": ".py",
   "mimetype": "text/x-python",
   "name": "python",
   "nbconvert_exporter": "python",
   "pygments_lexer": "ipython3",
   "version": "3.11.1"
  }
 },
 "nbformat": 4,
 "nbformat_minor": 1
}
