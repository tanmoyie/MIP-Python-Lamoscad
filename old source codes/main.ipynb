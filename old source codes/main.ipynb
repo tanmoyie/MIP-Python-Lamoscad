{
 "cells": [
  {
   "cell_type": "markdown",
   "metadata": {},
   "source": [
    "\"\"\"\n",
    "File name: main.ipynb\n",
    "Purpose: Collect data and run the optimization model\n",
    "\n",
    "Outline:\n",
    "1. Data collection\n",
    "2. Estimating input parameters of the model\n",
    "3. Call the optimization model\n",
    "4. Sensitivity analysis\n",
    "\n",
    "Date: Jan 26, 2023\n",
    "\"\"\""
   ]
  },
  {
   "cell_type": "markdown",
   "metadata": {},
   "source": [
    "# Input Data"
   ]
  },
  {
   "cell_type": "code",
   "execution_count": 7,
   "metadata": {},
   "outputs": [],
   "source": [
    "# import libraries\n",
    "import pandas as pd\n",
    "import model\n",
    "# import input_data"
   ]
  },
  {
   "cell_type": "code",
   "execution_count": null,
   "metadata": {},
   "outputs": [],
   "source": [
    "# import data\n",
    "spill_data = pd.read_excel('Inputs/data_PAMIP_2023.xlsx', sheet_name='spills', header=0).copy()\n",
    "station_data = pd.read_excel('Inputs/data_PAMIP_2023.xlsx', sheet_name='stations', header=0).copy()\n",
    "station_data = station_data.sample(n=3).copy()\n",
    "spill_data = spill_data.sample(n=20).copy()"
   ]
  },
  {
   "cell_type": "code",
   "execution_count": 5,
   "metadata": {},
   "outputs": [],
   "source": [
    "# Input parameters\n",
    "Stations, OilSpills, ResourcesD, Demand, Eff = input_data.generate_input_data()"
   ]
  },
  {
   "cell_type": "code",
   "execution_count": 6,
   "metadata": {},
   "outputs": [],
   "source": [
    "# Single digit inputs\n",
    "NumberStMax = 3\n",
    "TimeRMax = 24 * 10 * 60"
   ]
  },
  {
   "cell_type": "markdown",
   "metadata": {},
   "source": [
    "# Optimization Model"
   ]
  },
  {
   "cell_type": "code",
   "execution_count": 7,
   "metadata": {},
   "outputs": [
    {
     "name": "stdout",
     "output_type": "stream",
     "text": [
      "Set parameter Username\n",
      "Academic license - for non-commercial use only - expires 2023-12-04\n",
      "----------------------\n"
     ]
    },
    {
     "ename": "GurobiError",
     "evalue": "Unable to retrieve attribute 'X'",
     "output_type": "error",
     "traceback": [
      "\u001B[1;31m---------------------------------------------------------------------------\u001B[0m",
      "\u001B[1;31mGurobiError\u001B[0m                               Traceback (most recent call last)",
      "Cell \u001B[1;32mIn[7], line 1\u001B[0m\n\u001B[1;32m----> 1\u001B[0m deploy_1s \u001B[38;5;241m=\u001B[39m \u001B[43mmodel2\u001B[49m\u001B[38;5;241;43m.\u001B[39;49m\u001B[43msolve\u001B[49m\u001B[43m(\u001B[49m\u001B[43mStations\u001B[49m\u001B[43m,\u001B[49m\u001B[43m \u001B[49m\u001B[43mOilSpills\u001B[49m\u001B[43m,\u001B[49m\u001B[43m \u001B[49m\u001B[43mResourcesD\u001B[49m\u001B[43m,\u001B[49m\u001B[43m \u001B[49m\u001B[43mDemand\u001B[49m\u001B[43m,\u001B[49m\u001B[43m \u001B[49m\u001B[43mEff\u001B[49m\u001B[43m)\u001B[49m\n",
      "File \u001B[1;32m~\\OneDrive - Dalhousie University\\PhD Tanmoy Das\\Implementation of Deterministic Resource Optimization TD 01.2023\\model2.py:66\u001B[0m, in \u001B[0;36msolve\u001B[1;34m(Stations, OilSpills, ResourcesD, Demand, Eff)\u001B[0m\n\u001B[0;32m     64\u001B[0m filename \u001B[38;5;241m=\u001B[39m \u001B[38;5;124m'\u001B[39m\u001B[38;5;124mmodel2 (\u001B[39m\u001B[38;5;124m'\u001B[39m \u001B[38;5;241m+\u001B[39m date_time \u001B[38;5;241m+\u001B[39m \u001B[38;5;124m'\u001B[39m\u001B[38;5;124m)\u001B[39m\u001B[38;5;124m'\u001B[39m\n\u001B[0;32m     65\u001B[0m model2\u001B[38;5;241m.\u001B[39mwrite(\u001B[38;5;124m'\u001B[39m\u001B[38;5;124mOutputs/model2.lp\u001B[39m\u001B[38;5;124m'\u001B[39m);\n\u001B[1;32m---> 66\u001B[0m \u001B[43mmodel2\u001B[49m\u001B[38;5;241;43m.\u001B[39;49m\u001B[43mwrite\u001B[49m\u001B[43m(\u001B[49m\u001B[38;5;124;43m'\u001B[39;49m\u001B[38;5;124;43mOutputs/model2.sol\u001B[39;49m\u001B[38;5;124;43m'\u001B[39;49m\u001B[43m)\u001B[49m\n\u001B[0;32m     67\u001B[0m \u001B[38;5;66;03m# Solve the model\u001B[39;00m\n\u001B[0;32m     68\u001B[0m model2\u001B[38;5;241m.\u001B[39moptimize()\n",
      "File \u001B[1;32msrc\\gurobipy\\model.pxi:1352\u001B[0m, in \u001B[0;36mgurobipy.Model.write\u001B[1;34m()\u001B[0m\n",
      "\u001B[1;31mGurobiError\u001B[0m: Unable to retrieve attribute 'X'"
     ]
    }
   ],
   "source": [
    "deploy_1s = model.solve(Stations, OilSpills, ResourcesD, Demand, Eff)"
   ]
  },
  {
   "cell_type": "markdown",
   "metadata": {},
   "source": [
    "# Analyzing results"
   ]
  },
  {
   "cell_type": "code",
   "execution_count": null,
   "metadata": {
    "pycharm": {
     "is_executing": true
    }
   },
   "outputs": [],
   "source": []
  },
  {
   "cell_type": "code",
   "execution_count": 1,
   "metadata": {},
   "outputs": [],
   "source": []
  }
 ],
 "metadata": {
  "kernelspec": {
   "display_name": "Python 3 (ipykernel)",
   "language": "python",
   "name": "python3"
  },
  "language_info": {
   "codemirror_mode": {
    "name": "ipython",
    "version": 3
   },
   "file_extension": ".py",
   "mimetype": "text/x-python",
   "name": "python",
   "nbconvert_exporter": "python",
   "pygments_lexer": "ipython3",
   "version": "3.11.1"
  }
 },
 "nbformat": 4,
 "nbformat_minor": 1
}
