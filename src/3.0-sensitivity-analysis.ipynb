{
 "cells": [
  {
   "cell_type": "markdown",
   "source": [
    "# Implementation of Section 4.3\n",
    "Sensitivity analysis"
   ],
   "metadata": {
    "collapsed": false
   }
  },
  {
   "cell_type": "code",
   "execution_count": 4,
   "outputs": [],
   "source": [
    "import data_preparation\n",
    "import custom_func\n",
    "from model import Model\n",
    "from model_w import ModelW\n",
    "from draw_network import DrawNetworkDiagram\n",
    "\n",
    "import pandas as pd\n",
    "import geopandas as gpd\n",
    "import matplotlib.pyplot as plt\n",
    "import seaborn as sns\n",
    "%matplotlib inline\n",
    "import warnings\n",
    "warnings.filterwarnings('ignore')"
   ],
   "metadata": {
    "collapsed": false,
    "ExecuteTime": {
     "end_time": "2024-05-04T01:16:50.173879Z",
     "start_time": "2024-05-04T01:16:49.957730Z"
    }
   }
  },
  {
   "cell_type": "code",
   "execution_count": 5,
   "outputs": [],
   "source": [
    "spill_data = pd.read_excel('../data/processed/data_100_oil_spills.xlsx', sheet_name='spills', header=0).copy()\n",
    "potential_station_data = pd.read_excel('../data/raw/data_oil_spill_resource_allocation_Arctic_2023.xlsx', sheet_name='stations', header=0).copy()\n",
    "potential_station_data = potential_station_data.iloc[[0, 4,7, 10, 11, 18]] # if we want to keep current facility setup in the set\n",
    "station_data = pd.read_excel('../data/raw/data_oil_spill_resource_allocation_Arctic_2023.xlsx', sheet_name='stations', header=0).copy()\n",
    "current_station_data = pd.read_excel('../data/raw/data_oil_spill_resource_allocation_Arctic_2023.xlsx', sheet_name='current', header=0).copy()\n",
    "\n",
    "current_input_param = pd.read_excel('../data/raw/data_oil_spill_resource_allocation_Arctic_2023.xlsx', sheet_name='current input param', header=0).copy()\n",
    "input_parameters = pd.read_excel('../data/raw/data_oil_spill_resource_allocation_Arctic_2023.xlsx', sheet_name='Estimated parameters', header=0).copy()\n",
    "sensitivity_dataR = gpd.read_file('../data/gis map/ArcGIS_data/Sensitivity_data/Sensitivity_data5.shp').copy()"
   ],
   "metadata": {
    "collapsed": false,
    "ExecuteTime": {
     "end_time": "2024-05-04T01:16:50.916203Z",
     "start_time": "2024-05-04T01:16:50.169645Z"
    }
   }
  },
  {
   "cell_type": "markdown",
   "source": [],
   "metadata": {
    "collapsed": false
   }
  },
  {
   "cell_type": "code",
   "execution_count": 6,
   "outputs": [],
   "source": [
    "coordinates_potential_st = custom_func.extract_station_coordinate(potential_station_data)\n",
    "potential_st_coord = pd.DataFrame(coordinates_potential_st[1]).T.reset_index().set_index('index')\n",
    "potential_st_coord.columns = ['St_Latitude', 'St_Longitude']\n",
    "coordinates_spill = custom_func.extract_spill_coordinate(spill_data)\n",
    "spill_coord = pd.DataFrame(coordinates_spill[1]).T.reset_index().set_index('index')\n",
    "spill_coord.columns = ['St_Latitude', 'St_Longitude']"
   ],
   "metadata": {
    "collapsed": false,
    "ExecuteTime": {
     "end_time": "2024-05-04T01:16:50.933764Z",
     "start_time": "2024-05-04T01:16:50.918895Z"
    }
   }
  },
  {
   "cell_type": "code",
   "execution_count": 7,
   "outputs": [
    {
     "name": "stdout",
     "output_type": "stream",
     "text": [
      "['s1', 's5', 's8', 's11', 's12', 's19']\n"
     ]
    }
   ],
   "source": [
    "# Input param\n",
    "Stations, OilSpills, ResourcesD, Demand, Availability, Eff, Distance, TimeR, Cf_s, CostU \\\n",
    "= data_preparation.generate_input_data(potential_station_data, spill_data, input_parameters)\n",
    "Distance_n = dict(zip(Distance.keys(), custom_func.normalize(Distance.values(), min(Distance.values()), max(Distance.values()))))\n",
    "Effectiveness_n = dict(zip(Eff.keys(), custom_func.normalize(Eff.values(), min(Eff.values()), max(Eff.values()))))\n",
    "SizeSpill = SizeSpill_R = list(spill_data['Spill size']).copy()\n",
    "Sensitivity_R = custom_func.calculate_sensitivity(coordinates_spill[0], sensitivity_dataR)\n",
    "SizeSpill_n = dict(zip(OilSpills, custom_func.normalize(SizeSpill_R, min(SizeSpill_R), max(SizeSpill_R))))\n",
    "Sensitivity_n = dict(zip(OilSpills, custom_func.normalize(Sensitivity_R, min(Sensitivity_R), max(Sensitivity_R))))"
   ],
   "metadata": {
    "collapsed": false,
    "ExecuteTime": {
     "end_time": "2024-05-04T01:16:58.095043Z",
     "start_time": "2024-05-04T01:16:50.934245Z"
    }
   }
  },
  {
   "cell_type": "code",
   "outputs": [
    {
     "data": {
      "text/plain": "['s1',\n 's2',\n 's3',\n 's4',\n 's5',\n 's6',\n 's7',\n 's8',\n 's9',\n 's10',\n 's11',\n 's12',\n 's13',\n 's14',\n 's15',\n 's16',\n 's17',\n 's18',\n 's19',\n 's20']"
     },
     "execution_count": 20,
     "metadata": {},
     "output_type": "execute_result"
    }
   ],
   "source": [
    "Stations"
   ],
   "metadata": {
    "collapsed": false,
    "ExecuteTime": {
     "end_time": "2024-05-04T01:20:18.698874Z",
     "start_time": "2024-05-04T01:20:18.685138Z"
    }
   },
   "execution_count": 20
  },
  {
   "cell_type": "markdown",
   "source": [
    "# Table 5 "
   ],
   "metadata": {
    "collapsed": false
   }
  },
  {
   "cell_type": "markdown",
   "source": [
    "## 200 spills"
   ],
   "metadata": {
    "collapsed": false
   }
  },
  {
   "cell_type": "code",
   "outputs": [],
   "source": [
    "spill_data200 = pd.read_csv('../data/processed/data_200_oil_spills.csv')"
   ],
   "metadata": {
    "collapsed": false,
    "ExecuteTime": {
     "end_time": "2024-05-04T01:16:58.104024Z",
     "start_time": "2024-05-04T01:16:58.096030Z"
    }
   },
   "execution_count": 8
  },
  {
   "cell_type": "code",
   "outputs": [
    {
     "name": "stdout",
     "output_type": "stream",
     "text": [
      "['s1', 's2', 's3', 's4', 's5', 's6', 's7', 's8', 's9', 's10', 's11', 's12', 's13', 's14', 's15', 's16', 's17', 's18', 's19', 's20']\n"
     ]
    }
   ],
   "source": [
    "# Spill data processing\n",
    "Stations, OilSpills, ResourcesD, Demand, Availability, Eff, Distance, TimeR, Cf_s, CostU \\\n",
    "= data_preparation.generate_input_data(station_data, spill_data, input_parameters)\n",
    "coordinates_spill = custom_func.extract_spill_coordinate(spill_data)\n",
    "coordinates_st = custom_func.extract_station_coordinate(station_data)\n",
    "SizeSpill = SizeSpill_R = list(spill_data['Spill size']).copy()\n",
    "Sensitivity_R = custom_func.calculate_sensitivity(coordinates_spill[0], sensitivity_dataR)"
   ],
   "metadata": {
    "collapsed": false,
    "ExecuteTime": {
     "end_time": "2024-05-04T01:17:04.789687Z",
     "start_time": "2024-05-04T01:16:58.101066Z"
    }
   },
   "execution_count": 9
  },
  {
   "cell_type": "code",
   "outputs": [],
   "source": [
    "# normalize  # (x_0-x_min)/(x_max-x_min)\n",
    "SizeSpill_n = dict(zip(OilSpills, custom_func.normalize(SizeSpill_R, min(SizeSpill_R), max(SizeSpill_R))))\n",
    "Sensitivity_n = dict(zip(OilSpills, custom_func.normalize(Sensitivity_R, min(Sensitivity_R), max(Sensitivity_R))))\n",
    "Distance_n = dict(zip(Distance.keys(), custom_func.normalize(Distance.values(), min(Distance.values()), max(Distance.values()))))\n",
    "Effectiveness_n = dict(zip(Eff.keys(), custom_func.normalize(Eff.values(), min(Eff.values()), max(Eff.values()))))\n"
   ],
   "metadata": {
    "collapsed": false,
    "ExecuteTime": {
     "end_time": "2024-05-04T01:17:04.793628Z",
     "start_time": "2024-05-04T01:17:04.790802Z"
    }
   },
   "execution_count": 10
  },
  {
   "cell_type": "code",
   "outputs": [],
   "source": [
    "NumberStMaxL = [15, 12, 8, 5, 4, 2]\n",
    "number_of_spillsL = [200, 200, 200, 200, 200, 200]\n",
    "select_1sL =[]\n",
    "coverage_percentageL =[]\n",
    "MeanResponseTimeL =[]\n",
    "DistanceMax = 10\n",
    "\n",
    "BigM = 10**20\n",
    "current_vs_proposed = 'proposed' # current\n",
    "MaxFO = 1\n",
    "Budget = 10**12\n",
    "W = [0.25, 0.25, 0.25, 0.25, 0.25, 0.25]\n",
    "QuantityMin = 2"
   ],
   "metadata": {
    "collapsed": false,
    "ExecuteTime": {
     "end_time": "2024-05-04T01:17:04.796600Z",
     "start_time": "2024-05-04T01:17:04.793188Z"
    }
   },
   "execution_count": 11
  },
  {
   "cell_type": "code",
   "outputs": [
    {
     "name": "stdout",
     "output_type": "stream",
     "text": [
      "--------------MIP-moo--------\n",
      "Set parameter Username\n",
      "Academic license - for non-commercial use only - expires 2025-05-03\n",
      "Set parameter PoolSolutions to value 1024\n",
      "Set parameter PoolGap to value 0.8\n",
      "Set parameter LogFile to value \"../models/model_moo(May 03,2117).log\"\n",
      "Gurobi Optimizer version 11.0.1 build v11.0.1rc0 (mac64[arm] - Darwin 23.2.0 23C71)\n",
      "\n",
      "CPU model: Apple M2\n",
      "Thread count: 8 physical cores, 8 logical processors, using up to 8 threads\n",
      "\n",
      "Optimize a model with 1832 rows, 1436 columns and 4534 nonzeros\n",
      "Model fingerprint: 0x65f68427\n",
      "Variable types: 1062 continuous, 374 integer (374 binary)\n",
      "Coefficient statistics:\n",
      "  Matrix range     [1e+00, 2e+25]\n",
      "  Objective range  [1e-02, 2e+02]\n",
      "  Bounds range     [1e+00, 1e+00]\n",
      "  RHS range        [1e+00, 1e+12]\n",
      "Warning: Model contains large matrix coefficient range\n",
      "Warning: Model contains large rhs\n",
      "         Consider reformulating model or setting NumericFocus parameter\n",
      "         to avoid numerical issues.\n",
      "\n",
      "---------------------------------------------------------------------------\n",
      "Multi-objectives: starting optimization with 2 objectives ... \n",
      "---------------------------------------------------------------------------\n",
      "\n",
      "Multi-objectives: applying initial presolve ...\n",
      "---------------------------------------------------------------------------\n",
      "\n",
      "Presolve removed 1337 rows and 708 columns\n",
      "Presolve time: 0.00s\n",
      "Presolved: 495 rows, 728 columns, 1477 nonzeros\n",
      "---------------------------------------------------------------------------\n",
      "\n",
      "Multi-objectives: optimize objective 1 (objective_re_1) ...\n",
      "---------------------------------------------------------------------------\n",
      "\n",
      "Found heuristic solution: objective 0.0000000\n",
      "Presolve removed 79 rows and 373 columns\n",
      "Presolve time: 0.00s\n",
      "Presolved: 416 rows, 355 columns, 1025 nonzeros\n",
      "Variable types: 0 continuous, 355 integer (355 binary)\n",
      "Found heuristic solution: objective -1149.010771\n",
      "\n",
      "Root relaxation: objective -1.149476e+03, 24 iterations, 0.00 seconds (0.00 work units)\n",
      "\n",
      "    Nodes    |    Current Node    |     Objective Bounds      |     Work\n",
      " Expl Unexpl |  Obj  Depth IntInf | Incumbent    BestBd   Gap | It/Node Time\n",
      "\n",
      "*    0     0               0    -1149.476272 -1149.4763  0.00%     -    0s\n",
      "\n",
      "Explored 1 nodes (24 simplex iterations) in 0.01 seconds (0.01 work units)\n",
      "Thread count was 8 (of 8 available processors)\n",
      "\n",
      "Solution count 2: -1149.48 -1149.01 \n",
      "No other solutions better than -1149.48\n",
      "\n",
      "Optimal solution found (tolerance 1.00e-04)\n",
      "Best objective -1.149476272201e+03, best bound -1.149476272201e+03, gap 0.0000%\n",
      "---------------------------------------------------------------------------\n",
      "\n",
      "Multi-objectives: optimize objective 2 (objective_cost_2) ...\n",
      "---------------------------------------------------------------------------\n",
      "\n",
      "\n",
      "Loaded user MIP start with objective 2425\n",
      "\n",
      "Presolve removed 140 rows and 422 columns\n",
      "Presolve time: 0.00s\n",
      "Presolved: 356 rows, 306 columns, 1171 nonzeros\n",
      "Found heuristic solution: objective -8818.076028\n",
      "Variable types: 0 continuous, 306 integer (306 binary)\n",
      "\n",
      "Root relaxation: objective -1.062197e+04, 243 iterations, 0.00 seconds (0.00 work units)\n",
      "\n",
      "    Nodes    |    Current Node    |     Objective Bounds      |     Work\n",
      " Expl Unexpl |  Obj  Depth IntInf | Incumbent    BestBd   Gap | It/Node Time\n",
      "\n",
      "     0     0 -10621.971    0   26 -8818.0760 -10621.971  20.5%     -    0s\n",
      "H    0     0                    -9929.690556 -10621.971  6.97%     -    0s\n",
      "H    0     0                    -10254.34211 -10621.971  3.59%     -    0s\n",
      "     0     0 -10620.429    0   30 -10254.342 -10620.429  3.57%     -    0s\n",
      "H    0     0                    -10611.18428 -10620.429  0.09%     -    0s\n",
      "\n",
      "Cutting planes:\n",
      "  Gomory: 1\n",
      "  GUB cover: 1\n",
      "  Inf proof: 1\n",
      "\n",
      "Explored 1 nodes (248 simplex iterations) in 0.03 seconds (0.02 work units)\n",
      "Thread count was 8 (of 8 available processors)\n",
      "\n",
      "Solution count 4: -10611.2 -10254.3 -9929.69 -8818.08 \n",
      "No other solutions better than -10611.2\n",
      "\n",
      "Optimal solution found (tolerance 1.00e-04)\n",
      "Best objective -1.061118427778e+04, best bound -1.061118427778e+04, gap 0.0000%\n",
      "\n",
      "---------------------------------------------------------------------------\n",
      "Multi-objectives: solved in 0.03 seconds (0.02 work units), solution count 6\n",
      "\n",
      "Problem has 2 objectives\n",
      "Gurobi found 6 solutions\n",
      "Solution 0 :  1149.38   -10611.18 Solution 1 :  1149.38   -10254.34 Solution 2 :  1149.42   -9929.69 Solution 3 :  1149.48   -8818.08 Solution 4 :  1149.48   2425.0 Solution 5 :  1149.01   2375.0 Solution 0 :Solution 1 :Solution 2 :Solution 3 :Solution 4 :Solution 5 :Coverage Percentage: 99%\n",
      "Mean Response Time: 7.95\n",
      "--------------MIP-moo--------\n",
      "Set parameter PoolSolutions to value 1024\n",
      "Set parameter PoolGap to value 0.8\n",
      "Set parameter LogFile to value \"../models/model_moo(May 03,2117).log\"\n",
      "Gurobi Optimizer version 11.0.1 build v11.0.1rc0 (mac64[arm] - Darwin 23.2.0 23C71)\n",
      "\n",
      "CPU model: Apple M2\n",
      "Thread count: 8 physical cores, 8 logical processors, using up to 8 threads\n",
      "\n",
      "Optimize a model with 1832 rows, 1436 columns and 4534 nonzeros\n",
      "Model fingerprint: 0xd77f41da\n",
      "Variable types: 1062 continuous, 374 integer (374 binary)\n",
      "Coefficient statistics:\n",
      "  Matrix range     [1e+00, 2e+25]\n",
      "  Objective range  [1e-02, 2e+02]\n",
      "  Bounds range     [1e+00, 1e+00]\n",
      "  RHS range        [1e+00, 1e+12]\n",
      "Warning: Model contains large matrix coefficient range\n",
      "Warning: Model contains large rhs\n",
      "         Consider reformulating model or setting NumericFocus parameter\n",
      "         to avoid numerical issues.\n",
      "\n",
      "---------------------------------------------------------------------------\n",
      "Multi-objectives: starting optimization with 2 objectives ... \n",
      "---------------------------------------------------------------------------\n",
      "\n",
      "Multi-objectives: applying initial presolve ...\n",
      "---------------------------------------------------------------------------\n",
      "\n",
      "Presolve removed 1337 rows and 708 columns\n",
      "Presolve time: 0.00s\n",
      "Presolved: 495 rows, 728 columns, 1477 nonzeros\n",
      "---------------------------------------------------------------------------\n",
      "\n",
      "Multi-objectives: optimize objective 1 (objective_re_1) ...\n",
      "---------------------------------------------------------------------------\n",
      "\n",
      "Found heuristic solution: objective 0.0000000\n",
      "Presolve removed 79 rows and 373 columns\n",
      "Presolve time: 0.00s\n",
      "Presolved: 416 rows, 355 columns, 1025 nonzeros\n",
      "Variable types: 0 continuous, 355 integer (355 binary)\n",
      "Found heuristic solution: objective -1148.839482\n",
      "\n",
      "Root relaxation: objective -1.149446e+03, 72 iterations, 0.00 seconds (0.00 work units)\n",
      "\n",
      "    Nodes    |    Current Node    |     Objective Bounds      |     Work\n",
      " Expl Unexpl |  Obj  Depth IntInf | Incumbent    BestBd   Gap | It/Node Time\n",
      "\n",
      "*    0     0               0    -1149.446228 -1149.4462  0.00%     -    0s\n",
      "\n",
      "Explored 1 nodes (72 simplex iterations) in 0.01 seconds (0.01 work units)\n",
      "Thread count was 8 (of 8 available processors)\n",
      "\n",
      "Solution count 2: -1149.45 -1148.84 \n",
      "No other solutions better than -1149.45\n",
      "\n",
      "Optimal solution found (tolerance 1.00e-04)\n",
      "Best objective -1.149446227852e+03, best bound -1.149446227852e+03, gap 0.0000%\n",
      "---------------------------------------------------------------------------\n",
      "\n",
      "Multi-objectives: optimize objective 2 (objective_cost_2) ...\n",
      "---------------------------------------------------------------------------\n",
      "\n",
      "\n",
      "Loaded user MIP start with objective 1950\n",
      "\n",
      "Presolve removed 140 rows and 422 columns\n",
      "Presolve time: 0.00s\n",
      "Presolved: 356 rows, 306 columns, 1171 nonzeros\n",
      "Found heuristic solution: objective -7391.099028\n",
      "Variable types: 0 continuous, 306 integer (306 binary)\n",
      "\n",
      "Root relaxation: objective -9.286616e+03, 252 iterations, 0.00 seconds (0.00 work units)\n",
      "\n",
      "    Nodes    |    Current Node    |     Objective Bounds      |     Work\n",
      " Expl Unexpl |  Obj  Depth IntInf | Incumbent    BestBd   Gap | It/Node Time\n",
      "\n",
      "     0     0 -9286.6156    0   18 -7391.0990 -9286.6156  25.6%     -    0s\n",
      "H    0     0                    -8502.713556 -9286.6156  9.22%     -    0s\n",
      "H    0     0                    -8991.741361 -9286.6156  3.28%     -    0s\n",
      "H    0     0                    -9197.352806 -9286.6156  0.97%     -    0s\n",
      "     0     0 -9239.9667    0   18 -9197.3528 -9239.9667  0.46%     -    0s\n",
      "     0     0 -9239.9667    0   12 -9197.3528 -9239.9667  0.46%     -    0s\n",
      "     0     0 -9239.9667    0   20 -9197.3528 -9239.9667  0.46%     -    0s\n",
      "H    0     0                    -9204.389389 -9239.9667  0.39%     -    0s\n",
      "\n",
      "Cutting planes:\n",
      "  Gomory: 1\n",
      "  RLT: 1\n",
      "\n",
      "Explored 1 nodes (291 simplex iterations) in 0.04 seconds (0.02 work units)\n",
      "Thread count was 8 (of 8 available processors)\n",
      "\n",
      "Solution count 7: -9204.39 -9197.35 -9095.18 ... -7391.1\n",
      "No other solutions better than -9204.39\n",
      "\n",
      "Optimal solution found (tolerance 1.00e-04)\n",
      "Best objective -9.204389388889e+03, best bound -9.204389388889e+03, gap 0.0000%\n",
      "\n",
      "---------------------------------------------------------------------------\n",
      "Multi-objectives: solved in 0.04 seconds (0.02 work units), solution count 9\n",
      "\n",
      "Problem has 2 objectives\n",
      "Gurobi found 9 solutions\n",
      "Solution 0 :  1149.34   -9204.39 Solution 1 :  1149.34   -9197.35 Solution 2 :  1149.35   -9095.18 Solution 3 :  1149.34   -8991.74 Solution 4 :  1149.4   -8891.99 Solution 5 :  1149.38   -8502.71 Solution 6 :  1149.45   -7391.1 Solution 7 :  1149.45   1950.0 Solution 8 :  1148.84   1900.0 Solution 0 :Solution 1 :Solution 2 :Solution 3 :Solution 4 :Solution 5 :Solution 6 :Solution 7 :Solution 8 :Coverage Percentage: 99%\n",
      "Mean Response Time: 7.83\n",
      "--------------MIP-moo--------\n",
      "Set parameter PoolSolutions to value 1024\n",
      "Set parameter PoolGap to value 0.8\n",
      "Set parameter LogFile to value \"../models/model_moo(May 03,2117).log\"\n",
      "Gurobi Optimizer version 11.0.1 build v11.0.1rc0 (mac64[arm] - Darwin 23.2.0 23C71)\n",
      "\n",
      "CPU model: Apple M2\n",
      "Thread count: 8 physical cores, 8 logical processors, using up to 8 threads\n",
      "\n",
      "Optimize a model with 1832 rows, 1436 columns and 4534 nonzeros\n",
      "Model fingerprint: 0x980723ea\n",
      "Variable types: 1062 continuous, 374 integer (374 binary)\n",
      "Coefficient statistics:\n",
      "  Matrix range     [1e+00, 2e+25]\n",
      "  Objective range  [1e-02, 2e+02]\n",
      "  Bounds range     [1e+00, 1e+00]\n",
      "  RHS range        [1e+00, 1e+12]\n",
      "Warning: Model contains large matrix coefficient range\n",
      "Warning: Model contains large rhs\n",
      "         Consider reformulating model or setting NumericFocus parameter\n",
      "         to avoid numerical issues.\n",
      "\n",
      "---------------------------------------------------------------------------\n",
      "Multi-objectives: starting optimization with 2 objectives ... \n",
      "---------------------------------------------------------------------------\n",
      "\n",
      "Multi-objectives: applying initial presolve ...\n",
      "---------------------------------------------------------------------------\n",
      "\n",
      "Presolve removed 1337 rows and 708 columns\n",
      "Presolve time: 0.00s\n",
      "Presolved: 495 rows, 728 columns, 1477 nonzeros\n",
      "---------------------------------------------------------------------------\n",
      "\n",
      "Multi-objectives: optimize objective 1 (objective_re_1) ...\n",
      "---------------------------------------------------------------------------\n",
      "\n",
      "Found heuristic solution: objective 0.0000000\n",
      "Presolve removed 79 rows and 373 columns\n",
      "Presolve time: 0.00s\n",
      "Presolved: 416 rows, 355 columns, 1025 nonzeros\n",
      "Variable types: 0 continuous, 355 integer (355 binary)\n",
      "Found heuristic solution: objective -1110.231430\n",
      "\n",
      "Root relaxation: objective -1.149278e+03, 158 iterations, 0.00 seconds (0.00 work units)\n",
      "\n",
      "    Nodes    |    Current Node    |     Objective Bounds      |     Work\n",
      " Expl Unexpl |  Obj  Depth IntInf | Incumbent    BestBd   Gap | It/Node Time\n",
      "\n",
      "*    0     0               0    -1149.278387 -1149.2784  0.00%     -    0s\n",
      "\n",
      "Explored 1 nodes (158 simplex iterations) in 0.01 seconds (0.01 work units)\n",
      "Thread count was 8 (of 8 available processors)\n",
      "\n",
      "Solution count 2: -1149.28 -1110.23 \n",
      "No other solutions better than -1149.28\n",
      "\n",
      "Optimal solution found (tolerance 1.00e-04)\n",
      "Best objective -1.149278387075e+03, best bound -1.149278387075e+03, gap 0.0000%\n",
      "---------------------------------------------------------------------------\n",
      "\n",
      "Multi-objectives: optimize objective 2 (objective_cost_2) ...\n",
      "---------------------------------------------------------------------------\n",
      "\n",
      "\n",
      "Loaded user MIP start with objective 1400\n",
      "\n",
      "Presolve removed 140 rows and 422 columns\n",
      "Presolve time: 0.00s\n",
      "Presolved: 356 rows, 306 columns, 1171 nonzeros\n",
      "Found heuristic solution: objective -5592.989139\n",
      "Variable types: 0 continuous, 306 integer (306 binary)\n",
      "\n",
      "Root relaxation: objective -6.811992e+03, 376 iterations, 0.00 seconds (0.00 work units)\n",
      "\n",
      "    Nodes    |    Current Node    |     Objective Bounds      |     Work\n",
      " Expl Unexpl |  Obj  Depth IntInf | Incumbent    BestBd   Gap | It/Node Time\n",
      "\n",
      "     0     0 -6811.9919    0   30 -5592.9891 -6811.9919  21.8%     -    0s\n",
      "H    0     0                    -6810.967528 -6811.9919  0.02%     -    0s\n",
      "\n",
      "Explored 1 nodes (376 simplex iterations) in 0.03 seconds (0.02 work units)\n",
      "Thread count was 8 (of 8 available processors)\n",
      "\n",
      "Solution count 2: -6810.97 -5592.99 \n",
      "No other solutions better than -6810.97\n",
      "\n",
      "Optimal solution found (tolerance 1.00e-04)\n",
      "Best objective -6.810967527778e+03, best bound -6.810967527778e+03, gap 0.0000%\n",
      "\n",
      "---------------------------------------------------------------------------\n",
      "Multi-objectives: solved in 0.03 seconds (0.02 work units), solution count 4\n",
      "\n",
      "Problem has 2 objectives\n",
      "Gurobi found 4 solutions\n",
      "Solution 0 :  1149.17   -6810.97 Solution 1 :  1149.28   -5592.99 Solution 2 :  1149.28   1400.0 Solution 3 :  1110.23   1175.0 Solution 0 :Solution 1 :Solution 2 :Solution 3 :Coverage Percentage: 99%\n",
      "Mean Response Time: 7.39\n",
      "--------------MIP-moo--------\n",
      "Set parameter PoolSolutions to value 1024\n",
      "Set parameter PoolGap to value 0.8\n",
      "Set parameter LogFile to value \"../models/model_moo(May 03,2117).log\"\n",
      "Gurobi Optimizer version 11.0.1 build v11.0.1rc0 (mac64[arm] - Darwin 23.2.0 23C71)\n",
      "\n",
      "CPU model: Apple M2\n",
      "Thread count: 8 physical cores, 8 logical processors, using up to 8 threads\n",
      "\n",
      "Optimize a model with 1832 rows, 1436 columns and 4534 nonzeros\n",
      "Model fingerprint: 0x3f5cf8a8\n",
      "Variable types: 1062 continuous, 374 integer (374 binary)\n",
      "Coefficient statistics:\n",
      "  Matrix range     [1e+00, 2e+25]\n",
      "  Objective range  [1e-02, 2e+02]\n",
      "  Bounds range     [1e+00, 1e+00]\n",
      "  RHS range        [1e+00, 1e+12]\n",
      "Warning: Model contains large matrix coefficient range\n",
      "Warning: Model contains large rhs\n",
      "         Consider reformulating model or setting NumericFocus parameter\n",
      "         to avoid numerical issues.\n",
      "\n",
      "---------------------------------------------------------------------------\n",
      "Multi-objectives: starting optimization with 2 objectives ... \n",
      "---------------------------------------------------------------------------\n",
      "\n",
      "Multi-objectives: applying initial presolve ...\n",
      "---------------------------------------------------------------------------\n",
      "\n",
      "Presolve removed 1337 rows and 708 columns\n",
      "Presolve time: 0.00s\n",
      "Presolved: 495 rows, 728 columns, 1477 nonzeros\n",
      "---------------------------------------------------------------------------\n",
      "\n",
      "Multi-objectives: optimize objective 1 (objective_re_1) ...\n",
      "---------------------------------------------------------------------------\n",
      "\n",
      "Found heuristic solution: objective 0.0000000\n",
      "Presolve removed 79 rows and 373 columns\n",
      "Presolve time: 0.00s\n",
      "Presolved: 416 rows, 355 columns, 1025 nonzeros\n",
      "Variable types: 0 continuous, 355 integer (355 binary)\n",
      "Found heuristic solution: objective -898.2544191\n",
      "\n",
      "Root relaxation: objective -1.127227e+03, 263 iterations, 0.00 seconds (0.00 work units)\n",
      "\n",
      "    Nodes    |    Current Node    |     Objective Bounds      |     Work\n",
      " Expl Unexpl |  Obj  Depth IntInf | Incumbent    BestBd   Gap | It/Node Time\n",
      "\n",
      "*    0     0               0    -1127.227354 -1127.2274  0.00%     -    0s\n",
      "\n",
      "Explored 1 nodes (263 simplex iterations) in 0.01 seconds (0.01 work units)\n",
      "Thread count was 8 (of 8 available processors)\n",
      "\n",
      "Solution count 2: -1127.23 -898.254 \n",
      "No other solutions better than -1127.23\n",
      "\n",
      "Optimal solution found (tolerance 1.00e-04)\n",
      "Best objective -1.127227353674e+03, best bound -1.127227353674e+03, gap 0.0000%\n",
      "---------------------------------------------------------------------------\n",
      "\n",
      "Multi-objectives: optimize objective 2 (objective_cost_2) ...\n",
      "---------------------------------------------------------------------------\n",
      "\n",
      "\n",
      "Loaded user MIP start with objective 625\n",
      "\n",
      "Presolve removed 140 rows and 422 columns\n",
      "Presolve time: 0.00s\n",
      "Presolved: 356 rows, 306 columns, 1171 nonzeros\n",
      "Found heuristic solution: objective -2595.947000\n",
      "Variable types: 0 continuous, 306 integer (306 binary)\n",
      "\n",
      "Root relaxation: objective -2.600185e+03, 432 iterations, 0.00 seconds (0.00 work units)\n",
      "\n",
      "    Nodes    |    Current Node    |     Objective Bounds      |     Work\n",
      " Expl Unexpl |  Obj  Depth IntInf | Incumbent    BestBd   Gap | It/Node Time\n",
      "\n",
      "     0     0 infeasible    0      -2595.9470 -2595.9470  0.00%     -    0s\n",
      "\n",
      "Explored 1 nodes (432 simplex iterations) in 0.03 seconds (0.02 work units)\n",
      "Thread count was 8 (of 8 available processors)\n",
      "\n",
      "Solution count 1: -2595.95 \n",
      "No other solutions better than -2595.95\n",
      "\n",
      "Optimal solution found (tolerance 1.00e-04)\n",
      "Best objective -2.595947000000e+03, best bound -2.595947000000e+03, gap 0.0000%\n",
      "\n",
      "---------------------------------------------------------------------------\n",
      "Multi-objectives: solved in 0.03 seconds (0.02 work units), solution count 3\n",
      "Problem has 2 objectives\n",
      "Gurobi found 3 solutions\n",
      "Solution 0 :  1127.23   -2595.95 Solution 1 :  1127.23   625.0 Solution 2 :  898.25   800.0 Solution 0 :Solution 1 :Solution 2 :Coverage Percentage: 96%\n",
      "Mean Response Time: 7.63\n",
      "--------------MIP-moo--------\n",
      "Set parameter PoolSolutions to value 1024\n",
      "Set parameter PoolGap to value 0.8\n",
      "Set parameter LogFile to value \"../models/model_moo(May 03,2117).log\"\n",
      "Gurobi Optimizer version 11.0.1 build v11.0.1rc0 (mac64[arm] - Darwin 23.2.0 23C71)\n",
      "\n",
      "CPU model: Apple M2\n",
      "Thread count: 8 physical cores, 8 logical processors, using up to 8 threads\n",
      "\n",
      "Optimize a model with 1832 rows, 1436 columns and 4534 nonzeros\n",
      "Model fingerprint: 0x574aabb9\n",
      "Variable types: 1062 continuous, 374 integer (374 binary)\n",
      "Coefficient statistics:\n",
      "  Matrix range     [1e+00, 2e+25]\n",
      "  Objective range  [1e-02, 2e+02]\n",
      "  Bounds range     [1e+00, 1e+00]\n",
      "  RHS range        [1e+00, 1e+12]\n",
      "Warning: Model contains large matrix coefficient range\n",
      "Warning: Model contains large rhs\n",
      "         Consider reformulating model or setting NumericFocus parameter\n",
      "         to avoid numerical issues.\n",
      "\n",
      "---------------------------------------------------------------------------\n",
      "Multi-objectives: starting optimization with 2 objectives ... \n",
      "---------------------------------------------------------------------------\n",
      "\n",
      "Multi-objectives: applying initial presolve ...\n",
      "---------------------------------------------------------------------------\n",
      "\n",
      "Presolve removed 1337 rows and 708 columns\n",
      "Presolve time: 0.00s\n",
      "Presolved: 495 rows, 728 columns, 1477 nonzeros\n",
      "---------------------------------------------------------------------------\n",
      "\n",
      "Multi-objectives: optimize objective 1 (objective_re_1) ...\n",
      "---------------------------------------------------------------------------\n",
      "\n",
      "Found heuristic solution: objective 0.0000000\n",
      "Presolve removed 79 rows and 373 columns\n",
      "Presolve time: 0.00s\n",
      "Presolved: 416 rows, 355 columns, 1025 nonzeros\n",
      "Variable types: 0 continuous, 355 integer (355 binary)\n",
      "Found heuristic solution: objective -836.5199555\n",
      "\n",
      "Root relaxation: objective -1.006003e+03, 368 iterations, 0.00 seconds (0.00 work units)\n",
      "\n",
      "    Nodes    |    Current Node    |     Objective Bounds      |     Work\n",
      " Expl Unexpl |  Obj  Depth IntInf | Incumbent    BestBd   Gap | It/Node Time\n",
      "\n",
      "*    0     0               0    -1006.003020 -1006.0030  0.00%     -    0s\n",
      "\n",
      "Explored 1 nodes (368 simplex iterations) in 0.02 seconds (0.01 work units)\n",
      "Thread count was 8 (of 8 available processors)\n",
      "\n",
      "Solution count 2: -1006 -836.52 \n",
      "No other solutions better than -1006\n",
      "\n",
      "Optimal solution found (tolerance 1.00e-04)\n",
      "Best objective -1.006003020433e+03, best bound -1.006003020433e+03, gap 0.0000%\n",
      "---------------------------------------------------------------------------\n",
      "\n",
      "Multi-objectives: optimize objective 2 (objective_cost_2) ...\n",
      "---------------------------------------------------------------------------\n",
      "\n",
      "\n",
      "Loaded user MIP start with objective 525\n",
      "\n",
      "Presolve removed 88 rows and 380 columns\n",
      "Presolve time: 0.00s\n",
      "Presolved: 408 rows, 348 columns, 1336 nonzeros\n",
      "Found heuristic solution: objective -1228.640889\n",
      "Variable types: 0 continuous, 348 integer (348 binary)\n",
      "\n",
      "Root relaxation: objective -1.236024e+03, 542 iterations, 0.00 seconds (0.01 work units)\n",
      "\n",
      "    Nodes    |    Current Node    |     Objective Bounds      |     Work\n",
      " Expl Unexpl |  Obj  Depth IntInf | Incumbent    BestBd   Gap | It/Node Time\n",
      "\n",
      "     0     0 infeasible    0      -1228.6409 -1228.6409  0.00%     -    0s\n",
      "\n",
      "Explored 1 nodes (542 simplex iterations) in 0.04 seconds (0.02 work units)\n",
      "Thread count was 8 (of 8 available processors)\n",
      "\n",
      "Solution count 1: -1228.64 \n",
      "No other solutions better than -1228.64\n",
      "\n",
      "Optimal solution found (tolerance 1.00e-04)\n",
      "Best objective -1.228640888889e+03, best bound -1.228640888889e+03, gap 0.0000%\n",
      "\n",
      "---------------------------------------------------------------------------\n",
      "Multi-objectives: solved in 0.05 seconds (0.02 work units), solution count 3\n",
      "\n",
      "Problem has 2 objectives\n",
      "Gurobi found 3 solutions\n",
      "Solution 0 :  1006.0   -1228.64 Solution 1 :  1006.0   525.0 Solution 2 :  836.52   550.0 Solution 0 :Solution 1 :Solution 2 :Coverage Percentage: 78%\n",
      "Mean Response Time: 7.94\n",
      "--------------MIP-moo--------\n",
      "Set parameter PoolSolutions to value 1024\n",
      "Set parameter PoolGap to value 0.8\n",
      "Set parameter LogFile to value \"../models/model_moo(May 03,2117).log\"\n",
      "Gurobi Optimizer version 11.0.1 build v11.0.1rc0 (mac64[arm] - Darwin 23.2.0 23C71)\n",
      "\n",
      "CPU model: Apple M2\n",
      "Thread count: 8 physical cores, 8 logical processors, using up to 8 threads\n",
      "\n",
      "Optimize a model with 1832 rows, 1436 columns and 4534 nonzeros\n",
      "Model fingerprint: 0x1befdde2\n",
      "Variable types: 1062 continuous, 374 integer (374 binary)\n",
      "Coefficient statistics:\n",
      "  Matrix range     [1e+00, 2e+25]\n",
      "  Objective range  [1e-02, 2e+02]\n",
      "  Bounds range     [1e+00, 1e+00]\n",
      "  RHS range        [1e+00, 1e+12]\n",
      "Warning: Model contains large matrix coefficient range\n",
      "Warning: Model contains large rhs\n",
      "         Consider reformulating model or setting NumericFocus parameter\n",
      "         to avoid numerical issues.\n",
      "\n",
      "---------------------------------------------------------------------------\n",
      "Multi-objectives: starting optimization with 2 objectives ... \n",
      "---------------------------------------------------------------------------\n",
      "\n",
      "Multi-objectives: applying initial presolve ...\n",
      "---------------------------------------------------------------------------\n",
      "\n",
      "Presolve removed 1337 rows and 708 columns\n",
      "Presolve time: 0.00s\n",
      "Presolved: 495 rows, 728 columns, 1477 nonzeros\n",
      "---------------------------------------------------------------------------\n",
      "\n",
      "Multi-objectives: optimize objective 1 (objective_re_1) ...\n",
      "---------------------------------------------------------------------------\n",
      "\n",
      "Found heuristic solution: objective 0.0000000\n",
      "Presolve removed 79 rows and 373 columns\n",
      "Presolve time: 0.00s\n",
      "Presolved: 416 rows, 355 columns, 1025 nonzeros\n",
      "Variable types: 0 continuous, 355 integer (355 binary)\n",
      "Found heuristic solution: objective -395.4653120\n",
      "\n",
      "Root relaxation: objective -6.403484e+02, 389 iterations, 0.00 seconds (0.00 work units)\n",
      "\n",
      "    Nodes    |    Current Node    |     Objective Bounds      |     Work\n",
      " Expl Unexpl |  Obj  Depth IntInf | Incumbent    BestBd   Gap | It/Node Time\n",
      "\n",
      "*    0     0               0    -640.3483754 -640.34838  0.00%     -    0s\n",
      "\n",
      "Explored 1 nodes (389 simplex iterations) in 0.01 seconds (0.01 work units)\n",
      "Thread count was 8 (of 8 available processors)\n",
      "\n",
      "Solution count 2: -640.348 -395.465 \n",
      "No other solutions better than -640.348\n",
      "\n",
      "Optimal solution found (tolerance 1.00e-04)\n",
      "Best objective -6.403483754114e+02, best bound -6.403483754114e+02, gap 0.0000%\n",
      "---------------------------------------------------------------------------\n",
      "\n",
      "Multi-objectives: optimize objective 2 (objective_cost_2) ...\n",
      "---------------------------------------------------------------------------\n",
      "\n",
      "\n",
      "Loaded user MIP start with objective 400\n",
      "\n",
      "Presolve removed 79 rows and 373 columns\n",
      "Presolve time: 0.00s\n",
      "Presolved: 417 rows, 355 columns, 1362 nonzeros\n",
      "Found heuristic solution: objective -1272.568806\n",
      "Variable types: 0 continuous, 355 integer (355 binary)\n",
      "\n",
      "Root relaxation: objective -1.273192e+03, 437 iterations, 0.00 seconds (0.00 work units)\n",
      "\n",
      "    Nodes    |    Current Node    |     Objective Bounds      |     Work\n",
      " Expl Unexpl |  Obj  Depth IntInf | Incumbent    BestBd   Gap | It/Node Time\n",
      "\n",
      "     0     0 infeasible    0      -1272.5688 -1272.5688  0.00%     -    0s\n",
      "\n",
      "Explored 1 nodes (437 simplex iterations) in 0.03 seconds (0.02 work units)\n",
      "Thread count was 8 (of 8 available processors)\n",
      "\n",
      "Solution count 1: -1272.57 \n",
      "No other solutions better than -1272.57\n",
      "\n",
      "Optimal solution found (tolerance 1.00e-04)\n",
      "Best objective -1.272568805556e+03, best bound -1.272568805556e+03, gap 0.0000%\n",
      "\n",
      "---------------------------------------------------------------------------\n",
      "Multi-objectives: solved in 0.03 seconds (0.02 work units), solution count 3\n",
      "\n",
      "Problem has 2 objectives\n",
      "Gurobi found 3 solutions\n",
      "Solution 0 :  640.35   -1272.57 Solution 1 :  640.35   400.0 Solution 2 :  395.47   325.0 Solution 0 :Solution 1 :Solution 2 :Coverage Percentage: 44%\n",
      "Mean Response Time: 7.22\n"
     ]
    }
   ],
   "source": [
    "for i in range(len(NumberStMaxL)):\n",
    "    model01, select, deploy, mvars, names, values, objValues, \\\n",
    "            spill_df, station_df, cover_1s, select_1s, deploy_1s, MeanResponseTime, coverage_percentage, assignment  \\\n",
    "        = Model.solve(Stations, OilSpills, ResourcesD, coordinates_st, coordinates_spill, SizeSpill, SizeSpill_n,\n",
    "              Demand, Sensitivity_R, Sensitivity_n, Eff, Effectiveness_n, Availability, NumberStMaxL[i], Distance, Distance_n,\n",
    "              W, QuantityMin, DistanceMax, Cf_s, CostU, Budget,\n",
    "              BigM, MaxFO)\n",
    "    select_1sL.append(select_1s.index)\n",
    "    coverage_percentageL.append(coverage_percentage)\n",
    "    MeanResponseTimeL.append(MeanResponseTime)\n"
   ],
   "metadata": {
    "collapsed": false,
    "ExecuteTime": {
     "end_time": "2024-05-04T01:17:05.734533Z",
     "start_time": "2024-05-04T01:17:04.798516Z"
    }
   },
   "execution_count": 12
  },
  {
   "cell_type": "code",
   "outputs": [
    {
     "data": {
      "text/plain": "  Number of facilities Number of spills  \\\n0                   15              200   \n1                   12              200   \n2                    8              200   \n3                    5              200   \n4                    4              200   \n5                    2              200   \n\n                                       Open facility Coverage (%)  \\\n0  Index(['s3', 's8', 's13', 's20', 's14', 's16',...           99   \n1  Index(['s3', 's8', 's13', 's14', 's16', 's12',...           99   \n2  Index(['s3', 's20', 's16', 's12', 's2', 's4', ...           99   \n3  Index(['s7', 's13', 's2', 's19', 's1'], dtype=...           96   \n4  Index(['s7', 's13', 's19', 's1'], dtype='object')           78   \n5               Index(['s12', 's1'], dtype='object')           44   \n\n  Mean Response time (in hours) Cost investment (in million CAD)  \n0                          7.95                                0  \n1                          7.83                                0  \n2                          7.39                                0  \n3                          7.63                                0  \n4                          7.94                                0  \n5                          7.22                                0  ",
      "text/html": "<div>\n<style scoped>\n    .dataframe tbody tr th:only-of-type {\n        vertical-align: middle;\n    }\n\n    .dataframe tbody tr th {\n        vertical-align: top;\n    }\n\n    .dataframe thead th {\n        text-align: right;\n    }\n</style>\n<table border=\"1\" class=\"dataframe\">\n  <thead>\n    <tr style=\"text-align: right;\">\n      <th></th>\n      <th>Number of facilities</th>\n      <th>Number of spills</th>\n      <th>Open facility</th>\n      <th>Coverage (%)</th>\n      <th>Mean Response time (in hours)</th>\n      <th>Cost investment (in million CAD)</th>\n    </tr>\n  </thead>\n  <tbody>\n    <tr>\n      <th>0</th>\n      <td>15</td>\n      <td>200</td>\n      <td>Index(['s3', 's8', 's13', 's20', 's14', 's16',...</td>\n      <td>99</td>\n      <td>7.95</td>\n      <td>0</td>\n    </tr>\n    <tr>\n      <th>1</th>\n      <td>12</td>\n      <td>200</td>\n      <td>Index(['s3', 's8', 's13', 's14', 's16', 's12',...</td>\n      <td>99</td>\n      <td>7.83</td>\n      <td>0</td>\n    </tr>\n    <tr>\n      <th>2</th>\n      <td>8</td>\n      <td>200</td>\n      <td>Index(['s3', 's20', 's16', 's12', 's2', 's4', ...</td>\n      <td>99</td>\n      <td>7.39</td>\n      <td>0</td>\n    </tr>\n    <tr>\n      <th>3</th>\n      <td>5</td>\n      <td>200</td>\n      <td>Index(['s7', 's13', 's2', 's19', 's1'], dtype=...</td>\n      <td>96</td>\n      <td>7.63</td>\n      <td>0</td>\n    </tr>\n    <tr>\n      <th>4</th>\n      <td>4</td>\n      <td>200</td>\n      <td>Index(['s7', 's13', 's19', 's1'], dtype='object')</td>\n      <td>78</td>\n      <td>7.94</td>\n      <td>0</td>\n    </tr>\n    <tr>\n      <th>5</th>\n      <td>2</td>\n      <td>200</td>\n      <td>Index(['s12', 's1'], dtype='object')</td>\n      <td>44</td>\n      <td>7.22</td>\n      <td>0</td>\n    </tr>\n  </tbody>\n</table>\n</div>"
     },
     "execution_count": 13,
     "metadata": {},
     "output_type": "execute_result"
    }
   ],
   "source": [
    "determine_number_of_facilities = pd.DataFrame(index=range(len(NumberStMaxL)),\n",
    "                                              columns=['Number of facilities', 'Number of spills','Open facility', 'Coverage (%)', 'Mean Response time (in hours)', 'Cost investment (in million CAD)'])\n",
    "for i in range(6):\n",
    "    determine_number_of_facilities.iloc[i,0] = NumberStMaxL[i]\n",
    "    determine_number_of_facilities.iloc[i,1] = number_of_spillsL[i]\n",
    "    determine_number_of_facilities.iloc[i,2] = select_1sL[i]\n",
    "    determine_number_of_facilities.iloc[i,3] = coverage_percentageL[i]\n",
    "    determine_number_of_facilities.iloc[i,4] = MeanResponseTimeL[i]\n",
    "    determine_number_of_facilities.iloc[i,5] = 0\n",
    "determine_number_of_facilities"
   ],
   "metadata": {
    "collapsed": false,
    "ExecuteTime": {
     "end_time": "2024-05-04T01:17:05.736214Z",
     "start_time": "2024-05-04T01:17:05.582909Z"
    }
   },
   "execution_count": 13
  },
  {
   "cell_type": "markdown",
   "source": [
    "## 100 Spills"
   ],
   "metadata": {
    "collapsed": false
   }
  },
  {
   "cell_type": "code",
   "outputs": [],
   "source": [
    "NumberStMaxL = [15, 12, 8, 5, 4, 2]\n",
    "number_of_spillsL = [100, 100,100, 100,100, 100]\n",
    "select_1sL =[]\n",
    "coverage_percentageL =[]\n",
    "MeanResponseTimeL =[]"
   ],
   "metadata": {
    "collapsed": false,
    "ExecuteTime": {
     "end_time": "2024-05-04T01:17:05.737559Z",
     "start_time": "2024-05-04T01:17:05.587753Z"
    }
   },
   "execution_count": 14
  },
  {
   "cell_type": "code",
   "outputs": [
    {
     "name": "stdout",
     "output_type": "stream",
     "text": [
      "--------------MIP-moo--------\n",
      "Set parameter PoolSolutions to value 1024\n",
      "Set parameter PoolGap to value 0.8\n",
      "Set parameter LogFile to value \"../models/model_moo(May 03,2117).log\"\n",
      "Gurobi Optimizer version 11.0.1 build v11.0.1rc0 (mac64[arm] - Darwin 23.2.0 23C71)\n",
      "\n",
      "CPU model: Apple M2\n",
      "Thread count: 8 physical cores, 8 logical processors, using up to 8 threads\n",
      "\n",
      "Optimize a model with 1832 rows, 1436 columns and 4534 nonzeros\n",
      "Model fingerprint: 0x65f68427\n",
      "Variable types: 1062 continuous, 374 integer (374 binary)\n",
      "Coefficient statistics:\n",
      "  Matrix range     [1e+00, 2e+25]\n",
      "  Objective range  [1e-02, 2e+02]\n",
      "  Bounds range     [1e+00, 1e+00]\n",
      "  RHS range        [1e+00, 1e+12]\n",
      "Warning: Model contains large matrix coefficient range\n",
      "Warning: Model contains large rhs\n",
      "         Consider reformulating model or setting NumericFocus parameter\n",
      "         to avoid numerical issues.\n",
      "\n",
      "---------------------------------------------------------------------------\n",
      "Multi-objectives: starting optimization with 2 objectives ... \n",
      "---------------------------------------------------------------------------\n",
      "\n",
      "Multi-objectives: applying initial presolve ...\n",
      "---------------------------------------------------------------------------\n",
      "\n",
      "Presolve removed 1337 rows and 708 columns\n",
      "Presolve time: 0.00s\n",
      "Presolved: 495 rows, 728 columns, 1477 nonzeros\n",
      "---------------------------------------------------------------------------\n",
      "\n",
      "Multi-objectives: optimize objective 1 (objective_re_1) ...\n",
      "---------------------------------------------------------------------------\n",
      "\n",
      "Found heuristic solution: objective 0.0000000\n",
      "Presolve removed 79 rows and 373 columns\n",
      "Presolve time: 0.00s\n",
      "Presolved: 416 rows, 355 columns, 1025 nonzeros\n",
      "Variable types: 0 continuous, 355 integer (355 binary)\n",
      "Found heuristic solution: objective -1149.010771\n",
      "\n",
      "Root relaxation: objective -1.149476e+03, 24 iterations, 0.00 seconds (0.00 work units)\n",
      "\n",
      "    Nodes    |    Current Node    |     Objective Bounds      |     Work\n",
      " Expl Unexpl |  Obj  Depth IntInf | Incumbent    BestBd   Gap | It/Node Time\n",
      "\n",
      "*    0     0               0    -1149.476272 -1149.4763  0.00%     -    0s\n",
      "\n",
      "Explored 1 nodes (24 simplex iterations) in 0.01 seconds (0.01 work units)\n",
      "Thread count was 8 (of 8 available processors)\n",
      "\n",
      "Solution count 2: -1149.48 -1149.01 \n",
      "No other solutions better than -1149.48\n",
      "\n",
      "Optimal solution found (tolerance 1.00e-04)\n",
      "Best objective -1.149476272201e+03, best bound -1.149476272201e+03, gap 0.0000%\n",
      "---------------------------------------------------------------------------\n",
      "\n",
      "Multi-objectives: optimize objective 2 (objective_cost_2) ...\n",
      "---------------------------------------------------------------------------\n",
      "\n",
      "\n",
      "Loaded user MIP start with objective 2425\n",
      "\n",
      "Presolve removed 140 rows and 422 columns\n",
      "Presolve time: 0.00s\n",
      "Presolved: 356 rows, 306 columns, 1171 nonzeros\n",
      "Found heuristic solution: objective -8818.076028\n",
      "Variable types: 0 continuous, 306 integer (306 binary)\n",
      "\n",
      "Root relaxation: objective -1.062197e+04, 243 iterations, 0.00 seconds (0.00 work units)\n",
      "\n",
      "    Nodes    |    Current Node    |     Objective Bounds      |     Work\n",
      " Expl Unexpl |  Obj  Depth IntInf | Incumbent    BestBd   Gap | It/Node Time\n",
      "\n",
      "     0     0 -10621.971    0   26 -8818.0760 -10621.971  20.5%     -    0s\n",
      "H    0     0                    -9929.690556 -10621.971  6.97%     -    0s\n",
      "H    0     0                    -10254.34211 -10621.971  3.59%     -    0s\n",
      "     0     0 -10620.429    0   30 -10254.342 -10620.429  3.57%     -    0s\n",
      "H    0     0                    -10611.18428 -10620.429  0.09%     -    0s\n",
      "\n",
      "Cutting planes:\n",
      "  Gomory: 1\n",
      "  GUB cover: 1\n",
      "  Inf proof: 1\n",
      "\n",
      "Explored 1 nodes (248 simplex iterations) in 0.03 seconds (0.02 work units)\n",
      "Thread count was 8 (of 8 available processors)\n",
      "\n",
      "Solution count 4: -10611.2 -10254.3 -9929.69 -8818.08 \n",
      "No other solutions better than -10611.2\n",
      "\n",
      "Optimal solution found (tolerance 1.00e-04)\n",
      "Best objective -1.061118427778e+04, best bound -1.061118427778e+04, gap 0.0000%\n",
      "\n",
      "---------------------------------------------------------------------------\n",
      "Multi-objectives: solved in 0.03 seconds (0.02 work units), solution count 6\n",
      "\n",
      "Problem has 2 objectives\n",
      "Gurobi found 6 solutions\n",
      "Solution 0 :  1149.38   -10611.18 Solution 1 :  1149.38   -10254.34 Solution 2 :  1149.42   -9929.69 Solution 3 :  1149.48   -8818.08 Solution 4 :  1149.48   2425.0 Solution 5 :  1149.01   2375.0 Solution 0 :Solution 1 :Solution 2 :Solution 3 :Solution 4 :Solution 5 :Coverage Percentage: 99%\n",
      "Mean Response Time: 7.95\n",
      "--------------MIP-moo--------\n",
      "Set parameter PoolSolutions to value 1024\n",
      "Set parameter PoolGap to value 0.8\n",
      "Set parameter LogFile to value \"../models/model_moo(May 03,2117).log\"\n",
      "Gurobi Optimizer version 11.0.1 build v11.0.1rc0 (mac64[arm] - Darwin 23.2.0 23C71)\n",
      "\n",
      "CPU model: Apple M2\n",
      "Thread count: 8 physical cores, 8 logical processors, using up to 8 threads\n",
      "\n",
      "Optimize a model with 1832 rows, 1436 columns and 4534 nonzeros\n",
      "Model fingerprint: 0xd77f41da\n",
      "Variable types: 1062 continuous, 374 integer (374 binary)\n",
      "Coefficient statistics:\n",
      "  Matrix range     [1e+00, 2e+25]\n",
      "  Objective range  [1e-02, 2e+02]\n",
      "  Bounds range     [1e+00, 1e+00]\n",
      "  RHS range        [1e+00, 1e+12]\n",
      "Warning: Model contains large matrix coefficient range\n",
      "Warning: Model contains large rhs\n",
      "         Consider reformulating model or setting NumericFocus parameter\n",
      "         to avoid numerical issues.\n",
      "\n",
      "---------------------------------------------------------------------------\n",
      "Multi-objectives: starting optimization with 2 objectives ... \n",
      "---------------------------------------------------------------------------\n",
      "\n",
      "Multi-objectives: applying initial presolve ...\n",
      "---------------------------------------------------------------------------\n",
      "\n",
      "Presolve removed 1337 rows and 708 columns\n",
      "Presolve time: 0.00s\n",
      "Presolved: 495 rows, 728 columns, 1477 nonzeros\n",
      "---------------------------------------------------------------------------\n",
      "\n",
      "Multi-objectives: optimize objective 1 (objective_re_1) ...\n",
      "---------------------------------------------------------------------------\n",
      "\n",
      "Found heuristic solution: objective 0.0000000\n",
      "Presolve removed 79 rows and 373 columns\n",
      "Presolve time: 0.00s\n",
      "Presolved: 416 rows, 355 columns, 1025 nonzeros\n",
      "Variable types: 0 continuous, 355 integer (355 binary)\n",
      "Found heuristic solution: objective -1148.839482\n",
      "\n",
      "Root relaxation: objective -1.149446e+03, 72 iterations, 0.00 seconds (0.00 work units)\n",
      "\n",
      "    Nodes    |    Current Node    |     Objective Bounds      |     Work\n",
      " Expl Unexpl |  Obj  Depth IntInf | Incumbent    BestBd   Gap | It/Node Time\n",
      "\n",
      "*    0     0               0    -1149.446228 -1149.4462  0.00%     -    0s\n",
      "\n",
      "Explored 1 nodes (72 simplex iterations) in 0.01 seconds (0.01 work units)\n",
      "Thread count was 8 (of 8 available processors)\n",
      "\n",
      "Solution count 2: -1149.45 -1148.84 \n",
      "No other solutions better than -1149.45\n",
      "\n",
      "Optimal solution found (tolerance 1.00e-04)\n",
      "Best objective -1.149446227852e+03, best bound -1.149446227852e+03, gap 0.0000%\n",
      "---------------------------------------------------------------------------\n",
      "\n",
      "Multi-objectives: optimize objective 2 (objective_cost_2) ...\n",
      "---------------------------------------------------------------------------\n",
      "\n",
      "\n",
      "Loaded user MIP start with objective 1950\n",
      "\n",
      "Presolve removed 140 rows and 422 columns\n",
      "Presolve time: 0.00s\n",
      "Presolved: 356 rows, 306 columns, 1171 nonzeros\n",
      "Found heuristic solution: objective -7391.099028\n",
      "Variable types: 0 continuous, 306 integer (306 binary)\n",
      "\n",
      "Root relaxation: objective -9.286616e+03, 252 iterations, 0.00 seconds (0.00 work units)\n",
      "\n",
      "    Nodes    |    Current Node    |     Objective Bounds      |     Work\n",
      " Expl Unexpl |  Obj  Depth IntInf | Incumbent    BestBd   Gap | It/Node Time\n",
      "\n",
      "     0     0 -9286.6156    0   18 -7391.0990 -9286.6156  25.6%     -    0s\n",
      "H    0     0                    -8502.713556 -9286.6156  9.22%     -    0s\n",
      "H    0     0                    -8991.741361 -9286.6156  3.28%     -    0s\n",
      "H    0     0                    -9197.352806 -9286.6156  0.97%     -    0s\n",
      "     0     0 -9239.9667    0   18 -9197.3528 -9239.9667  0.46%     -    0s\n",
      "     0     0 -9239.9667    0   12 -9197.3528 -9239.9667  0.46%     -    0s\n",
      "     0     0 -9239.9667    0   20 -9197.3528 -9239.9667  0.46%     -    0s\n",
      "H    0     0                    -9204.389389 -9239.9667  0.39%     -    0s\n",
      "\n",
      "Cutting planes:\n",
      "  Gomory: 1\n",
      "  RLT: 1\n",
      "\n",
      "Explored 1 nodes (291 simplex iterations) in 0.04 seconds (0.02 work units)\n",
      "Thread count was 8 (of 8 available processors)\n",
      "\n",
      "Solution count 7: -9204.39 -9197.35 -9095.18 ... -7391.1\n",
      "No other solutions better than -9204.39\n",
      "\n",
      "Optimal solution found (tolerance 1.00e-04)\n",
      "Best objective -9.204389388889e+03, best bound -9.204389388889e+03, gap 0.0000%\n",
      "\n",
      "---------------------------------------------------------------------------\n",
      "Multi-objectives: solved in 0.04 seconds (0.02 work units), solution count 9\n",
      "\n",
      "Problem has 2 objectives\n",
      "Gurobi found 9 solutions\n",
      "Solution 0 :  1149.34   -9204.39 Solution 1 :  1149.34   -9197.35 Solution 2 :  1149.35   -9095.18 Solution 3 :  1149.34   -8991.74 Solution 4 :  1149.4   -8891.99 Solution 5 :  1149.38   -8502.71 Solution 6 :  1149.45   -7391.1 Solution 7 :  1149.45   1950.0 Solution 8 :  1148.84   1900.0 Solution 0 :Solution 1 :Solution 2 :Solution 3 :Solution 4 :Solution 5 :Solution 6 :Solution 7 :Solution 8 :Coverage Percentage: 99%\n",
      "Mean Response Time: 7.83\n",
      "--------------MIP-moo--------\n",
      "Set parameter PoolSolutions to value 1024\n",
      "Set parameter PoolGap to value 0.8\n",
      "Set parameter LogFile to value \"../models/model_moo(May 03,2117).log\"\n",
      "Gurobi Optimizer version 11.0.1 build v11.0.1rc0 (mac64[arm] - Darwin 23.2.0 23C71)\n",
      "\n",
      "CPU model: Apple M2\n",
      "Thread count: 8 physical cores, 8 logical processors, using up to 8 threads\n",
      "\n",
      "Optimize a model with 1832 rows, 1436 columns and 4534 nonzeros\n",
      "Model fingerprint: 0x980723ea\n",
      "Variable types: 1062 continuous, 374 integer (374 binary)\n",
      "Coefficient statistics:\n",
      "  Matrix range     [1e+00, 2e+25]\n",
      "  Objective range  [1e-02, 2e+02]\n",
      "  Bounds range     [1e+00, 1e+00]\n",
      "  RHS range        [1e+00, 1e+12]\n",
      "Warning: Model contains large matrix coefficient range\n",
      "Warning: Model contains large rhs\n",
      "         Consider reformulating model or setting NumericFocus parameter\n",
      "         to avoid numerical issues.\n",
      "\n",
      "---------------------------------------------------------------------------\n",
      "Multi-objectives: starting optimization with 2 objectives ... \n",
      "---------------------------------------------------------------------------\n",
      "\n",
      "Multi-objectives: applying initial presolve ...\n",
      "---------------------------------------------------------------------------\n",
      "\n",
      "Presolve removed 1337 rows and 708 columns\n",
      "Presolve time: 0.00s\n",
      "Presolved: 495 rows, 728 columns, 1477 nonzeros\n",
      "---------------------------------------------------------------------------\n",
      "\n",
      "Multi-objectives: optimize objective 1 (objective_re_1) ...\n",
      "---------------------------------------------------------------------------\n",
      "\n",
      "Found heuristic solution: objective 0.0000000\n",
      "Presolve removed 79 rows and 373 columns\n",
      "Presolve time: 0.00s\n",
      "Presolved: 416 rows, 355 columns, 1025 nonzeros\n",
      "Variable types: 0 continuous, 355 integer (355 binary)\n",
      "Found heuristic solution: objective -1110.231430\n",
      "\n",
      "Root relaxation: objective -1.149278e+03, 158 iterations, 0.00 seconds (0.00 work units)\n",
      "\n",
      "    Nodes    |    Current Node    |     Objective Bounds      |     Work\n",
      " Expl Unexpl |  Obj  Depth IntInf | Incumbent    BestBd   Gap | It/Node Time\n",
      "\n",
      "*    0     0               0    -1149.278387 -1149.2784  0.00%     -    0s\n",
      "\n",
      "Explored 1 nodes (158 simplex iterations) in 0.01 seconds (0.01 work units)\n",
      "Thread count was 8 (of 8 available processors)\n",
      "\n",
      "Solution count 2: -1149.28 -1110.23 \n",
      "No other solutions better than -1149.28\n",
      "\n",
      "Optimal solution found (tolerance 1.00e-04)\n",
      "Best objective -1.149278387075e+03, best bound -1.149278387075e+03, gap 0.0000%\n",
      "---------------------------------------------------------------------------\n",
      "\n",
      "Multi-objectives: optimize objective 2 (objective_cost_2) ...\n",
      "---------------------------------------------------------------------------\n",
      "\n",
      "\n",
      "Loaded user MIP start with objective 1400\n",
      "\n",
      "Presolve removed 140 rows and 422 columns\n",
      "Presolve time: 0.00s\n",
      "Presolved: 356 rows, 306 columns, 1171 nonzeros\n",
      "Found heuristic solution: objective -5592.989139\n",
      "Variable types: 0 continuous, 306 integer (306 binary)\n",
      "\n",
      "Root relaxation: objective -6.811992e+03, 376 iterations, 0.00 seconds (0.00 work units)\n",
      "\n",
      "    Nodes    |    Current Node    |     Objective Bounds      |     Work\n",
      " Expl Unexpl |  Obj  Depth IntInf | Incumbent    BestBd   Gap | It/Node Time\n",
      "\n",
      "     0     0 -6811.9919    0   30 -5592.9891 -6811.9919  21.8%     -    0s\n",
      "H    0     0                    -6810.967528 -6811.9919  0.02%     -    0s\n",
      "\n",
      "Explored 1 nodes (376 simplex iterations) in 0.03 seconds (0.02 work units)\n",
      "Thread count was 8 (of 8 available processors)\n",
      "\n",
      "Solution count 2: -6810.97 -5592.99 \n",
      "No other solutions better than -6810.97\n",
      "\n",
      "Optimal solution found (tolerance 1.00e-04)\n",
      "Best objective -6.810967527778e+03, best bound -6.810967527778e+03, gap 0.0000%\n",
      "\n",
      "---------------------------------------------------------------------------\n",
      "Multi-objectives: solved in 0.03 seconds (0.02 work units), solution count 4\n",
      "\n",
      "Problem has 2 objectives\n",
      "Gurobi found 4 solutions\n",
      "Solution 0 :  1149.17   -6810.97 Solution 1 :  1149.28   -5592.99 Solution 2 :  1149.28   1400.0 Solution 3 :  1110.23   1175.0 Solution 0 :Solution 1 :Solution 2 :Solution 3 :Coverage Percentage: 99%\n",
      "Mean Response Time: 7.39\n",
      "--------------MIP-moo--------\n",
      "Set parameter PoolSolutions to value 1024\n",
      "Set parameter PoolGap to value 0.8\n",
      "Set parameter LogFile to value \"../models/model_moo(May 03,2117).log\"\n",
      "Gurobi Optimizer version 11.0.1 build v11.0.1rc0 (mac64[arm] - Darwin 23.2.0 23C71)\n",
      "\n",
      "CPU model: Apple M2\n",
      "Thread count: 8 physical cores, 8 logical processors, using up to 8 threads\n",
      "\n",
      "Optimize a model with 1832 rows, 1436 columns and 4534 nonzeros\n",
      "Model fingerprint: 0x3f5cf8a8\n",
      "Variable types: 1062 continuous, 374 integer (374 binary)\n",
      "Coefficient statistics:\n",
      "  Matrix range     [1e+00, 2e+25]\n",
      "  Objective range  [1e-02, 2e+02]\n",
      "  Bounds range     [1e+00, 1e+00]\n",
      "  RHS range        [1e+00, 1e+12]\n",
      "Warning: Model contains large matrix coefficient range\n",
      "Warning: Model contains large rhs\n",
      "         Consider reformulating model or setting NumericFocus parameter\n",
      "         to avoid numerical issues.\n",
      "\n",
      "---------------------------------------------------------------------------\n",
      "Multi-objectives: starting optimization with 2 objectives ... \n",
      "---------------------------------------------------------------------------\n",
      "\n",
      "Multi-objectives: applying initial presolve ...\n",
      "---------------------------------------------------------------------------\n",
      "\n",
      "Presolve removed 1337 rows and 708 columns\n",
      "Presolve time: 0.00s\n",
      "Presolved: 495 rows, 728 columns, 1477 nonzeros\n",
      "---------------------------------------------------------------------------\n",
      "\n",
      "Multi-objectives: optimize objective 1 (objective_re_1) ...\n",
      "---------------------------------------------------------------------------\n",
      "\n",
      "Found heuristic solution: objective 0.0000000\n",
      "Presolve removed 79 rows and 373 columns\n",
      "Presolve time: 0.00s\n",
      "Presolved: 416 rows, 355 columns, 1025 nonzeros\n",
      "Variable types: 0 continuous, 355 integer (355 binary)\n",
      "Found heuristic solution: objective -898.2544191\n",
      "\n",
      "Root relaxation: objective -1.127227e+03, 263 iterations, 0.00 seconds (0.00 work units)\n",
      "\n",
      "    Nodes    |    Current Node    |     Objective Bounds      |     Work\n",
      " Expl Unexpl |  Obj  Depth IntInf | Incumbent    BestBd   Gap | It/Node Time\n",
      "\n",
      "*    0     0               0    -1127.227354 -1127.2274  0.00%     -    0s\n",
      "\n",
      "Explored 1 nodes (263 simplex iterations) in 0.01 seconds (0.01 work units)\n",
      "Thread count was 8 (of 8 available processors)\n",
      "\n",
      "Solution count 2: -1127.23 -898.254 \n",
      "No other solutions better than -1127.23\n",
      "\n",
      "Optimal solution found (tolerance 1.00e-04)\n",
      "Best objective -1.127227353674e+03, best bound -1.127227353674e+03, gap 0.0000%\n",
      "---------------------------------------------------------------------------\n",
      "\n",
      "Multi-objectives: optimize objective 2 (objective_cost_2) ...\n",
      "---------------------------------------------------------------------------\n",
      "\n",
      "\n",
      "Loaded user MIP start with objective 625\n",
      "\n",
      "Presolve removed 140 rows and 422 columns\n",
      "Presolve time: 0.00s\n",
      "Presolved: 356 rows, 306 columns, 1171 nonzeros\n",
      "Found heuristic solution: objective -2595.947000\n",
      "Variable types: 0 continuous, 306 integer (306 binary)\n",
      "\n",
      "Root relaxation: objective -2.600185e+03, 432 iterations, 0.00 seconds (0.00 work units)\n",
      "\n",
      "    Nodes    |    Current Node    |     Objective Bounds      |     Work\n",
      " Expl Unexpl |  Obj  Depth IntInf | Incumbent    BestBd   Gap | It/Node Time\n",
      "\n",
      "     0     0 infeasible    0      -2595.9470 -2595.9470  0.00%     -    0s\n",
      "\n",
      "Explored 1 nodes (432 simplex iterations) in 0.03 seconds (0.02 work units)\n",
      "Thread count was 8 (of 8 available processors)\n",
      "\n",
      "Solution count 1: -2595.95 \n",
      "No other solutions better than -2595.95\n",
      "\n",
      "Optimal solution found (tolerance 1.00e-04)\n",
      "Best objective -2.595947000000e+03, best bound -2.595947000000e+03, gap 0.0000%\n",
      "\n",
      "---------------------------------------------------------------------------\n",
      "Multi-objectives: solved in 0.03 seconds (0.02 work units), solution count 3\n",
      "\n",
      "Problem has 2 objectives\n",
      "Gurobi found 3 solutions\n",
      "Solution 0 :  1127.23   -2595.95 Solution 1 :  1127.23   625.0 Solution 2 :  898.25   800.0 Solution 0 :Solution 1 :Solution 2 :Coverage Percentage: 96%\n",
      "Mean Response Time: 7.63\n",
      "--------------MIP-moo--------\n",
      "Set parameter PoolSolutions to value 1024\n",
      "Set parameter PoolGap to value 0.8\n",
      "Set parameter LogFile to value \"../models/model_moo(May 03,2117).log\"\n",
      "Gurobi Optimizer version 11.0.1 build v11.0.1rc0 (mac64[arm] - Darwin 23.2.0 23C71)\n",
      "\n",
      "CPU model: Apple M2\n",
      "Thread count: 8 physical cores, 8 logical processors, using up to 8 threads\n",
      "\n",
      "Optimize a model with 1832 rows, 1436 columns and 4534 nonzeros\n",
      "Model fingerprint: 0x574aabb9\n",
      "Variable types: 1062 continuous, 374 integer (374 binary)\n",
      "Coefficient statistics:\n",
      "  Matrix range     [1e+00, 2e+25]\n",
      "  Objective range  [1e-02, 2e+02]\n",
      "  Bounds range     [1e+00, 1e+00]\n",
      "  RHS range        [1e+00, 1e+12]\n",
      "Warning: Model contains large matrix coefficient range\n",
      "Warning: Model contains large rhs\n",
      "         Consider reformulating model or setting NumericFocus parameter\n",
      "         to avoid numerical issues.\n",
      "\n",
      "---------------------------------------------------------------------------\n",
      "Multi-objectives: starting optimization with 2 objectives ... \n",
      "---------------------------------------------------------------------------\n",
      "\n",
      "Multi-objectives: applying initial presolve ...\n",
      "---------------------------------------------------------------------------\n",
      "\n",
      "Presolve removed 1337 rows and 708 columns\n",
      "Presolve time: 0.00s\n",
      "Presolved: 495 rows, 728 columns, 1477 nonzeros\n",
      "---------------------------------------------------------------------------\n",
      "\n",
      "Multi-objectives: optimize objective 1 (objective_re_1) ...\n",
      "---------------------------------------------------------------------------\n",
      "\n",
      "Found heuristic solution: objective 0.0000000\n",
      "Presolve removed 79 rows and 373 columns\n",
      "Presolve time: 0.00s\n",
      "Presolved: 416 rows, 355 columns, 1025 nonzeros\n",
      "Variable types: 0 continuous, 355 integer (355 binary)\n",
      "Found heuristic solution: objective -836.5199555\n",
      "\n",
      "Root relaxation: objective -1.006003e+03, 368 iterations, 0.00 seconds (0.00 work units)\n",
      "\n",
      "    Nodes    |    Current Node    |     Objective Bounds      |     Work\n",
      " Expl Unexpl |  Obj  Depth IntInf | Incumbent    BestBd   Gap | It/Node Time\n",
      "\n",
      "*    0     0               0    -1006.003020 -1006.0030  0.00%     -    0s\n",
      "\n",
      "Explored 1 nodes (368 simplex iterations) in 0.01 seconds (0.01 work units)\n",
      "Thread count was 8 (of 8 available processors)\n",
      "\n",
      "Solution count 2: -1006 -836.52 \n",
      "No other solutions better than -1006\n",
      "\n",
      "Optimal solution found (tolerance 1.00e-04)\n",
      "Best objective -1.006003020433e+03, best bound -1.006003020433e+03, gap 0.0000%\n",
      "---------------------------------------------------------------------------\n",
      "\n",
      "Multi-objectives: optimize objective 2 (objective_cost_2) ...\n",
      "---------------------------------------------------------------------------\n",
      "\n",
      "\n",
      "Loaded user MIP start with objective 525\n",
      "\n",
      "Presolve removed 88 rows and 380 columns\n",
      "Presolve time: 0.00s\n",
      "Presolved: 408 rows, 348 columns, 1336 nonzeros\n",
      "Found heuristic solution: objective -1228.640889\n",
      "Variable types: 0 continuous, 348 integer (348 binary)\n",
      "\n",
      "Root relaxation: objective -1.236024e+03, 542 iterations, 0.00 seconds (0.01 work units)\n",
      "\n",
      "    Nodes    |    Current Node    |     Objective Bounds      |     Work\n",
      " Expl Unexpl |  Obj  Depth IntInf | Incumbent    BestBd   Gap | It/Node Time\n",
      "\n",
      "     0     0 infeasible    0      -1228.6409 -1228.6409  0.00%     -    0s\n",
      "\n",
      "Explored 1 nodes (542 simplex iterations) in 0.03 seconds (0.02 work units)\n",
      "Thread count was 8 (of 8 available processors)\n",
      "\n",
      "Solution count 1: -1228.64 \n",
      "No other solutions better than -1228.64\n",
      "\n",
      "Optimal solution found (tolerance 1.00e-04)\n",
      "Best objective -1.228640888889e+03, best bound -1.228640888889e+03, gap 0.0000%\n",
      "\n",
      "---------------------------------------------------------------------------\n",
      "Multi-objectives: solved in 0.03 seconds (0.02 work units), solution count 3\n",
      "\n",
      "Problem has 2 objectives\n",
      "Gurobi found 3 solutions\n",
      "Solution 0 :  1006.0   -1228.64 Solution 1 :  1006.0   525.0 Solution 2 :  836.52   550.0 Solution 0 :Solution 1 :Solution 2 :Coverage Percentage: 78%\n",
      "Mean Response Time: 7.94\n",
      "--------------MIP-moo--------\n",
      "Set parameter PoolSolutions to value 1024\n",
      "Set parameter PoolGap to value 0.8\n",
      "Set parameter LogFile to value \"../models/model_moo(May 03,2117).log\"\n",
      "Gurobi Optimizer version 11.0.1 build v11.0.1rc0 (mac64[arm] - Darwin 23.2.0 23C71)\n",
      "\n",
      "CPU model: Apple M2\n",
      "Thread count: 8 physical cores, 8 logical processors, using up to 8 threads\n",
      "\n",
      "Optimize a model with 1832 rows, 1436 columns and 4534 nonzeros\n",
      "Model fingerprint: 0x1befdde2\n",
      "Variable types: 1062 continuous, 374 integer (374 binary)\n",
      "Coefficient statistics:\n",
      "  Matrix range     [1e+00, 2e+25]\n",
      "  Objective range  [1e-02, 2e+02]\n",
      "  Bounds range     [1e+00, 1e+00]\n",
      "  RHS range        [1e+00, 1e+12]\n",
      "Warning: Model contains large matrix coefficient range\n",
      "Warning: Model contains large rhs\n",
      "         Consider reformulating model or setting NumericFocus parameter\n",
      "         to avoid numerical issues.\n",
      "\n",
      "---------------------------------------------------------------------------\n",
      "Multi-objectives: starting optimization with 2 objectives ... \n",
      "---------------------------------------------------------------------------\n",
      "\n",
      "Multi-objectives: applying initial presolve ...\n",
      "---------------------------------------------------------------------------\n",
      "\n",
      "Presolve removed 1337 rows and 708 columns\n",
      "Presolve time: 0.00s\n",
      "Presolved: 495 rows, 728 columns, 1477 nonzeros\n",
      "---------------------------------------------------------------------------\n",
      "\n",
      "Multi-objectives: optimize objective 1 (objective_re_1) ...\n",
      "---------------------------------------------------------------------------\n",
      "\n",
      "Found heuristic solution: objective 0.0000000\n",
      "Presolve removed 79 rows and 373 columns\n",
      "Presolve time: 0.00s\n",
      "Presolved: 416 rows, 355 columns, 1025 nonzeros\n",
      "Variable types: 0 continuous, 355 integer (355 binary)\n",
      "Found heuristic solution: objective -395.4653120\n",
      "\n",
      "Root relaxation: objective -6.403484e+02, 389 iterations, 0.00 seconds (0.00 work units)\n",
      "\n",
      "    Nodes    |    Current Node    |     Objective Bounds      |     Work\n",
      " Expl Unexpl |  Obj  Depth IntInf | Incumbent    BestBd   Gap | It/Node Time\n",
      "\n",
      "*    0     0               0    -640.3483754 -640.34838  0.00%     -    0s\n",
      "\n",
      "Explored 1 nodes (389 simplex iterations) in 0.01 seconds (0.01 work units)\n",
      "Thread count was 8 (of 8 available processors)\n",
      "\n",
      "Solution count 2: -640.348 -395.465 \n",
      "No other solutions better than -640.348\n",
      "\n",
      "Optimal solution found (tolerance 1.00e-04)\n",
      "Best objective -6.403483754114e+02, best bound -6.403483754114e+02, gap 0.0000%\n",
      "---------------------------------------------------------------------------\n",
      "\n",
      "Multi-objectives: optimize objective 2 (objective_cost_2) ...\n",
      "---------------------------------------------------------------------------\n",
      "\n",
      "\n",
      "Loaded user MIP start with objective 400\n",
      "\n",
      "Presolve removed 79 rows and 373 columns\n",
      "Presolve time: 0.00s\n",
      "Presolved: 417 rows, 355 columns, 1362 nonzeros\n",
      "Found heuristic solution: objective -1272.568806\n",
      "Variable types: 0 continuous, 355 integer (355 binary)\n",
      "\n",
      "Root relaxation: objective -1.273192e+03, 437 iterations, 0.00 seconds (0.00 work units)\n",
      "\n",
      "    Nodes    |    Current Node    |     Objective Bounds      |     Work\n",
      " Expl Unexpl |  Obj  Depth IntInf | Incumbent    BestBd   Gap | It/Node Time\n",
      "\n",
      "     0     0 infeasible    0      -1272.5688 -1272.5688  0.00%     -    0s\n",
      "\n",
      "Explored 1 nodes (437 simplex iterations) in 0.02 seconds (0.02 work units)\n",
      "Thread count was 8 (of 8 available processors)\n",
      "\n",
      "Solution count 1: -1272.57 \n",
      "No other solutions better than -1272.57\n",
      "\n",
      "Optimal solution found (tolerance 1.00e-04)\n",
      "Best objective -1.272568805556e+03, best bound -1.272568805556e+03, gap 0.0000%\n",
      "\n",
      "---------------------------------------------------------------------------\n",
      "Multi-objectives: solved in 0.02 seconds (0.02 work units), solution count 3\n",
      "\n",
      "Problem has 2 objectives\n",
      "Gurobi found 3 solutions\n",
      "Solution 0 :  640.35   -1272.57 Solution 1 :  640.35   400.0 Solution 2 :  395.47   325.0 Solution 0 :Solution 1 :Solution 2 :Coverage Percentage: 44%\n",
      "Mean Response Time: 7.22\n"
     ]
    }
   ],
   "source": [
    "for i in range(6):\n",
    "    model01, select, deploy, mvars, names, values, objValues, \\\n",
    "            spill_df, station_df, cover_1s, select_1s, deploy_1s, MeanResponseTime, coverage_percentage, assignment  \\\n",
    "        = Model.solve(Stations, OilSpills, ResourcesD, coordinates_st, coordinates_spill, SizeSpill, SizeSpill_n,\n",
    "              Demand, Sensitivity_R, Sensitivity_n, Eff, Effectiveness_n, Availability, NumberStMaxL[i], Distance, Distance_n,\n",
    "              W, QuantityMin, DistanceMax, Cf_s, CostU, Budget,\n",
    "              BigM, MaxFO)\n",
    "    select_1sL.append(select_1s.index)\n",
    "    coverage_percentageL.append(coverage_percentage)\n",
    "    MeanResponseTimeL.append(MeanResponseTime)\n"
   ],
   "metadata": {
    "collapsed": false,
    "ExecuteTime": {
     "end_time": "2024-05-04T01:17:06.372498Z",
     "start_time": "2024-05-04T01:17:05.619742Z"
    }
   },
   "execution_count": 15
  },
  {
   "cell_type": "code",
   "outputs": [
    {
     "data": {
      "text/plain": "  Number of facilities Number of spills  \\\n0                   15              100   \n1                   12              100   \n2                    8              100   \n3                    5              100   \n4                    4              100   \n5                    2              100   \n\n                                       Open facility Coverage (%)  \\\n0  Index(['s3', 's8', 's13', 's20', 's14', 's16',...           99   \n1  Index(['s3', 's8', 's13', 's14', 's16', 's12',...           99   \n2  Index(['s3', 's20', 's16', 's12', 's2', 's4', ...           99   \n3  Index(['s7', 's13', 's2', 's19', 's1'], dtype=...           96   \n4  Index(['s7', 's13', 's19', 's1'], dtype='object')           78   \n5               Index(['s12', 's1'], dtype='object')           44   \n\n  Mean Response time (in hours) Cost investment (in million CAD)  \n0                          7.95                                0  \n1                          7.83                                0  \n2                          7.39                                0  \n3                          7.63                                0  \n4                          7.94                                0  \n5                          7.22                                0  ",
      "text/html": "<div>\n<style scoped>\n    .dataframe tbody tr th:only-of-type {\n        vertical-align: middle;\n    }\n\n    .dataframe tbody tr th {\n        vertical-align: top;\n    }\n\n    .dataframe thead th {\n        text-align: right;\n    }\n</style>\n<table border=\"1\" class=\"dataframe\">\n  <thead>\n    <tr style=\"text-align: right;\">\n      <th></th>\n      <th>Number of facilities</th>\n      <th>Number of spills</th>\n      <th>Open facility</th>\n      <th>Coverage (%)</th>\n      <th>Mean Response time (in hours)</th>\n      <th>Cost investment (in million CAD)</th>\n    </tr>\n  </thead>\n  <tbody>\n    <tr>\n      <th>0</th>\n      <td>15</td>\n      <td>100</td>\n      <td>Index(['s3', 's8', 's13', 's20', 's14', 's16',...</td>\n      <td>99</td>\n      <td>7.95</td>\n      <td>0</td>\n    </tr>\n    <tr>\n      <th>1</th>\n      <td>12</td>\n      <td>100</td>\n      <td>Index(['s3', 's8', 's13', 's14', 's16', 's12',...</td>\n      <td>99</td>\n      <td>7.83</td>\n      <td>0</td>\n    </tr>\n    <tr>\n      <th>2</th>\n      <td>8</td>\n      <td>100</td>\n      <td>Index(['s3', 's20', 's16', 's12', 's2', 's4', ...</td>\n      <td>99</td>\n      <td>7.39</td>\n      <td>0</td>\n    </tr>\n    <tr>\n      <th>3</th>\n      <td>5</td>\n      <td>100</td>\n      <td>Index(['s7', 's13', 's2', 's19', 's1'], dtype=...</td>\n      <td>96</td>\n      <td>7.63</td>\n      <td>0</td>\n    </tr>\n    <tr>\n      <th>4</th>\n      <td>4</td>\n      <td>100</td>\n      <td>Index(['s7', 's13', 's19', 's1'], dtype='object')</td>\n      <td>78</td>\n      <td>7.94</td>\n      <td>0</td>\n    </tr>\n    <tr>\n      <th>5</th>\n      <td>2</td>\n      <td>100</td>\n      <td>Index(['s12', 's1'], dtype='object')</td>\n      <td>44</td>\n      <td>7.22</td>\n      <td>0</td>\n    </tr>\n  </tbody>\n</table>\n</div>"
     },
     "execution_count": 16,
     "metadata": {},
     "output_type": "execute_result"
    }
   ],
   "source": [
    "determine_number_of_facilities = pd.DataFrame(index=range(6),\n",
    "                                              columns=['Number of facilities', 'Number of spills','Open facility', 'Coverage (%)', 'Mean Response time (in hours)', 'Cost investment (in million CAD)'])\n",
    "for i in range(6):\n",
    "    determine_number_of_facilities.iloc[i,0] = NumberStMaxL[i]\n",
    "    determine_number_of_facilities.iloc[i,1] = number_of_spillsL[i]\n",
    "    determine_number_of_facilities.iloc[i,2] = select_1sL[i]\n",
    "    determine_number_of_facilities.iloc[i,3] = coverage_percentageL[i]\n",
    "    determine_number_of_facilities.iloc[i,4] = MeanResponseTimeL[i]\n",
    "    determine_number_of_facilities.iloc[i,5] = 0\n",
    "determine_number_of_facilities"
   ],
   "metadata": {
    "collapsed": false,
    "ExecuteTime": {
     "end_time": "2024-05-04T01:17:06.374347Z",
     "start_time": "2024-05-04T01:17:06.286732Z"
    }
   },
   "execution_count": 16
  },
  {
   "cell_type": "markdown",
   "source": [
    "# Fig9: Emphasize sensitivity"
   ],
   "metadata": {
    "collapsed": false
   }
  },
  {
   "cell_type": "code",
   "outputs": [],
   "source": [
    "BigM = 10**20\n",
    "current_vs_proposed = 'proposed' # current\n",
    "MaxFO = 1\n",
    "Budget = 10**12\n",
    "W = [0.25, 1000*0.25, 0.25, 10**-4*0.25, 10**-2*0.25, 10 * 0.25]\n",
    "QuantityMin = 2"
   ],
   "metadata": {
    "collapsed": false,
    "ExecuteTime": {
     "end_time": "2024-05-04T01:17:06.386030Z",
     "start_time": "2024-05-04T01:17:06.290832Z"
    }
   },
   "execution_count": 17
  },
  {
   "cell_type": "code",
   "outputs": [],
   "source": [
    "DistanceMaxL = [5, 7, 8, 10, 11, 12, 15, 20]\n",
    "NumberStMaxL = [2, 5, 8, 10, 12]\n",
    "select_1sL =[]\n",
    "coverage_percentageL =[]\n",
    "MeanResponseTimeL =[]\n",
    "max_distance_sensitivity_L = []"
   ],
   "metadata": {
    "collapsed": false,
    "ExecuteTime": {
     "end_time": "2024-05-04T01:17:06.387806Z",
     "start_time": "2024-05-04T01:17:06.292573Z"
    }
   },
   "execution_count": 18
  },
  {
   "cell_type": "code",
   "outputs": [
    {
     "ename": "KeyError",
     "evalue": "'s2'",
     "output_type": "error",
     "traceback": [
      "\u001B[0;31m---------------------------------------------------------------------------\u001B[0m",
      "\u001B[0;31mKeyError\u001B[0m                                  Traceback (most recent call last)",
      "Cell \u001B[0;32mIn[21], line 6\u001B[0m\n\u001B[1;32m      2\u001B[0m \u001B[38;5;28;01mfor\u001B[39;00m i \u001B[38;5;129;01min\u001B[39;00m \u001B[38;5;28mrange\u001B[39m(\u001B[38;5;28mlen\u001B[39m(DistanceMaxL)):\n\u001B[1;32m      3\u001B[0m     \u001B[38;5;28;01mfor\u001B[39;00m j \u001B[38;5;129;01min\u001B[39;00m \u001B[38;5;28mrange\u001B[39m(\u001B[38;5;28mlen\u001B[39m(NumberStMaxL)):\n\u001B[1;32m      4\u001B[0m         model_04b, select_m4b, deploy_m4b, mvars_m4b, names_m4b, values_m4b, objValues_m4b, \\\n\u001B[1;32m      5\u001B[0m             spill_df_m4b, station_df_m4b, cover_1s_m4b, select_1s_m4b, deploy_1s_m4b, MeanResponseTime_m4b, coverage_percentage_m4b, assignment_m4b  \\\n\u001B[0;32m----> 6\u001B[0m             \u001B[38;5;241m=\u001B[39m ModelW\u001B[38;5;241m.\u001B[39msolve(Stations, OilSpills, ResourcesD, coordinates_potential_st, coordinates_spill, SizeSpill, SizeSpill_n,\n\u001B[1;32m      7\u001B[0m                   Demand, Sensitivity_R, Sensitivity_n, Eff, Effectiveness_n, Availability, NumberStMaxL[j], Distance, Distance_n,\n\u001B[1;32m      8\u001B[0m                   W, QuantityMin, DistanceMaxL[i], Cf_s, CostU, Budget,\n\u001B[1;32m      9\u001B[0m                   BigM, MaxFO)\n\u001B[1;32m     10\u001B[0m         select_1sL\u001B[38;5;241m.\u001B[39mappend(select_1s_m4b\u001B[38;5;241m.\u001B[39mindex)\n\u001B[1;32m     11\u001B[0m         coverage_percentageL\u001B[38;5;241m.\u001B[39mappend(coverage_percentage_m4b)\n",
      "File \u001B[0;32m~/Documents/GitHub/MIP-Python-Lamoscad/src/model_w.py:66\u001B[0m, in \u001B[0;36mModelW.solve\u001B[0;34m(Stations, OilSpills, ResourcesD, coordinates_st, coordinates_spill, SizeSpill, SizeSpill_n, Demand, Sensitivity_R, Sensitivity_n, Eff, Effectiveness_n, Availability, NumberStMax, Distance, Distance_n, W, QuantityMin, DistanceMax, Cf_s, CostU, Budget, BigM, MaxFO)\u001B[0m\n\u001B[1;32m     63\u001B[0m w1, w2, w3, w4, w5, w6 \u001B[38;5;241m=\u001B[39m W[\u001B[38;5;241m0\u001B[39m], W[\u001B[38;5;241m1\u001B[39m], W[\u001B[38;5;241m2\u001B[39m], W[\u001B[38;5;241m3\u001B[39m], W[\u001B[38;5;241m4\u001B[39m], W[\u001B[38;5;241m5\u001B[39m]\n\u001B[1;32m     65\u001B[0m \u001B[38;5;66;03m# ---------------------------------------- Set & Index -------------------------------------------------------------\u001B[39;00m\n\u001B[0;32m---> 66\u001B[0m os_pair \u001B[38;5;241m=\u001B[39m {(o, s): custom_func\u001B[38;5;241m.\u001B[39mcompute_distance(coordinates_spill[\u001B[38;5;241m1\u001B[39m][o], coordinates_st[\u001B[38;5;241m1\u001B[39m][s])\n\u001B[1;32m     67\u001B[0m            \u001B[38;5;28;01mfor\u001B[39;00m o \u001B[38;5;129;01min\u001B[39;00m OilSpills\n\u001B[1;32m     68\u001B[0m            \u001B[38;5;28;01mfor\u001B[39;00m s \u001B[38;5;129;01min\u001B[39;00m Stations\n\u001B[1;32m     69\u001B[0m            \u001B[38;5;28;01mif\u001B[39;00m\n\u001B[1;32m     70\u001B[0m            custom_func\u001B[38;5;241m.\u001B[39mcompute_distance(\u001B[38;5;28mtuple\u001B[39m(coordinates_spill[\u001B[38;5;241m1\u001B[39m][o]),\n\u001B[1;32m     71\u001B[0m                                         \u001B[38;5;28mtuple\u001B[39m(coordinates_st[\u001B[38;5;241m1\u001B[39m][s])) \u001B[38;5;241m<\u001B[39m DistanceMax}\n\u001B[1;32m     72\u001B[0m os_pair \u001B[38;5;241m=\u001B[39m \u001B[38;5;28mtuple\u001B[39m(os_pair\u001B[38;5;241m.\u001B[39mkeys())\n\u001B[1;32m     74\u001B[0m \u001B[38;5;66;03m# sr_pair (based on unique stations in pair_os )\u001B[39;00m\n",
      "File \u001B[0;32m~/Documents/GitHub/MIP-Python-Lamoscad/src/model_w.py:71\u001B[0m, in \u001B[0;36m<dictcomp>\u001B[0;34m(.0)\u001B[0m\n\u001B[1;32m     63\u001B[0m w1, w2, w3, w4, w5, w6 \u001B[38;5;241m=\u001B[39m W[\u001B[38;5;241m0\u001B[39m], W[\u001B[38;5;241m1\u001B[39m], W[\u001B[38;5;241m2\u001B[39m], W[\u001B[38;5;241m3\u001B[39m], W[\u001B[38;5;241m4\u001B[39m], W[\u001B[38;5;241m5\u001B[39m]\n\u001B[1;32m     65\u001B[0m \u001B[38;5;66;03m# ---------------------------------------- Set & Index -------------------------------------------------------------\u001B[39;00m\n\u001B[1;32m     66\u001B[0m os_pair \u001B[38;5;241m=\u001B[39m {(o, s): custom_func\u001B[38;5;241m.\u001B[39mcompute_distance(coordinates_spill[\u001B[38;5;241m1\u001B[39m][o], coordinates_st[\u001B[38;5;241m1\u001B[39m][s])\n\u001B[1;32m     67\u001B[0m            \u001B[38;5;28;01mfor\u001B[39;00m o \u001B[38;5;129;01min\u001B[39;00m OilSpills\n\u001B[1;32m     68\u001B[0m            \u001B[38;5;28;01mfor\u001B[39;00m s \u001B[38;5;129;01min\u001B[39;00m Stations\n\u001B[1;32m     69\u001B[0m            \u001B[38;5;28;01mif\u001B[39;00m\n\u001B[1;32m     70\u001B[0m            custom_func\u001B[38;5;241m.\u001B[39mcompute_distance(\u001B[38;5;28mtuple\u001B[39m(coordinates_spill[\u001B[38;5;241m1\u001B[39m][o]),\n\u001B[0;32m---> 71\u001B[0m                                         \u001B[38;5;28mtuple\u001B[39m(coordinates_st[\u001B[38;5;241m1\u001B[39m][s])) \u001B[38;5;241m<\u001B[39m DistanceMax}\n\u001B[1;32m     72\u001B[0m os_pair \u001B[38;5;241m=\u001B[39m \u001B[38;5;28mtuple\u001B[39m(os_pair\u001B[38;5;241m.\u001B[39mkeys())\n\u001B[1;32m     74\u001B[0m \u001B[38;5;66;03m# sr_pair (based on unique stations in pair_os )\u001B[39;00m\n",
      "\u001B[0;31mKeyError\u001B[0m: 's2'"
     ]
    }
   ],
   "source": [
    "# Model\n",
    "for i in range(len(DistanceMaxL)):\n",
    "    for j in range(len(NumberStMaxL)):\n",
    "        model_04b, select_m4b, deploy_m4b, mvars_m4b, names_m4b, values_m4b, objValues_m4b, \\\n",
    "            spill_df_m4b, station_df_m4b, cover_1s_m4b, select_1s_m4b, deploy_1s_m4b, MeanResponseTime_m4b, coverage_percentage_m4b, assignment_m4b  \\\n",
    "            = ModelW.solve(Stations, OilSpills, ResourcesD, coordinates_potential_st, coordinates_spill, SizeSpill, SizeSpill_n,\n",
    "                  Demand, Sensitivity_R, Sensitivity_n, Eff, Effectiveness_n, Availability, NumberStMaxL[j], Distance, Distance_n,\n",
    "                  W, QuantityMin, DistanceMaxL[i], Cf_s, CostU, Budget,\n",
    "                  BigM, MaxFO)\n",
    "        select_1sL.append(select_1s_m4b.index)\n",
    "        coverage_percentageL.append(coverage_percentage_m4b)\n",
    "        MeanResponseTimeL.append(MeanResponseTime_m4b)\n",
    "        max_distance_sensitivity_L.append([DistanceMaxL[i], NumberStMaxL[j], MeanResponseTime_m4b])"
   ],
   "metadata": {
    "collapsed": false,
    "ExecuteTime": {
     "end_time": "2024-05-04T01:35:40.936790Z",
     "start_time": "2024-05-04T01:35:40.905988Z"
    }
   },
   "execution_count": 21
  },
  {
   "cell_type": "code",
   "outputs": [],
   "source": [
    "model_04b, select_m4b, deploy_m4b, mvars_m4b, names_m4b, values_m4b, objValues_m4b, \\\n",
    "    spill_df_m4b, station_df_m4b, cover_1s_m4b, select_1s_m4b, deploy_1s_m4b, MeanResponseTime_m4b, coverage_percentage_m4b, assignment_m4b  \\\n",
    "    = ModelW.solve(Stations, OilSpills, ResourcesD, coordinates_potential_st, coordinates_spill, SizeSpill, SizeSpill_n,\n",
    "          Demand, Sensitivity_R, Sensitivity_n, Eff, Effectiveness_n, Availability, NumberStMaxL[1], Distance, Distance_n,\n",
    "          W, QuantityMin, DistanceMaxL[0], Cf_s, CostU, Budget,\n",
    "          BigM, MaxFO)\n",
    "select_1sL.append(select_1s_m4b.index)\n",
    "coverage_percentageL.append(coverage_percentage_m4b)\n",
    "MeanResponseTimeL.append(MeanResponseTime_m4b)\n",
    "max_distance_sensitivity_L.append([DistanceMaxL[0], NumberStMaxL[1], MeanResponseTime_m4b])\n",
    "\n",
    "# Draw the network\n",
    "assignment_line_m4b = DrawNetworkDiagram.draw_network_diagram(DistanceMaxL[0], NumberStMaxL[1], Sensitivity_R, spill_df_m4b, station_df_m4b, MeanResponseTime_m4b, coverage_percentage_m4b, assignment_m4b, deploy_1s_m4b, select_1s_m4b, current_vs_proposed)"
   ],
   "metadata": {
    "collapsed": false,
    "ExecuteTime": {
     "start_time": "2024-05-04T01:17:06.378255Z"
    }
   },
   "execution_count": null
  },
  {
   "cell_type": "code",
   "outputs": [],
   "source": [
    "max_distance_sensitivity_df = pd.DataFrame(max_distance_sensitivity_L,\n",
    "                                              columns=['Max Distance Travelled','Max Number of Station','Mean Response Time'])\n",
    "max_distance_sensitivity_df"
   ],
   "metadata": {
    "collapsed": false,
    "ExecuteTime": {
     "start_time": "2024-05-04T01:17:06.379223Z"
    }
   },
   "execution_count": null
  },
  {
   "cell_type": "code",
   "outputs": [],
   "source": [
    "sns.lineplot(data = max_distance_sensitivity_df, x='Max Distance Travelled', y='Mean Response Time', hue='Max Number of Station')"
   ],
   "metadata": {
    "collapsed": false,
    "ExecuteTime": {
     "start_time": "2024-05-04T01:17:06.380155Z"
    }
   },
   "execution_count": null
  },
  {
   "cell_type": "markdown",
   "source": [
    "## Emphasize distance metric"
   ],
   "metadata": {
    "collapsed": false
   }
  },
  {
   "cell_type": "code",
   "outputs": [],
   "source": [
    "W = [100*0.25, 0.25, 100*0.25, 10**-4*0.25, 10**-2*0.25, 10 * 0.25]\n",
    "# we should emphasize spill size as well when trying to min distance. otherwise, it will minimize distance, & just assign nothing\n",
    "QuantityMin = 2"
   ],
   "metadata": {
    "collapsed": false,
    "ExecuteTime": {
     "start_time": "2024-05-04T01:17:06.381142Z"
    }
   },
   "execution_count": null
  },
  {
   "cell_type": "code",
   "outputs": [],
   "source": [
    "DistanceMaxL = [5, 7, 8, 10, 11, 12, 15, 20]\n",
    "NumberStMaxL = [5, 8, 10, 12]\n",
    "select_1sL =[]\n",
    "coverage_percentageL =[]\n",
    "MeanResponseTimeL =[]\n",
    "max_distance_sensitivity_L = []\n",
    "pareto_front_max_obj = []\n",
    "pareto_front_min_obj = []"
   ],
   "metadata": {
    "collapsed": false,
    "ExecuteTime": {
     "start_time": "2024-05-04T01:17:06.382214Z"
    }
   },
   "execution_count": null
  },
  {
   "cell_type": "code",
   "outputs": [],
   "source": [
    "# Model\n",
    "for i in range(len(DistanceMaxL)):\n",
    "    for j in range(len(NumberStMaxL)):\n",
    "        model_04b, select_m4b, deploy_m4b, mvars_m4b, names_m4b, values_m4b, objValues_m4b, \\\n",
    "            spill_df_m4b, station_df_m4b, cover_1s_m4b, select_1s_m4b, deploy_1s_m4b, MeanResponseTime_m4b, coverage_percentage_m4b, assignment_m4b  \\\n",
    "            = ModelW.solve(Stations, OilSpills, ResourcesD, coordinates_potential_st, coordinates_spill, SizeSpill, SizeSpill_n,\n",
    "                  Demand, Sensitivity_R, Sensitivity_n, Eff, Effectiveness_n, Availability, NumberStMaxL[j], Distance, Distance_n,\n",
    "                  W, QuantityMin, DistanceMaxL[i], Cf_s, CostU, Budget,\n",
    "                  BigM, MaxFO)\n",
    "        select_1sL.append(select_1s_m4b.index)\n",
    "        coverage_percentageL.append(coverage_percentage_m4b)\n",
    "        MeanResponseTimeL.append(MeanResponseTime_m4b)\n",
    "        max_distance_sensitivity_L.append([DistanceMaxL[i], NumberStMaxL[j], MeanResponseTime_m4b])\n",
    "\n",
    "        assignment_line_m4b = DrawNetworkDiagram.draw_network_diagram(DistanceMaxL[i], NumberStMaxL[j], Sensitivity_R, spill_df_m4b, station_df_m4b, MeanResponseTime_m4b,      coverage_percentage_m4b, assignment_m4b, deploy_1s_m4b, select_1s_m4b, current_vs_proposed)"
   ],
   "metadata": {
    "collapsed": false,
    "ExecuteTime": {
     "start_time": "2024-05-04T01:17:06.383621Z"
    }
   },
   "execution_count": null
  },
  {
   "cell_type": "code",
   "outputs": [],
   "source": [
    "max_distance_sensitivity_df = pd.DataFrame(max_distance_sensitivity_L,\n",
    "                                              columns=['Max Distance Travelled','Max Number of Station','Mean Response Time'])\n",
    "max_distance_sensitivity_df"
   ],
   "metadata": {
    "collapsed": false,
    "ExecuteTime": {
     "start_time": "2024-05-04T01:17:06.384923Z"
    }
   },
   "execution_count": null
  },
  {
   "cell_type": "code",
   "outputs": [],
   "source": [
    "sns.lineplot(data = max_distance_sensitivity_df, x='Max Distance Travelled', y='Mean Response Time', hue='Max Number of Station')"
   ],
   "metadata": {
    "collapsed": false,
    "ExecuteTime": {
     "start_time": "2024-05-04T01:17:06.386354Z"
    }
   },
   "execution_count": null
  },
  {
   "cell_type": "code",
   "execution_count": null,
   "outputs": [],
   "source": [
    "BigM = 10**20\n",
    "current_vs_proposed = 'proposed' # current\n",
    "MaxFO = 1\n",
    "Budget = 10**12\n",
    "W = [100*0.25, 0.25, 100*0.25, 10**-4*0.25, 10**-2*0.25, 10 * 0.25]\n",
    "# we should emphasize spill size as well when trying to min distance. otherwise, it will minimize distance, & just assign nothing\n",
    "# dropping 100 from sensitivity weight & add in distance min 100*\n",
    "QuantityMin = 2\n",
    "# NumberStMax_m4b = 5\n",
    "current_vs_proposed = 'proposed'\n",
    "\n",
    "DistanceMax = 10\n",
    "NumberStMax = 5"
   ],
   "metadata": {
    "collapsed": false,
    "ExecuteTime": {
     "start_time": "2024-05-04T01:17:06.387457Z"
    }
   }
  },
  {
   "cell_type": "code",
   "execution_count": null,
   "outputs": [],
   "source": [
    "# W = [0.25, 0.25, 0.25, 0.25, 0.25, 0.25]\n",
    "# w1 = [.25, .5, .75]; w2 = [.25, .5, .75]; w3 = [.25, .5, .75];\n",
    "w1 = [.25, 10, 100]; w2 = [10**-2, .25, 10, 100, 10**4]; w3 = [10**-2, .25, 1, 10, 100]\n",
    "w4 = [.25, .75]; w5 = .25; w6 = .25; w7 = .25; w8 = .25\n",
    "\n",
    "weight_sensi_L = []\n",
    "MeanResponseTime_m4bL=[]\n",
    "coverage_percentage_m4bL=[]\n",
    "objValues_m4bL = []"
   ],
   "metadata": {
    "collapsed": false,
    "ExecuteTime": {
     "start_time": "2024-05-04T01:17:06.389610Z"
    }
   }
  },
  {
   "cell_type": "markdown",
   "source": [
    "## Run Model 4(b)"
   ],
   "metadata": {
    "collapsed": false
   }
  },
  {
   "cell_type": "code",
   "execution_count": null,
   "outputs": [],
   "source": [
    "# Model\n",
    "for i in range(len(w1)):\n",
    "    for j in range(len(w2)):\n",
    "        for k in range(len(w3)):\n",
    "            for n in range(len(w4)):\n",
    "                W = [w1[i], w2[j], w3[k], w4[n], w5, w6, w7, w8]\n",
    "                model_04b, select_m4b, deploy_m4b, mvars_m4b, names_m4b, values_m4b, objValues_m4b, \\\n",
    "                    spill_df_m4b, station_df_m4b, cover_1s_m4b, select_1s_m4b, deploy_1s_m4b, MeanResponseTime_m4b, coverage_percentage_m4b, assignment_m4b  \\\n",
    "                    = Model.solve(Stations, OilSpills, ResourcesD, coordinates_potential_st, coordinates_spill, SizeSpill, SizeSpill_n,\n",
    "                          Demand, Sensitivity_R, Sensitivity_n, Eff, Effectiveness_n, Availability, NumberStMax, Distance, Distance_n,\n",
    "                          W, QuantityMin, DistanceMax, Cf_s, CostU, Budget,\n",
    "                          BigM, MaxFO)\n",
    "\n",
    "                weight_sensi_L.append([w1[i], w2[j], w3[k], w4[n], w5, w6, w7, w8,\n",
    "                                       coverage_percentage_m4b, MeanResponseTime_m4b, objValues_m4b[1::2][1]]) # coverage of sensitive area ++"
   ],
   "metadata": {
    "collapsed": false,
    "ExecuteTime": {
     "start_time": "2024-05-04T01:17:06.391747Z"
    }
   }
  },
  {
   "cell_type": "code",
   "execution_count": null,
   "outputs": [],
   "source": [
    "data_weight_pcp = pd.DataFrame(weight_sensi_L)\n",
    "data_weight_pcp.columns = ['w1', 'w2', 'w3', 'w4', 'w5', 'w6', 'w7', 'w8', 'coverage_percentage', 'MeanResponseTime', 'objValues2']\n",
    "data_weight_pcp"
   ],
   "metadata": {
    "collapsed": false,
    "ExecuteTime": {
     "start_time": "2024-05-04T01:17:06.393828Z"
    }
   }
  },
  {
   "cell_type": "code",
   "execution_count": null,
   "outputs": [],
   "source": [
    "data_weight_pcp.info()"
   ],
   "metadata": {
    "collapsed": false,
    "ExecuteTime": {
     "start_time": "2024-05-04T01:17:06.394917Z"
    }
   }
  },
  {
   "cell_type": "code",
   "execution_count": null,
   "outputs": [],
   "source": [
    "data_weight_pcp1 = data_weight_pcp[['w1', 'w3', 'w4', 'w5', 'w6', 'w7', 'w8', 'coverage_percentage']].copy()\n",
    "data_weight_pcp2 = data_weight_pcp[['w1', 'w3', 'w4', 'w5', 'w6', 'w7', 'w8', 'MeanResponseTime']].copy()\n",
    "data_weight_pcp3 = data_weight_pcp[['w1',  'w3', 'w4', 'w5', 'w6', 'w7', 'w8', 'objValues2']].copy()"
   ],
   "metadata": {
    "collapsed": false,
    "ExecuteTime": {
     "start_time": "2024-05-04T01:17:06.396072Z"
    }
   }
  },
  {
   "cell_type": "markdown",
   "source": [
    "# Fig8 PCP"
   ],
   "metadata": {
    "collapsed": false
   }
  },
  {
   "cell_type": "code",
   "execution_count": null,
   "outputs": [],
   "source": [
    "data_weight_pcp = pd.read_excel('../data/processed/data_weight_pcp.xlsx')\n",
    "data_co_sorted = data_weight_pcp.sort_values(['coverage_percentage'], ascending=False)\n",
    "data_MeanRT_sorted = data_weight_pcp.sort_values(['MeanResponseTime'], ascending=False)\n",
    "data_cost_sorted = data_weight_pcp.sort_values(['objValues2'], ascending=False)"
   ],
   "metadata": {
    "collapsed": false,
    "ExecuteTime": {
     "start_time": "2024-05-04T01:17:06.397040Z"
    }
   }
  },
  {
   "cell_type": "code",
   "execution_count": null,
   "outputs": [],
   "source": [
    "import matplotlib.ticker as ticker\n",
    "fig, ax = plt.subplots(figsize=(2,3))\n",
    "kwargs = {'lw':0.6} #'alpha':1,\n",
    "ax = pd.plotting.parallel_coordinates(data_co_sorted, class_column='coverage_percentage',\n",
    "                                 cols=['w1','w2', 'w3'],\n",
    "                                 colormap=plt.get_cmap('hot'),\n",
    "                                axvlines=False,\n",
    "                                 **kwargs                      )\n",
    "plt.yscale(\"log\")\n",
    "plt.ylabel('Coverage', fontsize=10)\n",
    "plt.yticks(fontsize=10)\n",
    "ax.set_xticklabels(['$w_1$', '$w_2$', '$w_3$'])\n",
    "plt.tight_layout()\n",
    "ax.legend(bbox_to_anchor=(1,1), fontsize = 8)\n",
    "ax.grid(False)\n",
    "fig.savefig(f'../plots/Fig8a PCP.png', transparent=False, dpi=400, bbox_inches = \"tight\")\n",
    "\n",
    "fig, ax = plt.subplots(figsize=(2,3))\n",
    "kwargs = {'lw':0.6} #'alpha':1,\n",
    "ax = pd.plotting.parallel_coordinates(data_MeanRT_sorted, class_column='MeanResponseTime',\n",
    "                                 cols=['w1','w2', 'w3'],\n",
    "                                 colormap=plt.get_cmap('hot'),axvlines=False,\n",
    "                                 **kwargs                      )\n",
    "plt.yscale(\"log\")\n",
    "plt.ylabel('Mean Response Time', fontsize=10)\n",
    "plt.yticks(fontsize=10)\n",
    "ax.set_xticklabels(['$w_1$', '$w_2$', '$w_3$'])\n",
    "plt.tight_layout()\n",
    "ax.legend(bbox_to_anchor=(1,1), fontsize = 8)\n",
    "ax.grid(False)\n",
    "fig.savefig(f'../plots/Fig8b PCP.png', transparent=False, dpi=400, bbox_inches = \"tight\")\n",
    "\n",
    "fig, ax = plt.subplots(figsize=(2,3))\n",
    "kwargs = {'lw':0.6} #'alpha':1,\n",
    "ax = pd.plotting.parallel_coordinates(data_cost_sorted, class_column='objValues2',\n",
    "                                 cols=['w1','w2', 'w3'],\n",
    "                                 colormap=plt.get_cmap('hot'),axvlines=False,\n",
    "                                 **kwargs                      )\n",
    "plt.yscale(\"log\")\n",
    "plt.ylabel('Objective 2', fontsize=10)\n",
    "plt.yticks(fontsize=10)\n",
    "ax.set_xticklabels(['$w_1$', '$w_2$', '$w_3$'])\n",
    "plt.tight_layout()\n",
    "ax.legend(bbox_to_anchor=(1,1), fontsize = 7)\n",
    "ax.grid(False)\n",
    "fig.savefig(f'../plots/Fig8c PCP.png', transparent=False, dpi=400, bbox_inches = \"tight\")"
   ],
   "metadata": {
    "collapsed": false,
    "ExecuteTime": {
     "start_time": "2024-05-04T01:17:06.398133Z"
    }
   }
  },
  {
   "cell_type": "markdown",
   "source": [
    "# Fig10 \n",
    "Boxplot - compare coverage, cost, time for current vs proposed"
   ],
   "metadata": {
    "collapsed": false
   }
  },
  {
   "cell_type": "markdown",
   "source": [
    "Creating 10 sets of data"
   ],
   "metadata": {
    "collapsed": false
   }
  },
  {
   "cell_type": "code",
   "execution_count": null,
   "outputs": [],
   "source": [
    "# read csv file for newly created 10 sets\n",
    "spill_data = pd.read_csv('../data/processed/10 Sets of spills/setA_data_100_oil_spills.csv')\n",
    "potential_station_data = pd.read_excel('../data/processed/10 Sets of spills/data_oil_spill_resource_allocation_Arctic_2023_setA.xlsx', sheet_name='stations', header=0).copy()\n",
    "input_parameters = pd.read_excel('../data/processed/10 Sets of spills/data_oil_spill_resource_allocation_Arctic_2023_setA.xlsx', sheet_name='Estimated parameters', header=0).copy()"
   ],
   "metadata": {
    "collapsed": false,
    "ExecuteTime": {
     "start_time": "2024-05-04T01:17:06.399963Z"
    }
   }
  },
  {
   "cell_type": "code",
   "execution_count": null,
   "outputs": [],
   "source": [
    "# Data Extraction\n",
    "coordinates_potential_st = custom_func.extract_station_coordinate(potential_station_data)\n",
    "potential_st_coord = pd.DataFrame(coordinates_potential_st[1]).T.reset_index().set_index('index')\n",
    "potential_st_coord.columns = ['St_Latitude', 'St_Longitude']\n",
    "\n",
    "\n",
    "coordinates_spill = custom_func.extract_spill_coordinate(spill_data)\n",
    "spill_coord = pd.DataFrame(coordinates_spill[1]).T.reset_index().set_index('index')\n",
    "spill_coord.columns = ['St_Latitude', 'St_Longitude']\n",
    "display(spill_coord)"
   ],
   "metadata": {
    "collapsed": false,
    "ExecuteTime": {
     "start_time": "2024-05-04T01:17:06.400812Z"
    }
   }
  },
  {
   "cell_type": "code",
   "execution_count": null,
   "outputs": [],
   "source": [
    "# Input param\n",
    "Stations, OilSpills, ResourcesD, Demand, Availability, Eff, Distance, TimeR, Cf_s, CostU \\\n",
    "= data_preparation.generate_input_data(potential_station_data, spill_data, input_parameters)\n",
    "\n",
    "SizeSpill = SizeSpill_R = list(spill_data['Spill size']).copy()\n",
    "Sensitivity_R = custom_func.calculate_sensitivity(coordinates_spill[0], sensitivity_dataR)\n",
    "# normalize\n",
    "SizeSpill_n = dict(zip(OilSpills, custom_func.normalize(SizeSpill_R, min(SizeSpill_R), max(SizeSpill_R))))\n",
    "Sensitivity_n = dict(zip(OilSpills, custom_func.normalize(Sensitivity_R, min(Sensitivity_R), max(Sensitivity_R))))\n",
    "\n",
    "Distance_n = dict(zip(Distance.keys(), custom_func.normalize(Distance.values(), min(Distance.values()), max(Distance.values()))))\n",
    "# (x_0-x_min)/(x_max-x_min)\n",
    "Effectiveness_n = dict(zip(Eff.keys(), custom_func.normalize(Eff.values(), min(Eff.values()), max(Eff.values()))))"
   ],
   "metadata": {
    "collapsed": false,
    "ExecuteTime": {
     "start_time": "2024-05-04T01:17:06.401638Z"
    }
   }
  },
  {
   "cell_type": "markdown",
   "source": [],
   "metadata": {
    "collapsed": false
   }
  },
  {
   "cell_type": "code",
   "execution_count": null,
   "outputs": [],
   "source": [
    "NumberStMax_m4b = 5\n",
    "DistanceMax = 10\n",
    "current_vs_proposed = 'proposed'"
   ],
   "metadata": {
    "collapsed": false,
    "ExecuteTime": {
     "start_time": "2024-05-04T01:17:06.402517Z"
    }
   }
  },
  {
   "cell_type": "code",
   "execution_count": null,
   "outputs": [],
   "source": [
    "# Model\n",
    "model_04b, select_m4b, deploy_m4b, mvars_m4b, names_m4b, values_m4b, objValues_m4b, \\\n",
    "        spill_df_m4b, station_df_m4b, cover_1s_m4b, select_1s_m4b, deploy_1s_m4b, MeanResponseTime_m4b, coverage_percentage_m4b, assignment_m4b  \\\n",
    "    = Model.solve(Stations, OilSpills, ResourcesD, coordinates_potential_st, coordinates_spill, SizeSpill, SizeSpill_n,\n",
    "          Demand, Sensitivity_R, Sensitivity_n, Eff, Effectiveness_n, Availability, NumberStMax_m4b, Distance, Distance_n,\n",
    "          W, QuantityMin, DistanceMax, Cf_s, CostU, Budget,\n",
    "          BigM, MaxFO)"
   ],
   "metadata": {
    "collapsed": false,
    "ExecuteTime": {
     "start_time": "2024-05-04T01:17:06.403129Z"
    }
   }
  },
  {
   "cell_type": "code",
   "execution_count": null,
   "outputs": [],
   "source": [
    "# Draw the network\n",
    "assignment_line_m4b = DrawNetworkDiagram.draw_network_diagram(DistanceMax, NumberStMax_m4b, Sensitivity_R, spill_df_m4b, station_df_m4b, MeanResponseTime_m4b, coverage_percentage_m4b, assignment_m4b, deploy_1s_m4b, select_1s_m4b, current_vs_proposed)"
   ],
   "metadata": {
    "collapsed": false,
    "ExecuteTime": {
     "start_time": "2024-05-04T01:17:06.403774Z"
    }
   }
  },
  {
   "cell_type": "code",
   "execution_count": null,
   "outputs": [],
   "source": [],
   "metadata": {
    "collapsed": false,
    "ExecuteTime": {
     "start_time": "2024-05-04T01:17:06.404524Z"
    }
   }
  },
  {
   "cell_type": "code",
   "execution_count": null,
   "outputs": [],
   "source": [
    "boxplot_df = pd.DataFrame(index=range(10),\n",
    "                          columns=['Set of 100 spills', 'Coverage (%)','Mean Respone Time', 'Cost Objective value'])\n",
    "# boxplot_df"
   ],
   "metadata": {
    "collapsed": false,
    "ExecuteTime": {
     "start_time": "2024-05-04T01:17:06.405178Z"
    }
   }
  },
  {
   "cell_type": "markdown",
   "source": [
    "## Run without for loop"
   ],
   "metadata": {
    "collapsed": false
   }
  },
  {
   "cell_type": "code",
   "execution_count": null,
   "outputs": [],
   "source": [
    "# Load data\n",
    "# read csv file for newly created 10 sets\n",
    "spill_data = pd.read_csv('../data/processed/10 Sets of spills/setJ_data_100_oil_spills.csv')\n",
    "potential_station_data = pd.read_excel('../data/processed/10 Sets of spills/data_oil_spill_resource_allocation_Arctic_2023_setJ.xlsx', sheet_name='stations', header=0).copy()\n",
    "input_parameters = pd.read_excel('../data/processed/10 Sets of spills/data_oil_spill_resource_allocation_Arctic_2023_setJ.xlsx', sheet_name='Estimated parameters', header=0).copy()\n",
    "\n",
    "# Data Extraction\n",
    "coordinates_potential_st = custom_func.extract_station_coordinate(potential_station_data)\n",
    "potential_st_coord = pd.DataFrame(coordinates_potential_st[1]).T.reset_index().set_index('index')\n",
    "potential_st_coord.columns = ['St_Latitude', 'St_Longitude']\n",
    "coordinates_spill = custom_func.extract_spill_coordinate(spill_data)\n",
    "spill_coord = pd.DataFrame(coordinates_spill[1]).T.reset_index().set_index('index')\n",
    "spill_coord.columns = ['St_Latitude', 'St_Longitude']\n",
    "display(spill_coord)\n",
    "\n",
    "# Input param\n",
    "Stations, OilSpills, ResourcesD, Demand, Availability, Eff, Distance, TimeR, Cf_s, CostU \\\n",
    "= data_preparation.generate_input_data(potential_station_data, spill_data, input_parameters)\n",
    "\n",
    "SizeSpill = SizeSpill_R = list(spill_data['Spill size']).copy()\n",
    "Sensitivity_R = custom_func.calculate_sensitivity(coordinates_spill[0], sensitivity_dataR)\n",
    "# normalize\n",
    "SizeSpill_n = dict(zip(OilSpills, custom_func.normalize(SizeSpill_R, min(SizeSpill_R), max(SizeSpill_R))))\n",
    "Sensitivity_n = dict(zip(OilSpills, custom_func.normalize(Sensitivity_R, min(Sensitivity_R), max(Sensitivity_R))))\n",
    "\n",
    "Distance_n = dict(zip(Distance.keys(), custom_func.normalize(Distance.values(), min(Distance.values()), max(Distance.values()))))\n",
    "# (x_0-x_min)/(x_max-x_min)\n",
    "Effectiveness_n = dict(zip(Eff.keys(), custom_func.normalize(Eff.values(), min(Eff.values()), max(Eff.values()))))\n",
    "\n",
    "NumberStMax_m4b = 5\n",
    "DistanceMax = 10\n",
    "current_vs_proposed = 'proposed'\n",
    "\n",
    "# Model\n",
    "model_04b, select_m4b, deploy_m4b, mvars_m4b, names_m4b, values_m4b, objValues_m4b, \\\n",
    "        spill_df_m4b, station_df_m4b, cover_1s_m4b, select_1s_m4b, deploy_1s_m4b, MeanResponseTime_m4b, coverage_percentage_m4b, assignment_m4b  \\\n",
    "    = Model.solve(Stations, OilSpills, ResourcesD, coordinates_potential_st, coordinates_spill, SizeSpill, SizeSpill_n,\n",
    "          Demand, Sensitivity_R, Sensitivity_n, Eff, Effectiveness_n, Availability, NumberStMax_m4b, Distance, Distance_n,\n",
    "          W, QuantityMin, DistanceMax, Cf_s, CostU, Budget,\n",
    "          BigM, MaxFO)"
   ],
   "metadata": {
    "collapsed": false,
    "ExecuteTime": {
     "start_time": "2024-05-04T01:17:06.405771Z"
    }
   }
  },
  {
   "cell_type": "markdown",
   "source": [
    "## Save Output"
   ],
   "metadata": {
    "collapsed": false
   }
  },
  {
   "cell_type": "markdown",
   "source": [
    "Performance metric of proposed facility layout (model 4b)"
   ],
   "metadata": {
    "collapsed": false
   }
  },
  {
   "cell_type": "code",
   "execution_count": null,
   "outputs": [],
   "source": [
    "SetName = 'Set J'\n",
    "if SetName == 'Set J':\n",
    "    i = 9\n",
    "    boxplot_df.iloc[i,0] = SetName\n",
    "    boxplot_df.iloc[i,1] = coverage_percentage_m4b\n",
    "    boxplot_df.iloc[i,2] = MeanResponseTime_m4b\n",
    "    boxplot_df.iloc[i,3] = objValues_m4b[1::2][0]\n",
    "boxplot_df"
   ],
   "metadata": {
    "collapsed": false,
    "ExecuteTime": {
     "start_time": "2024-05-04T01:17:06.406333Z"
    }
   }
  },
  {
   "cell_type": "code",
   "execution_count": null,
   "outputs": [],
   "source": [
    "boxplot_df.to_csv('../data/processed/boxplot_data_proposed.csv')"
   ],
   "metadata": {
    "collapsed": false,
    "ExecuteTime": {
     "start_time": "2024-05-04T01:17:06.406951Z"
    }
   }
  },
  {
   "cell_type": "markdown",
   "source": [
    "## Current facility location - model 3 (for 10 dataset) using for loop"
   ],
   "metadata": {
    "collapsed": false
   }
  },
  {
   "cell_type": "code",
   "execution_count": null,
   "outputs": [],
   "source": [
    "boxplot_df_model3 = pd.DataFrame(index=range(10),\n",
    "                          columns=['Set of 100 spills', 'Coverage (%)','Mean Respone Time', 'Cost Objective value'])\n",
    "# boxplot_df"
   ],
   "metadata": {
    "collapsed": false,
    "ExecuteTime": {
     "start_time": "2024-05-04T01:17:06.407661Z"
    }
   }
  },
  {
   "cell_type": "code",
   "execution_count": null,
   "outputs": [],
   "source": [
    "SetNameL = ['setA', 'setB', 'setC', 'setD', 'setE', 'setF', 'setG', 'setH', 'setI', 'setJ']\n",
    "\n",
    "NumberStMax_m3 = 6\n",
    "DistanceMax = 10\n",
    "current_vs_proposed = 'current'\n",
    "\n",
    "for SetName in SetNameL:\n",
    "    # Load data\n",
    "    # read csv file for newly created 10 sets\n",
    "    spill_data = pd.read_csv(f'../data/processed/10 Sets of spills/{SetName}_data_100_oil_spills.csv')\n",
    "\n",
    "    coordinates_spill = custom_func.extract_spill_coordinate(spill_data)\n",
    "    spill_coord = pd.DataFrame(coordinates_spill[1]).T.reset_index().set_index('index')\n",
    "    spill_coord.columns = ['St_Latitude', 'St_Longitude']\n",
    "\n",
    "    # Input param\n",
    "    Stations, OilSpills, ResourcesD, Demand, Availability, Eff, Distance, TimeR, Cf_s, CostU \\\n",
    "    = data_preparation.generate_input_data(current_station_data, spill_data, current_input_param)\n",
    "\n",
    "    SizeSpill = SizeSpill_R = list(spill_data['Spill size']).copy()\n",
    "    Sensitivity_R = custom_func.calculate_sensitivity(coordinates_spill[0], sensitivity_dataR)\n",
    "    # normalize\n",
    "    SizeSpill_n = dict(zip(OilSpills, custom_func.normalize(SizeSpill_R, min(SizeSpill_R), max(SizeSpill_R))))\n",
    "    Sensitivity_n = dict(zip(OilSpills, custom_func.normalize(Sensitivity_R, min(Sensitivity_R), max(Sensitivity_R))))\n",
    "\n",
    "    Distance_n = dict(zip(Distance.keys(), custom_func.normalize(Distance.values(), min(Distance.values()), max(Distance.values()))))\n",
    "    # (x_0-x_min)/(x_max-x_min)\n",
    "    Effectiveness_n = dict(zip(Eff.keys(), custom_func.normalize(Eff.values(), min(Eff.values()), max(Eff.values()))))\n",
    "\n",
    "    # Modeling based on current setup\n",
    "    model_03, select_m3, deploy_m3, mvars_m3, names_m3, values_m3, objValues_m3, \\\n",
    "            spill_df_m3, station_df_m3, cover_1s_m3, select_1s_m3, deploy_1s_m3, MeanResponseTime_m3, coverage_percentage_m3, assignment_m3  \\\n",
    "        = Model.solve(Stations, OilSpills, ResourcesD, coordinates_st, coordinates_spill, SizeSpill, SizeSpill_n,\n",
    "              Demand, Sensitivity_R, Sensitivity_n, Eff, Effectiveness_n, Availability, NumberStMax_m3, Distance, Distance_n,\n",
    "              W, QuantityMin, DistanceMax, Cf_s, CostU, Budget,\n",
    "              BigM, MaxFO)\n",
    "\n",
    "    if SetName == 'setA':\n",
    "        i = 0\n",
    "    elif SetName == 'setB':\n",
    "        i = 1\n",
    "    elif SetName == 'setC':\n",
    "        i = 2\n",
    "    elif SetName == 'setD':\n",
    "        i = 3\n",
    "    elif SetName == 'setE':\n",
    "        i = 4\n",
    "    elif SetName == 'setF':\n",
    "        i = 5\n",
    "    elif SetName == 'setG':\n",
    "        i = 6\n",
    "    elif SetName == 'setH':\n",
    "        i = 7\n",
    "    elif SetName == 'setI':\n",
    "        i = 8\n",
    "    elif SetName == 'setJ':\n",
    "        i = 9\n",
    "    boxplot_df_model3.iloc[i,0] = SetName\n",
    "    boxplot_df_model3.iloc[i,1] = coverage_percentage_m3\n",
    "    boxplot_df_model3.iloc[i,2] = MeanResponseTime_m3\n",
    "    boxplot_df_model3.iloc[i,3] = objValues_m3[1::2][0]\n",
    "\n",
    "boxplot_df_model3"
   ],
   "metadata": {
    "collapsed": false,
    "ExecuteTime": {
     "start_time": "2024-05-04T01:17:06.408235Z"
    }
   }
  },
  {
   "cell_type": "code",
   "execution_count": null,
   "outputs": [],
   "source": [
    "boxplot_df_model3.to_csv('../data/processed/boxplot_df_model3.csv')"
   ],
   "metadata": {
    "collapsed": false,
    "ExecuteTime": {
     "start_time": "2024-05-04T01:17:06.408783Z"
    }
   }
  },
  {
   "cell_type": "markdown",
   "source": [
    "## Draw Boxplot"
   ],
   "metadata": {
    "collapsed": false
   }
  },
  {
   "cell_type": "code",
   "execution_count": null,
   "outputs": [],
   "source": [
    "data_compare = pd.read_excel('../data/processed/Boxplot_data.xlsx', sheet_name='Sheet1', skiprows=[0])\n",
    "data_compare.info()\n",
    "coverage_df_stacked = data_compare[['Current','Proposed']].copy().stack().reset_index()\n",
    "coverage_df_stacked.columns = ['Index','Facility','Coverage']\n",
    "cost_df_stacked = data_compare[['Current.1','Proposed.1']].copy().stack().reset_index()\n",
    "cost_df_stacked.columns = ['Index','Facility','Cost']\n",
    "\n",
    "time_df_stacked = data_compare[['Current.2','Proposed.2']].copy().stack().reset_index()\n",
    "time_df_stacked.columns = ['Index','Facility','Response Time']"
   ],
   "metadata": {
    "collapsed": false,
    "ExecuteTime": {
     "start_time": "2024-05-04T01:17:06.409336Z"
    }
   }
  },
  {
   "cell_type": "code",
   "execution_count": null,
   "outputs": [],
   "source": [
    "sns.set_theme(style=\"white\")\n",
    "plt.rcParams['axes.edgecolor'] = 'lightgray'\n",
    "\n",
    "fig, (ax1, ax2, ax3) = plt.subplots(1,3, figsize=(6,4))\n",
    "alpha_val = 0.7\n",
    "\n",
    "sns.boxplot(data= coverage_df_stacked, ax=ax1, x='Facility', y='Coverage',\n",
    "            boxprops=dict(alpha=alpha_val), palette=[\"g\", \"yellow\"]).set(ylabel='Spill Coverage (%)')\n",
    "sns.stripplot(data= coverage_df_stacked, ax=ax1, x='Facility', y='Coverage',\n",
    "              alpha=alpha_val)\n",
    "sns.boxplot(data= cost_df_stacked, ax=ax2, x='Facility', y='Cost',\n",
    "            boxprops=dict(alpha=alpha_val), palette=[\"g\", \"yellow\"]).set(ylabel='Cost Objective Value')\n",
    "sns.stripplot(data= cost_df_stacked, ax=ax2, x='Facility', y='Cost',\n",
    "              alpha=alpha_val)\n",
    "sns.boxplot(data= time_df_stacked, ax=ax3, x='Facility', y='Response Time',\n",
    "            boxprops=dict(alpha=alpha_val), palette=[\"g\", \"yellow\"]).set(ylabel='Mean Response Time (in hr)')\n",
    "sns.stripplot(data= time_df_stacked, ax=ax3, x='Facility', y='Response Time',\n",
    "              alpha=alpha_val)\n",
    "\n",
    "\n",
    "ax1.set_xticklabels(['Current', 'Proposed']); ax1.set_xlabel(''); ax1.tick_params(axis='x', labelrotation=30)\n",
    "ax2.set_xticklabels(['Current', 'Proposed']); ax2.set_xlabel(''); ax2.tick_params(axis='x', labelrotation=30)\n",
    "ax3.set_xticklabels(['Current', 'Proposed']); ax3.set_xlabel(''); ax3.tick_params(axis='x', labelrotation=30)\n",
    "plt.tight_layout()\n",
    "plt.show()\n",
    "fig.savefig('../plots/Fig10 boxplot.png', transparent=False, dpi= 500)"
   ],
   "metadata": {
    "collapsed": false,
    "ExecuteTime": {
     "start_time": "2024-05-04T01:17:06.409880Z"
    }
   }
  },
  {
   "cell_type": "markdown",
   "source": [
    "# Fig 11:  Pareto Front"
   ],
   "metadata": {
    "collapsed": false
   }
  },
  {
   "cell_type": "markdown",
   "source": [
    "## Create data"
   ],
   "metadata": {
    "collapsed": false
   }
  },
  {
   "cell_type": "code",
   "outputs": [],
   "source": [
    "## Current facility location - model 4b (for 10 dataset) using for loop\n",
    "pareto_front_df_model4b = pd.DataFrame(index=range(10),\n",
    "                                 columns=['Max coverage',\n",
    "                                          'Min cost'])\n",
    "SetNameL = ['setA', 'setB', 'setC', 'setD', 'setE', 'setF', 'setG', 'setH', 'setI', 'setJ']\n",
    "NumberStMax_m4b = 5\n",
    "DistanceMax = 10\n",
    "current_vs_proposed = 'proposed'\n",
    "BigM = 10**20\n",
    "current_vs_proposed = 'proposed' # current\n",
    "MaxFO = 1\n",
    "Budget = 10**12\n",
    "W = [0.25, 0.25, 0.25, 0.25, 0.25, 0.25]\n",
    "# we should emphasize spill size as well when trying to min distance. otherwise, it will minimize distance, & just assign nothing\n",
    "# dropping 100 from sensitivity weight & add in distance min 100*\n",
    "QuantityMin = 2\n",
    "\n",
    "\n",
    "# Data Extraction\n",
    "coordinates_potential_st = custom_func.extract_station_coordinate(potential_station_data)\n",
    "potential_st_coord = pd.DataFrame(coordinates_potential_st[1]).T.reset_index().set_index('index')\n",
    "potential_st_coord.columns = ['St_Latitude', 'St_Longitude']"
   ],
   "metadata": {
    "collapsed": false,
    "ExecuteTime": {
     "start_time": "2024-05-04T01:17:06.410470Z"
    }
   },
   "execution_count": null
  },
  {
   "cell_type": "code",
   "outputs": [],
   "source": [
    "for SetName in SetNameL:\n",
    "    # Load data\n",
    "    # read csv file for newly created 10 sets\n",
    "    spill_data = pd.read_csv(f'../data/processed/10 Sets of spills/{SetName}_data_100_oil_spills.csv')\n",
    "\n",
    "    coordinates_spill = custom_func.extract_spill_coordinate(spill_data)\n",
    "    spill_coord = pd.DataFrame(coordinates_spill[1]).T.reset_index().set_index('index')\n",
    "    spill_coord.columns = ['St_Latitude', 'St_Longitude']\n",
    "\n",
    "\n",
    "    # Input param\n",
    "    Stations, OilSpills, ResourcesD, Demand, Availability, Eff, Distance, TimeR, Cf_s, CostU \\\n",
    "    = data_preparation.generate_input_data(potential_station_data, spill_data, input_parameters)\n",
    "\n",
    "    SizeSpill = SizeSpill_R = list(spill_data['Spill size']).copy()\n",
    "    Sensitivity_R = custom_func.calculate_sensitivity(coordinates_spill[0], sensitivity_dataR)\n",
    "    # normalize\n",
    "    SizeSpill_n = dict(zip(OilSpills, custom_func.normalize(SizeSpill_R, min(SizeSpill_R), max(SizeSpill_R))))\n",
    "    Sensitivity_n = dict(zip(OilSpills, custom_func.normalize(Sensitivity_R, min(Sensitivity_R), max(Sensitivity_R))))\n",
    "\n",
    "    Distance_n = dict(zip(Distance.keys(), custom_func.normalize(Distance.values(), min(Distance.values()), max(Distance.values()))))\n",
    "    # (x_0-x_min)/(x_max-x_min)\n",
    "    Effectiveness_n = dict(zip(Eff.keys(), custom_func.normalize(Eff.values(), min(Eff.values()), max(Eff.values()))))\n",
    "\n",
    "\n",
    "    # Model\n",
    "    model_04b, select_m4b, deploy_m4b, mvars_m4b, names_m4b, values_m4b, objValues_m4b, \\\n",
    "            spill_df_m4b, station_df_m4b, cover_1s_m4b, select_1s_m4b, deploy_1s_m4b, MeanResponseTime_m4b, coverage_percentage_m4b, assignment_m4b  \\\n",
    "        = Model.solve(Stations, OilSpills, ResourcesD, coordinates_potential_st, coordinates_spill, SizeSpill, SizeSpill_n,\n",
    "              Demand, Sensitivity_R, Sensitivity_n, Eff, Effectiveness_n, Availability, NumberStMax_m4b, Distance, Distance_n,\n",
    "              W, QuantityMin, DistanceMax, Cf_s, CostU, Budget,\n",
    "              BigM, MaxFO)\n",
    "\n",
    "    if SetName == 'setA':\n",
    "        i = 0\n",
    "    elif SetName == 'setB':\n",
    "        i = 1\n",
    "    elif SetName == 'setC':\n",
    "        i = 2\n",
    "    elif SetName == 'setD':\n",
    "        i = 3\n",
    "    elif SetName == 'setE':\n",
    "        i = 4\n",
    "    elif SetName == 'setF':\n",
    "        i = 5\n",
    "    elif SetName == 'setG':\n",
    "        i = 6\n",
    "    elif SetName == 'setH':\n",
    "        i = 7\n",
    "    elif SetName == 'setI':\n",
    "        i = 8\n",
    "    elif SetName == 'setJ':\n",
    "        i = 9\n",
    "    pareto_front_df_model4b.iloc[i, 0] = objValues_m4b[0::2]\n",
    "    pareto_front_df_model4b.iloc[i, 1] = objValues_m4b[1::2]\n",
    "    pareto_front_df_model4b.iloc[i, 1] = SetName\n",
    "\n",
    "\n",
    "pareto_front_df_model4b"
   ],
   "metadata": {
    "collapsed": false,
    "ExecuteTime": {
     "start_time": "2024-05-04T01:17:06.411049Z"
    }
   },
   "execution_count": null
  },
  {
   "cell_type": "code",
   "outputs": [],
   "source": [
    "pareto_front_df_model4b.to_csv('../data/processed/pareto_front_df_model4b.csv')\n",
    "pareto_front_df_model4b"
   ],
   "metadata": {
    "collapsed": false,
    "ExecuteTime": {
     "start_time": "2024-05-04T01:17:06.411595Z"
    }
   },
   "execution_count": null
  },
  {
   "cell_type": "markdown",
   "source": [
    "## Read data"
   ],
   "metadata": {
    "collapsed": false
   }
  },
  {
   "cell_type": "code",
   "execution_count": null,
   "outputs": [],
   "source": [
    "pareto_front_df_model4b = pd.read_excel('../data/processed/data_pareto_front.xlsx').copy()\n",
    "pareto_front_df_model4b"
   ],
   "metadata": {
    "collapsed": false,
    "ExecuteTime": {
     "start_time": "2024-05-04T01:17:06.412196Z"
    }
   }
  },
  {
   "cell_type": "code",
   "execution_count": null,
   "outputs": [],
   "source": [
    "plt.figure(figsize=(6,4))\n",
    "plt.scatter(data = pareto_front_df_model4b, x='Max Coverage', y='Min Cost',\n",
    "            alpha=0.5, edgecolors='b', s=200)\n",
    "plt.xlabel('Max Coverage')\n",
    "plt.ylabel('Min Cost')\n",
    "plt.grid(False)\n",
    "plt.tight_layout()\n",
    "plt.savefig('../plots/pareto_front.png', transparent=True)"
   ],
   "metadata": {
    "collapsed": false,
    "ExecuteTime": {
     "start_time": "2024-05-04T01:17:06.412775Z"
    }
   }
  },
  {
   "cell_type": "code",
   "execution_count": null,
   "outputs": [],
   "source": [
    "pareto_front_df_model4b.plot.scatter(x='Max Coverage', y='Min Cost')"
   ],
   "metadata": {
    "collapsed": false,
    "ExecuteTime": {
     "start_time": "2024-05-04T01:17:06.413379Z"
    }
   }
  },
  {
   "cell_type": "markdown",
   "source": [],
   "metadata": {
    "collapsed": false
   }
  },
  {
   "cell_type": "code",
   "execution_count": null,
   "outputs": [],
   "source": [
    "data_pareto_front = pareto_front_df_model4b\n",
    "fig11 = plt.subplots(1,3)\n",
    "plt.figure(figsize=(6,4))\n",
    "plt.scatter(data=data_pareto_front, x='Max Coverage', y='Min Cost',\n",
    "            alpha=0.5, edgecolors='b', s=200, color='g')\n",
    "plt.scatter(data=data_pareto_front, x='Max', y='Min',\n",
    "            alpha=0.5, edgecolors='black', s=200, color='r')\n",
    "Max = data_pareto_front[['Max']]\n",
    "Min = data_pareto_front[['Min']]\n",
    "plt.plot(Max, Min,\n",
    "            ls='--', alpha=0.5, color='r')\n",
    "plt.grid(False)\n",
    "plt.tight_layout()\n",
    "plt.savefig('../plots/pareto_frontier_points.png', transparent=True)\n",
    "plt.show()"
   ],
   "metadata": {
    "collapsed": false,
    "ExecuteTime": {
     "start_time": "2024-05-04T01:17:06.413945Z"
    }
   }
  }
 ],
 "metadata": {
  "kernelspec": {
   "display_name": "Python 3",
   "language": "python",
   "name": "python3"
  },
  "language_info": {
   "codemirror_mode": {
    "name": "ipython",
    "version": 2
   },
   "file_extension": ".py",
   "mimetype": "text/x-python",
   "name": "python",
   "nbconvert_exporter": "python",
   "pygments_lexer": "ipython2",
   "version": "2.7.6"
  }
 },
 "nbformat": 4,
 "nbformat_minor": 0
}
