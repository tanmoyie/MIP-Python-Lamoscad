{
 "cells": [
  {
   "cell_type": "markdown",
   "metadata": {},
   "source": [
    "FileName: 1.0-initial_model_development.ipynb\n",
    "\n",
    "Developer: Tanmoy Das\n",
    "Date: June 11, 2023\n",
    "\n",
    "Outline of this script:\n",
    "1. model1\n",
    "2. model2\n",
    "\n",
    "Both models are implemented in following steps:\n",
    "1. Input data\n",
    "2. Optimization Model\n",
    "3. Output in a form of Network Diagram"
   ]
  },
  {
   "cell_type": "markdown",
   "metadata": {},
   "source": [
    "# Data"
   ]
  },
  {
   "cell_type": "code",
   "execution_count": 1,
   "metadata": {
    "ExecuteTime": {
     "end_time": "2024-05-03T05:41:07.002143Z",
     "start_time": "2024-05-03T05:41:06.795588Z"
    }
   },
   "outputs": [],
   "source": [
    "# import custom functions\n",
    "from data_preparation import DataPreparation\n",
    "import custom_func\n",
    "from model_d import ModelD\n",
    "from draw_network import DrawNetworkDiagram\n",
    "\n",
    "import pandas as pd\n",
    "import geopandas as gpd\n",
    "import numpy as np\n",
    "import warnings\n",
    "warnings.filterwarnings('ignore')"
   ]
  },
  {
   "cell_type": "code",
   "execution_count": 2,
   "metadata": {
    "ExecuteTime": {
     "end_time": "2024-05-03T05:41:07.657270Z",
     "start_time": "2024-05-03T05:41:07.002905Z"
    }
   },
   "outputs": [],
   "source": [
    "# Import data\n",
    "spill_data = pd.read_excel('../data/processed/data_100_oil_spills.xlsx', sheet_name='spills', header=0).copy()\n",
    "station_data = pd.read_excel('../data/raw/data_oil_spill_resource_allocation_Arctic_2023.xlsx', sheet_name='stations', header=0).copy()\n",
    "input_parameters = pd.read_excel('../data/raw/data_oil_spill_resource_allocation_Arctic_2023.xlsx', sheet_name='Estimated parameters', header=0).copy()\n",
    "sensitivity_dataR = gpd.read_file('../data/gis map/ArcGIS_data/Sensitivity_data/Sensitivity_data5.shp').copy()"
   ]
  },
  {
   "cell_type": "markdown",
   "source": [
    "## Data Preprocessing"
   ],
   "metadata": {
    "collapsed": false
   }
  },
  {
   "cell_type": "code",
   "execution_count": 3,
   "metadata": {
    "ExecuteTime": {
     "end_time": "2024-05-03T05:41:14.373439Z",
     "start_time": "2024-05-03T05:41:07.657813Z"
    }
   },
   "outputs": [
    {
     "name": "stdout",
     "output_type": "stream",
     "text": [
      "['s1', 's2', 's3', 's4', 's5', 's6', 's7', 's8', 's9', 's10', 's11', 's12', 's13', 's14', 's15', 's16', 's17', 's18', 's19', 's20']\n"
     ]
    }
   ],
   "source": [
    "Stations, OilSpills, ResourcesD, Demand, Availability, Eff, Distance, TimeR, Cf_s, CostU \\\n",
    "= DataPreparation.generate_input_data(station_data, spill_data, input_parameters)\n",
    "coordinates_spill = custom_func.extract_spill_coordinate(spill_data)\n",
    "coordinates_st = custom_func.extract_station_coordinate(station_data)\n",
    "\n",
    "SizeSpill = SizeSpill_R = list(spill_data['Spill size']).copy()\n",
    "Sensitivity_R = custom_func.calculate_sensitivity(coordinates_spill[0], sensitivity_dataR)"
   ]
  },
  {
   "cell_type": "raw",
   "source": [
    "print('coordinates_st'); coordinates_st[0][0]\n",
    "print('Demand'); display(Demand)\n",
    "print('Availability'); Availability.head()\n",
    "print('Eff'); display(Eff)\n",
    "print('Distance'); display(Distance)\n",
    "print('TimeR'); display(TimeR)\n",
    "print('Cf_s'); display(Cf_s)\n",
    "print('CostU'); display(CostU)"
   ],
   "metadata": {
    "collapsed": false
   }
  },
  {
   "cell_type": "code",
   "execution_count": 4,
   "metadata": {
    "ExecuteTime": {
     "end_time": "2024-05-03T05:41:14.377102Z",
     "start_time": "2024-05-03T05:41:14.374909Z"
    }
   },
   "outputs": [],
   "source": [
    "# normalize  # (x_0-x_min)/(x_max-x_min)\n",
    "SizeSpill_n = dict(zip(OilSpills, custom_func.normalize(SizeSpill_R, min(SizeSpill_R), max(SizeSpill_R))))\n",
    "Sensitivity_n = dict(zip(OilSpills, custom_func.normalize(Sensitivity_R, min(Sensitivity_R), max(Sensitivity_R))))\n",
    "Distance_n = dict(zip(Distance.keys(), custom_func.normalize(Distance.values(), min(Distance.values()), max(Distance.values()))))\n",
    "Effectiveness_n = dict(zip(Eff.keys(), custom_func.normalize(Eff.values(), min(Eff.values()), max(Eff.values()))))"
   ]
  },
  {
   "cell_type": "markdown",
   "source": [
    "## Scalar inputs of the models"
   ],
   "metadata": {
    "collapsed": false
   }
  },
  {
   "cell_type": "code",
   "execution_count": 5,
   "outputs": [],
   "source": [
    "DistanceMax = 10\n",
    "BigM = 10**20\n",
    "current_vs_proposed = 'proposed' # current\n",
    "MaxFO = 1\n",
    "Budget = 10**12\n",
    "W = [0.25, 0.25, 0.25, 0.25, 0.25, 0.25]\n",
    "QuantityMin = 2"
   ],
   "metadata": {
    "collapsed": false,
    "ExecuteTime": {
     "end_time": "2024-05-03T05:41:14.380437Z",
     "start_time": "2024-05-03T05:41:14.377438Z"
    }
   }
  },
  {
   "cell_type": "code",
   "outputs": [],
   "source": [],
   "metadata": {
    "collapsed": false
   }
  }
 ],
 "metadata": {
  "kernelspec": {
   "display_name": "Python 3 (ipykernel)",
   "language": "python",
   "name": "python3"
  },
  "language_info": {
   "codemirror_mode": {
    "name": "ipython",
    "version": 3
   },
   "file_extension": ".py",
   "mimetype": "text/x-python",
   "name": "python",
   "nbconvert_exporter": "python",
   "pygments_lexer": "ipython3",
   "version": "3.11.1"
  }
 },
 "nbformat": 4,
 "nbformat_minor": 1
}
