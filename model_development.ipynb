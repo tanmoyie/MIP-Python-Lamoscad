{
 "cells": [
  {
   "cell_type": "markdown",
   "metadata": {},
   "source": [
    "# Model development\n",
    "\n",
    "Apply the model for small instances (e.g. 6 facilities, and 10 oil spills in Hudson)++\n",
    "\n",
    "Outline of this script:\n",
    "1. Input data\n",
    "2. Optimization Model\n",
    "3. Output in a form of Network Diagram"
   ]
  },
  {
   "cell_type": "markdown",
   "metadata": {},
   "source": [
    "# Data"
   ]
  },
  {
   "cell_type": "code",
   "execution_count": 3,
   "metadata": {
    "ExecuteTime": {
     "end_time": "2023-07-05T02:04:56.882306Z",
     "start_time": "2023-07-05T02:04:36.980721200Z"
    }
   },
   "outputs": [],
   "source": [
    "# import custom functions\n",
    "import data_preparation\n",
    "import custom_func\n",
    "import model\n",
    "import model_analysis\n",
    "# import libraries\n",
    "import pandas as pd\n",
    "import geopandas as gpd"
   ]
  },
  {
   "cell_type": "code",
   "execution_count": 4,
   "metadata": {
    "ExecuteTime": {
     "end_time": "2023-07-05T02:05:21.352610900Z",
     "start_time": "2023-07-05T02:04:56.896266700Z"
    }
   },
   "outputs": [],
   "source": [
    "# Import data\n",
    "spill_data = pd.read_excel('Inputs/data_oil_spill_resource_allocation_Arctic_2023.xlsx', sheet_name='spills', header=0).copy()\n",
    "# spill_data = spill_data.sample(n=100)\n",
    "station_data = pd.read_excel('Inputs/data_oil_spill_resource_allocation_Arctic_2023.xlsx', sheet_name='stations', header=0).copy()\n",
    "#station_data = station_data.iloc[[7,9,10, 13,15,16, 18]] # for small scale problem, we select stations nearby Hudson Bay & Strait\n",
    "input_parameters = pd.read_excel('Inputs/data_oil_spill_resource_allocation_Arctic_2023.xlsx', sheet_name='Estimated parameters', header=0).copy()\n",
    "sensitivity_dataR = gpd.read_file('Inputs/ArcGIS_data/Sensitivity_data/Sensitivity_data5.shp').copy()"
   ]
  },
  {
   "cell_type": "code",
   "execution_count": 35,
   "outputs": [],
   "source": [
    "# spill_data.to_excel('Inputs/data_100_oil_spills.xlsx', sheet_name='spills')\n",
    "spill_data = pd.read_excel('Inputs/data_100_oil_spills.xlsx', sheet_name='spills', header=0).copy()\n"
   ],
   "metadata": {
    "collapsed": false,
    "ExecuteTime": {
     "end_time": "2023-07-05T02:19:12.622776400Z",
     "start_time": "2023-07-05T02:19:11.905529500Z"
    }
   }
  },
  {
   "cell_type": "code",
   "execution_count": 5,
   "metadata": {
    "ExecuteTime": {
     "end_time": "2023-07-05T02:05:21.730600700Z",
     "start_time": "2023-07-05T02:05:21.359242600Z"
    }
   },
   "outputs": [
    {
     "data": {
      "text/plain": "     Unnamed: 0 Spill #                               Coordinates  Spill size  \\\n73          NaN     o74   (64.50421666200003, -79.40601964599995)        8500   \n97          NaN     o98   (73.85872545439102, -77.06292927588505)        4820   \n52          NaN     o53  (58.851133884186325, -94.20693472697955)        3200   \n177         NaN    o178  (69.45553911240434, -123.85642478117892)        6160   \n202         NaN    o203   (65.38888826422587, -65.95218121659215)        5190   \n..          ...     ...                                       ...         ...   \n206         NaN    o207   (61.2787986028355, -114.41660450627202)        6480   \n42          NaN     o43   (70.5897855138361, -120.20613457011686)        5790   \n191         NaN    o192  (68.70553599203063, -134.23381941293684)        6430   \n173         NaN    o174  (72.04548849091111, -119.40991256546548)         800   \n77          NaN     o78   (63.44877230291223, -79.56227451700632)        5290   \n\n    Spill Size Type  Resource needed 1st Ranking  Skimmer  Dispersant  \\\n73            Large            425.0         CDU        0         800   \n97            Large            241.0         MCR       54           0   \n52            Large            160.0         ISB        0           0   \n177           Large            308.0         MCR       54           0   \n202           Large            259.5         ISB        0           0   \n..              ...              ...         ...      ...         ...   \n206           Large            324.0         MCR       54           0   \n42            Large            289.5         ISB        0           0   \n191           Large            321.5         ISB        0           0   \n173           Small             40.0         CDU        0         100   \n77            Large            264.5         MCR       54           0   \n\n     Burning materials  \n73                   0  \n97                   0  \n52                 257  \n177                  0  \n202                257  \n..                 ...  \n206                  0  \n42                 257  \n191                257  \n173                  0  \n77                   0  \n\n[100 rows x 10 columns]",
      "text/html": "<div>\n<style scoped>\n    .dataframe tbody tr th:only-of-type {\n        vertical-align: middle;\n    }\n\n    .dataframe tbody tr th {\n        vertical-align: top;\n    }\n\n    .dataframe thead th {\n        text-align: right;\n    }\n</style>\n<table border=\"1\" class=\"dataframe\">\n  <thead>\n    <tr style=\"text-align: right;\">\n      <th></th>\n      <th>Unnamed: 0</th>\n      <th>Spill #</th>\n      <th>Coordinates</th>\n      <th>Spill size</th>\n      <th>Spill Size Type</th>\n      <th>Resource needed</th>\n      <th>1st Ranking</th>\n      <th>Skimmer</th>\n      <th>Dispersant</th>\n      <th>Burning materials</th>\n    </tr>\n  </thead>\n  <tbody>\n    <tr>\n      <th>73</th>\n      <td>NaN</td>\n      <td>o74</td>\n      <td>(64.50421666200003, -79.40601964599995)</td>\n      <td>8500</td>\n      <td>Large</td>\n      <td>425.0</td>\n      <td>CDU</td>\n      <td>0</td>\n      <td>800</td>\n      <td>0</td>\n    </tr>\n    <tr>\n      <th>97</th>\n      <td>NaN</td>\n      <td>o98</td>\n      <td>(73.85872545439102, -77.06292927588505)</td>\n      <td>4820</td>\n      <td>Large</td>\n      <td>241.0</td>\n      <td>MCR</td>\n      <td>54</td>\n      <td>0</td>\n      <td>0</td>\n    </tr>\n    <tr>\n      <th>52</th>\n      <td>NaN</td>\n      <td>o53</td>\n      <td>(58.851133884186325, -94.20693472697955)</td>\n      <td>3200</td>\n      <td>Large</td>\n      <td>160.0</td>\n      <td>ISB</td>\n      <td>0</td>\n      <td>0</td>\n      <td>257</td>\n    </tr>\n    <tr>\n      <th>177</th>\n      <td>NaN</td>\n      <td>o178</td>\n      <td>(69.45553911240434, -123.85642478117892)</td>\n      <td>6160</td>\n      <td>Large</td>\n      <td>308.0</td>\n      <td>MCR</td>\n      <td>54</td>\n      <td>0</td>\n      <td>0</td>\n    </tr>\n    <tr>\n      <th>202</th>\n      <td>NaN</td>\n      <td>o203</td>\n      <td>(65.38888826422587, -65.95218121659215)</td>\n      <td>5190</td>\n      <td>Large</td>\n      <td>259.5</td>\n      <td>ISB</td>\n      <td>0</td>\n      <td>0</td>\n      <td>257</td>\n    </tr>\n    <tr>\n      <th>...</th>\n      <td>...</td>\n      <td>...</td>\n      <td>...</td>\n      <td>...</td>\n      <td>...</td>\n      <td>...</td>\n      <td>...</td>\n      <td>...</td>\n      <td>...</td>\n      <td>...</td>\n    </tr>\n    <tr>\n      <th>206</th>\n      <td>NaN</td>\n      <td>o207</td>\n      <td>(61.2787986028355, -114.41660450627202)</td>\n      <td>6480</td>\n      <td>Large</td>\n      <td>324.0</td>\n      <td>MCR</td>\n      <td>54</td>\n      <td>0</td>\n      <td>0</td>\n    </tr>\n    <tr>\n      <th>42</th>\n      <td>NaN</td>\n      <td>o43</td>\n      <td>(70.5897855138361, -120.20613457011686)</td>\n      <td>5790</td>\n      <td>Large</td>\n      <td>289.5</td>\n      <td>ISB</td>\n      <td>0</td>\n      <td>0</td>\n      <td>257</td>\n    </tr>\n    <tr>\n      <th>191</th>\n      <td>NaN</td>\n      <td>o192</td>\n      <td>(68.70553599203063, -134.23381941293684)</td>\n      <td>6430</td>\n      <td>Large</td>\n      <td>321.5</td>\n      <td>ISB</td>\n      <td>0</td>\n      <td>0</td>\n      <td>257</td>\n    </tr>\n    <tr>\n      <th>173</th>\n      <td>NaN</td>\n      <td>o174</td>\n      <td>(72.04548849091111, -119.40991256546548)</td>\n      <td>800</td>\n      <td>Small</td>\n      <td>40.0</td>\n      <td>CDU</td>\n      <td>0</td>\n      <td>100</td>\n      <td>0</td>\n    </tr>\n    <tr>\n      <th>77</th>\n      <td>NaN</td>\n      <td>o78</td>\n      <td>(63.44877230291223, -79.56227451700632)</td>\n      <td>5290</td>\n      <td>Large</td>\n      <td>264.5</td>\n      <td>MCR</td>\n      <td>54</td>\n      <td>0</td>\n      <td>0</td>\n    </tr>\n  </tbody>\n</table>\n<p>100 rows × 10 columns</p>\n</div>"
     },
     "metadata": {},
     "output_type": "display_data"
    },
    {
     "data": {
      "text/plain": "    no. Station #     Station                                Name  \\\n0     1        s1   Station 1                         Beafort sea   \n1     2        s2   Station 2                Northwestern passage   \n2     3        s3   Station 3                    Kitikmeot Region   \n3     4        s4   Station 4                          Fort Smith   \n4     5        s5   Station 5                           Hay River   \n5     6        s6   Station 6                                 NaN   \n6     7        s7   Station 7                                 NaN   \n7     8        s8   Station 8                                 NaN   \n8     9        s9   Station 9                                 NaN   \n9    10       s10  Station 10                     Kivalliq Region   \n10   11       s11  Station 11                                 NaN   \n11   12       s12  Station 12  Baffin Island - Qikiqtaaluk Region   \n12   13       s13  Station 13                                 NaN   \n13   14       s14  Station 14                  Southampton Island   \n14   15       s15  Station 15                                 NaN   \n15   16       s16  Station 16                                 NaN   \n16   17       s17  Station 17                       Baffin Island   \n17   18       s18  Station 18                                 NaN   \n18   19       s19  Station 19                            Kimmirut   \n19   20       s20  Station 20                                 NaN   \n\n         Coordinates  skimmers  booms  dispersant  burning  Resources total  \\\n0          (70,-134)         0      1          33      NaN               34   \n1   (70.64, -119.43)         8      8          55      NaN               71   \n2   (67.09, -112.32)         1      4          58      NaN               63   \n3   (62.60, -113.19)        10      3          32      NaN               45   \n4   (60.53, -114.38)        40     10         100      NaN              150   \n5    (68.86,-103.19)        10      3          44      NaN               57   \n6   (63.93, -101.14)         0      3          47      NaN               50   \n7    (60.06, -95.89)         3      5          58      NaN               66   \n8    (75.11, -95.71)         5      7          59      NaN               71   \n9    (63.03, -91.74)         4      9          36      NaN               49   \n10  (62.67, -92.708)         6      2          37      NaN               45   \n11    (73.4, -88.16)        13      6          42      NaN               61   \n12    (73.4, -81.83)         4      7          50      NaN               61   \n13  (64.202, -83.91)         7      6          33      NaN               46   \n14   (71.71, -74.97)        10      0          32      NaN               42   \n15   (67.67, -76.38)         4      7          50      NaN               61   \n16   (64.62, -77.41)        22      4           0      NaN               26   \n17   (68.93, -69.17)        25      0           0      NaN               25   \n18   (63.15, -69.68)        20      7           0      NaN               27   \n19   (68.93, -65.57)        14      7           0      NaN               21   \n\n    Converted resources  Capacity  Unnamed: 12               Unnamed: 13  \n0                   NaN         0          NaN                       NaN  \n1                   NaN        80          NaN                       NaN  \n2                   NaN        80          NaN                       NaN  \n3                   NaN        80          NaN                       NaN  \n4                   NaN         0          NaN                       NaN  \n5                   NaN        80          NaN  (60.758054, -115.789890)  \n6                   NaN        80          NaN      (58.55084,-93.62352)  \n7                   NaN        80          NaN     (69.459, -132.974304)  \n8                   NaN        80          NaN   (63.742885, -68.464958)  \n9                   NaN        80          NaN                       NaN  \n10                  NaN        80          NaN                       NaN  \n11                  NaN        80          NaN                       NaN  \n12                  NaN        80          NaN                       NaN  \n13                  NaN        80          NaN                       NaN  \n14                  NaN        80          NaN                       NaN  \n15                  NaN        80          NaN                       NaN  \n16                  NaN        80          NaN                       NaN  \n17                  NaN        80          NaN                       NaN  \n18                  NaN         0          NaN                       NaN  \n19                  NaN        80          NaN                       NaN  ",
      "text/html": "<div>\n<style scoped>\n    .dataframe tbody tr th:only-of-type {\n        vertical-align: middle;\n    }\n\n    .dataframe tbody tr th {\n        vertical-align: top;\n    }\n\n    .dataframe thead th {\n        text-align: right;\n    }\n</style>\n<table border=\"1\" class=\"dataframe\">\n  <thead>\n    <tr style=\"text-align: right;\">\n      <th></th>\n      <th>no.</th>\n      <th>Station #</th>\n      <th>Station</th>\n      <th>Name</th>\n      <th>Coordinates</th>\n      <th>skimmers</th>\n      <th>booms</th>\n      <th>dispersant</th>\n      <th>burning</th>\n      <th>Resources total</th>\n      <th>Converted resources</th>\n      <th>Capacity</th>\n      <th>Unnamed: 12</th>\n      <th>Unnamed: 13</th>\n    </tr>\n  </thead>\n  <tbody>\n    <tr>\n      <th>0</th>\n      <td>1</td>\n      <td>s1</td>\n      <td>Station 1</td>\n      <td>Beafort sea</td>\n      <td>(70,-134)</td>\n      <td>0</td>\n      <td>1</td>\n      <td>33</td>\n      <td>NaN</td>\n      <td>34</td>\n      <td>NaN</td>\n      <td>0</td>\n      <td>NaN</td>\n      <td>NaN</td>\n    </tr>\n    <tr>\n      <th>1</th>\n      <td>2</td>\n      <td>s2</td>\n      <td>Station 2</td>\n      <td>Northwestern passage</td>\n      <td>(70.64, -119.43)</td>\n      <td>8</td>\n      <td>8</td>\n      <td>55</td>\n      <td>NaN</td>\n      <td>71</td>\n      <td>NaN</td>\n      <td>80</td>\n      <td>NaN</td>\n      <td>NaN</td>\n    </tr>\n    <tr>\n      <th>2</th>\n      <td>3</td>\n      <td>s3</td>\n      <td>Station 3</td>\n      <td>Kitikmeot Region</td>\n      <td>(67.09, -112.32)</td>\n      <td>1</td>\n      <td>4</td>\n      <td>58</td>\n      <td>NaN</td>\n      <td>63</td>\n      <td>NaN</td>\n      <td>80</td>\n      <td>NaN</td>\n      <td>NaN</td>\n    </tr>\n    <tr>\n      <th>3</th>\n      <td>4</td>\n      <td>s4</td>\n      <td>Station 4</td>\n      <td>Fort Smith</td>\n      <td>(62.60, -113.19)</td>\n      <td>10</td>\n      <td>3</td>\n      <td>32</td>\n      <td>NaN</td>\n      <td>45</td>\n      <td>NaN</td>\n      <td>80</td>\n      <td>NaN</td>\n      <td>NaN</td>\n    </tr>\n    <tr>\n      <th>4</th>\n      <td>5</td>\n      <td>s5</td>\n      <td>Station 5</td>\n      <td>Hay River</td>\n      <td>(60.53, -114.38)</td>\n      <td>40</td>\n      <td>10</td>\n      <td>100</td>\n      <td>NaN</td>\n      <td>150</td>\n      <td>NaN</td>\n      <td>0</td>\n      <td>NaN</td>\n      <td>NaN</td>\n    </tr>\n    <tr>\n      <th>5</th>\n      <td>6</td>\n      <td>s6</td>\n      <td>Station 6</td>\n      <td>NaN</td>\n      <td>(68.86,-103.19)</td>\n      <td>10</td>\n      <td>3</td>\n      <td>44</td>\n      <td>NaN</td>\n      <td>57</td>\n      <td>NaN</td>\n      <td>80</td>\n      <td>NaN</td>\n      <td>(60.758054, -115.789890)</td>\n    </tr>\n    <tr>\n      <th>6</th>\n      <td>7</td>\n      <td>s7</td>\n      <td>Station 7</td>\n      <td>NaN</td>\n      <td>(63.93, -101.14)</td>\n      <td>0</td>\n      <td>3</td>\n      <td>47</td>\n      <td>NaN</td>\n      <td>50</td>\n      <td>NaN</td>\n      <td>80</td>\n      <td>NaN</td>\n      <td>(58.55084,-93.62352)</td>\n    </tr>\n    <tr>\n      <th>7</th>\n      <td>8</td>\n      <td>s8</td>\n      <td>Station 8</td>\n      <td>NaN</td>\n      <td>(60.06, -95.89)</td>\n      <td>3</td>\n      <td>5</td>\n      <td>58</td>\n      <td>NaN</td>\n      <td>66</td>\n      <td>NaN</td>\n      <td>80</td>\n      <td>NaN</td>\n      <td>(69.459, -132.974304)</td>\n    </tr>\n    <tr>\n      <th>8</th>\n      <td>9</td>\n      <td>s9</td>\n      <td>Station 9</td>\n      <td>NaN</td>\n      <td>(75.11, -95.71)</td>\n      <td>5</td>\n      <td>7</td>\n      <td>59</td>\n      <td>NaN</td>\n      <td>71</td>\n      <td>NaN</td>\n      <td>80</td>\n      <td>NaN</td>\n      <td>(63.742885, -68.464958)</td>\n    </tr>\n    <tr>\n      <th>9</th>\n      <td>10</td>\n      <td>s10</td>\n      <td>Station 10</td>\n      <td>Kivalliq Region</td>\n      <td>(63.03, -91.74)</td>\n      <td>4</td>\n      <td>9</td>\n      <td>36</td>\n      <td>NaN</td>\n      <td>49</td>\n      <td>NaN</td>\n      <td>80</td>\n      <td>NaN</td>\n      <td>NaN</td>\n    </tr>\n    <tr>\n      <th>10</th>\n      <td>11</td>\n      <td>s11</td>\n      <td>Station 11</td>\n      <td>NaN</td>\n      <td>(62.67, -92.708)</td>\n      <td>6</td>\n      <td>2</td>\n      <td>37</td>\n      <td>NaN</td>\n      <td>45</td>\n      <td>NaN</td>\n      <td>80</td>\n      <td>NaN</td>\n      <td>NaN</td>\n    </tr>\n    <tr>\n      <th>11</th>\n      <td>12</td>\n      <td>s12</td>\n      <td>Station 12</td>\n      <td>Baffin Island - Qikiqtaaluk Region</td>\n      <td>(73.4, -88.16)</td>\n      <td>13</td>\n      <td>6</td>\n      <td>42</td>\n      <td>NaN</td>\n      <td>61</td>\n      <td>NaN</td>\n      <td>80</td>\n      <td>NaN</td>\n      <td>NaN</td>\n    </tr>\n    <tr>\n      <th>12</th>\n      <td>13</td>\n      <td>s13</td>\n      <td>Station 13</td>\n      <td>NaN</td>\n      <td>(73.4, -81.83)</td>\n      <td>4</td>\n      <td>7</td>\n      <td>50</td>\n      <td>NaN</td>\n      <td>61</td>\n      <td>NaN</td>\n      <td>80</td>\n      <td>NaN</td>\n      <td>NaN</td>\n    </tr>\n    <tr>\n      <th>13</th>\n      <td>14</td>\n      <td>s14</td>\n      <td>Station 14</td>\n      <td>Southampton Island</td>\n      <td>(64.202, -83.91)</td>\n      <td>7</td>\n      <td>6</td>\n      <td>33</td>\n      <td>NaN</td>\n      <td>46</td>\n      <td>NaN</td>\n      <td>80</td>\n      <td>NaN</td>\n      <td>NaN</td>\n    </tr>\n    <tr>\n      <th>14</th>\n      <td>15</td>\n      <td>s15</td>\n      <td>Station 15</td>\n      <td>NaN</td>\n      <td>(71.71, -74.97)</td>\n      <td>10</td>\n      <td>0</td>\n      <td>32</td>\n      <td>NaN</td>\n      <td>42</td>\n      <td>NaN</td>\n      <td>80</td>\n      <td>NaN</td>\n      <td>NaN</td>\n    </tr>\n    <tr>\n      <th>15</th>\n      <td>16</td>\n      <td>s16</td>\n      <td>Station 16</td>\n      <td>NaN</td>\n      <td>(67.67, -76.38)</td>\n      <td>4</td>\n      <td>7</td>\n      <td>50</td>\n      <td>NaN</td>\n      <td>61</td>\n      <td>NaN</td>\n      <td>80</td>\n      <td>NaN</td>\n      <td>NaN</td>\n    </tr>\n    <tr>\n      <th>16</th>\n      <td>17</td>\n      <td>s17</td>\n      <td>Station 17</td>\n      <td>Baffin Island</td>\n      <td>(64.62, -77.41)</td>\n      <td>22</td>\n      <td>4</td>\n      <td>0</td>\n      <td>NaN</td>\n      <td>26</td>\n      <td>NaN</td>\n      <td>80</td>\n      <td>NaN</td>\n      <td>NaN</td>\n    </tr>\n    <tr>\n      <th>17</th>\n      <td>18</td>\n      <td>s18</td>\n      <td>Station 18</td>\n      <td>NaN</td>\n      <td>(68.93, -69.17)</td>\n      <td>25</td>\n      <td>0</td>\n      <td>0</td>\n      <td>NaN</td>\n      <td>25</td>\n      <td>NaN</td>\n      <td>80</td>\n      <td>NaN</td>\n      <td>NaN</td>\n    </tr>\n    <tr>\n      <th>18</th>\n      <td>19</td>\n      <td>s19</td>\n      <td>Station 19</td>\n      <td>Kimmirut</td>\n      <td>(63.15, -69.68)</td>\n      <td>20</td>\n      <td>7</td>\n      <td>0</td>\n      <td>NaN</td>\n      <td>27</td>\n      <td>NaN</td>\n      <td>0</td>\n      <td>NaN</td>\n      <td>NaN</td>\n    </tr>\n    <tr>\n      <th>19</th>\n      <td>20</td>\n      <td>s20</td>\n      <td>Station 20</td>\n      <td>NaN</td>\n      <td>(68.93, -65.57)</td>\n      <td>14</td>\n      <td>7</td>\n      <td>0</td>\n      <td>NaN</td>\n      <td>21</td>\n      <td>NaN</td>\n      <td>80</td>\n      <td>NaN</td>\n      <td>NaN</td>\n    </tr>\n  </tbody>\n</table>\n</div>"
     },
     "metadata": {},
     "output_type": "display_data"
    }
   ],
   "source": [
    "display(spill_data)\n",
    "display(station_data)"
   ]
  },
  {
   "cell_type": "markdown",
   "source": [
    "## Input parameters"
   ],
   "metadata": {
    "collapsed": false
   }
  },
  {
   "cell_type": "code",
   "execution_count": 6,
   "metadata": {
    "ExecuteTime": {
     "end_time": "2023-07-05T02:05:21.788340100Z",
     "start_time": "2023-07-05T02:05:21.598133700Z"
    }
   },
   "outputs": [],
   "source": [
    "# %% One value\n",
    "NumberStMax =5\n",
    "DistanceMax = 200 # (DistanceMax*80)km  convert it to kilometer, typical speed 20km/hr -> 480km/day\n",
    "TimeRMax = 220  # covert it into hours or minutes\n",
    "\n"
   ]
  },
  {
   "cell_type": "code",
   "execution_count": 33,
   "metadata": {
    "ExecuteTime": {
     "end_time": "2023-07-05T02:14:48.287373300Z",
     "start_time": "2023-07-05T02:14:48.226534Z"
    }
   },
   "outputs": [],
   "source": [
    "current_vs_proposed = 'proposed' # current"
   ]
  },
  {
   "cell_type": "code",
   "execution_count": 7,
   "metadata": {
    "ExecuteTime": {
     "end_time": "2023-07-05T02:05:23.034097400Z",
     "start_time": "2023-07-05T02:05:21.633028700Z"
    }
   },
   "outputs": [
    {
     "name": "stdout",
     "output_type": "stream",
     "text": [
      "['s1', 's2', 's3', 's4', 's5', 's6', 's7', 's8', 's9', 's10', 's11', 's12', 's13', 's14', 's15', 's16', 's17', 's18', 's19', 's20']\n"
     ]
    }
   ],
   "source": [
    "# \n",
    "Stations, OilSpills, ResourcesD, Demand, Availability, Eff, Distance, TimeR, Cf_s, Cu_sor \\\n",
    "= data_preparation.generate_input_data(station_data, spill_data, input_parameters)\n",
    "coordinates_spill = custom_func.extract_spill_coordinate(spill_data)\n",
    "coordinates_st = custom_func.extract_station_coordinate(station_data)"
   ]
  },
  {
   "cell_type": "code",
   "execution_count": 8,
   "outputs": [
    {
     "data": {
      "text/plain": "82.62173596329828"
     },
     "execution_count": 8,
     "metadata": {},
     "output_type": "execute_result"
    }
   ],
   "source": [
    "max(Distance.values())"
   ],
   "metadata": {
    "collapsed": false,
    "ExecuteTime": {
     "end_time": "2023-07-05T02:05:23.237627100Z",
     "start_time": "2023-07-05T02:05:22.658841300Z"
    }
   }
  },
  {
   "cell_type": "code",
   "execution_count": 9,
   "metadata": {
    "ExecuteTime": {
     "end_time": "2023-07-05T02:05:25.118393100Z",
     "start_time": "2023-07-05T02:05:22.662882200Z"
    }
   },
   "outputs": [
    {
     "name": "stdout",
     "output_type": "stream",
     "text": [
      "coordinates_st\n"
     ]
    },
    {
     "data": {
      "text/plain": "([[70.0, -134.0],\n  [70.63999938964844, -119.43000030517578],\n  [67.08999633789062, -112.31999969482422],\n  [62.599998474121094, -113.19000244140625],\n  [60.529998779296875, -114.37999725341797],\n  [68.86000061035156, -103.19000244140625],\n  [63.93000030517578, -101.13999938964844],\n  [60.060001373291016, -95.88999938964844],\n  [75.11000061035156, -95.70999908447266],\n  [63.029998779296875, -91.73999786376953],\n  [62.66999816894531, -92.70800018310547],\n  [73.4000015258789, -88.16000366210938],\n  [73.4000015258789, -81.83000183105469],\n  [64.2020034790039, -83.91000366210938],\n  [71.70999908447266, -74.97000122070312],\n  [67.66999816894531, -76.37999725341797],\n  [64.62000274658203, -77.41000366210938],\n  [68.93000030517578, -69.16999816894531],\n  [63.150001525878906, -69.68000030517578],\n  [68.93000030517578, -65.56999969482422]],\n {'s1': [70.0, -134.0],\n  's2': [70.63999938964844, -119.43000030517578],\n  's3': [67.08999633789062, -112.31999969482422],\n  's4': [62.599998474121094, -113.19000244140625],\n  's5': [60.529998779296875, -114.37999725341797],\n  's6': [68.86000061035156, -103.19000244140625],\n  's7': [63.93000030517578, -101.13999938964844],\n  's8': [60.060001373291016, -95.88999938964844],\n  's9': [75.11000061035156, -95.70999908447266],\n  's10': [63.029998779296875, -91.73999786376953],\n  's11': [62.66999816894531, -92.70800018310547],\n  's12': [73.4000015258789, -88.16000366210938],\n  's13': [73.4000015258789, -81.83000183105469],\n  's14': [64.2020034790039, -83.91000366210938],\n  's15': [71.70999908447266, -74.97000122070312],\n  's16': [67.66999816894531, -76.37999725341797],\n  's17': [64.62000274658203, -77.41000366210938],\n  's18': [68.93000030517578, -69.16999816894531],\n  's19': [63.150001525878906, -69.68000030517578],\n  's20': [68.93000030517578, -65.56999969482422]})"
     },
     "metadata": {},
     "output_type": "display_data"
    },
    {
     "name": "stdout",
     "output_type": "stream",
     "text": [
      "Demand\n"
     ]
    },
    {
     "data": {
      "text/plain": "{('o74', 'm'): 20,\n ('o74', 'c'): 0,\n ('o74', 'i'): 0,\n ('o98', 'm'): 20,\n ('o98', 'c'): 0,\n ('o98', 'i'): 0,\n ('o53', 'm'): 0,\n ('o53', 'c'): 110,\n ('o53', 'i'): 0,\n ('o178', 'm'): 0,\n ('o178', 'c'): 0,\n ('o178', 'i'): 157,\n ('o203', 'm'): 0,\n ('o203', 'c'): 0,\n ('o203', 'i'): 7,\n ('o127', 'm'): 0,\n ('o127', 'c'): 5,\n ('o127', 'i'): 0,\n ('o172', 'm'): 0,\n ('o172', 'c'): 5,\n ('o172', 'i'): 0,\n ('o51', 'm'): 0,\n ('o51', 'c'): 31,\n ('o51', 'i'): 0,\n ('o7', 'm'): 20,\n ('o7', 'c'): 0,\n ('o7', 'i'): 0,\n ('o30', 'm'): 100,\n ('o30', 'c'): 0,\n ('o30', 'i'): 0,\n ('o221', 'm'): 100,\n ('o221', 'c'): 0,\n ('o221', 'i'): 0,\n ('o64', 'm'): 0,\n ('o64', 'c'): 0,\n ('o64', 'i'): 37,\n ('o25', 'm'): 0,\n ('o25', 'c'): 31,\n ('o25', 'i'): 0,\n ('o94', 'm'): 2,\n ('o94', 'c'): 0,\n ('o94', 'i'): 0,\n ('o119', 'm'): 0,\n ('o119', 'c'): 110,\n ('o119', 'i'): 0,\n ('o148', 'm'): 0,\n ('o148', 'c'): 5,\n ('o148', 'i'): 0,\n ('o208', 'm'): 100,\n ('o208', 'c'): 0,\n ('o208', 'i'): 0,\n ('o86', 'm'): 0,\n ('o86', 'c'): 110,\n ('o86', 'i'): 0,\n ('o93', 'm'): 0,\n ('o93', 'c'): 5,\n ('o93', 'i'): 0,\n ('o108', 'm'): 0,\n ('o108', 'c'): 31,\n ('o108', 'i'): 0,\n ('o131', 'm'): 0,\n ('o131', 'c'): 0,\n ('o131', 'i'): 7,\n ('o6', 'm'): 0,\n ('o6', 'c'): 110,\n ('o6', 'i'): 0,\n ('o10', 'm'): 0,\n ('o10', 'c'): 0,\n ('o10', 'i'): 157,\n ('o41', 'm'): 100,\n ('o41', 'c'): 0,\n ('o41', 'i'): 0,\n ('o144', 'm'): 0,\n ('o144', 'c'): 110,\n ('o144', 'i'): 0,\n ('o169', 'm'): 0,\n ('o169', 'c'): 31,\n ('o169', 'i'): 0,\n ('o185', 'm'): 0,\n ('o185', 'c'): 0,\n ('o185', 'i'): 157,\n ('o87', 'm'): 0,\n ('o87', 'c'): 0,\n ('o87', 'i'): 157,\n ('o168', 'm'): 0,\n ('o168', 'c'): 31,\n ('o168', 'i'): 0,\n ('o24', 'm'): 2,\n ('o24', 'c'): 0,\n ('o24', 'i'): 0,\n ('o190', 'm'): 20,\n ('o190', 'c'): 0,\n ('o190', 'i'): 0,\n ('o97', 'm'): 0,\n ('o97', 'c'): 5,\n ('o97', 'i'): 0,\n ('o162', 'm'): 0,\n ('o162', 'c'): 5,\n ('o162', 'i'): 0,\n ('o106', 'm'): 0,\n ('o106', 'c'): 5,\n ('o106', 'i'): 0,\n ('o157', 'm'): 2,\n ('o157', 'c'): 0,\n ('o157', 'i'): 0,\n ('o175', 'm'): 20,\n ('o175', 'c'): 0,\n ('o175', 'i'): 0,\n ('o136', 'm'): 0,\n ('o136', 'c'): 110,\n ('o136', 'i'): 0,\n ('o145', 'm'): 0,\n ('o145', 'c'): 31,\n ('o145', 'i'): 0,\n ('o3', 'm'): 0,\n ('o3', 'c'): 0,\n ('o3', 'i'): 37,\n ('o28', 'm'): 20,\n ('o28', 'c'): 0,\n ('o28', 'i'): 0,\n ('o45', 'm'): 20,\n ('o45', 'c'): 0,\n ('o45', 'i'): 0,\n ('o27', 'm'): 20,\n ('o27', 'c'): 0,\n ('o27', 'i'): 0,\n ('o219', 'm'): 0,\n ('o219', 'c'): 0,\n ('o219', 'i'): 7,\n ('o9', 'm'): 0,\n ('o9', 'c'): 0,\n ('o9', 'i'): 37,\n ('o212', 'm'): 0,\n ('o212', 'c'): 0,\n ('o212', 'i'): 7,\n ('o139', 'm'): 0,\n ('o139', 'c'): 31,\n ('o139', 'i'): 0,\n ('o214', 'm'): 0,\n ('o214', 'c'): 0,\n ('o214', 'i'): 37,\n ('o113', 'm'): 2,\n ('o113', 'c'): 0,\n ('o113', 'i'): 0,\n ('o160', 'm'): 0,\n ('o160', 'c'): 31,\n ('o160', 'i'): 0,\n ('o191', 'm'): 0,\n ('o191', 'c'): 31,\n ('o191', 'i'): 0,\n ('o104', 'm'): 2,\n ('o104', 'c'): 0,\n ('o104', 'i'): 0,\n ('o184', 'm'): 0,\n ('o184', 'c'): 31,\n ('o184', 'i'): 0,\n ('o37', 'm'): 2,\n ('o37', 'c'): 0,\n ('o37', 'i'): 0,\n ('o165', 'm'): 0,\n ('o165', 'c'): 0,\n ('o165', 'i'): 7,\n ('o83', 'm'): 0,\n ('o83', 'c'): 31,\n ('o83', 'i'): 0,\n ('o114', 'm'): 0,\n ('o114', 'c'): 110,\n ('o114', 'i'): 0,\n ('o155', 'm'): 2,\n ('o155', 'c'): 0,\n ('o155', 'i'): 0,\n ('o91', 'm'): 0,\n ('o91', 'c'): 5,\n ('o91', 'i'): 0,\n ('o138', 'm'): 0,\n ('o138', 'c'): 0,\n ('o138', 'i'): 157,\n ('o183', 'm'): 0,\n ('o183', 'c'): 5,\n ('o183', 'i'): 0,\n ('o11', 'm'): 0,\n ('o11', 'c'): 110,\n ('o11', 'i'): 0,\n ('o181', 'm'): 0,\n ('o181', 'c'): 110,\n ('o181', 'i'): 0,\n ('o159', 'm'): 0,\n ('o159', 'c'): 31,\n ('o159', 'i'): 0,\n ('o48', 'm'): 2,\n ('o48', 'c'): 0,\n ('o48', 'i'): 0,\n ('o129', 'm'): 100,\n ('o129', 'c'): 0,\n ('o129', 'i'): 0,\n ('o158', 'm'): 0,\n ('o158', 'c'): 0,\n ('o158', 'i'): 157,\n ('o117', 'm'): 0,\n ('o117', 'c'): 31,\n ('o117', 'i'): 0,\n ('o153', 'm'): 0,\n ('o153', 'c'): 5,\n ('o153', 'i'): 0,\n ('o101', 'm'): 20,\n ('o101', 'c'): 0,\n ('o101', 'i'): 0,\n ('o44', 'm'): 20,\n ('o44', 'c'): 0,\n ('o44', 'i'): 0,\n ('o109', 'm'): 0,\n ('o109', 'c'): 0,\n ('o109', 'i'): 7,\n ('o59', 'm'): 0,\n ('o59', 'c'): 0,\n ('o59', 'i'): 7,\n ('o121', 'm'): 0,\n ('o121', 'c'): 0,\n ('o121', 'i'): 157,\n ('o13', 'm'): 2,\n ('o13', 'c'): 0,\n ('o13', 'i'): 0,\n ('o128', 'm'): 2,\n ('o128', 'c'): 0,\n ('o128', 'i'): 0,\n ('o90', 'm'): 0,\n ('o90', 'c'): 0,\n ('o90', 'i'): 37,\n ('o79', 'm'): 0,\n ('o79', 'c'): 110,\n ('o79', 'i'): 0,\n ('o161', 'm'): 0,\n ('o161', 'c'): 0,\n ('o161', 'i'): 37,\n ('o163', 'm'): 100,\n ('o163', 'c'): 0,\n ('o163', 'i'): 0,\n ('o130', 'm'): 0,\n ('o130', 'c'): 0,\n ('o130', 'i'): 7,\n ('o107', 'm'): 20,\n ('o107', 'c'): 0,\n ('o107', 'i'): 0,\n ('o42', 'm'): 20,\n ('o42', 'c'): 0,\n ('o42', 'i'): 0,\n ('o31', 'm'): 2,\n ('o31', 'c'): 0,\n ('o31', 'i'): 0,\n ('o19', 'm'): 2,\n ('o19', 'c'): 0,\n ('o19', 'i'): 0,\n ('o22', 'm'): 0,\n ('o22', 'c'): 110,\n ('o22', 'i'): 0,\n ('o187', 'm'): 2,\n ('o187', 'c'): 0,\n ('o187', 'i'): 0,\n ('o84', 'm'): 0,\n ('o84', 'c'): 31,\n ('o84', 'i'): 0,\n ('o132', 'm'): 2,\n ('o132', 'c'): 0,\n ('o132', 'i'): 0,\n ('o198', 'm'): 0,\n ('o198', 'c'): 0,\n ('o198', 'i'): 7,\n ('o49', 'm'): 0,\n ('o49', 'c'): 0,\n ('o49', 'i'): 157,\n ('o116', 'm'): 0,\n ('o116', 'c'): 31,\n ('o116', 'i'): 0,\n ('o124', 'm'): 0,\n ('o124', 'c'): 0,\n ('o124', 'i'): 157,\n ('o134', 'm'): 0,\n ('o134', 'c'): 0,\n ('o134', 'i'): 157,\n ('o82', 'm'): 0,\n ('o82', 'c'): 0,\n ('o82', 'i'): 37,\n ('o220', 'm'): 0,\n ('o220', 'c'): 0,\n ('o220', 'i'): 37,\n ('o207', 'm'): 0,\n ('o207', 'c'): 5,\n ('o207', 'i'): 0,\n ('o43', 'm'): 0,\n ('o43', 'c'): 110,\n ('o43', 'i'): 0,\n ('o192', 'm'): 0,\n ('o192', 'c'): 0,\n ('o192', 'i'): 7,\n ('o174', 'm'): 0,\n ('o174', 'c'): 0,\n ('o174', 'i'): 157,\n ('o78', 'm'): 0,\n ('o78', 'c'): 31,\n ('o78', 'i'): 0}"
     },
     "metadata": {},
     "output_type": "display_data"
    },
    {
     "name": "stdout",
     "output_type": "stream",
     "text": [
      "Availability\n"
     ]
    },
    {
     "data": {
      "text/plain": "{('s1', 'm'): 200000.0,\n ('s1', 'c'): 160000.0,\n ('s1', 'i'): 40000.0,\n ('s2', 'm'): 100000.0,\n ('s2', 'c'): 160000.0,\n ('s2', 'i'): 140000.0,\n ('s3', 'm'): 180000.0,\n ('s3', 'c'): 120000.0,\n ('s3', 'i'): 160000.0,\n ('s4', 'm'): 100000.0,\n ('s4', 'c'): 140000.0,\n ('s4', 'i'): 120000.0,\n ('s5', 'm'): 100000.0,\n ('s5', 'c'): 160000.0,\n ('s5', 'i'): 160000.0,\n ('s6', 'm'): 80000.0,\n ('s6', 'c'): 20000.0,\n ('s6', 'i'): 200000.0,\n ('s7', 'm'): 100000.0,\n ('s7', 'c'): 40000.0,\n ('s7', 'i'): 40000.0,\n ('s8', 'm'): 180000.0,\n ('s8', 'c'): 20000.0,\n ('s8', 'i'): 20000.0,\n ('s9', 'm'): 20000.0,\n ('s9', 'c'): 120000.0,\n ('s9', 'i'): 20000.0,\n ('s10', 'm'): 200000.0,\n ('s10', 'c'): 180000.0,\n ('s10', 'i'): 60000.0,\n ('s11', 'm'): 60000.0,\n ('s11', 'c'): 80000.0,\n ('s11', 'i'): 80000.0,\n ('s12', 'm'): 60000.0,\n ('s12', 'c'): 200000.0,\n ('s12', 'i'): 20000.0,\n ('s13', 'm'): 40000.0,\n ('s13', 'c'): 60000.0,\n ('s13', 'i'): 140000.0,\n ('s14', 'm'): 140000.0,\n ('s14', 'c'): 100000.0,\n ('s14', 'i'): 20000.0,\n ('s15', 'm'): 120000.0,\n ('s15', 'c'): 60000.0,\n ('s15', 'i'): 100000.0,\n ('s16', 'm'): 180000.0,\n ('s16', 'c'): 100000.0,\n ('s16', 'i'): 200000.0,\n ('s17', 'm'): 80000.0,\n ('s17', 'c'): 100000.0,\n ('s17', 'i'): 80000.0,\n ('s18', 'm'): 180000.0,\n ('s18', 'c'): 160000.0,\n ('s18', 'i'): 20000.0,\n ('s19', 'm'): 20000.0,\n ('s19', 'c'): 160000.0,\n ('s19', 'i'): 20000.0,\n ('s20', 'm'): 200000.0,\n ('s20', 'c'): 140000.0,\n ('s20', 'i'): 80000.0}"
     },
     "metadata": {},
     "output_type": "display_data"
    },
    {
     "name": "stdout",
     "output_type": "stream",
     "text": [
      "Eff\n"
     ]
    },
    {
     "data": {
      "text/plain": "{('s1', 'm'): 0.30000000000000004,\n ('s1', 'c'): 0.9,\n ('s1', 'i'): 0.6000000000000001,\n ('s2', 'm'): 0.30000000000000004,\n ('s2', 'c'): 0.9,\n ('s2', 'i'): 0.9,\n ('s3', 'm'): 0.4,\n ('s3', 'c'): 0.9,\n ('s3', 'i'): 0.8,\n ('s4', 'm'): 0.4,\n ('s4', 'c'): 0.8,\n ('s4', 'i'): 0.6000000000000001,\n ('s5', 'm'): 0.30000000000000004,\n ('s5', 'c'): 0.9,\n ('s5', 'i'): 0.30000000000000004,\n ('s6', 'm'): 0.1,\n ('s6', 'c'): 0.5,\n ('s6', 'i'): 1.0,\n ('s7', 'm'): 0.5,\n ('s7', 'c'): 0.1,\n ('s7', 'i'): 1.0,\n ('s8', 'm'): 0.5,\n ('s8', 'c'): 0.8,\n ('s8', 'i'): 0.4,\n ('s9', 'm'): 0.4,\n ('s9', 'c'): 0.6000000000000001,\n ('s9', 'i'): 0.2,\n ('s10', 'm'): 0.5,\n ('s10', 'c'): 0.1,\n ('s10', 'i'): 0.8,\n ('s11', 'm'): 0.4,\n ('s11', 'c'): 0.7000000000000001,\n ('s11', 'i'): 0.6000000000000001,\n ('s12', 'm'): 0.2,\n ('s12', 'c'): 0.8,\n ('s12', 'i'): 0.1,\n ('s13', 'm'): 0.30000000000000004,\n ('s13', 'c'): 0.6000000000000001,\n ('s13', 'i'): 0.30000000000000004,\n ('s14', 'm'): 0.1,\n ('s14', 'c'): 0.9,\n ('s14', 'i'): 0.6000000000000001,\n ('s15', 'm'): 0.4,\n ('s15', 'c'): 0.4,\n ('s15', 'i'): 0.6000000000000001,\n ('s16', 'm'): 0.2,\n ('s16', 'c'): 0.1,\n ('s16', 'i'): 0.4,\n ('s17', 'm'): 0.4,\n ('s17', 'c'): 0.6000000000000001,\n ('s17', 'i'): 0.1,\n ('s18', 'm'): 0.1,\n ('s18', 'c'): 0.7000000000000001,\n ('s18', 'i'): 0.8,\n ('s19', 'm'): 0.30000000000000004,\n ('s19', 'c'): 0.4,\n ('s19', 'i'): 0.7000000000000001,\n ('s20', 'm'): 0.2,\n ('s20', 'c'): 0.2,\n ('s20', 'i'): 0.30000000000000004}"
     },
     "metadata": {},
     "output_type": "display_data"
    },
    {
     "name": "stdout",
     "output_type": "stream",
     "text": [
      "Distance\n"
     ]
    },
    {
     "data": {
      "text/plain": "{('o74', 's1'): 54.869901934884496,\n ('o74', 's2'): 40.49156344567654,\n ('o74', 's3'): 33.01539383228145,\n ('o74', 's4'): 33.83760408289111,\n ('o74', 's5'): 35.19905444057435,\n ('o74', 's6'): 24.179549221206393,\n ('o74', 's7'): 21.741562470949656,\n ('o74', 's8'): 17.072568947254137,\n ('o74', 's9'): 19.449994856605564,\n ('o74', 's10'): 12.421767498345352,\n ('o74', 's11'): 13.427844700607151,\n ('o74', 's12'): 12.4806713018879,\n ('o74', 's13'): 9.2201208377404,\n ('o74', 's14'): 4.514110434032932,\n ('o74', 's15'): 8.46176922169844,\n ('o74', 's16'): 4.379380986759691,\n ('o74', 's17'): 1.9993727886691577,\n ('o74', 's18'): 11.151847626729145,\n ('o74', 's19'): 9.819846535019586,\n ('o74', 's20'): 14.526631698365959,\n ('o98', 's1'): 57.067679328992526,\n ('o98', 's2'): 42.489164310609084,\n ('o98', 's3'): 35.90093126483362,\n ('o98', 's4'): 37.840778519494805,\n ('o98', 's5'): 39.6259851186469,\n ('o98', 's6'): 26.600964621532054,\n ('o98', 's7'): 26.043905369333796,\n ('o98', 's8'): 23.34231052534236,\n ('o98', 's9'): 18.689006796543094,\n ('o98', 's10'): 18.239455748379413,\n ('o98', 's11'): 19.234238973854456,\n ('o98', 's12'): 11.106553632253188,\n ('o98', 's13'): 4.789094768513859,\n ('o98', 's14'): 11.837852633788126,\n ('o98', 's15'): 2.9995614446600887,\n ('o98', 's16'): 6.226295186435198,\n ('o98', 's17'): 9.24524086530958,\n ('o98', 's18'): 9.305410863303207,\n ('o98', 's19'): 13.00709040553153,\n ('o98', 's20'): 12.505187948076443,\n ('o53', 's1'): 41.32536074346742,\n ('o53', 's2'): 27.842063302038465,\n ('o53', 's3'): 19.898795210257568,\n ('o53', 's4'): 19.3497011927954,\n ('o53', 's5'): 20.242804689993193,\n ('o53', 's6'): 13.448901035375947,\n ('o53', 's7'): 8.594317465471235,\n ('o53', 's8'): 2.0722144928146657,\n ('o53', 's9'): 16.32819381117866,\n ('o53', 's10'): 4.852696645289748,\n ('o53', 's11'): 4.102500549546297,\n ('o53', 's12'): 15.755470571968058,\n ('o53', 's13'): 19.10125419669514,\n ('o53', 's14'): 11.604246005481887,\n ('o53', 's15'): 23.138925805485687,\n ('o53', 's16'): 19.88899062277953,\n ('o53', 's17'): 17.759972860799543,\n ('o53', 's18'): 26.989471646938206,\n ('o53', 's19'): 24.900815908644766,\n ('o53', 's20'): 30.358811183248967,\n ('o178', 's1'): 10.15817932517611,\n ('o178', 's2'): 4.582157413485818,\n ('o178', 's3'): 11.77645221447675,\n ('o178', 's4'): 12.679546856813563,\n ('o178', 's5'): 13.01798166808003,\n ('o178', 's6'): 20.674998843476445,\n ('o178', 's7'): 23.3787813834356,\n ('o178', 's8'): 29.502489491290735,\n ('o178', 's9'): 28.708781202176123,\n ('o178', 's10'): 32.75289687489114,\n ('o178', 's11'): 31.87895434707036,\n ('o178', 's12'): 35.913689891320736,\n ('o178', 's13'): 42.21112219599048,\n ('o178', 's14'): 40.290395564017956,\n ('o178', 's15'): 48.938377398503015,\n ('o178', 's16'): 47.50998939124787,\n ('o178', 's17'): 46.69745385567126,\n ('o178', 's18'): 54.68894939096893,\n ('o178', 's19'): 54.542134879665944,\n ('o178', 's20'): 58.288791909342095,\n ('o203', 's1'): 68.20387324713923,\n ('o203', 's2'): 53.73501254727249,\n ('o203', 's3'): 46.399014841294445,\n ('o203', 's4'): 47.3200788097158,\n ('o203', 's5'): 48.67096018451521,\n ('o203', 's6'): 37.39925317599003,\n ('o203', 's7'): 35.21805010135488,\n ('o203', 's8'): 30.408388618729056,\n ('o203', 's9'): 31.3053979032383,\n ('o203', 's10'): 25.895481278002098,\n ('o203', 's11'): 26.89361109807509,\n ('o203', 's12'): 23.60858865391184,\n ('o203', 's13'): 17.784353777752845,\n ('o203', 's14'): 17.997004115562945,\n ('o203', 's15'): 11.012610743456731,\n ('o203', 's16'): 10.674402535061374,\n ('o203', 's17'): 11.483593849599345,\n ('o203', 's18'): 4.784752299795721,\n ('o203', 's19'): 4.348477142526397,\n ('o203', 's20'): 3.561678686270817,\n ('o127', 's1'): 52.26931009564319,\n ('o127', 's2'): 37.71736536456376,\n ('o127', 's3'): 30.668533379161918,\n ('o127', 's4'): 32.17105591349617,\n ('o127', 's5'): 33.81538527121254,\n ('o127', 's6'): 21.46081670402471,\n ('o127', 's7'): 20.147584514473873,\n ('o127', 's8'): 16.930726761160646,\n ('o127', 's9'): 15.116254632404758,\n ('o127', 's10'): 11.83342516929798,\n ('o127', 's11'): 12.845863221996654,\n ('o127', 's12'): 7.595894392019449,\n ('o127', 's13'): 4.05250357460436,\n ('o127', 's14'): 5.587429639256149,\n ('o127', 's15'): 7.165049413025532,\n ('o127', 's16'): 5.611695607966419,\n ('o127', 's17'): 6.408058898820989,\n ('o127', 's18'): 12.57172223026281,\n ('o127', 's19'): 13.55506558104194,\n ('o127', 's20'): 16.170168686132087,\n ('o172', 's1'): 14.446484880415484,\n ('o172', 's2'): 1.0389507511913916,\n ('o172', 's3'): 8.634540639112862,\n ('o172', 's4'): 11.122950258146233,\n ('o172', 's5'): 12.310151914538116,\n ('o172', 's6'): 16.694449456820347,\n ('o172', 's7'): 20.056374067289997,\n ('o172', 's8'): 26.43739027665406,\n ('o172', 's9'): 24.186649564777365,\n ('o172', 's10'): 29.21126691170471,\n ('o172', 's11'): 28.399715700716456,\n ('o172', 's12'): 31.53697788573703,\n ('o172', 's13'): 37.8589086693489,\n ('o172', 's14'): 36.50769626695823,\n ('o172', 's15'): 44.67873633984174,\n ('o172', 's16'): 43.45188845782968,\n ('o172', 's17'): 42.82065467672554,\n ('o172', 's18'): 50.552241018134815,\n ('o172', 's19'): 50.687452104092834,\n ('o172', 's20'): 54.1473507450872,\n ('o51', 's1'): 52.14158612084408,\n ('o51', 's2'): 37.566788594343166,\n ('o51', 's3'): 31.06543298892186,\n ('o51', 's4'): 33.1593531264516,\n ('o51', 's5'): 35.01564531938141,\n ('o51', 's6'): 21.770743816632606,\n ('o51', 's7'): 21.56194736582482,\n ('o51', 's8'): 19.579984101768108,\n ('o51', 's9'): 13.765094430129386,\n ('o51', 's10'): 14.565821967343739,\n ('o51', 's11'): 15.488131961777247,\n ('o51', 's12'): 6.175673616947428,\n ('o51', 's13'): 0.4926211260166341,\n ('o51', 's14'): 9.846465965896128,\n ('o51', 's15'): 7.353483153457683,\n ('o51', 's16'): 8.363047599848542,\n ('o51', 's17'): 10.319546966763138,\n ('o51', 's18'): 13.746735473764286,\n ('o51', 's19'): 16.326790330622774,\n ('o51', 's20'): 17.15576709831815,\n ('o7', 's1'): 66.99222775607613,\n ('o7', 's2'): 52.42280774296527,\n ('o7', 's3'): 45.42422083613097,\n ('o7', 's4'): 46.81691490318515,\n ('o7', 's5'): 48.365878758994604,\n ('o7', 's6'): 36.20972591644277,\n ('o7', 's7'): 34.71846356052727,\n ('o7', 's8'): 30.638670675899867,\n ('o7', 's9'): 29.104109736871866,\n ('o7', 's10'): 25.774191192410775,\n ('o7', 's11'): 26.804491040096167,\n ('o7', 's12'): 21.37954910421764,\n ('o7', 's13'): 15.145113720902518,\n ('o7', 's14'): 17.96344469211573,\n ('o7', 's15'): 8.087879733237004,\n ('o7', 's16'): 9.73000508042998,\n ('o7', 's17'): 11.844932447048599,\n ('o7', 's18'): 2.5519714047662645,\n ('o7', 's19'): 7.620143173186421,\n ('o7', 's20'): 1.9771031125817153,\n ('o30', 's1'): 9.457306046368759,\n ('o30', 's2'): 24.029010692954817,\n ('o30', 's3'): 31.290542209098184,\n ('o30', 's4'): 31.206008135836676,\n ('o30', 's5'): 30.64263661666435,\n ('o30', 's6'): 40.287542323510834,\n ('o30', 's7'): 42.77785506325033,\n ('o30', 's8'): 48.63499940859765,\n ('o30', 's9'): 47.99634325790301,\n ('o30', 's10'): 52.21047813566335,\n ('o30', 's11'): 51.30347185158258,\n ('o30', 's12'): 55.387287139414276,\n ('o30', 's13'): 61.70783050020385,\n ('o30', 's14'): 59.84693048122196,\n ('o30', 's15'): 68.50160561356435,\n ('o30', 's16'): 67.12297722393947,\n ('o30', 's17'): 66.28081968688178,\n ('o30', 's18'): 74.29602555967588,\n ('o30', 's19'): 74.11166510391672,\n ('o30', 's20'): 77.89551817634444,\n ('o221', 's1'): 2.755195732561727,\n ('o221', 's2'): 17.20429268142615,\n ('o221', 's3'): 24.304512862804692,\n ('o221', 's4'): 24.21311433506949,\n ('o221', 's5'): 23.72158581898448,\n ('o221', 's6'): 33.36244613893128,\n ('o221', 's7'): 35.76805935527199,\n ('o221', 's8'): 41.62537917989114,\n ('o221', 's9'): 41.30239250636754,\n ('o221', 's10'): 45.203245306938896,\n ('o221', 's11'): 44.29350335637254,\n ('o221', 's12'): 48.59534063122249,\n ('o221', 's13'): 54.90193621519127,\n ('o221', 's14'): 52.857076395000576,\n ('o221', 's15'): 61.64356094576737,\n ('o221', 's16'): 60.18616928598284,\n ('o221', 's17'): 59.301479153779354,\n ('o221', 's18'): 67.38230142218505,\n ('o221', 's19'): 67.12440463290064,\n ('o221', 's20'): 70.9822995047207,\n ('o64', 's1'): 43.20533542662926,\n ('o64', 's2'): 29.120725208876266,\n ('o64', 's3'): 21.361241831024063,\n ('o64', 's4'): 21.769373743842216,\n ('o64', 's5'): 23.058900624951768,\n ('o64', 's6'): 13.297141230384579,\n ('o64', 's7'): 9.800404109869747,\n ('o64', 's8'): 5.176265064201556,\n ('o64', 's9'): 13.157357244724999,\n ('o64', 's10'): 0.4801068334268594,\n ('o64', 's11'): 1.2872551156848084,\n ('o64', 's12'): 11.213160146512585,\n ('o64', 's13'): 14.390444457605831,\n ('o64', 's14'): 7.665112031363968,\n ('o64', 's15'): 18.770267996784053,\n ('o64', 's16'): 15.849603454779487,\n ('o64', 's17'): 14.14559585649766,\n ('o64', 's18'): 23.114186863877425,\n ('o64', 's19'): 21.746012502296,\n ('o64', 's20'): 26.597573926747643,\n ('o25', 's1'): 4.88935047486133,\n ('o25', 's2'): 19.471452123296693,\n ('o25', 's3'): 26.67589058727094,\n ('o25', 's4'): 26.62874186292178,\n ('o25', 's5'): 26.12947546766397,\n ('o25', 's6'): 35.693269410355924,\n ('o25', 's7'): 38.16256246816344,\n ('o25', 's8'): 44.0366624637981,\n ('o25', 's9'): 43.51198221101156,\n ('o25', 's10'): 47.59436404970148,\n ('o25', 's11'): 46.68817588660565,\n ('o25', 's12'): 50.85525118265832,\n ('o25', 's13'): 57.169730757831644,\n ('o25', 's14'): 55.232042183144024,\n ('o25', 's15'): 63.939007352558015,\n ('o25', 's16'): 62.525659337496215,\n ('o25', 's17'): 61.66858259009151,\n ('o25', 's18'): 69.70852493446155,\n ('o25', 's19'): 69.49745553262828,\n ('o25', 's20'): 73.30835264553852,\n ('o94', 's1'): 71.46205525188445,\n ('o94', 's2'): 56.933679326445116,\n ('o94', 's3'): 49.74278292993831,\n ('o94', 's4'): 50.85338670583033,\n ('o94', 's5'): 52.27591695896297,\n ('o94', 's6'): 40.63120077760902,\n ('o94', 's7'): 38.731383870933385,\n ('o94', 's8'): 34.145296565630765,\n ('o94', 's9'): 33.97901483577557,\n ('o94', 's10'): 29.51090311649455,\n ('o94', 's11'): 30.52342441444829,\n ('o94', 's12'): 26.237799580485483,\n ('o94', 's13'): 20.115702040091378,\n ('o94', 's14'): 21.593855124477937,\n ('o94', 's15'): 13.065767758811326,\n ('o94', 's16'): 13.800928776420196,\n ('o94', 's17'): 15.119913879738675,\n ('o94', 's18'): 6.730594127345198,\n ('o94', 's19'): 8.36068164238502,\n ('o94', 's20'): 3.287726040501488,\n ('o119', 's1'): 44.90965206419761,\n ('o119', 's2'): 30.445999292349956,\n ('o119', 's3'): 24.674127381109447,\n ('o119', 's4'): 27.486925682052053,\n ('o119', 's5'): 29.593053992196076,\n ('o119', 's6'): 15.693648767727643,\n ('o119', 's7'): 17.213441144647142,\n ('o119', 's8'): 17.7874468406236,\n ('o119', 's9'): 6.319823303326114,\n ('o119', 's10'): 13.832998752780382,\n ('o119', 's11'): 14.367170092763288,\n ('o119', 's12'): 3.593031773017837,\n ('o119', 's13'): 8.432717044865289,\n ('o119', 's14'): 13.72474713604642,\n ('o119', 's15'): 15.448691458367838,\n ('o119', 's16'): 16.000562432104733,\n ('o119', 's17'): 17.152782359301476,\n ('o119', 's18'): 21.848714376938947,\n ('o119', 's19'): 24.082571426660078,\n ('o119', 's20'): 25.246114027123344,\n ('o148', 's1'): 26.412982781455785,\n ('o148', 's2'): 12.191443716045175,\n ('o148', 's3'): 4.584156829173731,\n ('o148', 's4'): 7.127612894104112,\n ('o148', 's5'): 9.4066014506504,\n ('o148', 's6'): 4.843956080411866,\n ('o148', 's7'): 7.3584117318867355,\n ('o148', 's8'): 13.826957072908987,\n ('o148', 's9'): 14.400542834627853,\n ('o148', 's10'): 16.528954981602215,\n ('o148', 's11'): 15.693882696479891,\n ('o148', 's12'): 20.538302565798535,\n ('o148', 's13'): 26.640847683982066,\n ('o148', 's14'): 24.013533189054773,\n ('o148', 's15'): 33.07723217368779,\n ('o148', 's16'): 31.360609244001086,\n ('o148', 's17'): 30.435615733324727,\n ('o148', 's18'): 38.6061700599273,\n ('o148', 's19'): 38.270752018675395,\n ('o148', 's20'): 42.202821627184676,\n ('o208', 's1'): 22.720826765685036,\n ('o208', 's2'): 10.959068029241962,\n ('o208', 's3'): 5.158475278722068,\n ('o208', 's4'): 0.7833848589152154,\n ('o208', 's5'): 2.1592444856997295,\n ('o208', 's6'): 11.79852757510834,\n ('o208', 's7'): 11.780762925601326,\n ('o208', 's8'): 16.96869082749078,\n ('o208', 's9'): 21.532789621913384,\n ('o208', 's10'): 21.040886988394227,\n ('o208', 's11'): 20.05807150490671,\n ('o208', 's12'): 27.128042458869444,\n ('o208', 's13'): 32.974971603554145,\n ('o208', 's14'): 28.930934421275996,\n ('o208', 's15'): 39.023428282258436,\n ('o208', 's16'): 36.820192566650036,\n ('o208', 's17'): 35.44386120531785,\n ('o208', 's18'): 44.13857659186125,\n ('o208', 's19'): 43.08985524148125,\n ('o208', 's20'): 47.696670634877506,\n ('o86', 's1'): 67.2072599006679,\n ('o86', 's2'): 52.82630302837915,\n ('o86', 's3'): 45.34682116328546,\n ('o86', 's4'): 46.035671164837126,\n ('o86', 's5'): 47.28932727653478,\n ('o86', 's6'): 36.504023130342944,\n ('o86', 's7'): 33.99595289327187,\n ('o86', 's8'): 28.885761642625624,\n ('o86', 's9'): 31.008031862129766,\n ('o86', 's10'): 24.583757749349157,\n ('o86', 's11'): 25.554147517639358,\n ('o86', 's12'): 23.428903044893982,\n ('o86', 's13'): 17.974279573871314,\n ('o86', 's14'): 16.795443172347888,\n ('o86', 's15'): 11.68675257309835,\n ('o86', 's16'): 10.329816061809359,\n ('o86', 's17'): 10.377925477637865,\n ('o86', 's18'): 6.244167154861264,\n ('o86', 's19'): 2.5271314827995375,\n ('o86', 's20'): 6.119687644722607,\n ('o93', 's1'): 70.79207179432278,\n ('o93', 's2'): 56.351966276211385,\n ('o93', 's3'): 48.96036735019075,\n ('o93', 's4'): 49.77436136833168,\n ('o93', 's5'): 51.07225427320493,\n ('o93', 's6'): 40.01495925634029,\n ('o93', 's7'): 37.69861143400194,\n ('o93', 's8'): 32.71545269595682,\n ('o93', 's9'): 34.04910227355491,\n ('o93', 's10'): 28.32318813224952,\n ('o93', 's11'): 29.307413409181603,\n ('o93', 's12'): 26.360111469640408,\n ('o93', 's13'): 20.542705636460756,\n ('o93', 's14'): 20.467377359276348,\n ('o93', 's15'): 13.736184474157042,\n ('o93', 's16'): 13.384342001726239,\n ('o93', 's17'): 13.97251490501055,\n ('o93', 's18'): 7.402698290248821,\n ('o93', 's19'): 6.331836814623912,\n ('o93', 's20'): 5.150060476057409,\n ('o108', 's1'): 46.57812873500577,\n ('o108', 's2'): 32.01546713314925,\n ('o108', 's3'): 25.697868852935965,\n ('o108', 's4'): 28.062857795675423,\n ('o108', 's5'): 30.03085180185147,\n ('o108', 's6'): 16.45168895141391,\n ('o108', 's7'): 16.947999956067843,\n ('o108', 's8'): 16.328248024120917,\n ('o108', 's9'): 8.163614634798781,\n ('o108', 's10'): 11.845439330656118,\n ('o108', 's11'): 12.545040294941153,\n ('o108', 's12'): 0.91712897325853,\n ('o108', 's13'): 5.821372610523963,\n ('o108', 's14'): 10.593824693768708,\n ('o108', 's15'): 12.865106121819538,\n ('o108', 's16'): 12.951679172699654,\n ('o108', 's17'): 13.942505612460963,\n ('o108', 's18'): 19.154823180213587,\n ('o108', 's19'): 21.0211413661572,\n ('o108', 's20'): 22.640712398043018,\n ('o131', 's1'): 39.47344224869142,\n ('o131', 's2'): 24.93277674741768,\n ('o131', 's3'): 17.9259366238302,\n ('o131', 's4'): 19.828652537513584,\n ('o131', 's5'): 21.704281306441047,\n ('o131', 's6'): 8.66935903498468,\n ('o131', 's7'): 8.523091737167677,\n ('o131', 's8'): 9.352749294872025,\n ('o131', 's9'): 5.914676366913081,\n ('o131', 's10'): 6.876283019461704,\n ('o131', 's11'): 6.889690507694279,\n ('o131', 's12'): 7.570123523348677,\n ('o131', 's13'): 13.343606166736963,\n ('o131', 's14'): 11.788448397606121,\n ('o131', 's15'): 19.70874142090219,\n ('o131', 's16'): 18.226794285521716,\n ('o131', 's17'): 17.754200153357743,\n ('o131', 's18'): 25.365428392655872,\n ('o131', 's19'): 25.605454095937013,\n ('o131', 's20'): 28.965066130149232,\n ('o6', 's1'): 70.45393922414922,\n ('o6', 's2'): 55.92275338441215,\n ('o6', 's3'): 48.742412014261774,\n ('o6', 's4'): 49.87443519136744,\n ('o6', 's5'): 51.3083070836103,\n ('o6', 's6'): 39.623550357646046,\n ('o6', 's7'): 37.751595280894584,\n ('o6', 's8'): 33.210247852162574,\n ('o6', 's9'): 32.960497828153166,\n ('o6', 's10'): 28.550602370486782,\n ('o6', 's11'): 29.565434922404695,\n ('o6', 's12'): 25.219306921958527,\n ('o6', 's13'): 19.103016532703304,\n ('o6', 's14'): 20.63504988699345,\n ('o6', 's15'): 12.057258912712593,\n ('o6', 's16'): 12.798200427994859,\n ('o6', 's17'): 14.177497066348042,\n ('o6', 's18'): 5.7114564090836435,\n ('o6', 's19'): 7.637621291738622,\n ('o6', 's20'): 2.312451836226999,\n ('o10', 's1'): 64.54999646666063,\n ('o10', 's2'): 49.97116434742003,\n ('o10', 's3'): 43.06430793090406,\n ('o10', 's4'): 44.58651360834354,\n ('o10', 's5'): 46.19312247270955,\n ('o10', 's6'): 33.815803193725586,\n ('o10', 's7'): 32.52593897033276,\n ('o10', 's8'): 28.723277357426237,\n ('o10', 's9'): 26.519643438005474,\n ('o10', 's10'): 23.767166544610962,\n ('o10', 's11'): 24.799943834028472,\n ('o10', 's12'): 18.81258499423842,\n ('o10', 's13'): 12.541253368642966,\n ('o10', 's14'): 16.102499575267277,\n ('o10', 's15'): 5.520808663038159,\n ('o10', 's16'): 7.817988490993668,\n ('o10', 's17'): 10.390537329200047,\n ('o10', 's18'): 2.4023512999219228,\n ('o10', 's19'): 8.167240725636306,\n ('o10', 's20'): 4.565487501548426,\n ('o41', 's1'): 14.263672785752087,\n ('o41', 's2'): 1.2896400513609942,\n ('o41', 's3'): 8.918392002776233,\n ('o41', 's4'): 11.40805434411424,\n ('o41', 's5'): 12.581663345085069,\n ('o41', 's6'): 16.9349189191522,\n ('o41', 's7'): 20.326916445484784,\n ('o41', 's8'): 26.713496674348917,\n ('o41', 's9'): 24.365852892920337,\n ('o41', 's10'): 29.47056242923039,\n ('o41', 's11'): 28.661819889887937,\n ('o41', 's12'): 31.735227624277954,\n ('o41', 's13'): 38.05898461858947,\n ('o41', 's14'): 36.753629424542204,\n ('o41', 's15'): 44.887919641215674,\n ('o41', 's16'): 43.67879504066224,\n ('o41', 's17'): 43.06012688642981,\n ('o41', 's18'): 50.77210404680062,\n ('o41', 's19'): 50.92745380146138,\n ('o41', 's20'): 54.36651268957449,\n ('o144', 's1'): 25.47982074414088,\n ('o144', 's2'): 11.046444714441426,\n ('o144', 's3'): 4.10282986430528,\n ('o144', 's4'): 7.674389454794371,\n ('o144', 's5'): 10.047361747368075,\n ('o144', 's6'): 5.364575112337717,\n ('o144', 's7'): 8.822765550922924,\n ('o144', 's8'): 15.337776960536878,\n ('o144', 's9'): 14.346819630348104,\n ('o144', 's10'): 17.747705005495668,\n ('o144', 's11'): 16.95852087295698,\n ('o144', 's12'): 20.923898969476433,\n ('o144', 's13'): 27.130222471646174,\n ('o144', 's14'): 25.052415925851474,\n ('o144', 's15'): 33.71591539925088,\n ('o144', 's16'): 32.18957566995079,\n ('o144', 's17'): 31.410658756191893,\n ('o144', 's18'): 39.38320206540592,\n ('o144', 's19'): 39.268906377458876,\n ('o144', 's20'): 42.98315129826349,\n ('o169', 's1'): 9.947388287024392,\n ('o169', 's2'): 4.642282318311213,\n ('o169', 's3'): 12.272365828816634,\n ('o169', 's4'): 13.521175105118324,\n ('o169', 's5'): 13.994516903256802,\n ('o169', 's6'): 20.956702722117107,\n ('o169', 's7'): 23.88953476268799,\n ('o169', 's8'): 30.09744701440531,\n ('o169', 's9'): 28.714701043241593,\n ('o169', 's10'): 33.212305468632344,\n ('o169', 's11'): 32.35732961999233,\n ('o169', 's12'): 36.01931873714226,\n ('o169', 's13'): 42.33331450342232,\n ('o169', 's14'): 40.67259506544511,\n ('o169', 's15'): 49.11424547225586,\n ('o169', 's16'): 47.78371112734174,\n ('o169', 's17'): 47.04704566121608,\n ('o169', 's18'): 54.92841472531473,\n ('o169', 's19'): 54.903474151590096,\n ('o169', 's20'): 58.52680442714602,\n ('o185', 's1'): 1.3277169169749896,\n ('o185', 's2'): 13.261060780235038,\n ('o185', 's3'): 20.553330362714956,\n ('o185', 's4'): 20.82396090992475,\n ('o185', 's5'): 20.576770609166473,\n ('o185', 's6'): 29.5033640673168,\n ('o185', 's7'): 32.10293621659982,\n ('o185', 's8'): 38.089920210273974,\n ('o185', 's9'): 37.321402279038864,\n ('o185', 's10'): 41.514224872915165,\n ('o185', 's11'): 40.62307367843247,\n ('o185', 's12'): 44.64655467801431,\n ('o185', 's13'): 50.95999059979087,\n ('o185', 's14'): 49.10094111429153,\n ('o185', 's15'): 57.72996193678672,\n ('o185', 's16'): 56.33938608932705,\n ('o185', 's17'): 55.51974264362656,\n ('o185', 's18'): 63.51138789133991,\n ('o185', 's19'): 63.35928521256563,\n ('o185', 's20'): 67.11094574407446,\n ('o87', 's1'): 71.48535225477833,\n ('o87', 's2'): 57.195024315536834,\n ('o87', 's3'): 49.6110024205693,\n ('o87', 's4'): 50.07013172001511,\n ('o87', 's5'): 51.20919579510555,\n ('o87', 's6'): 40.916997882886726,\n ('o87', 's7'): 38.138738667935215,\n ('o87', 's8'): 32.71996893677281,\n ('o87', 's9'): 35.7366474594763,\n ('o87', 's10'): 28.695756764517743,\n ('o87', 's11'): 29.629061135390717,\n ('o87', 's12'): 28.198658833749548,\n ('o87', 's13'): 22.778820097074927,\n ('o87', 's14'): 21.096471898312206,\n ('o87', 's15'): 16.38986846854297,\n ('o87', 's16'): 15.109308673850775,\n ('o87', 's17'): 14.869930310777086,\n ('o87', 's18'): 10.482305261752263,\n ('o87', 's19'): 7.091909880946025,\n ('o87', 's20'): 8.92452899931753,\n ('o168', 's1'): 13.397959765907107,\n ('o168', 's2'): 1.2255472300836294,\n ('o168', 's3'): 8.882608771468137,\n ('o168', 's4'): 10.684536737596478,\n ('o168', 's5'): 11.578378752785888,\n ('o168', 's6'): 17.474041265591723,\n ('o168', 's7'): 20.478670813437084,\n ('o168', 's8'): 26.749683784122276,\n ('o168', 's9'): 25.357079912139184,\n ('o168', 's10'): 29.764825578716195,\n ('o168', 's11'): 28.919841134256146,\n ('o168', 's12'): 32.59370769947355,\n ('o168', 's13'): 38.899555490755546,\n ('o168', 's14'): 37.19722093908226,\n ('o168', 's15'): 45.657242330738214,\n ('o168', 's16'): 44.30291889756573,\n ('o168', 's17'): 43.56609165996142,\n ('o168', 's18'): 51.45327542602325,\n ('o168', 's19'): 51.423668752951016,\n ('o168', 's20'): 55.05209414195557,\n ('o24', 's1'): 6.3159834121174985,\n ('o24', 's2'): 8.346913592532065,\n ('o24', 's3'): 15.941601431088118,\n ('o24', 's4'): 16.838070504774606,\n ('o24', 's5'): 17.012093625869802,\n ('o24', 's6'): 24.673254020312857,\n ('o24', 's7'): 27.557339959443677,\n ('o24', 's8'): 33.71150908952787,\n ('o24', 's9'): 32.31701479849746,\n ('o24', 's10'): 36.90469295273027,\n ('o24', 's11'): 36.04205966067073,\n ('o24', 's12'): 39.67902410242499,\n ('o24', 's13'): 45.999248261746,\n ('o24', 's14'): 44.385727477434884,\n ('o24', 's15'): 52.80239177442714,\n ('o24', 's16'): 51.49746226256718,\n ('o24', 's17'): 50.763824734839005,\n ('o24', 's18'): 58.635455993014006,\n ('o24', 's19'): 58.61952675199882,\n ('o24', 's20'): 62.23328600429847,\n ('o190', 's1'): 40.66775674978767,\n ('o190', 's2'): 26.50110429722581,\n ('o190', 's3'): 18.79890147716591,\n ('o190', 's4'): 19.45697812813445,\n ('o190', 's5'): 20.88414563013587,\n ('o190', 's6'): 10.602468158047154,\n ('o190', 's7'): 7.358656104856821,\n ('o190', 's8'): 4.444132526436726,\n ('o190', 's9'): 11.303646952801248,\n ('o190', 's10'): 2.24835653198721,\n ('o190', 's11'): 1.6875281883808808,\n ('o190', 's12'): 10.976631546651808,\n ('o190', 's13'): 15.222452725627935,\n ('o190', 's14'): 9.874137162625212,\n ('o190', 's15'): 20.340758266754513,\n ('o190', 's16'): 17.790042177531976,\n ('o190', 's17'): 16.384275995475296,\n ('o190', 's18'): 25.105879101064815,\n ('o190', 's19'): 24.115479545959786,\n ('o190', 's20'): 28.643806147442355,\n ('o97', 's1'): 53.83090534517967,\n ('o97', 's2'): 39.25470818103702,\n ('o97', 's3'): 32.72147814114641,\n ('o97', 's4'): 34.75888823821179,\n ('o97', 's5'): 36.58947344919029,\n ('o97', 's6'): 23.42340484024183,\n ('o97', 's7'): 23.080903480576247,\n ('o97', 's8'): 20.81958703003582,\n ('o97', 's9'): 15.451734998310869,\n ('o97', 's10'): 15.752772748743487,\n ('o97', 's11'): 16.70783825145267,\n ('o97', 's12'): 7.865695729264496,\n ('o97', 's13'): 1.5921268100177033,\n ('o97', 's14'): 10.3153550264986,\n ('o97', 's15'): 5.757987149175898,\n ('o97', 's16'): 7.3381169628618474,\n ('o97', 's17'): 9.691626099866243,\n ('o97', 's18'): 12.183831413523105,\n ('o97', 's19'): 15.094299953600508,\n ('o97', 's20'): 15.543523384205523,\n ('o162', 's1'): 16.453237551936407,\n ('o162', 's2'): 2.206448823770583,\n ('o162', 's3'): 5.753502533102285,\n ('o162', 's4'): 8.145176788116867,\n ('o162', 's5'): 9.493464363505192,\n ('o162', 's6'): 14.378316221735172,\n ('o162', 's7'): 17.326905309486254,\n ('o162', 's8'): 23.623111650975005,\n ('o162', 's9'): 22.55972182964804,\n ('o162', 's10'): 26.607884616579923,\n ('o162', 's11'): 25.762564076834202,\n ('o162', 's12'): 29.655733323097373,\n ('o162', 's13'): 35.93985628422194,\n ('o162', 's14'): 34.05605074402678,\n ('o162', 's15'): 42.643599914337166,\n ('o162', 's16'): 41.21470861735042,\n ('o162', 's17'): 40.437799979785794,\n ('o162', 's18'): 48.38817529566449,\n ('o162', 's19'): 48.291320554850664,\n ('o162', 's20'): 51.98795985059398,\n ('o106', 's1'): 56.53154337986178,\n ('o106', 's2'): 41.94783160514836,\n ('o106', 's3'): 35.249054999701656,\n ('o106', 's4'): 37.085222508702145,\n ('o106', 's5'): 38.83479725366802,\n ('o106', 's6'): 25.954178795787023,\n ('o106', 's7'): 25.217429921125884,\n ('o106', 's8'): 22.34694178730175,\n ('o106', 's9'): 18.316344831349692,\n ('o106', 's10'): 17.244307075162947,\n ('o106', 's11'): 18.247462781067927,\n ('o106', 's12'): 10.637862697178468,\n ('o106', 's13'): 4.3317177345894455,\n ('o106', 's14'): 10.710912674006288,\n ('o106', 's15'): 2.794725799747059,\n ('o106', 's16'): 5.270567016322496,\n ('o106', 's17'): 8.192687426999608,\n ('o106', 's18'): 9.22485646850662,\n ('o106', 's19'): 12.454030965594436,\n ('o106', 's20'): 12.582153602050889,\n ('o157', 's1'): 22.043611072051334,\n ('o157', 's2'): 7.831380372889852,\n ('o157', 's3'): 0.9860546923964449,\n ('o157', 's4'): 5.556109786038264,\n ('o157', 's5'): 7.861710806959482,\n ('o157', 's6'): 8.892197634534089,\n ('o157', 's7'): 11.651680607702152,\n ('o157', 's8'): 18.01605949981854,\n ('o157', 's9'): 17.799776008712037,\n ('o157', 's10'): 20.912170391640842,\n ('o157', 's11'): 20.06692913091515,\n ('o157', 's12'): 24.478784811033908,\n ('o157', 's13'): 30.68633725101044,\n ('o157', 's14'): 28.394120643090904,\n ('o157', 's15'): 37.25553494729796,\n ('o157', 's16'): 35.665885998276366,\n ('o157', 's17'): 34.8021119868743,\n ('o157', 's18'): 42.88330703496005,\n ('o157', 's19'): 42.644900767536974,\n ('o157', 's20'): 46.48258474291571,\n ('o175', 's1'): 10.051576399621329,\n ('o175', 's2'): 4.700464549384251,\n ('o175', 's3'): 11.874209972278095,\n ('o175', 's4'): 12.745914133786204,\n ('o175', 's5'): 13.065011921439739,\n ('o175', 's6'): 20.783121811845366,\n ('o175', 's7'): 23.473864228337955,\n ('o175', 's8'): 29.591000962634077,\n ('o175', 's9'): 28.82566596171839,\n ('o175', 's10'): 32.85085493443032,\n ('o175', 's11'): 31.975730717307666,\n ('o175', 's12'): 36.027851784615656,\n ('o175', 's13'): 42.32467428061634,\n ('o175', 's14'): 40.39270259378761,\n ('o175', 's15'): 49.050004172723355,\n ('o175', 's16'): 47.617621234232935,\n ('o175', 's17'): 46.80139440957195,\n ('o175', 's18'): 54.797999139608535,\n ('o175', 's19'): 54.645342944234294,\n ('o175', 's20'): 58.39786952483158,\n ('o136', 's1'): 39.18923621782238,\n ('o136', 's2'): 24.6598291130104,\n ('o136', 's3'): 17.6044969962488,\n ('o136', 's4'): 19.460343156862823,\n ('o136', 's5'): 21.32466729471398,\n ('o136', 's6'): 8.368974799705732,\n ('o136', 's7'): 8.119178429749393,\n ('o136', 's8'): 9.03361202972877,\n ('o136', 's9'): 6.144049582924611,\n ('o136', 's10'): 6.745935324740439,\n ('o136', 's11'): 6.702707481069798,\n ('o136', 's12'): 7.967822744385786,\n ('o136', 's13'): 13.707868599669691,\n ('o136', 's14'): 11.933197892428858,\n ('o136', 's15'): 20.032788442393443,\n ('o136', 's16'): 18.492866482602636,\n ('o136', 's17'): 17.96260830974314,\n ('o136', 's18'): 25.65295964124253,\n ('o136', 's19'): 25.8212497240368,\n ('o136', 's20'): 29.25293396093981,\n ('o145', 's1'): 26.799243537433746,\n ('o145', 's2'): 12.329362276439038,\n ('o145', 's3'): 5.4110770810257085,\n ('o145', 's4'): 8.682212007917835,\n ('o145', 's5'): 11.017868402191397,\n ('o145', 's6'): 4.033330298250505,\n ('o145', 's7'): 7.859560659835938,\n ('o145', 's8'): 14.377240881545866,\n ('o145', 's9'): 13.077829688642286,\n ('o145', 's10'): 16.56087691533377,\n ('o145', 's11'): 15.798269963948123,\n ('o145', 's12'): 19.585416163337772,\n ('o145', 's13'): 25.787512873814055,\n ('o145', 's14'): 23.783066046223972,\n ('o145', 's15'): 32.37464238201259,\n ('o145', 's16'): 30.86785328258262,\n ('o145', 's17'): 30.119685376290725,\n ('o145', 's18'): 38.05306947927271,\n ('o145', 's19'): 37.9818734739476,\n ('o145', 's20'): 41.65306734491287,\n ('o3', 's1'): 41.168316586030876,\n ('o3', 's2'): 27.361143305264996,\n ('o3', 's3'): 19.47223559374226,\n ('o3', 's4'): 19.424652963796593,\n ('o3', 's5'): 20.551122876955816,\n ('o3', 's6'): 12.237342111972508,\n ('o3', 's7'): 7.882199686412944,\n ('o3', 's8'): 2.2497668893863745,\n ('o3', 's9'): 14.261372131124197,\n ('o3', 's10'): 2.935339815804966,\n ('o3', 's11'): 2.0367175195929725,\n ('o3', 's12'): 13.66127370442451,\n ('o3', 's13'): 17.27795105170077,\n ('o3', 's14'): 10.435880773118487,\n ('o3', 's15'): 21.705496670520436,\n ('o3', 's16'): 18.69451218919015,\n ('o3', 's17'): 16.823774581535325,\n ('o3', 's18'): 25.91554465231877,\n ('o3', 's19'): 24.25158605859307,\n ('o3', 's20'): 29.36245216483635,\n ('o28', 's1'): 6.965119513553159,\n ('o28', 's2'): 21.548544033118535,\n ('o28', 's3'): 28.771104215582426,\n ('o28', 's4'): 28.69250797545781,\n ('o28', 's5'): 28.15497394838771,\n ('o28', 's6'): 37.78434688083458,\n ('o28', 's7'): 40.253888712832584,\n ('o28', 's8'): 46.11446537202114,\n ('o28', 's9'): 45.56204900173293,\n ('o28', 's10'): 49.68689810390291,\n ('o28', 's11'): 48.779498532063236,\n ('o28', 's12'): 52.92451840582088,\n ('o28', 's13'): 59.241479598776564,\n ('o28', 's14'): 57.32718881993925,\n ('o28', 's15'): 66.01987537414496,\n ('o28', 's16'): 64.61783454763314,\n ('o28', 's17'): 63.76383735774606,\n ('o28', 's18'): 71.79782972114069,\n ('o28', 's19'): 71.59269514189715,\n ('o28', 's20'): 75.39757205705028,\n ('o45', 's1'): 46.894834198085285,\n ('o45', 's2'): 32.70319736924721,\n ('o45', 's3'): 25.025731509711935,\n ('o45', 's4'): 25.56478753903051,\n ('o45', 's5'): 26.866451449507778,\n ('o45', 's6'): 16.623569378647883,\n ('o45', 's7'): 13.542508683142271,\n ('o45', 's8'): 8.773435575829298,\n ('o45', 's9'): 14.54788514108868,\n ('o45', 's10'): 4.111476655783946,\n ('o45', 's11'): 5.091029987244894,\n ('o45', 's12'): 10.400332613277977,\n ('o45', 's13'): 11.895701047447488,\n ('o45', 's14'): 3.9039398897737345,\n ('o45', 's15'): 15.358135639840006,\n ('o45', 's16'): 12.174370826747436,\n ('o45', 's17'): 10.344101333871519,\n ('o45', 's18'): 19.383657900151462,\n ('o45', 's19'): 17.94907589944369,\n ('o45', 's20'): 22.83829541802228,\n ('o27', 's1'): 5.690948908795179,\n ('o27', 's2'): 20.274944365668606,\n ('o27', 's3'): 27.49031790895331,\n ('o27', 's4'): 27.43444000773814,\n ('o27', 's5'): 26.921650972158695,\n ('o27', 's6'): 36.50426865638213,\n ('o27', 's7'): 38.976735818096905,\n ('o27', 's8'): 44.84709475906336,\n ('o27', 's9'): 44.30307545988192,\n ('o27', 's10'): 48.40877479353735,\n ('o27', 's11'): 47.50235474080178,\n ('o27', 's12'): 51.65527885326823,\n ('o27', 's13'): 57.97095965897785,\n ('o27', 's14'): 56.04651700127136,\n ('o27', 's15'): 64.74466598415923,\n ('o27', 's16'): 63.337336444968415,\n ('o27', 's17'): 62.482687350285666,\n ('o27', 's18'): 70.5185523506555,\n ('o27', 's19'): 70.31184513003352,\n ('o27', 's20'): 74.11833526860254,\n ('o219', 's1'): 4.19946312318048,\n ('o219', 's2'): 18.775219416212554,\n ('o219', 's3'): 25.965309015062637,\n ('o219', 's4'): 25.921582043083983,\n ('o219', 's5'): 25.43247048503107,\n ('o219', 's6'): 34.98778566591712,\n ('o219', 's7'): 37.450730189693836,\n ('o219', 's8'): 43.326358298385756,\n ('o219', 's9'): 42.828360976349146,\n ('o219', 's10'): 46.88260513203787,\n ('o219', 's11'): 45.97634440644515,\n ('o219', 's12'): 50.162113400872606,\n ('o219', 's13'): 56.47524886454477,\n ('o219', 's14'): 54.521313689751594,\n ('o219', 's15'): 63.239643497067284,\n ('o219', 's16'): 61.819221799034054,\n ('o219', 's17'): 60.9586404383421,\n ('o219', 's18'): 69.00411574548639,\n ('o219', 's19'): 68.78693440820797,\n ('o219', 's20'): 72.60399034324314,\n ('o9', 's1'): 54.89182965794951,\n ('o9', 's2'): 40.34074102262083,\n ('o9', 's3'): 34.00192002075454,\n ('o9', 's4'): 36.19995990227108,\n ('o9', 's5'): 38.082133537232124,\n ('o9', 's6'): 24.72524322629131,\n ('o9', 's7'): 24.66506764995616,\n ('o9', 's8'): 22.64028789496505,\n ('o9', 's9'): 16.325454745172618,\n ('o9', 's10'): 17.595223949081205,\n ('o9', 's11'): 18.53620065636024,\n ('o9', 's12'): 9.03211725245581,\n ('o9', 's13'): 3.2604448045098917,\n ('o9', 's14'): 12.227343729387822,\n ('o9', 's15'): 5.864628297640939,\n ('o9', 's16'): 8.448293211760488,\n ('o9', 's17'): 11.121392014745286,\n ('o9', 's18'): 12.18482488329444,\n ('o9', 's19'): 15.760620688281524,\n ('o9', 's20'): 15.330362730863364,\n ('o212', 's1'): 24.20708390935422,\n ('o212', 's2'): 11.755984742007465,\n ('o212', 's3'): 4.82956204150043,\n ('o212', 's4'): 2.193060488125978,\n ('o212', 's5'): 3.8819085876414903,\n ('o212', 's6'): 10.109679352105962,\n ('o212', 's7'): 9.9739050522707,\n ('o212', 's8'): 15.299346967887118,\n ('o212', 's9'): 19.85696043411401,\n ('o212', 's10'): 19.27145088733364,\n ('o212', 's11'): 18.295925861982543,\n ('o212', 's12'): 25.334233161825562,\n ('o212', 's13'): 31.16213569447725,\n ('o212', 's14'): 27.149524624173388,\n ('o212', 's15'): 37.20495679071391,\n ('o212', 's16'): 35.01477704603233,\n ('o212', 's17'): 33.66295009336023,\n ('o212', 's18'): 42.332418103272715,\n ('o212', 's19'): 41.3285623649413,\n ('o212', 's20'): 45.89322040757071,\n ('o139', 's1'): 37.30357438369857,\n ('o139', 's2'): 22.805061181848348,\n ('o139', 's3'): 15.654561825058492,\n ('o139', 's4'): 17.48156568292985,\n ('o139', 's5'): 19.360644283037523,\n ('o139', 's6'): 6.473740139254765,\n ('o139', 's7'): 6.33903192329094,\n ('o139', 's8'): 8.462569729570689,\n ('o139', 's9'): 6.706574136438876,\n ('o139', 's10'): 7.388347423365336,\n ('o139', 's11'): 7.065656404364849,\n ('o139', 's12'): 9.879060136201177,\n ('o139', 's13'): 15.688453090483131,\n ('o139', 's14'): 13.512767190584656,\n ('o139', 's15'): 21.99565838336968,\n ('o139', 's16'): 20.36352393594404,\n ('o139', 's17'): 19.699441882684944,\n ('o139', 's18'): 27.56102235496766,\n ('o139', 's19'): 27.567731895431322,\n ('o139', 's20'): 31.160598344257696,\n ('o214', 's1'): 25.699924310460467,\n ('o214', 's2'): 12.79843731060419,\n ('o214', 's3'): 5.250250740603948,\n ('o214', 's4'): 3.855214681285929,\n ('o214', 's5'): 5.516133806194177,\n ('o214', 's6'): 8.655081819654903,\n ('o214', 's7'): 8.280343447657954,\n ('o214', 's8'): 13.718496997851979,\n ('o214', 's9'): 18.38610032357959,\n ('o214', 's10'): 17.60041580709229,\n ('o214', 's11'): 16.63076178945596,\n ('o214', 's12'): 23.69719357468023,\n ('o214', 's13'): 29.491445771669472,\n ('o214', 's14'): 25.46884274208985,\n ('o214', 's15'): 35.51257065750235,\n ('o214', 's16'): 33.32095383295022,\n ('o214', 's17'): 31.982107135196127,\n ('o214', 's18'): 40.63829055717278,\n ('o214', 's19'): 39.66030538931247,\n ('o214', 's20'): 44.20003989055559,\n ('o113', 's1'): 48.77343742750751,\n ('o113', 's2'): 34.461954826503565,\n ('o113', 's3'): 29.07730346471908,\n ('o113', 's4'): 32.05597097481717,\n ('o113', 's5'): 34.196047410115526,\n ('o113', 's6'): 20.260032760158072,\n ('o113', 's7'): 21.89290345958717,\n ('o113', 's8'): 22.133724777456383,\n ('o113', 's9'): 10.634875146851524,\n ('o113', 's10'): 17.82247203295372,\n ('o113', 's11'): 18.48042772641359,\n ('o113', 's12'): 6.857555118000267,\n ('o113', 's13'): 7.940198636790475,\n ('o113', 's14'): 15.961229258606854,\n ('o113', 's15'): 14.000712503885811,\n ('o113', 's16'): 15.791984054906521,\n ('o113', 's17'): 17.735371558517834,\n ('o113', 's18'): 20.356576702326,\n ('o113', 's19'): 23.63198908105336,\n ('o113', 's20'): 23.460636742388225,\n ('o160', 's1'): 19.459960036926052,\n ('o160', 's2'): 5.109850160772828,\n ('o160', 's3'): 3.0029466840410333,\n ('o160', 's4'): 6.631795133584678,\n ('o160', 's5'): 8.560371088293262,\n ('o160', 's6'): 11.373693399375483,\n ('o160', 's7'): 14.378581614155253,\n ('o160', 's8'): 20.739674359742928,\n ('o160', 's9'): 19.78975666936988,\n ('o160', 's10'): 23.611888099537765,\n ('o160', 's11'): 22.776471105871885,\n ('o160', 's12'): 26.751136392483485,\n ('o160', 's13'): 33.01414868055066,\n ('o160', 's14'): 31.038452234883188,\n ('o160', 's15'): 39.67809846625564,\n ('o160', 's16'): 38.207742916908884,\n ('o160', 's17'): 37.4191575344498,\n ('o160', 's18'): 45.391679742452524,\n ('o160', 's19'): 45.272566778542554,\n ('o160', 's20'): 48.991657895593036,\n ('o191', 's1'): 42.810593120962984,\n ('o191', 's2'): 28.631110042187753,\n ('o191', 's3'): 20.94114076019295,\n ('o191', 's4'): 21.557129136892122,\n ('o191', 's5'): 22.936733679243442,\n ('o191', 's6'): 12.643550792938724,\n ('o191', 's7'): 9.48391539498826,\n ('o191', 's8'): 5.563063600169368,\n ('o191', 's9'): 12.13338428215992,\n ('o191', 's10'): 0.6476592509790626,\n ('o191', 's11'): 1.45068749354566,\n ('o191', 's12'): 10.337720414804917,\n ('o191', 's13'): 13.829027096513382,\n ('o191', 's14'): 7.767631406363917,\n ('o191', 's15'): 18.524064665594317,\n ('o191', 's16'): 15.793807875100798,\n ('o191', 's17'): 14.28102969995764,\n ('o191', 's18'): 23.095906748917436,\n ('o191', 's19'): 21.985789110419763,\n ('o191', 's20'): 26.614014960440002,\n ...}"
     },
     "metadata": {},
     "output_type": "display_data"
    },
    {
     "name": "stdout",
     "output_type": "stream",
     "text": [
      "TimeR\n"
     ]
    },
    {
     "data": {
      "text/plain": "{('o74', 's1'): 54.869901934884496,\n ('o74', 's2'): 40.49156344567654,\n ('o74', 's3'): 33.01539383228145,\n ('o74', 's4'): 33.83760408289111,\n ('o74', 's5'): 35.19905444057435,\n ('o74', 's6'): 24.179549221206393,\n ('o74', 's7'): 21.741562470949656,\n ('o74', 's8'): 17.072568947254137,\n ('o74', 's9'): 19.449994856605564,\n ('o74', 's10'): 12.421767498345352,\n ('o74', 's11'): 13.427844700607151,\n ('o74', 's12'): 12.4806713018879,\n ('o74', 's13'): 9.2201208377404,\n ('o74', 's14'): 4.514110434032932,\n ('o74', 's15'): 8.46176922169844,\n ('o74', 's16'): 4.379380986759691,\n ('o74', 's17'): 1.9993727886691577,\n ('o74', 's18'): 11.151847626729145,\n ('o74', 's19'): 9.819846535019586,\n ('o74', 's20'): 14.526631698365959,\n ('o98', 's1'): 57.067679328992526,\n ('o98', 's2'): 42.489164310609084,\n ('o98', 's3'): 35.90093126483362,\n ('o98', 's4'): 37.840778519494805,\n ('o98', 's5'): 39.6259851186469,\n ('o98', 's6'): 26.600964621532054,\n ('o98', 's7'): 26.043905369333796,\n ('o98', 's8'): 23.34231052534236,\n ('o98', 's9'): 18.689006796543094,\n ('o98', 's10'): 18.239455748379413,\n ('o98', 's11'): 19.234238973854456,\n ('o98', 's12'): 11.106553632253188,\n ('o98', 's13'): 4.789094768513859,\n ('o98', 's14'): 11.837852633788126,\n ('o98', 's15'): 2.9995614446600887,\n ('o98', 's16'): 6.226295186435198,\n ('o98', 's17'): 9.24524086530958,\n ('o98', 's18'): 9.305410863303207,\n ('o98', 's19'): 13.00709040553153,\n ('o98', 's20'): 12.505187948076443,\n ('o53', 's1'): 41.32536074346742,\n ('o53', 's2'): 27.842063302038465,\n ('o53', 's3'): 19.898795210257568,\n ('o53', 's4'): 19.3497011927954,\n ('o53', 's5'): 20.242804689993193,\n ('o53', 's6'): 13.448901035375947,\n ('o53', 's7'): 8.594317465471235,\n ('o53', 's8'): 2.0722144928146657,\n ('o53', 's9'): 16.32819381117866,\n ('o53', 's10'): 4.852696645289748,\n ('o53', 's11'): 4.102500549546297,\n ('o53', 's12'): 15.755470571968058,\n ('o53', 's13'): 19.10125419669514,\n ('o53', 's14'): 11.604246005481887,\n ('o53', 's15'): 23.138925805485687,\n ('o53', 's16'): 19.88899062277953,\n ('o53', 's17'): 17.759972860799543,\n ('o53', 's18'): 26.989471646938206,\n ('o53', 's19'): 24.900815908644766,\n ('o53', 's20'): 30.358811183248967,\n ('o178', 's1'): 10.15817932517611,\n ('o178', 's2'): 4.582157413485818,\n ('o178', 's3'): 11.77645221447675,\n ('o178', 's4'): 12.679546856813563,\n ('o178', 's5'): 13.01798166808003,\n ('o178', 's6'): 20.674998843476445,\n ('o178', 's7'): 23.3787813834356,\n ('o178', 's8'): 29.502489491290735,\n ('o178', 's9'): 28.708781202176123,\n ('o178', 's10'): 32.75289687489114,\n ('o178', 's11'): 31.87895434707036,\n ('o178', 's12'): 35.913689891320736,\n ('o178', 's13'): 42.21112219599048,\n ('o178', 's14'): 40.290395564017956,\n ('o178', 's15'): 48.938377398503015,\n ('o178', 's16'): 47.50998939124787,\n ('o178', 's17'): 46.69745385567126,\n ('o178', 's18'): 54.68894939096893,\n ('o178', 's19'): 54.542134879665944,\n ('o178', 's20'): 58.288791909342095,\n ('o203', 's1'): 68.20387324713923,\n ('o203', 's2'): 53.73501254727249,\n ('o203', 's3'): 46.399014841294445,\n ('o203', 's4'): 47.3200788097158,\n ('o203', 's5'): 48.67096018451521,\n ('o203', 's6'): 37.39925317599003,\n ('o203', 's7'): 35.21805010135488,\n ('o203', 's8'): 30.408388618729056,\n ('o203', 's9'): 31.3053979032383,\n ('o203', 's10'): 25.895481278002098,\n ('o203', 's11'): 26.89361109807509,\n ('o203', 's12'): 23.60858865391184,\n ('o203', 's13'): 17.784353777752845,\n ('o203', 's14'): 17.997004115562945,\n ('o203', 's15'): 11.012610743456731,\n ('o203', 's16'): 10.674402535061374,\n ('o203', 's17'): 11.483593849599345,\n ('o203', 's18'): 4.784752299795721,\n ('o203', 's19'): 4.348477142526397,\n ('o203', 's20'): 3.561678686270817,\n ('o127', 's1'): 52.26931009564319,\n ('o127', 's2'): 37.71736536456376,\n ('o127', 's3'): 30.668533379161918,\n ('o127', 's4'): 32.17105591349617,\n ('o127', 's5'): 33.81538527121254,\n ('o127', 's6'): 21.46081670402471,\n ('o127', 's7'): 20.147584514473873,\n ('o127', 's8'): 16.930726761160646,\n ('o127', 's9'): 15.116254632404758,\n ('o127', 's10'): 11.83342516929798,\n ('o127', 's11'): 12.845863221996654,\n ('o127', 's12'): 7.595894392019449,\n ('o127', 's13'): 4.05250357460436,\n ('o127', 's14'): 5.587429639256149,\n ('o127', 's15'): 7.165049413025532,\n ('o127', 's16'): 5.611695607966419,\n ('o127', 's17'): 6.408058898820989,\n ('o127', 's18'): 12.57172223026281,\n ('o127', 's19'): 13.55506558104194,\n ('o127', 's20'): 16.170168686132087,\n ('o172', 's1'): 14.446484880415484,\n ('o172', 's2'): 1.0389507511913916,\n ('o172', 's3'): 8.634540639112862,\n ('o172', 's4'): 11.122950258146233,\n ('o172', 's5'): 12.310151914538116,\n ('o172', 's6'): 16.694449456820347,\n ('o172', 's7'): 20.056374067289997,\n ('o172', 's8'): 26.43739027665406,\n ('o172', 's9'): 24.186649564777365,\n ('o172', 's10'): 29.21126691170471,\n ('o172', 's11'): 28.399715700716456,\n ('o172', 's12'): 31.53697788573703,\n ('o172', 's13'): 37.8589086693489,\n ('o172', 's14'): 36.50769626695823,\n ('o172', 's15'): 44.67873633984174,\n ('o172', 's16'): 43.45188845782968,\n ('o172', 's17'): 42.82065467672554,\n ('o172', 's18'): 50.552241018134815,\n ('o172', 's19'): 50.687452104092834,\n ('o172', 's20'): 54.1473507450872,\n ('o51', 's1'): 52.14158612084408,\n ('o51', 's2'): 37.566788594343166,\n ('o51', 's3'): 31.06543298892186,\n ('o51', 's4'): 33.1593531264516,\n ('o51', 's5'): 35.01564531938141,\n ('o51', 's6'): 21.770743816632606,\n ('o51', 's7'): 21.56194736582482,\n ('o51', 's8'): 19.579984101768108,\n ('o51', 's9'): 13.765094430129386,\n ('o51', 's10'): 14.565821967343739,\n ('o51', 's11'): 15.488131961777247,\n ('o51', 's12'): 6.175673616947428,\n ('o51', 's13'): 0.4926211260166341,\n ('o51', 's14'): 9.846465965896128,\n ('o51', 's15'): 7.353483153457683,\n ('o51', 's16'): 8.363047599848542,\n ('o51', 's17'): 10.319546966763138,\n ('o51', 's18'): 13.746735473764286,\n ('o51', 's19'): 16.326790330622774,\n ('o51', 's20'): 17.15576709831815,\n ('o7', 's1'): 66.99222775607613,\n ('o7', 's2'): 52.42280774296527,\n ('o7', 's3'): 45.42422083613097,\n ('o7', 's4'): 46.81691490318515,\n ('o7', 's5'): 48.365878758994604,\n ('o7', 's6'): 36.20972591644277,\n ('o7', 's7'): 34.71846356052727,\n ('o7', 's8'): 30.638670675899867,\n ('o7', 's9'): 29.104109736871866,\n ('o7', 's10'): 25.774191192410775,\n ('o7', 's11'): 26.804491040096167,\n ('o7', 's12'): 21.37954910421764,\n ('o7', 's13'): 15.145113720902518,\n ('o7', 's14'): 17.96344469211573,\n ('o7', 's15'): 8.087879733237004,\n ('o7', 's16'): 9.73000508042998,\n ('o7', 's17'): 11.844932447048599,\n ('o7', 's18'): 2.5519714047662645,\n ('o7', 's19'): 7.620143173186421,\n ('o7', 's20'): 1.9771031125817153,\n ('o30', 's1'): 9.457306046368759,\n ('o30', 's2'): 24.029010692954817,\n ('o30', 's3'): 31.290542209098184,\n ('o30', 's4'): 31.206008135836676,\n ('o30', 's5'): 30.64263661666435,\n ('o30', 's6'): 40.287542323510834,\n ('o30', 's7'): 42.77785506325033,\n ('o30', 's8'): 48.63499940859765,\n ('o30', 's9'): 47.99634325790301,\n ('o30', 's10'): 52.21047813566335,\n ('o30', 's11'): 51.30347185158258,\n ('o30', 's12'): 55.387287139414276,\n ('o30', 's13'): 61.70783050020385,\n ('o30', 's14'): 59.84693048122196,\n ('o30', 's15'): 68.50160561356435,\n ('o30', 's16'): 67.12297722393947,\n ('o30', 's17'): 66.28081968688178,\n ('o30', 's18'): 74.29602555967588,\n ('o30', 's19'): 74.11166510391672,\n ('o30', 's20'): 77.89551817634444,\n ('o221', 's1'): 2.755195732561727,\n ('o221', 's2'): 17.20429268142615,\n ('o221', 's3'): 24.304512862804692,\n ('o221', 's4'): 24.21311433506949,\n ('o221', 's5'): 23.72158581898448,\n ('o221', 's6'): 33.36244613893128,\n ('o221', 's7'): 35.76805935527199,\n ('o221', 's8'): 41.62537917989114,\n ('o221', 's9'): 41.30239250636754,\n ('o221', 's10'): 45.203245306938896,\n ('o221', 's11'): 44.29350335637254,\n ('o221', 's12'): 48.59534063122249,\n ('o221', 's13'): 54.90193621519127,\n ('o221', 's14'): 52.857076395000576,\n ('o221', 's15'): 61.64356094576737,\n ('o221', 's16'): 60.18616928598284,\n ('o221', 's17'): 59.301479153779354,\n ('o221', 's18'): 67.38230142218505,\n ('o221', 's19'): 67.12440463290064,\n ('o221', 's20'): 70.9822995047207,\n ('o64', 's1'): 43.20533542662926,\n ('o64', 's2'): 29.120725208876266,\n ('o64', 's3'): 21.361241831024063,\n ('o64', 's4'): 21.769373743842216,\n ('o64', 's5'): 23.058900624951768,\n ('o64', 's6'): 13.297141230384579,\n ('o64', 's7'): 9.800404109869747,\n ('o64', 's8'): 5.176265064201556,\n ('o64', 's9'): 13.157357244724999,\n ('o64', 's10'): 0.4801068334268594,\n ('o64', 's11'): 1.2872551156848084,\n ('o64', 's12'): 11.213160146512585,\n ('o64', 's13'): 14.390444457605831,\n ('o64', 's14'): 7.665112031363968,\n ('o64', 's15'): 18.770267996784053,\n ('o64', 's16'): 15.849603454779487,\n ('o64', 's17'): 14.14559585649766,\n ('o64', 's18'): 23.114186863877425,\n ('o64', 's19'): 21.746012502296,\n ('o64', 's20'): 26.597573926747643,\n ('o25', 's1'): 4.88935047486133,\n ('o25', 's2'): 19.471452123296693,\n ('o25', 's3'): 26.67589058727094,\n ('o25', 's4'): 26.62874186292178,\n ('o25', 's5'): 26.12947546766397,\n ('o25', 's6'): 35.693269410355924,\n ('o25', 's7'): 38.16256246816344,\n ('o25', 's8'): 44.0366624637981,\n ('o25', 's9'): 43.51198221101156,\n ('o25', 's10'): 47.59436404970148,\n ('o25', 's11'): 46.68817588660565,\n ('o25', 's12'): 50.85525118265832,\n ('o25', 's13'): 57.169730757831644,\n ('o25', 's14'): 55.232042183144024,\n ('o25', 's15'): 63.939007352558015,\n ('o25', 's16'): 62.525659337496215,\n ('o25', 's17'): 61.66858259009151,\n ('o25', 's18'): 69.70852493446155,\n ('o25', 's19'): 69.49745553262828,\n ('o25', 's20'): 73.30835264553852,\n ('o94', 's1'): 71.46205525188445,\n ('o94', 's2'): 56.933679326445116,\n ('o94', 's3'): 49.74278292993831,\n ('o94', 's4'): 50.85338670583033,\n ('o94', 's5'): 52.27591695896297,\n ('o94', 's6'): 40.63120077760902,\n ('o94', 's7'): 38.731383870933385,\n ('o94', 's8'): 34.145296565630765,\n ('o94', 's9'): 33.97901483577557,\n ('o94', 's10'): 29.51090311649455,\n ('o94', 's11'): 30.52342441444829,\n ('o94', 's12'): 26.237799580485483,\n ('o94', 's13'): 20.115702040091378,\n ('o94', 's14'): 21.593855124477937,\n ('o94', 's15'): 13.065767758811326,\n ('o94', 's16'): 13.800928776420196,\n ('o94', 's17'): 15.119913879738675,\n ('o94', 's18'): 6.730594127345198,\n ('o94', 's19'): 8.36068164238502,\n ('o94', 's20'): 3.287726040501488,\n ('o119', 's1'): 44.90965206419761,\n ('o119', 's2'): 30.445999292349956,\n ('o119', 's3'): 24.674127381109447,\n ('o119', 's4'): 27.486925682052053,\n ('o119', 's5'): 29.593053992196076,\n ('o119', 's6'): 15.693648767727643,\n ('o119', 's7'): 17.213441144647142,\n ('o119', 's8'): 17.7874468406236,\n ('o119', 's9'): 6.319823303326114,\n ('o119', 's10'): 13.832998752780382,\n ('o119', 's11'): 14.367170092763288,\n ('o119', 's12'): 3.593031773017837,\n ('o119', 's13'): 8.432717044865289,\n ('o119', 's14'): 13.72474713604642,\n ('o119', 's15'): 15.448691458367838,\n ('o119', 's16'): 16.000562432104733,\n ('o119', 's17'): 17.152782359301476,\n ('o119', 's18'): 21.848714376938947,\n ('o119', 's19'): 24.082571426660078,\n ('o119', 's20'): 25.246114027123344,\n ('o148', 's1'): 26.412982781455785,\n ('o148', 's2'): 12.191443716045175,\n ('o148', 's3'): 4.584156829173731,\n ('o148', 's4'): 7.127612894104112,\n ('o148', 's5'): 9.4066014506504,\n ('o148', 's6'): 4.843956080411866,\n ('o148', 's7'): 7.3584117318867355,\n ('o148', 's8'): 13.826957072908987,\n ('o148', 's9'): 14.400542834627853,\n ('o148', 's10'): 16.528954981602215,\n ('o148', 's11'): 15.693882696479891,\n ('o148', 's12'): 20.538302565798535,\n ('o148', 's13'): 26.640847683982066,\n ('o148', 's14'): 24.013533189054773,\n ('o148', 's15'): 33.07723217368779,\n ('o148', 's16'): 31.360609244001086,\n ('o148', 's17'): 30.435615733324727,\n ('o148', 's18'): 38.6061700599273,\n ('o148', 's19'): 38.270752018675395,\n ('o148', 's20'): 42.202821627184676,\n ('o208', 's1'): 22.720826765685036,\n ('o208', 's2'): 10.959068029241962,\n ('o208', 's3'): 5.158475278722068,\n ('o208', 's4'): 0.7833848589152154,\n ('o208', 's5'): 2.1592444856997295,\n ('o208', 's6'): 11.79852757510834,\n ('o208', 's7'): 11.780762925601326,\n ('o208', 's8'): 16.96869082749078,\n ('o208', 's9'): 21.532789621913384,\n ('o208', 's10'): 21.040886988394227,\n ('o208', 's11'): 20.05807150490671,\n ('o208', 's12'): 27.128042458869444,\n ('o208', 's13'): 32.974971603554145,\n ('o208', 's14'): 28.930934421275996,\n ('o208', 's15'): 39.023428282258436,\n ('o208', 's16'): 36.820192566650036,\n ('o208', 's17'): 35.44386120531785,\n ('o208', 's18'): 44.13857659186125,\n ('o208', 's19'): 43.08985524148125,\n ('o208', 's20'): 47.696670634877506,\n ('o86', 's1'): 67.2072599006679,\n ('o86', 's2'): 52.82630302837915,\n ('o86', 's3'): 45.34682116328546,\n ('o86', 's4'): 46.035671164837126,\n ('o86', 's5'): 47.28932727653478,\n ('o86', 's6'): 36.504023130342944,\n ('o86', 's7'): 33.99595289327187,\n ('o86', 's8'): 28.885761642625624,\n ('o86', 's9'): 31.008031862129766,\n ('o86', 's10'): 24.583757749349157,\n ('o86', 's11'): 25.554147517639358,\n ('o86', 's12'): 23.428903044893982,\n ('o86', 's13'): 17.974279573871314,\n ('o86', 's14'): 16.795443172347888,\n ('o86', 's15'): 11.68675257309835,\n ('o86', 's16'): 10.329816061809359,\n ('o86', 's17'): 10.377925477637865,\n ('o86', 's18'): 6.244167154861264,\n ('o86', 's19'): 2.5271314827995375,\n ('o86', 's20'): 6.119687644722607,\n ('o93', 's1'): 70.79207179432278,\n ('o93', 's2'): 56.351966276211385,\n ('o93', 's3'): 48.96036735019075,\n ('o93', 's4'): 49.77436136833168,\n ('o93', 's5'): 51.07225427320493,\n ('o93', 's6'): 40.01495925634029,\n ('o93', 's7'): 37.69861143400194,\n ('o93', 's8'): 32.71545269595682,\n ('o93', 's9'): 34.04910227355491,\n ('o93', 's10'): 28.32318813224952,\n ('o93', 's11'): 29.307413409181603,\n ('o93', 's12'): 26.360111469640408,\n ('o93', 's13'): 20.542705636460756,\n ('o93', 's14'): 20.467377359276348,\n ('o93', 's15'): 13.736184474157042,\n ('o93', 's16'): 13.384342001726239,\n ('o93', 's17'): 13.97251490501055,\n ('o93', 's18'): 7.402698290248821,\n ('o93', 's19'): 6.331836814623912,\n ('o93', 's20'): 5.150060476057409,\n ('o108', 's1'): 46.57812873500577,\n ('o108', 's2'): 32.01546713314925,\n ('o108', 's3'): 25.697868852935965,\n ('o108', 's4'): 28.062857795675423,\n ('o108', 's5'): 30.03085180185147,\n ('o108', 's6'): 16.45168895141391,\n ('o108', 's7'): 16.947999956067843,\n ('o108', 's8'): 16.328248024120917,\n ('o108', 's9'): 8.163614634798781,\n ('o108', 's10'): 11.845439330656118,\n ('o108', 's11'): 12.545040294941153,\n ('o108', 's12'): 0.91712897325853,\n ('o108', 's13'): 5.821372610523963,\n ('o108', 's14'): 10.593824693768708,\n ('o108', 's15'): 12.865106121819538,\n ('o108', 's16'): 12.951679172699654,\n ('o108', 's17'): 13.942505612460963,\n ('o108', 's18'): 19.154823180213587,\n ('o108', 's19'): 21.0211413661572,\n ('o108', 's20'): 22.640712398043018,\n ('o131', 's1'): 39.47344224869142,\n ('o131', 's2'): 24.93277674741768,\n ('o131', 's3'): 17.9259366238302,\n ('o131', 's4'): 19.828652537513584,\n ('o131', 's5'): 21.704281306441047,\n ('o131', 's6'): 8.66935903498468,\n ('o131', 's7'): 8.523091737167677,\n ('o131', 's8'): 9.352749294872025,\n ('o131', 's9'): 5.914676366913081,\n ('o131', 's10'): 6.876283019461704,\n ('o131', 's11'): 6.889690507694279,\n ('o131', 's12'): 7.570123523348677,\n ('o131', 's13'): 13.343606166736963,\n ('o131', 's14'): 11.788448397606121,\n ('o131', 's15'): 19.70874142090219,\n ('o131', 's16'): 18.226794285521716,\n ('o131', 's17'): 17.754200153357743,\n ('o131', 's18'): 25.365428392655872,\n ('o131', 's19'): 25.605454095937013,\n ('o131', 's20'): 28.965066130149232,\n ('o6', 's1'): 70.45393922414922,\n ('o6', 's2'): 55.92275338441215,\n ('o6', 's3'): 48.742412014261774,\n ('o6', 's4'): 49.87443519136744,\n ('o6', 's5'): 51.3083070836103,\n ('o6', 's6'): 39.623550357646046,\n ('o6', 's7'): 37.751595280894584,\n ('o6', 's8'): 33.210247852162574,\n ('o6', 's9'): 32.960497828153166,\n ('o6', 's10'): 28.550602370486782,\n ('o6', 's11'): 29.565434922404695,\n ('o6', 's12'): 25.219306921958527,\n ('o6', 's13'): 19.103016532703304,\n ('o6', 's14'): 20.63504988699345,\n ('o6', 's15'): 12.057258912712593,\n ('o6', 's16'): 12.798200427994859,\n ('o6', 's17'): 14.177497066348042,\n ('o6', 's18'): 5.7114564090836435,\n ('o6', 's19'): 7.637621291738622,\n ('o6', 's20'): 2.312451836226999,\n ('o10', 's1'): 64.54999646666063,\n ('o10', 's2'): 49.97116434742003,\n ('o10', 's3'): 43.06430793090406,\n ('o10', 's4'): 44.58651360834354,\n ('o10', 's5'): 46.19312247270955,\n ('o10', 's6'): 33.815803193725586,\n ('o10', 's7'): 32.52593897033276,\n ('o10', 's8'): 28.723277357426237,\n ('o10', 's9'): 26.519643438005474,\n ('o10', 's10'): 23.767166544610962,\n ('o10', 's11'): 24.799943834028472,\n ('o10', 's12'): 18.81258499423842,\n ('o10', 's13'): 12.541253368642966,\n ('o10', 's14'): 16.102499575267277,\n ('o10', 's15'): 5.520808663038159,\n ('o10', 's16'): 7.817988490993668,\n ('o10', 's17'): 10.390537329200047,\n ('o10', 's18'): 2.4023512999219228,\n ('o10', 's19'): 8.167240725636306,\n ('o10', 's20'): 4.565487501548426,\n ('o41', 's1'): 14.263672785752087,\n ('o41', 's2'): 1.2896400513609942,\n ('o41', 's3'): 8.918392002776233,\n ('o41', 's4'): 11.40805434411424,\n ('o41', 's5'): 12.581663345085069,\n ('o41', 's6'): 16.9349189191522,\n ('o41', 's7'): 20.326916445484784,\n ('o41', 's8'): 26.713496674348917,\n ('o41', 's9'): 24.365852892920337,\n ('o41', 's10'): 29.47056242923039,\n ('o41', 's11'): 28.661819889887937,\n ('o41', 's12'): 31.735227624277954,\n ('o41', 's13'): 38.05898461858947,\n ('o41', 's14'): 36.753629424542204,\n ('o41', 's15'): 44.887919641215674,\n ('o41', 's16'): 43.67879504066224,\n ('o41', 's17'): 43.06012688642981,\n ('o41', 's18'): 50.77210404680062,\n ('o41', 's19'): 50.92745380146138,\n ('o41', 's20'): 54.36651268957449,\n ('o144', 's1'): 25.47982074414088,\n ('o144', 's2'): 11.046444714441426,\n ('o144', 's3'): 4.10282986430528,\n ('o144', 's4'): 7.674389454794371,\n ('o144', 's5'): 10.047361747368075,\n ('o144', 's6'): 5.364575112337717,\n ('o144', 's7'): 8.822765550922924,\n ('o144', 's8'): 15.337776960536878,\n ('o144', 's9'): 14.346819630348104,\n ('o144', 's10'): 17.747705005495668,\n ('o144', 's11'): 16.95852087295698,\n ('o144', 's12'): 20.923898969476433,\n ('o144', 's13'): 27.130222471646174,\n ('o144', 's14'): 25.052415925851474,\n ('o144', 's15'): 33.71591539925088,\n ('o144', 's16'): 32.18957566995079,\n ('o144', 's17'): 31.410658756191893,\n ('o144', 's18'): 39.38320206540592,\n ('o144', 's19'): 39.268906377458876,\n ('o144', 's20'): 42.98315129826349,\n ('o169', 's1'): 9.947388287024392,\n ('o169', 's2'): 4.642282318311213,\n ('o169', 's3'): 12.272365828816634,\n ('o169', 's4'): 13.521175105118324,\n ('o169', 's5'): 13.994516903256802,\n ('o169', 's6'): 20.956702722117107,\n ('o169', 's7'): 23.88953476268799,\n ('o169', 's8'): 30.09744701440531,\n ('o169', 's9'): 28.714701043241593,\n ('o169', 's10'): 33.212305468632344,\n ('o169', 's11'): 32.35732961999233,\n ('o169', 's12'): 36.01931873714226,\n ('o169', 's13'): 42.33331450342232,\n ('o169', 's14'): 40.67259506544511,\n ('o169', 's15'): 49.11424547225586,\n ('o169', 's16'): 47.78371112734174,\n ('o169', 's17'): 47.04704566121608,\n ('o169', 's18'): 54.92841472531473,\n ('o169', 's19'): 54.903474151590096,\n ('o169', 's20'): 58.52680442714602,\n ('o185', 's1'): 1.3277169169749896,\n ('o185', 's2'): 13.261060780235038,\n ('o185', 's3'): 20.553330362714956,\n ('o185', 's4'): 20.82396090992475,\n ('o185', 's5'): 20.576770609166473,\n ('o185', 's6'): 29.5033640673168,\n ('o185', 's7'): 32.10293621659982,\n ('o185', 's8'): 38.089920210273974,\n ('o185', 's9'): 37.321402279038864,\n ('o185', 's10'): 41.514224872915165,\n ('o185', 's11'): 40.62307367843247,\n ('o185', 's12'): 44.64655467801431,\n ('o185', 's13'): 50.95999059979087,\n ('o185', 's14'): 49.10094111429153,\n ('o185', 's15'): 57.72996193678672,\n ('o185', 's16'): 56.33938608932705,\n ('o185', 's17'): 55.51974264362656,\n ('o185', 's18'): 63.51138789133991,\n ('o185', 's19'): 63.35928521256563,\n ('o185', 's20'): 67.11094574407446,\n ('o87', 's1'): 71.48535225477833,\n ('o87', 's2'): 57.195024315536834,\n ('o87', 's3'): 49.6110024205693,\n ('o87', 's4'): 50.07013172001511,\n ('o87', 's5'): 51.20919579510555,\n ('o87', 's6'): 40.916997882886726,\n ('o87', 's7'): 38.138738667935215,\n ('o87', 's8'): 32.71996893677281,\n ('o87', 's9'): 35.7366474594763,\n ('o87', 's10'): 28.695756764517743,\n ('o87', 's11'): 29.629061135390717,\n ('o87', 's12'): 28.198658833749548,\n ('o87', 's13'): 22.778820097074927,\n ('o87', 's14'): 21.096471898312206,\n ('o87', 's15'): 16.38986846854297,\n ('o87', 's16'): 15.109308673850775,\n ('o87', 's17'): 14.869930310777086,\n ('o87', 's18'): 10.482305261752263,\n ('o87', 's19'): 7.091909880946025,\n ('o87', 's20'): 8.92452899931753,\n ('o168', 's1'): 13.397959765907107,\n ('o168', 's2'): 1.2255472300836294,\n ('o168', 's3'): 8.882608771468137,\n ('o168', 's4'): 10.684536737596478,\n ('o168', 's5'): 11.578378752785888,\n ('o168', 's6'): 17.474041265591723,\n ('o168', 's7'): 20.478670813437084,\n ('o168', 's8'): 26.749683784122276,\n ('o168', 's9'): 25.357079912139184,\n ('o168', 's10'): 29.764825578716195,\n ('o168', 's11'): 28.919841134256146,\n ('o168', 's12'): 32.59370769947355,\n ('o168', 's13'): 38.899555490755546,\n ('o168', 's14'): 37.19722093908226,\n ('o168', 's15'): 45.657242330738214,\n ('o168', 's16'): 44.30291889756573,\n ('o168', 's17'): 43.56609165996142,\n ('o168', 's18'): 51.45327542602325,\n ('o168', 's19'): 51.423668752951016,\n ('o168', 's20'): 55.05209414195557,\n ('o24', 's1'): 6.3159834121174985,\n ('o24', 's2'): 8.346913592532065,\n ('o24', 's3'): 15.941601431088118,\n ('o24', 's4'): 16.838070504774606,\n ('o24', 's5'): 17.012093625869802,\n ('o24', 's6'): 24.673254020312857,\n ('o24', 's7'): 27.557339959443677,\n ('o24', 's8'): 33.71150908952787,\n ('o24', 's9'): 32.31701479849746,\n ('o24', 's10'): 36.90469295273027,\n ('o24', 's11'): 36.04205966067073,\n ('o24', 's12'): 39.67902410242499,\n ('o24', 's13'): 45.999248261746,\n ('o24', 's14'): 44.385727477434884,\n ('o24', 's15'): 52.80239177442714,\n ('o24', 's16'): 51.49746226256718,\n ('o24', 's17'): 50.763824734839005,\n ('o24', 's18'): 58.635455993014006,\n ('o24', 's19'): 58.61952675199882,\n ('o24', 's20'): 62.23328600429847,\n ('o190', 's1'): 40.66775674978767,\n ('o190', 's2'): 26.50110429722581,\n ('o190', 's3'): 18.79890147716591,\n ('o190', 's4'): 19.45697812813445,\n ('o190', 's5'): 20.88414563013587,\n ('o190', 's6'): 10.602468158047154,\n ('o190', 's7'): 7.358656104856821,\n ('o190', 's8'): 4.444132526436726,\n ('o190', 's9'): 11.303646952801248,\n ('o190', 's10'): 2.24835653198721,\n ('o190', 's11'): 1.6875281883808808,\n ('o190', 's12'): 10.976631546651808,\n ('o190', 's13'): 15.222452725627935,\n ('o190', 's14'): 9.874137162625212,\n ('o190', 's15'): 20.340758266754513,\n ('o190', 's16'): 17.790042177531976,\n ('o190', 's17'): 16.384275995475296,\n ('o190', 's18'): 25.105879101064815,\n ('o190', 's19'): 24.115479545959786,\n ('o190', 's20'): 28.643806147442355,\n ('o97', 's1'): 53.83090534517967,\n ('o97', 's2'): 39.25470818103702,\n ('o97', 's3'): 32.72147814114641,\n ('o97', 's4'): 34.75888823821179,\n ('o97', 's5'): 36.58947344919029,\n ('o97', 's6'): 23.42340484024183,\n ('o97', 's7'): 23.080903480576247,\n ('o97', 's8'): 20.81958703003582,\n ('o97', 's9'): 15.451734998310869,\n ('o97', 's10'): 15.752772748743487,\n ('o97', 's11'): 16.70783825145267,\n ('o97', 's12'): 7.865695729264496,\n ('o97', 's13'): 1.5921268100177033,\n ('o97', 's14'): 10.3153550264986,\n ('o97', 's15'): 5.757987149175898,\n ('o97', 's16'): 7.3381169628618474,\n ('o97', 's17'): 9.691626099866243,\n ('o97', 's18'): 12.183831413523105,\n ('o97', 's19'): 15.094299953600508,\n ('o97', 's20'): 15.543523384205523,\n ('o162', 's1'): 16.453237551936407,\n ('o162', 's2'): 2.206448823770583,\n ('o162', 's3'): 5.753502533102285,\n ('o162', 's4'): 8.145176788116867,\n ('o162', 's5'): 9.493464363505192,\n ('o162', 's6'): 14.378316221735172,\n ('o162', 's7'): 17.326905309486254,\n ('o162', 's8'): 23.623111650975005,\n ('o162', 's9'): 22.55972182964804,\n ('o162', 's10'): 26.607884616579923,\n ('o162', 's11'): 25.762564076834202,\n ('o162', 's12'): 29.655733323097373,\n ('o162', 's13'): 35.93985628422194,\n ('o162', 's14'): 34.05605074402678,\n ('o162', 's15'): 42.643599914337166,\n ('o162', 's16'): 41.21470861735042,\n ('o162', 's17'): 40.437799979785794,\n ('o162', 's18'): 48.38817529566449,\n ('o162', 's19'): 48.291320554850664,\n ('o162', 's20'): 51.98795985059398,\n ('o106', 's1'): 56.53154337986178,\n ('o106', 's2'): 41.94783160514836,\n ('o106', 's3'): 35.249054999701656,\n ('o106', 's4'): 37.085222508702145,\n ('o106', 's5'): 38.83479725366802,\n ('o106', 's6'): 25.954178795787023,\n ('o106', 's7'): 25.217429921125884,\n ('o106', 's8'): 22.34694178730175,\n ('o106', 's9'): 18.316344831349692,\n ('o106', 's10'): 17.244307075162947,\n ('o106', 's11'): 18.247462781067927,\n ('o106', 's12'): 10.637862697178468,\n ('o106', 's13'): 4.3317177345894455,\n ('o106', 's14'): 10.710912674006288,\n ('o106', 's15'): 2.794725799747059,\n ('o106', 's16'): 5.270567016322496,\n ('o106', 's17'): 8.192687426999608,\n ('o106', 's18'): 9.22485646850662,\n ('o106', 's19'): 12.454030965594436,\n ('o106', 's20'): 12.582153602050889,\n ('o157', 's1'): 22.043611072051334,\n ('o157', 's2'): 7.831380372889852,\n ('o157', 's3'): 0.9860546923964449,\n ('o157', 's4'): 5.556109786038264,\n ('o157', 's5'): 7.861710806959482,\n ('o157', 's6'): 8.892197634534089,\n ('o157', 's7'): 11.651680607702152,\n ('o157', 's8'): 18.01605949981854,\n ('o157', 's9'): 17.799776008712037,\n ('o157', 's10'): 20.912170391640842,\n ('o157', 's11'): 20.06692913091515,\n ('o157', 's12'): 24.478784811033908,\n ('o157', 's13'): 30.68633725101044,\n ('o157', 's14'): 28.394120643090904,\n ('o157', 's15'): 37.25553494729796,\n ('o157', 's16'): 35.665885998276366,\n ('o157', 's17'): 34.8021119868743,\n ('o157', 's18'): 42.88330703496005,\n ('o157', 's19'): 42.644900767536974,\n ('o157', 's20'): 46.48258474291571,\n ('o175', 's1'): 10.051576399621329,\n ('o175', 's2'): 4.700464549384251,\n ('o175', 's3'): 11.874209972278095,\n ('o175', 's4'): 12.745914133786204,\n ('o175', 's5'): 13.065011921439739,\n ('o175', 's6'): 20.783121811845366,\n ('o175', 's7'): 23.473864228337955,\n ('o175', 's8'): 29.591000962634077,\n ('o175', 's9'): 28.82566596171839,\n ('o175', 's10'): 32.85085493443032,\n ('o175', 's11'): 31.975730717307666,\n ('o175', 's12'): 36.027851784615656,\n ('o175', 's13'): 42.32467428061634,\n ('o175', 's14'): 40.39270259378761,\n ('o175', 's15'): 49.050004172723355,\n ('o175', 's16'): 47.617621234232935,\n ('o175', 's17'): 46.80139440957195,\n ('o175', 's18'): 54.797999139608535,\n ('o175', 's19'): 54.645342944234294,\n ('o175', 's20'): 58.39786952483158,\n ('o136', 's1'): 39.18923621782238,\n ('o136', 's2'): 24.6598291130104,\n ('o136', 's3'): 17.6044969962488,\n ('o136', 's4'): 19.460343156862823,\n ('o136', 's5'): 21.32466729471398,\n ('o136', 's6'): 8.368974799705732,\n ('o136', 's7'): 8.119178429749393,\n ('o136', 's8'): 9.03361202972877,\n ('o136', 's9'): 6.144049582924611,\n ('o136', 's10'): 6.745935324740439,\n ('o136', 's11'): 6.702707481069798,\n ('o136', 's12'): 7.967822744385786,\n ('o136', 's13'): 13.707868599669691,\n ('o136', 's14'): 11.933197892428858,\n ('o136', 's15'): 20.032788442393443,\n ('o136', 's16'): 18.492866482602636,\n ('o136', 's17'): 17.96260830974314,\n ('o136', 's18'): 25.65295964124253,\n ('o136', 's19'): 25.8212497240368,\n ('o136', 's20'): 29.25293396093981,\n ('o145', 's1'): 26.799243537433746,\n ('o145', 's2'): 12.329362276439038,\n ('o145', 's3'): 5.4110770810257085,\n ('o145', 's4'): 8.682212007917835,\n ('o145', 's5'): 11.017868402191397,\n ('o145', 's6'): 4.033330298250505,\n ('o145', 's7'): 7.859560659835938,\n ('o145', 's8'): 14.377240881545866,\n ('o145', 's9'): 13.077829688642286,\n ('o145', 's10'): 16.56087691533377,\n ('o145', 's11'): 15.798269963948123,\n ('o145', 's12'): 19.585416163337772,\n ('o145', 's13'): 25.787512873814055,\n ('o145', 's14'): 23.783066046223972,\n ('o145', 's15'): 32.37464238201259,\n ('o145', 's16'): 30.86785328258262,\n ('o145', 's17'): 30.119685376290725,\n ('o145', 's18'): 38.05306947927271,\n ('o145', 's19'): 37.9818734739476,\n ('o145', 's20'): 41.65306734491287,\n ('o3', 's1'): 41.168316586030876,\n ('o3', 's2'): 27.361143305264996,\n ('o3', 's3'): 19.47223559374226,\n ('o3', 's4'): 19.424652963796593,\n ('o3', 's5'): 20.551122876955816,\n ('o3', 's6'): 12.237342111972508,\n ('o3', 's7'): 7.882199686412944,\n ('o3', 's8'): 2.2497668893863745,\n ('o3', 's9'): 14.261372131124197,\n ('o3', 's10'): 2.935339815804966,\n ('o3', 's11'): 2.0367175195929725,\n ('o3', 's12'): 13.66127370442451,\n ('o3', 's13'): 17.27795105170077,\n ('o3', 's14'): 10.435880773118487,\n ('o3', 's15'): 21.705496670520436,\n ('o3', 's16'): 18.69451218919015,\n ('o3', 's17'): 16.823774581535325,\n ('o3', 's18'): 25.91554465231877,\n ('o3', 's19'): 24.25158605859307,\n ('o3', 's20'): 29.36245216483635,\n ('o28', 's1'): 6.965119513553159,\n ('o28', 's2'): 21.548544033118535,\n ('o28', 's3'): 28.771104215582426,\n ('o28', 's4'): 28.69250797545781,\n ('o28', 's5'): 28.15497394838771,\n ('o28', 's6'): 37.78434688083458,\n ('o28', 's7'): 40.253888712832584,\n ('o28', 's8'): 46.11446537202114,\n ('o28', 's9'): 45.56204900173293,\n ('o28', 's10'): 49.68689810390291,\n ('o28', 's11'): 48.779498532063236,\n ('o28', 's12'): 52.92451840582088,\n ('o28', 's13'): 59.241479598776564,\n ('o28', 's14'): 57.32718881993925,\n ('o28', 's15'): 66.01987537414496,\n ('o28', 's16'): 64.61783454763314,\n ('o28', 's17'): 63.76383735774606,\n ('o28', 's18'): 71.79782972114069,\n ('o28', 's19'): 71.59269514189715,\n ('o28', 's20'): 75.39757205705028,\n ('o45', 's1'): 46.894834198085285,\n ('o45', 's2'): 32.70319736924721,\n ('o45', 's3'): 25.025731509711935,\n ('o45', 's4'): 25.56478753903051,\n ('o45', 's5'): 26.866451449507778,\n ('o45', 's6'): 16.623569378647883,\n ('o45', 's7'): 13.542508683142271,\n ('o45', 's8'): 8.773435575829298,\n ('o45', 's9'): 14.54788514108868,\n ('o45', 's10'): 4.111476655783946,\n ('o45', 's11'): 5.091029987244894,\n ('o45', 's12'): 10.400332613277977,\n ('o45', 's13'): 11.895701047447488,\n ('o45', 's14'): 3.9039398897737345,\n ('o45', 's15'): 15.358135639840006,\n ('o45', 's16'): 12.174370826747436,\n ('o45', 's17'): 10.344101333871519,\n ('o45', 's18'): 19.383657900151462,\n ('o45', 's19'): 17.94907589944369,\n ('o45', 's20'): 22.83829541802228,\n ('o27', 's1'): 5.690948908795179,\n ('o27', 's2'): 20.274944365668606,\n ('o27', 's3'): 27.49031790895331,\n ('o27', 's4'): 27.43444000773814,\n ('o27', 's5'): 26.921650972158695,\n ('o27', 's6'): 36.50426865638213,\n ('o27', 's7'): 38.976735818096905,\n ('o27', 's8'): 44.84709475906336,\n ('o27', 's9'): 44.30307545988192,\n ('o27', 's10'): 48.40877479353735,\n ('o27', 's11'): 47.50235474080178,\n ('o27', 's12'): 51.65527885326823,\n ('o27', 's13'): 57.97095965897785,\n ('o27', 's14'): 56.04651700127136,\n ('o27', 's15'): 64.74466598415923,\n ('o27', 's16'): 63.337336444968415,\n ('o27', 's17'): 62.482687350285666,\n ('o27', 's18'): 70.5185523506555,\n ('o27', 's19'): 70.31184513003352,\n ('o27', 's20'): 74.11833526860254,\n ('o219', 's1'): 4.19946312318048,\n ('o219', 's2'): 18.775219416212554,\n ('o219', 's3'): 25.965309015062637,\n ('o219', 's4'): 25.921582043083983,\n ('o219', 's5'): 25.43247048503107,\n ('o219', 's6'): 34.98778566591712,\n ('o219', 's7'): 37.450730189693836,\n ('o219', 's8'): 43.326358298385756,\n ('o219', 's9'): 42.828360976349146,\n ('o219', 's10'): 46.88260513203787,\n ('o219', 's11'): 45.97634440644515,\n ('o219', 's12'): 50.162113400872606,\n ('o219', 's13'): 56.47524886454477,\n ('o219', 's14'): 54.521313689751594,\n ('o219', 's15'): 63.239643497067284,\n ('o219', 's16'): 61.819221799034054,\n ('o219', 's17'): 60.9586404383421,\n ('o219', 's18'): 69.00411574548639,\n ('o219', 's19'): 68.78693440820797,\n ('o219', 's20'): 72.60399034324314,\n ('o9', 's1'): 54.89182965794951,\n ('o9', 's2'): 40.34074102262083,\n ('o9', 's3'): 34.00192002075454,\n ('o9', 's4'): 36.19995990227108,\n ('o9', 's5'): 38.082133537232124,\n ('o9', 's6'): 24.72524322629131,\n ('o9', 's7'): 24.66506764995616,\n ('o9', 's8'): 22.64028789496505,\n ('o9', 's9'): 16.325454745172618,\n ('o9', 's10'): 17.595223949081205,\n ('o9', 's11'): 18.53620065636024,\n ('o9', 's12'): 9.03211725245581,\n ('o9', 's13'): 3.2604448045098917,\n ('o9', 's14'): 12.227343729387822,\n ('o9', 's15'): 5.864628297640939,\n ('o9', 's16'): 8.448293211760488,\n ('o9', 's17'): 11.121392014745286,\n ('o9', 's18'): 12.18482488329444,\n ('o9', 's19'): 15.760620688281524,\n ('o9', 's20'): 15.330362730863364,\n ('o212', 's1'): 24.20708390935422,\n ('o212', 's2'): 11.755984742007465,\n ('o212', 's3'): 4.82956204150043,\n ('o212', 's4'): 2.193060488125978,\n ('o212', 's5'): 3.8819085876414903,\n ('o212', 's6'): 10.109679352105962,\n ('o212', 's7'): 9.9739050522707,\n ('o212', 's8'): 15.299346967887118,\n ('o212', 's9'): 19.85696043411401,\n ('o212', 's10'): 19.27145088733364,\n ('o212', 's11'): 18.295925861982543,\n ('o212', 's12'): 25.334233161825562,\n ('o212', 's13'): 31.16213569447725,\n ('o212', 's14'): 27.149524624173388,\n ('o212', 's15'): 37.20495679071391,\n ('o212', 's16'): 35.01477704603233,\n ('o212', 's17'): 33.66295009336023,\n ('o212', 's18'): 42.332418103272715,\n ('o212', 's19'): 41.3285623649413,\n ('o212', 's20'): 45.89322040757071,\n ('o139', 's1'): 37.30357438369857,\n ('o139', 's2'): 22.805061181848348,\n ('o139', 's3'): 15.654561825058492,\n ('o139', 's4'): 17.48156568292985,\n ('o139', 's5'): 19.360644283037523,\n ('o139', 's6'): 6.473740139254765,\n ('o139', 's7'): 6.33903192329094,\n ('o139', 's8'): 8.462569729570689,\n ('o139', 's9'): 6.706574136438876,\n ('o139', 's10'): 7.388347423365336,\n ('o139', 's11'): 7.065656404364849,\n ('o139', 's12'): 9.879060136201177,\n ('o139', 's13'): 15.688453090483131,\n ('o139', 's14'): 13.512767190584656,\n ('o139', 's15'): 21.99565838336968,\n ('o139', 's16'): 20.36352393594404,\n ('o139', 's17'): 19.699441882684944,\n ('o139', 's18'): 27.56102235496766,\n ('o139', 's19'): 27.567731895431322,\n ('o139', 's20'): 31.160598344257696,\n ('o214', 's1'): 25.699924310460467,\n ('o214', 's2'): 12.79843731060419,\n ('o214', 's3'): 5.250250740603948,\n ('o214', 's4'): 3.855214681285929,\n ('o214', 's5'): 5.516133806194177,\n ('o214', 's6'): 8.655081819654903,\n ('o214', 's7'): 8.280343447657954,\n ('o214', 's8'): 13.718496997851979,\n ('o214', 's9'): 18.38610032357959,\n ('o214', 's10'): 17.60041580709229,\n ('o214', 's11'): 16.63076178945596,\n ('o214', 's12'): 23.69719357468023,\n ('o214', 's13'): 29.491445771669472,\n ('o214', 's14'): 25.46884274208985,\n ('o214', 's15'): 35.51257065750235,\n ('o214', 's16'): 33.32095383295022,\n ('o214', 's17'): 31.982107135196127,\n ('o214', 's18'): 40.63829055717278,\n ('o214', 's19'): 39.66030538931247,\n ('o214', 's20'): 44.20003989055559,\n ('o113', 's1'): 48.77343742750751,\n ('o113', 's2'): 34.461954826503565,\n ('o113', 's3'): 29.07730346471908,\n ('o113', 's4'): 32.05597097481717,\n ('o113', 's5'): 34.196047410115526,\n ('o113', 's6'): 20.260032760158072,\n ('o113', 's7'): 21.89290345958717,\n ('o113', 's8'): 22.133724777456383,\n ('o113', 's9'): 10.634875146851524,\n ('o113', 's10'): 17.82247203295372,\n ('o113', 's11'): 18.48042772641359,\n ('o113', 's12'): 6.857555118000267,\n ('o113', 's13'): 7.940198636790475,\n ('o113', 's14'): 15.961229258606854,\n ('o113', 's15'): 14.000712503885811,\n ('o113', 's16'): 15.791984054906521,\n ('o113', 's17'): 17.735371558517834,\n ('o113', 's18'): 20.356576702326,\n ('o113', 's19'): 23.63198908105336,\n ('o113', 's20'): 23.460636742388225,\n ('o160', 's1'): 19.459960036926052,\n ('o160', 's2'): 5.109850160772828,\n ('o160', 's3'): 3.0029466840410333,\n ('o160', 's4'): 6.631795133584678,\n ('o160', 's5'): 8.560371088293262,\n ('o160', 's6'): 11.373693399375483,\n ('o160', 's7'): 14.378581614155253,\n ('o160', 's8'): 20.739674359742928,\n ('o160', 's9'): 19.78975666936988,\n ('o160', 's10'): 23.611888099537765,\n ('o160', 's11'): 22.776471105871885,\n ('o160', 's12'): 26.751136392483485,\n ('o160', 's13'): 33.01414868055066,\n ('o160', 's14'): 31.038452234883188,\n ('o160', 's15'): 39.67809846625564,\n ('o160', 's16'): 38.207742916908884,\n ('o160', 's17'): 37.4191575344498,\n ('o160', 's18'): 45.391679742452524,\n ('o160', 's19'): 45.272566778542554,\n ('o160', 's20'): 48.991657895593036,\n ('o191', 's1'): 42.810593120962984,\n ('o191', 's2'): 28.631110042187753,\n ('o191', 's3'): 20.94114076019295,\n ('o191', 's4'): 21.557129136892122,\n ('o191', 's5'): 22.936733679243442,\n ('o191', 's6'): 12.643550792938724,\n ('o191', 's7'): 9.48391539498826,\n ('o191', 's8'): 5.563063600169368,\n ('o191', 's9'): 12.13338428215992,\n ('o191', 's10'): 0.6476592509790626,\n ('o191', 's11'): 1.45068749354566,\n ('o191', 's12'): 10.337720414804917,\n ('o191', 's13'): 13.829027096513382,\n ('o191', 's14'): 7.767631406363917,\n ('o191', 's15'): 18.524064665594317,\n ('o191', 's16'): 15.793807875100798,\n ('o191', 's17'): 14.28102969995764,\n ('o191', 's18'): 23.095906748917436,\n ('o191', 's19'): 21.985789110419763,\n ('o191', 's20'): 26.614014960440002,\n ...}"
     },
     "metadata": {},
     "output_type": "display_data"
    },
    {
     "name": "stdout",
     "output_type": "stream",
     "text": [
      "Cf_s\n"
     ]
    },
    {
     "data": {
      "text/plain": "{'s1': 50000.0,\n 's2': 50000.0,\n 's3': 10000.0,\n 's4': 70000.0,\n 's5': 50000.0,\n 's6': 20000.0,\n 's7': 80000.0,\n 's8': 10000.0,\n 's9': 50000.0,\n 's10': 70000.0,\n 's11': 50000.0,\n 's12': 60000.0,\n 's13': 20000.0,\n 's14': 60000.0,\n 's15': 60000.0,\n 's16': 60000.0,\n 's17': 80000.0,\n 's18': 60000.0,\n 's19': 70000.0,\n 's20': 10000.0}"
     },
     "metadata": {},
     "output_type": "display_data"
    },
    {
     "name": "stdout",
     "output_type": "stream",
     "text": [
      "Cu_sor\n"
     ]
    },
    {
     "data": {
      "text/plain": "{('s1', 'o74', 'm'): 54.869901934884496,\n ('s1', 'o74', 'c'): 109.73980386976899,\n ('s1', 'o74', 'i'): 164.6097058046535,\n ('s2', 'o74', 'm'): 40.49156344567654,\n ('s2', 'o74', 'c'): 80.98312689135308,\n ('s2', 'o74', 'i'): 121.47469033702961,\n ('s3', 'o74', 'm'): 33.01539383228145,\n ('s3', 'o74', 'c'): 66.0307876645629,\n ('s3', 'o74', 'i'): 99.04618149684434,\n ('s4', 'o74', 'm'): 33.83760408289111,\n ('s4', 'o74', 'c'): 67.67520816578222,\n ('s4', 'o74', 'i'): 101.51281224867333,\n ('s5', 'o74', 'm'): 35.19905444057435,\n ('s5', 'o74', 'c'): 70.3981088811487,\n ('s5', 'o74', 'i'): 105.59716332172306,\n ('s6', 'o74', 'm'): 24.179549221206393,\n ('s6', 'o74', 'c'): 48.35909844241279,\n ('s6', 'o74', 'i'): 72.53864766361917,\n ('s7', 'o74', 'm'): 21.741562470949656,\n ('s7', 'o74', 'c'): 43.48312494189931,\n ('s7', 'o74', 'i'): 65.22468741284897,\n ('s8', 'o74', 'm'): 17.072568947254137,\n ('s8', 'o74', 'c'): 34.145137894508274,\n ('s8', 'o74', 'i'): 51.21770684176241,\n ('s9', 'o74', 'm'): 19.449994856605564,\n ('s9', 'o74', 'c'): 38.89998971321113,\n ('s9', 'o74', 'i'): 58.34998456981669,\n ('s10', 'o74', 'm'): 12.421767498345352,\n ('s10', 'o74', 'c'): 24.843534996690703,\n ('s10', 'o74', 'i'): 37.26530249503605,\n ('s11', 'o74', 'm'): 13.427844700607151,\n ('s11', 'o74', 'c'): 26.855689401214303,\n ('s11', 'o74', 'i'): 40.28353410182145,\n ('s12', 'o74', 'm'): 12.4806713018879,\n ('s12', 'o74', 'c'): 24.9613426037758,\n ('s12', 'o74', 'i'): 37.4420139056637,\n ('s13', 'o74', 'm'): 9.2201208377404,\n ('s13', 'o74', 'c'): 18.4402416754808,\n ('s13', 'o74', 'i'): 27.660362513221198,\n ('s14', 'o74', 'm'): 4.514110434032932,\n ('s14', 'o74', 'c'): 9.028220868065864,\n ('s14', 'o74', 'i'): 13.542331302098795,\n ('s15', 'o74', 'm'): 8.46176922169844,\n ('s15', 'o74', 'c'): 16.92353844339688,\n ('s15', 'o74', 'i'): 25.38530766509532,\n ('s16', 'o74', 'm'): 4.379380986759691,\n ('s16', 'o74', 'c'): 8.758761973519382,\n ('s16', 'o74', 'i'): 13.138142960279072,\n ('s17', 'o74', 'm'): 1.9993727886691577,\n ('s17', 'o74', 'c'): 3.9987455773383154,\n ('s17', 'o74', 'i'): 5.998118366007473,\n ('s18', 'o74', 'm'): 11.151847626729145,\n ('s18', 'o74', 'c'): 22.30369525345829,\n ('s18', 'o74', 'i'): 33.45554288018744,\n ('s19', 'o74', 'm'): 9.819846535019586,\n ('s19', 'o74', 'c'): 19.639693070039172,\n ('s19', 'o74', 'i'): 29.459539605058758,\n ('s20', 'o74', 'm'): 14.526631698365959,\n ('s20', 'o74', 'c'): 29.053263396731918,\n ('s20', 'o74', 'i'): 43.579895095097875,\n ('s1', 'o98', 'm'): 57.067679328992526,\n ('s1', 'o98', 'c'): 114.13535865798505,\n ('s1', 'o98', 'i'): 171.20303798697756,\n ('s2', 'o98', 'm'): 42.489164310609084,\n ('s2', 'o98', 'c'): 84.97832862121817,\n ('s2', 'o98', 'i'): 127.46749293182725,\n ('s3', 'o98', 'm'): 35.90093126483362,\n ('s3', 'o98', 'c'): 71.80186252966725,\n ('s3', 'o98', 'i'): 107.70279379450088,\n ('s4', 'o98', 'm'): 37.840778519494805,\n ('s4', 'o98', 'c'): 75.68155703898961,\n ('s4', 'o98', 'i'): 113.52233555848441,\n ('s5', 'o98', 'm'): 39.6259851186469,\n ('s5', 'o98', 'c'): 79.2519702372938,\n ('s5', 'o98', 'i'): 118.87795535594071,\n ('s6', 'o98', 'm'): 26.600964621532054,\n ('s6', 'o98', 'c'): 53.20192924306411,\n ('s6', 'o98', 'i'): 79.80289386459616,\n ('s7', 'o98', 'm'): 26.043905369333796,\n ('s7', 'o98', 'c'): 52.08781073866759,\n ('s7', 'o98', 'i'): 78.13171610800138,\n ('s8', 'o98', 'm'): 23.34231052534236,\n ('s8', 'o98', 'c'): 46.68462105068472,\n ('s8', 'o98', 'i'): 70.02693157602708,\n ('s9', 'o98', 'm'): 18.689006796543094,\n ('s9', 'o98', 'c'): 37.37801359308619,\n ('s9', 'o98', 'i'): 56.06702038962928,\n ('s10', 'o98', 'm'): 18.239455748379413,\n ('s10', 'o98', 'c'): 36.478911496758826,\n ('s10', 'o98', 'i'): 54.71836724513824,\n ('s11', 'o98', 'm'): 19.234238973854456,\n ('s11', 'o98', 'c'): 38.46847794770891,\n ('s11', 'o98', 'i'): 57.702716921563365,\n ('s12', 'o98', 'm'): 11.106553632253188,\n ('s12', 'o98', 'c'): 22.213107264506377,\n ('s12', 'o98', 'i'): 33.319660896759565,\n ('s13', 'o98', 'm'): 4.789094768513859,\n ('s13', 'o98', 'c'): 9.578189537027718,\n ('s13', 'o98', 'i'): 14.367284305541578,\n ('s14', 'o98', 'm'): 11.837852633788126,\n ('s14', 'o98', 'c'): 23.67570526757625,\n ('s14', 'o98', 'i'): 35.51355790136438,\n ('s15', 'o98', 'm'): 2.9995614446600887,\n ('s15', 'o98', 'c'): 5.999122889320177,\n ('s15', 'o98', 'i'): 8.998684333980266,\n ('s16', 'o98', 'm'): 6.226295186435198,\n ('s16', 'o98', 'c'): 12.452590372870397,\n ('s16', 'o98', 'i'): 18.678885559305595,\n ('s17', 'o98', 'm'): 9.24524086530958,\n ('s17', 'o98', 'c'): 18.49048173061916,\n ('s17', 'o98', 'i'): 27.73572259592874,\n ('s18', 'o98', 'm'): 9.305410863303207,\n ('s18', 'o98', 'c'): 18.610821726606414,\n ('s18', 'o98', 'i'): 27.91623258990962,\n ('s19', 'o98', 'm'): 13.00709040553153,\n ('s19', 'o98', 'c'): 26.01418081106306,\n ('s19', 'o98', 'i'): 39.02127121659459,\n ('s20', 'o98', 'm'): 12.505187948076443,\n ('s20', 'o98', 'c'): 25.010375896152887,\n ('s20', 'o98', 'i'): 37.515563844229334,\n ('s1', 'o53', 'm'): 41.32536074346742,\n ('s1', 'o53', 'c'): 82.65072148693484,\n ('s1', 'o53', 'i'): 123.97608223040226,\n ('s2', 'o53', 'm'): 27.842063302038465,\n ('s2', 'o53', 'c'): 55.68412660407693,\n ('s2', 'o53', 'i'): 83.52618990611539,\n ('s3', 'o53', 'm'): 19.898795210257568,\n ('s3', 'o53', 'c'): 39.797590420515135,\n ('s3', 'o53', 'i'): 59.6963856307727,\n ('s4', 'o53', 'm'): 19.3497011927954,\n ('s4', 'o53', 'c'): 38.6994023855908,\n ('s4', 'o53', 'i'): 58.0491035783862,\n ('s5', 'o53', 'm'): 20.242804689993193,\n ('s5', 'o53', 'c'): 40.485609379986386,\n ('s5', 'o53', 'i'): 60.72841406997958,\n ('s6', 'o53', 'm'): 13.448901035375947,\n ('s6', 'o53', 'c'): 26.897802070751894,\n ('s6', 'o53', 'i'): 40.34670310612784,\n ('s7', 'o53', 'm'): 8.594317465471235,\n ('s7', 'o53', 'c'): 17.18863493094247,\n ('s7', 'o53', 'i'): 25.782952396413705,\n ('s8', 'o53', 'm'): 2.0722144928146657,\n ('s8', 'o53', 'c'): 4.1444289856293315,\n ('s8', 'o53', 'i'): 6.216643478443997,\n ('s9', 'o53', 'm'): 16.32819381117866,\n ('s9', 'o53', 'c'): 32.65638762235732,\n ('s9', 'o53', 'i'): 48.98458143353598,\n ('s10', 'o53', 'm'): 4.852696645289748,\n ('s10', 'o53', 'c'): 9.705393290579496,\n ('s10', 'o53', 'i'): 14.558089935869244,\n ('s11', 'o53', 'm'): 4.102500549546297,\n ('s11', 'o53', 'c'): 8.205001099092595,\n ('s11', 'o53', 'i'): 12.307501648638892,\n ('s12', 'o53', 'm'): 15.755470571968058,\n ('s12', 'o53', 'c'): 31.510941143936115,\n ('s12', 'o53', 'i'): 47.26641171590417,\n ('s13', 'o53', 'm'): 19.10125419669514,\n ('s13', 'o53', 'c'): 38.20250839339028,\n ('s13', 'o53', 'i'): 57.30376259008543,\n ('s14', 'o53', 'm'): 11.604246005481887,\n ('s14', 'o53', 'c'): 23.208492010963774,\n ('s14', 'o53', 'i'): 34.812738016445664,\n ('s15', 'o53', 'm'): 23.138925805485687,\n ('s15', 'o53', 'c'): 46.277851610971375,\n ('s15', 'o53', 'i'): 69.41677741645707,\n ('s16', 'o53', 'm'): 19.88899062277953,\n ('s16', 'o53', 'c'): 39.77798124555906,\n ('s16', 'o53', 'i'): 59.66697186833859,\n ('s17', 'o53', 'm'): 17.759972860799543,\n ('s17', 'o53', 'c'): 35.519945721599086,\n ('s17', 'o53', 'i'): 53.27991858239863,\n ('s18', 'o53', 'm'): 26.989471646938206,\n ('s18', 'o53', 'c'): 53.97894329387641,\n ('s18', 'o53', 'i'): 80.96841494081463,\n ('s19', 'o53', 'm'): 24.900815908644766,\n ('s19', 'o53', 'c'): 49.80163181728953,\n ('s19', 'o53', 'i'): 74.70244772593429,\n ('s20', 'o53', 'm'): 30.358811183248967,\n ('s20', 'o53', 'c'): 60.717622366497935,\n ('s20', 'o53', 'i'): 91.0764335497469,\n ('s1', 'o178', 'm'): 10.15817932517611,\n ('s1', 'o178', 'c'): 20.31635865035222,\n ('s1', 'o178', 'i'): 30.47453797552833,\n ('s2', 'o178', 'm'): 4.582157413485818,\n ('s2', 'o178', 'c'): 9.164314826971635,\n ('s2', 'o178', 'i'): 13.746472240457454,\n ('s3', 'o178', 'm'): 11.77645221447675,\n ('s3', 'o178', 'c'): 23.5529044289535,\n ('s3', 'o178', 'i'): 35.32935664343025,\n ('s4', 'o178', 'm'): 12.679546856813563,\n ('s4', 'o178', 'c'): 25.359093713627125,\n ('s4', 'o178', 'i'): 38.03864057044069,\n ('s5', 'o178', 'm'): 13.01798166808003,\n ('s5', 'o178', 'c'): 26.03596333616006,\n ('s5', 'o178', 'i'): 39.05394500424009,\n ('s6', 'o178', 'm'): 20.674998843476445,\n ('s6', 'o178', 'c'): 41.34999768695289,\n ('s6', 'o178', 'i'): 62.024996530429334,\n ('s7', 'o178', 'm'): 23.3787813834356,\n ('s7', 'o178', 'c'): 46.7575627668712,\n ('s7', 'o178', 'i'): 70.1363441503068,\n ('s8', 'o178', 'm'): 29.502489491290735,\n ('s8', 'o178', 'c'): 59.00497898258147,\n ('s8', 'o178', 'i'): 88.50746847387221,\n ('s9', 'o178', 'm'): 28.708781202176123,\n ('s9', 'o178', 'c'): 57.417562404352246,\n ('s9', 'o178', 'i'): 86.12634360652837,\n ('s10', 'o178', 'm'): 32.75289687489114,\n ('s10', 'o178', 'c'): 65.50579374978228,\n ('s10', 'o178', 'i'): 98.25869062467342,\n ('s11', 'o178', 'm'): 31.87895434707036,\n ('s11', 'o178', 'c'): 63.75790869414072,\n ('s11', 'o178', 'i'): 95.63686304121107,\n ('s12', 'o178', 'm'): 35.913689891320736,\n ('s12', 'o178', 'c'): 71.82737978264147,\n ('s12', 'o178', 'i'): 107.74106967396222,\n ('s13', 'o178', 'm'): 42.21112219599048,\n ('s13', 'o178', 'c'): 84.42224439198095,\n ('s13', 'o178', 'i'): 126.63336658797144,\n ('s14', 'o178', 'm'): 40.290395564017956,\n ('s14', 'o178', 'c'): 80.58079112803591,\n ('s14', 'o178', 'i'): 120.87118669205387,\n ('s15', 'o178', 'm'): 48.938377398503015,\n ('s15', 'o178', 'c'): 97.87675479700603,\n ('s15', 'o178', 'i'): 146.81513219550905,\n ('s16', 'o178', 'm'): 47.50998939124787,\n ('s16', 'o178', 'c'): 95.01997878249574,\n ('s16', 'o178', 'i'): 142.5299681737436,\n ('s17', 'o178', 'm'): 46.69745385567126,\n ('s17', 'o178', 'c'): 93.39490771134253,\n ('s17', 'o178', 'i'): 140.0923615670138,\n ('s18', 'o178', 'm'): 54.68894939096893,\n ('s18', 'o178', 'c'): 109.37789878193786,\n ('s18', 'o178', 'i'): 164.0668481729068,\n ('s19', 'o178', 'm'): 54.542134879665944,\n ('s19', 'o178', 'c'): 109.08426975933189,\n ('s19', 'o178', 'i'): 163.62640463899783,\n ('s20', 'o178', 'm'): 58.288791909342095,\n ('s20', 'o178', 'c'): 116.57758381868419,\n ('s20', 'o178', 'i'): 174.8663757280263,\n ('s1', 'o203', 'm'): 68.20387324713923,\n ('s1', 'o203', 'c'): 136.40774649427846,\n ('s1', 'o203', 'i'): 204.61161974141768,\n ('s2', 'o203', 'm'): 53.73501254727249,\n ('s2', 'o203', 'c'): 107.47002509454498,\n ('s2', 'o203', 'i'): 161.20503764181746,\n ('s3', 'o203', 'm'): 46.399014841294445,\n ('s3', 'o203', 'c'): 92.79802968258889,\n ('s3', 'o203', 'i'): 139.19704452388333,\n ('s4', 'o203', 'm'): 47.3200788097158,\n ('s4', 'o203', 'c'): 94.6401576194316,\n ('s4', 'o203', 'i'): 141.96023642914741,\n ('s5', 'o203', 'm'): 48.67096018451521,\n ('s5', 'o203', 'c'): 97.34192036903042,\n ('s5', 'o203', 'i'): 146.01288055354564,\n ('s6', 'o203', 'm'): 37.39925317599003,\n ('s6', 'o203', 'c'): 74.79850635198007,\n ('s6', 'o203', 'i'): 112.1977595279701,\n ('s7', 'o203', 'm'): 35.21805010135488,\n ('s7', 'o203', 'c'): 70.43610020270977,\n ('s7', 'o203', 'i'): 105.65415030406464,\n ('s8', 'o203', 'm'): 30.408388618729056,\n ('s8', 'o203', 'c'): 60.81677723745811,\n ('s8', 'o203', 'i'): 91.22516585618717,\n ('s9', 'o203', 'm'): 31.3053979032383,\n ('s9', 'o203', 'c'): 62.6107958064766,\n ('s9', 'o203', 'i'): 93.9161937097149,\n ('s10', 'o203', 'm'): 25.895481278002098,\n ('s10', 'o203', 'c'): 51.790962556004196,\n ('s10', 'o203', 'i'): 77.6864438340063,\n ('s11', 'o203', 'm'): 26.89361109807509,\n ('s11', 'o203', 'c'): 53.78722219615018,\n ('s11', 'o203', 'i'): 80.68083329422527,\n ('s12', 'o203', 'm'): 23.60858865391184,\n ('s12', 'o203', 'c'): 47.21717730782368,\n ('s12', 'o203', 'i'): 70.82576596173553,\n ('s13', 'o203', 'm'): 17.784353777752845,\n ('s13', 'o203', 'c'): 35.56870755550569,\n ('s13', 'o203', 'i'): 53.35306133325854,\n ('s14', 'o203', 'm'): 17.997004115562945,\n ('s14', 'o203', 'c'): 35.99400823112589,\n ('s14', 'o203', 'i'): 53.991012346688834,\n ('s15', 'o203', 'm'): 11.012610743456731,\n ('s15', 'o203', 'c'): 22.025221486913463,\n ('s15', 'o203', 'i'): 33.03783223037019,\n ('s16', 'o203', 'm'): 10.674402535061374,\n ('s16', 'o203', 'c'): 21.348805070122747,\n ('s16', 'o203', 'i'): 32.02320760518412,\n ('s17', 'o203', 'm'): 11.483593849599345,\n ('s17', 'o203', 'c'): 22.96718769919869,\n ('s17', 'o203', 'i'): 34.450781548798034,\n ('s18', 'o203', 'm'): 4.784752299795721,\n ('s18', 'o203', 'c'): 9.569504599591442,\n ('s18', 'o203', 'i'): 14.354256899387163,\n ('s19', 'o203', 'm'): 4.348477142526397,\n ('s19', 'o203', 'c'): 8.696954285052794,\n ('s19', 'o203', 'i'): 13.04543142757919,\n ('s20', 'o203', 'm'): 3.561678686270817,\n ('s20', 'o203', 'c'): 7.123357372541634,\n ('s20', 'o203', 'i'): 10.685036058812452,\n ('s1', 'o127', 'm'): 52.26931009564319,\n ('s1', 'o127', 'c'): 104.53862019128638,\n ('s1', 'o127', 'i'): 156.80793028692958,\n ('s2', 'o127', 'm'): 37.71736536456376,\n ('s2', 'o127', 'c'): 75.43473072912752,\n ('s2', 'o127', 'i'): 113.15209609369128,\n ('s3', 'o127', 'm'): 30.668533379161918,\n ('s3', 'o127', 'c'): 61.337066758323836,\n ('s3', 'o127', 'i'): 92.00560013748576,\n ('s4', 'o127', 'm'): 32.17105591349617,\n ('s4', 'o127', 'c'): 64.34211182699234,\n ('s4', 'o127', 'i'): 96.51316774048851,\n ('s5', 'o127', 'm'): 33.81538527121254,\n ('s5', 'o127', 'c'): 67.63077054242508,\n ('s5', 'o127', 'i'): 101.44615581363763,\n ('s6', 'o127', 'm'): 21.46081670402471,\n ('s6', 'o127', 'c'): 42.92163340804942,\n ('s6', 'o127', 'i'): 64.38245011207414,\n ('s7', 'o127', 'm'): 20.147584514473873,\n ('s7', 'o127', 'c'): 40.29516902894775,\n ('s7', 'o127', 'i'): 60.44275354342162,\n ('s8', 'o127', 'm'): 16.930726761160646,\n ('s8', 'o127', 'c'): 33.86145352232129,\n ('s8', 'o127', 'i'): 50.79218028348194,\n ('s9', 'o127', 'm'): 15.116254632404758,\n ('s9', 'o127', 'c'): 30.232509264809515,\n ('s9', 'o127', 'i'): 45.34876389721427,\n ('s10', 'o127', 'm'): 11.83342516929798,\n ('s10', 'o127', 'c'): 23.66685033859596,\n ('s10', 'o127', 'i'): 35.50027550789394,\n ('s11', 'o127', 'm'): 12.845863221996654,\n ('s11', 'o127', 'c'): 25.691726443993307,\n ('s11', 'o127', 'i'): 38.53758966598996,\n ('s12', 'o127', 'm'): 7.595894392019449,\n ('s12', 'o127', 'c'): 15.191788784038899,\n ('s12', 'o127', 'i'): 22.787683176058348,\n ('s13', 'o127', 'm'): 4.05250357460436,\n ('s13', 'o127', 'c'): 8.10500714920872,\n ('s13', 'o127', 'i'): 12.15751072381308,\n ('s14', 'o127', 'm'): 5.587429639256149,\n ('s14', 'o127', 'c'): 11.174859278512297,\n ('s14', 'o127', 'i'): 16.762288917768444,\n ('s15', 'o127', 'm'): 7.165049413025532,\n ('s15', 'o127', 'c'): 14.330098826051064,\n ('s15', 'o127', 'i'): 21.495148239076595,\n ('s16', 'o127', 'm'): 5.611695607966419,\n ('s16', 'o127', 'c'): 11.223391215932837,\n ('s16', 'o127', 'i'): 16.835086823899257,\n ('s17', 'o127', 'm'): 6.408058898820989,\n ('s17', 'o127', 'c'): 12.816117797641978,\n ('s17', 'o127', 'i'): 19.224176696462965,\n ('s18', 'o127', 'm'): 12.57172223026281,\n ('s18', 'o127', 'c'): 25.14344446052562,\n ('s18', 'o127', 'i'): 37.715166690788436,\n ('s19', 'o127', 'm'): 13.55506558104194,\n ('s19', 'o127', 'c'): 27.11013116208388,\n ('s19', 'o127', 'i'): 40.66519674312582,\n ('s20', 'o127', 'm'): 16.170168686132087,\n ('s20', 'o127', 'c'): 32.34033737226417,\n ('s20', 'o127', 'i'): 48.51050605839626,\n ('s1', 'o172', 'm'): 14.446484880415484,\n ('s1', 'o172', 'c'): 28.89296976083097,\n ('s1', 'o172', 'i'): 43.339454641246455,\n ('s2', 'o172', 'm'): 1.0389507511913916,\n ('s2', 'o172', 'c'): 2.077901502382783,\n ('s2', 'o172', 'i'): 3.1168522535741747,\n ('s3', 'o172', 'm'): 8.634540639112862,\n ('s3', 'o172', 'c'): 17.269081278225723,\n ('s3', 'o172', 'i'): 25.903621917338583,\n ('s4', 'o172', 'm'): 11.122950258146233,\n ('s4', 'o172', 'c'): 22.245900516292465,\n ('s4', 'o172', 'i'): 33.3688507744387,\n ('s5', 'o172', 'm'): 12.310151914538116,\n ('s5', 'o172', 'c'): 24.62030382907623,\n ('s5', 'o172', 'i'): 36.930455743614345,\n ('s6', 'o172', 'm'): 16.694449456820347,\n ('s6', 'o172', 'c'): 33.388898913640695,\n ('s6', 'o172', 'i'): 50.08334837046104,\n ('s7', 'o172', 'm'): 20.056374067289997,\n ('s7', 'o172', 'c'): 40.112748134579995,\n ('s7', 'o172', 'i'): 60.169122201869996,\n ('s8', 'o172', 'm'): 26.43739027665406,\n ('s8', 'o172', 'c'): 52.87478055330812,\n ('s8', 'o172', 'i'): 79.31217082996218,\n ('s9', 'o172', 'm'): 24.186649564777365,\n ('s9', 'o172', 'c'): 48.37329912955473,\n ('s9', 'o172', 'i'): 72.55994869433209,\n ('s10', 'o172', 'm'): 29.21126691170471,\n ('s10', 'o172', 'c'): 58.42253382340942,\n ('s10', 'o172', 'i'): 87.63380073511412,\n ('s11', 'o172', 'm'): 28.399715700716456,\n ('s11', 'o172', 'c'): 56.79943140143291,\n ('s11', 'o172', 'i'): 85.19914710214937,\n ('s12', 'o172', 'm'): 31.53697788573703,\n ('s12', 'o172', 'c'): 63.07395577147406,\n ('s12', 'o172', 'i'): 94.61093365721109,\n ('s13', 'o172', 'm'): 37.8589086693489,\n ('s13', 'o172', 'c'): 75.7178173386978,\n ('s13', 'o172', 'i'): 113.5767260080467,\n ('s14', 'o172', 'm'): 36.50769626695823,\n ('s14', 'o172', 'c'): 73.01539253391645,\n ('s14', 'o172', 'i'): 109.52308880087469,\n ('s15', 'o172', 'm'): 44.67873633984174,\n ('s15', 'o172', 'c'): 89.35747267968348,\n ('s15', 'o172', 'i'): 134.03620901952522,\n ('s16', 'o172', 'm'): 43.45188845782968,\n ('s16', 'o172', 'c'): 86.90377691565936,\n ('s16', 'o172', 'i'): 130.35566537348905,\n ('s17', 'o172', 'm'): 42.82065467672554,\n ('s17', 'o172', 'c'): 85.64130935345108,\n ('s17', 'o172', 'i'): 128.4619640301766,\n ('s18', 'o172', 'm'): 50.552241018134815,\n ('s18', 'o172', 'c'): 101.10448203626963,\n ('s18', 'o172', 'i'): 151.65672305440444,\n ('s19', 'o172', 'm'): 50.687452104092834,\n ('s19', 'o172', 'c'): 101.37490420818567,\n ('s19', 'o172', 'i'): 152.0623563122785,\n ('s20', 'o172', 'm'): 54.1473507450872,\n ('s20', 'o172', 'c'): 108.2947014901744,\n ('s20', 'o172', 'i'): 162.4420522352616,\n ('s1', 'o51', 'm'): 52.14158612084408,\n ('s1', 'o51', 'c'): 104.28317224168816,\n ('s1', 'o51', 'i'): 156.42475836253226,\n ('s2', 'o51', 'm'): 37.566788594343166,\n ('s2', 'o51', 'c'): 75.13357718868633,\n ('s2', 'o51', 'i'): 112.7003657830295,\n ('s3', 'o51', 'm'): 31.06543298892186,\n ('s3', 'o51', 'c'): 62.13086597784372,\n ('s3', 'o51', 'i'): 93.19629896676558,\n ('s4', 'o51', 'm'): 33.1593531264516,\n ('s4', 'o51', 'c'): 66.3187062529032,\n ('s4', 'o51', 'i'): 99.47805937935479,\n ('s5', 'o51', 'm'): 35.01564531938141,\n ('s5', 'o51', 'c'): 70.03129063876283,\n ('s5', 'o51', 'i'): 105.04693595814425,\n ('s6', 'o51', 'm'): 21.770743816632606,\n ('s6', 'o51', 'c'): 43.54148763326521,\n ('s6', 'o51', 'i'): 65.31223144989782,\n ('s7', 'o51', 'm'): 21.56194736582482,\n ('s7', 'o51', 'c'): 43.12389473164964,\n ('s7', 'o51', 'i'): 64.68584209747446,\n ('s8', 'o51', 'm'): 19.579984101768108,\n ('s8', 'o51', 'c'): 39.159968203536216,\n ('s8', 'o51', 'i'): 58.73995230530433,\n ('s9', 'o51', 'm'): 13.765094430129386,\n ('s9', 'o51', 'c'): 27.53018886025877,\n ('s9', 'o51', 'i'): 41.295283290388156,\n ('s10', 'o51', 'm'): 14.565821967343739,\n ('s10', 'o51', 'c'): 29.131643934687478,\n ('s10', 'o51', 'i'): 43.69746590203122,\n ('s11', 'o51', 'm'): 15.488131961777247,\n ('s11', 'o51', 'c'): 30.976263923554495,\n ('s11', 'o51', 'i'): 46.46439588533174,\n ('s12', 'o51', 'm'): 6.175673616947428,\n ('s12', 'o51', 'c'): 12.351347233894856,\n ('s12', 'o51', 'i'): 18.527020850842284,\n ('s13', 'o51', 'm'): 0.4926211260166341,\n ('s13', 'o51', 'c'): 0.9852422520332682,\n ('s13', 'o51', 'i'): 1.4778633780499022,\n ('s14', 'o51', 'm'): 9.846465965896128,\n ('s14', 'o51', 'c'): 19.692931931792256,\n ('s14', 'o51', 'i'): 29.53939789768838,\n ('s15', 'o51', 'm'): 7.353483153457683,\n ('s15', 'o51', 'c'): 14.706966306915366,\n ('s15', 'o51', 'i'): 22.06044946037305,\n ('s16', 'o51', 'm'): 8.363047599848542,\n ('s16', 'o51', 'c'): 16.726095199697085,\n ('s16', 'o51', 'i'): 25.089142799545627,\n ('s17', 'o51', 'm'): 10.319546966763138,\n ('s17', 'o51', 'c'): 20.639093933526276,\n ('s17', 'o51', 'i'): 30.958640900289414,\n ('s18', 'o51', 'm'): 13.746735473764286,\n ('s18', 'o51', 'c'): 27.49347094752857,\n ('s18', 'o51', 'i'): 41.240206421292854,\n ('s19', 'o51', 'm'): 16.326790330622774,\n ('s19', 'o51', 'c'): 32.65358066124555,\n ('s19', 'o51', 'i'): 48.98037099186833,\n ('s20', 'o51', 'm'): 17.15576709831815,\n ('s20', 'o51', 'c'): 34.3115341966363,\n ('s20', 'o51', 'i'): 51.46730129495445,\n ('s1', 'o7', 'm'): 66.99222775607613,\n ('s1', 'o7', 'c'): 133.98445551215227,\n ('s1', 'o7', 'i'): 200.97668326822838,\n ('s2', 'o7', 'm'): 52.42280774296527,\n ('s2', 'o7', 'c'): 104.84561548593054,\n ('s2', 'o7', 'i'): 157.2684232288958,\n ('s3', 'o7', 'm'): 45.42422083613097,\n ('s3', 'o7', 'c'): 90.84844167226194,\n ('s3', 'o7', 'i'): 136.2726625083929,\n ('s4', 'o7', 'm'): 46.81691490318515,\n ('s4', 'o7', 'c'): 93.6338298063703,\n ('s4', 'o7', 'i'): 140.45074470955547,\n ('s5', 'o7', 'm'): 48.365878758994604,\n ('s5', 'o7', 'c'): 96.73175751798921,\n ('s5', 'o7', 'i'): 145.09763627698382,\n ('s6', 'o7', 'm'): 36.20972591644277,\n ('s6', 'o7', 'c'): 72.41945183288554,\n ('s6', 'o7', 'i'): 108.6291777493283,\n ('s7', 'o7', 'm'): 34.71846356052727,\n ('s7', 'o7', 'c'): 69.43692712105454,\n ('s7', 'o7', 'i'): 104.1553906815818,\n ('s8', 'o7', 'm'): 30.638670675899867,\n ('s8', 'o7', 'c'): 61.277341351799734,\n ('s8', 'o7', 'i'): 91.9160120276996,\n ('s9', 'o7', 'm'): 29.104109736871866,\n ('s9', 'o7', 'c'): 58.20821947374373,\n ('s9', 'o7', 'i'): 87.3123292106156,\n ('s10', 'o7', 'm'): 25.774191192410775,\n ('s10', 'o7', 'c'): 51.54838238482155,\n ('s10', 'o7', 'i'): 77.32257357723233,\n ('s11', 'o7', 'm'): 26.804491040096167,\n ('s11', 'o7', 'c'): 53.608982080192334,\n ('s11', 'o7', 'i'): 80.4134731202885,\n ('s12', 'o7', 'm'): 21.37954910421764,\n ('s12', 'o7', 'c'): 42.75909820843528,\n ('s12', 'o7', 'i'): 64.13864731265292,\n ('s13', 'o7', 'm'): 15.145113720902518,\n ('s13', 'o7', 'c'): 30.290227441805037,\n ('s13', 'o7', 'i'): 45.43534116270756,\n ('s14', 'o7', 'm'): 17.96344469211573,\n ('s14', 'o7', 'c'): 35.92688938423146,\n ('s14', 'o7', 'i'): 53.89033407634719,\n ('s15', 'o7', 'm'): 8.087879733237004,\n ('s15', 'o7', 'c'): 16.17575946647401,\n ('s15', 'o7', 'i'): 24.263639199711015,\n ('s16', 'o7', 'm'): 9.73000508042998,\n ('s16', 'o7', 'c'): 19.46001016085996,\n ('s16', 'o7', 'i'): 29.190015241289938,\n ('s17', 'o7', 'm'): 11.844932447048599,\n ('s17', 'o7', 'c'): 23.689864894097198,\n ('s17', 'o7', 'i'): 35.5347973411458,\n ('s18', 'o7', 'm'): 2.5519714047662645,\n ('s18', 'o7', 'c'): 5.103942809532529,\n ('s18', 'o7', 'i'): 7.655914214298793,\n ('s19', 'o7', 'm'): 7.620143173186421,\n ('s19', 'o7', 'c'): 15.240286346372843,\n ('s19', 'o7', 'i'): 22.860429519559265,\n ('s20', 'o7', 'm'): 1.9771031125817153,\n ('s20', 'o7', 'c'): 3.9542062251634307,\n ('s20', 'o7', 'i'): 5.931309337745146,\n ('s1', 'o30', 'm'): 9.457306046368759,\n ('s1', 'o30', 'c'): 18.914612092737517,\n ('s1', 'o30', 'i'): 28.371918139106278,\n ('s2', 'o30', 'm'): 24.029010692954817,\n ('s2', 'o30', 'c'): 48.05802138590963,\n ('s2', 'o30', 'i'): 72.08703207886445,\n ('s3', 'o30', 'm'): 31.290542209098184,\n ('s3', 'o30', 'c'): 62.58108441819637,\n ('s3', 'o30', 'i'): 93.87162662729455,\n ('s4', 'o30', 'm'): 31.206008135836676,\n ('s4', 'o30', 'c'): 62.41201627167335,\n ('s4', 'o30', 'i'): 93.61802440751003,\n ('s5', 'o30', 'm'): 30.64263661666435,\n ('s5', 'o30', 'c'): 61.2852732333287,\n ('s5', 'o30', 'i'): 91.92790984999306,\n ('s6', 'o30', 'm'): 40.287542323510834,\n ('s6', 'o30', 'c'): 80.57508464702167,\n ('s6', 'o30', 'i'): 120.8626269705325,\n ('s7', 'o30', 'm'): 42.77785506325033,\n ('s7', 'o30', 'c'): 85.55571012650066,\n ('s7', 'o30', 'i'): 128.33356518975097,\n ('s8', 'o30', 'm'): 48.63499940859765,\n ('s8', 'o30', 'c'): 97.2699988171953,\n ('s8', 'o30', 'i'): 145.90499822579295,\n ('s9', 'o30', 'm'): 47.99634325790301,\n ('s9', 'o30', 'c'): 95.99268651580601,\n ('s9', 'o30', 'i'): 143.98902977370903,\n ('s10', 'o30', 'm'): 52.21047813566335,\n ('s10', 'o30', 'c'): 104.4209562713267,\n ('s10', 'o30', 'i'): 156.63143440699005,\n ('s11', 'o30', 'm'): 51.30347185158258,\n ('s11', 'o30', 'c'): 102.60694370316516,\n ('s11', 'o30', 'i'): 153.91041555474774,\n ('s12', 'o30', 'm'): 55.387287139414276,\n ('s12', 'o30', 'c'): 110.77457427882855,\n ('s12', 'o30', 'i'): 166.16186141824284,\n ('s13', 'o30', 'm'): 61.70783050020385,\n ('s13', 'o30', 'c'): 123.4156610004077,\n ('s13', 'o30', 'i'): 185.12349150061155,\n ('s14', 'o30', 'm'): 59.84693048122196,\n ('s14', 'o30', 'c'): 119.69386096244392,\n ('s14', 'o30', 'i'): 179.54079144366588,\n ('s15', 'o30', 'm'): 68.50160561356435,\n ('s15', 'o30', 'c'): 137.0032112271287,\n ('s15', 'o30', 'i'): 205.50481684069305,\n ('s16', 'o30', 'm'): 67.12297722393947,\n ('s16', 'o30', 'c'): 134.24595444787894,\n ('s16', 'o30', 'i'): 201.36893167181842,\n ('s17', 'o30', 'm'): 66.28081968688178,\n ('s17', 'o30', 'c'): 132.56163937376357,\n ('s17', 'o30', 'i'): 198.84245906064535,\n ('s18', 'o30', 'm'): 74.29602555967588,\n ('s18', 'o30', 'c'): 148.59205111935177,\n ('s18', 'o30', 'i'): 222.88807667902765,\n ('s19', 'o30', 'm'): 74.11166510391672,\n ('s19', 'o30', 'c'): 148.22333020783344,\n ('s19', 'o30', 'i'): 222.33499531175016,\n ('s20', 'o30', 'm'): 77.89551817634444,\n ('s20', 'o30', 'c'): 155.79103635268888,\n ('s20', 'o30', 'i'): 233.68655452903332,\n ('s1', 'o221', 'm'): 2.755195732561727,\n ('s1', 'o221', 'c'): 5.510391465123454,\n ('s1', 'o221', 'i'): 8.26558719768518,\n ('s2', 'o221', 'm'): 17.20429268142615,\n ('s2', 'o221', 'c'): 34.4085853628523,\n ('s2', 'o221', 'i'): 51.612878044278446,\n ('s3', 'o221', 'm'): 24.304512862804692,\n ('s3', 'o221', 'c'): 48.609025725609385,\n ('s3', 'o221', 'i'): 72.91353858841407,\n ('s4', 'o221', 'm'): 24.21311433506949,\n ('s4', 'o221', 'c'): 48.42622867013898,\n ('s4', 'o221', 'i'): 72.63934300520847,\n ('s5', 'o221', 'm'): 23.72158581898448,\n ('s5', 'o221', 'c'): 47.44317163796896,\n ('s5', 'o221', 'i'): 71.16475745695344,\n ('s6', 'o221', 'm'): 33.36244613893128,\n ('s6', 'o221', 'c'): 66.72489227786257,\n ('s6', 'o221', 'i'): 100.08733841679384,\n ('s7', 'o221', 'm'): 35.76805935527199,\n ('s7', 'o221', 'c'): 71.53611871054397,\n ('s7', 'o221', 'i'): 107.30417806581596,\n ('s8', 'o221', 'm'): 41.62537917989114,\n ('s8', 'o221', 'c'): 83.25075835978228,\n ('s8', 'o221', 'i'): 124.87613753967342,\n ('s9', 'o221', 'm'): 41.30239250636754,\n ('s9', 'o221', 'c'): 82.60478501273508,\n ('s9', 'o221', 'i'): 123.90717751910262,\n ('s10', 'o221', 'm'): 45.203245306938896,\n ('s10', 'o221', 'c'): 90.40649061387779,\n ('s10', 'o221', 'i'): 135.6097359208167,\n ('s11', 'o221', 'm'): 44.29350335637254,\n ('s11', 'o221', 'c'): 88.58700671274508,\n ('s11', 'o221', 'i'): 132.88051006911763,\n ('s12', 'o221', 'm'): 48.59534063122249,\n ('s12', 'o221', 'c'): 97.19068126244498,\n ('s12', 'o221', 'i'): 145.78602189366748,\n ('s13', 'o221', 'm'): 54.90193621519127,\n ('s13', 'o221', 'c'): 109.80387243038254,\n ('s13', 'o221', 'i'): 164.70580864557382,\n ('s14', 'o221', 'm'): 52.857076395000576,\n ('s14', 'o221', 'c'): 105.71415279000115,\n ('s14', 'o221', 'i'): 158.57122918500173,\n ('s15', 'o221', 'm'): 61.64356094576737,\n ('s15', 'o221', 'c'): 123.28712189153474,\n ('s15', 'o221', 'i'): 184.9306828373021,\n ('s16', 'o221', 'm'): 60.18616928598284,\n ('s16', 'o221', 'c'): 120.37233857196568,\n ('s16', 'o221', 'i'): 180.55850785794854,\n ('s17', 'o221', 'm'): 59.301479153779354,\n ('s17', 'o221', 'c'): 118.60295830755871,\n ('s17', 'o221', 'i'): 177.90443746133806,\n ('s18', 'o221', 'm'): 67.38230142218505,\n ('s18', 'o221', 'c'): 134.7646028443701,\n ('s18', 'o221', 'i'): 202.14690426655517,\n ('s19', 'o221', 'm'): 67.12440463290064,\n ('s19', 'o221', 'c'): 134.24880926580127,\n ('s19', 'o221', 'i'): 201.37321389870192,\n ('s20', 'o221', 'm'): 70.9822995047207,\n ('s20', 'o221', 'c'): 141.9645990094414,\n ('s20', 'o221', 'i'): 212.94689851416211,\n ('s1', 'o64', 'm'): 43.20533542662926,\n ('s1', 'o64', 'c'): 86.41067085325852,\n ('s1', 'o64', 'i'): 129.61600627988778,\n ('s2', 'o64', 'm'): 29.120725208876266,\n ('s2', 'o64', 'c'): 58.24145041775253,\n ('s2', 'o64', 'i'): 87.3621756266288,\n ('s3', 'o64', 'm'): 21.361241831024063,\n ('s3', 'o64', 'c'): 42.72248366204813,\n ('s3', 'o64', 'i'): 64.0837254930722,\n ('s4', 'o64', 'm'): 21.769373743842216,\n ('s4', 'o64', 'c'): 43.53874748768443,\n ('s4', 'o64', 'i'): 65.30812123152666,\n ('s5', 'o64', 'm'): 23.058900624951768,\n ('s5', 'o64', 'c'): 46.117801249903536,\n ('s5', 'o64', 'i'): 69.1767018748553,\n ('s6', 'o64', 'm'): 13.297141230384579,\n ('s6', 'o64', 'c'): 26.594282460769158,\n ('s6', 'o64', 'i'): 39.89142369115373,\n ('s7', 'o64', 'm'): 9.800404109869747,\n ('s7', 'o64', 'c'): 19.600808219739495,\n ('s7', 'o64', 'i'): 29.401212329609244,\n ('s8', 'o64', 'm'): 5.176265064201556,\n ('s8', 'o64', 'c'): 10.352530128403112,\n ('s8', 'o64', 'i'): 15.528795192604669,\n ('s9', 'o64', 'm'): 13.157357244724999,\n ('s9', 'o64', 'c'): 26.314714489449997,\n ('s9', 'o64', 'i'): 39.472071734174996,\n ('s10', 'o64', 'm'): 0.4801068334268594,\n ('s10', 'o64', 'c'): 0.9602136668537188,\n ('s10', 'o64', 'i'): 1.4403205002805781,\n ('s11', 'o64', 'm'): 1.2872551156848084,\n ('s11', 'o64', 'c'): 2.574510231369617,\n ('s11', 'o64', 'i'): 3.8617653470544253,\n ('s12', 'o64', 'm'): 11.213160146512585,\n ('s12', 'o64', 'c'): 22.42632029302517,\n ('s12', 'o64', 'i'): 33.639480439537756,\n ('s13', 'o64', 'm'): 14.390444457605831,\n ('s13', 'o64', 'c'): 28.780888915211662,\n ('s13', 'o64', 'i'): 43.17133337281749,\n ('s14', 'o64', 'm'): 7.665112031363968,\n ('s14', 'o64', 'c'): 15.330224062727936,\n ('s14', 'o64', 'i'): 22.995336094091904,\n ('s15', 'o64', 'm'): 18.770267996784053,\n ('s15', 'o64', 'c'): 37.540535993568106,\n ('s15', 'o64', 'i'): 56.310803990352156,\n ('s16', 'o64', 'm'): 15.849603454779487,\n ('s16', 'o64', 'c'): 31.699206909558974,\n ('s16', 'o64', 'i'): 47.548810364338465,\n ('s17', 'o64', 'm'): 14.14559585649766,\n ('s17', 'o64', 'c'): 28.29119171299532,\n ('s17', 'o64', 'i'): 42.43678756949298,\n ('s18', 'o64', 'm'): 23.114186863877425,\n ('s18', 'o64', 'c'): 46.22837372775485,\n ('s18', 'o64', 'i'): 69.34256059163228,\n ('s19', 'o64', 'm'): 21.746012502296,\n ('s19', 'o64', 'c'): 43.492025004592,\n ('s19', 'o64', 'i'): 65.238037506888,\n ('s20', 'o64', 'm'): 26.597573926747643,\n ('s20', 'o64', 'c'): 53.195147853495286,\n ('s20', 'o64', 'i'): 79.79272178024293,\n ('s1', 'o25', 'm'): 4.88935047486133,\n ('s1', 'o25', 'c'): 9.77870094972266,\n ('s1', 'o25', 'i'): 14.66805142458399,\n ('s2', 'o25', 'm'): 19.471452123296693,\n ('s2', 'o25', 'c'): 38.942904246593386,\n ('s2', 'o25', 'i'): 58.41435636989008,\n ('s3', 'o25', 'm'): 26.67589058727094,\n ('s3', 'o25', 'c'): 53.35178117454188,\n ('s3', 'o25', 'i'): 80.02767176181281,\n ('s4', 'o25', 'm'): 26.62874186292178,\n ('s4', 'o25', 'c'): 53.25748372584356,\n ('s4', 'o25', 'i'): 79.88622558876534,\n ('s5', 'o25', 'm'): 26.12947546766397,\n ('s5', 'o25', 'c'): 52.25895093532794,\n ('s5', 'o25', 'i'): 78.38842640299191,\n ('s6', 'o25', 'm'): 35.693269410355924,\n ('s6', 'o25', 'c'): 71.38653882071185,\n ('s6', 'o25', 'i'): 107.07980823106777,\n ('s7', 'o25', 'm'): 38.16256246816344,\n ('s7', 'o25', 'c'): 76.32512493632689,\n ('s7', 'o25', 'i'): 114.48768740449033,\n ('s8', 'o25', 'm'): 44.0366624637981,\n ('s8', 'o25', 'c'): 88.0733249275962,\n ('s8', 'o25', 'i'): 132.1099873913943,\n ('s9', 'o25', 'm'): 43.51198221101156,\n ('s9', 'o25', 'c'): 87.02396442202313,\n ('s9', 'o25', 'i'): 130.53594663303468,\n ('s10', 'o25', 'm'): 47.59436404970148,\n ('s10', 'o25', 'c'): 95.18872809940297,\n ('s10', 'o25', 'i'): 142.78309214910445,\n ('s11', 'o25', 'm'): 46.68817588660565,\n ('s11', 'o25', 'c'): 93.3763517732113,\n ('s11', 'o25', 'i'): 140.06452765981695,\n ('s12', 'o25', 'm'): 50.85525118265832,\n ('s12', 'o25', 'c'): 101.71050236531664,\n ('s12', 'o25', 'i'): 152.56575354797496,\n ('s13', 'o25', 'm'): 57.169730757831644,\n ('s13', 'o25', 'c'): 114.33946151566329,\n ('s13', 'o25', 'i'): 171.50919227349493,\n ('s14', 'o25', 'm'): 55.232042183144024,\n ('s14', 'o25', 'c'): 110.46408436628805,\n ('s14', 'o25', 'i'): 165.69612654943208,\n ('s15', 'o25', 'm'): 63.939007352558015,\n ('s15', 'o25', 'c'): 127.87801470511603,\n ('s15', 'o25', 'i'): 191.81702205767405,\n ('s16', 'o25', 'm'): 62.525659337496215,\n ('s16', 'o25', 'c'): 125.05131867499243,\n ('s16', 'o25', 'i'): 187.57697801248864,\n ('s17', 'o25', 'm'): 61.66858259009151,\n ('s17', 'o25', 'c'): 123.33716518018302,\n ('s17', 'o25', 'i'): 185.00574777027452,\n ('s18', 'o25', 'm'): 69.70852493446155,\n ('s18', 'o25', 'c'): 139.4170498689231,\n ('s18', 'o25', 'i'): 209.12557480338467,\n ('s19', 'o25', 'm'): 69.49745553262828,\n ('s19', 'o25', 'c'): 138.99491106525656,\n ('s19', 'o25', 'i'): 208.49236659788482,\n ('s20', 'o25', 'm'): 73.30835264553852,\n ('s20', 'o25', 'c'): 146.61670529107704,\n ('s20', 'o25', 'i'): 219.92505793661556,\n ('s1', 'o94', 'm'): 71.46205525188445,\n ('s1', 'o94', 'c'): 142.9241105037689,\n ('s1', 'o94', 'i'): 214.38616575565334,\n ('s2', 'o94', 'm'): 56.933679326445116,\n ('s2', 'o94', 'c'): 113.86735865289023,\n ('s2', 'o94', 'i'): 170.80103797933535,\n ('s3', 'o94', 'm'): 49.74278292993831,\n ('s3', 'o94', 'c'): 99.48556585987662,\n ('s3', 'o94', 'i'): 149.22834878981493,\n ('s4', 'o94', 'm'): 50.85338670583033,\n ('s4', 'o94', 'c'): 101.70677341166066,\n ('s4', 'o94', 'i'): 152.560160117491,\n ('s5', 'o94', 'm'): 52.27591695896297,\n ('s5', 'o94', 'c'): 104.55183391792595,\n ('s5', 'o94', 'i'): 156.82775087688893,\n ('s6', 'o94', 'm'): 40.63120077760902,\n ('s6', 'o94', 'c'): 81.26240155521803,\n ('s6', 'o94', 'i'): 121.89360233282704,\n ('s7', 'o94', 'm'): 38.731383870933385,\n ('s7', 'o94', 'c'): 77.46276774186677,\n ('s7', 'o94', 'i'): 116.19415161280016,\n ('s8', 'o94', 'm'): 34.145296565630765,\n ('s8', 'o94', 'c'): 68.29059313126153,\n ('s8', 'o94', 'i'): 102.4358896968923,\n ('s9', 'o94', 'm'): 33.97901483577557,\n ('s9', 'o94', 'c'): 67.95802967155115,\n ('s9', 'o94', 'i'): 101.93704450732672,\n ('s10', 'o94', 'm'): 29.51090311649455,\n ('s10', 'o94', 'c'): 59.0218062329891,\n ('s10', 'o94', 'i'): 88.53270934948365,\n ('s11', 'o94', 'm'): 30.52342441444829,\n ('s11', 'o94', 'c'): 61.04684882889658,\n ('s11', 'o94', 'i'): 91.57027324334487,\n ('s12', 'o94', 'm'): 26.237799580485483,\n ('s12', 'o94', 'c'): 52.475599160970965,\n ('s12', 'o94', 'i'): 78.71339874145644,\n ('s13', 'o94', 'm'): 20.115702040091378,\n ('s13', 'o94', 'c'): 40.231404080182756,\n ('s13', 'o94', 'i'): 60.347106120274134,\n ('s14', 'o94', 'm'): 21.593855124477937,\n ('s14', 'o94', 'c'): 43.187710248955874,\n ('s14', 'o94', 'i'): 64.7815653734338,\n ('s15', 'o94', 'm'): 13.065767758811326,\n ('s15', 'o94', 'c'): 26.131535517622652,\n ('s15', 'o94', 'i'): 39.19730327643398,\n ('s16', 'o94', 'm'): 13.800928776420196,\n ('s16', 'o94', 'c'): 27.601857552840393,\n ('s16', 'o94', 'i'): 41.40278632926059,\n ('s17', 'o94', 'm'): 15.119913879738675,\n ('s17', 'o94', 'c'): 30.23982775947735,\n ('s17', 'o94', 'i'): 45.359741639216026,\n ('s18', 'o94', 'm'): 6.730594127345198,\n ('s18', 'o94', 'c'): 13.461188254690397,\n ('s18', 'o94', 'i'): 20.191782382035594,\n ('s19', 'o94', 'm'): 8.36068164238502,\n ('s19', 'o94', 'c'): 16.72136328477004,\n ('s19', 'o94', 'i'): 25.08204492715506,\n ('s20', 'o94', 'm'): 3.287726040501488,\n ('s20', 'o94', 'c'): 6.575452081002976,\n ('s20', 'o94', 'i'): 9.863178121504465,\n ('s1', 'o119', 'm'): 44.90965206419761,\n ('s1', 'o119', 'c'): 89.81930412839522,\n ('s1', 'o119', 'i'): 134.72895619259282,\n ('s2', 'o119', 'm'): 30.445999292349956,\n ('s2', 'o119', 'c'): 60.89199858469991,\n ('s2', 'o119', 'i'): 91.33799787704987,\n ('s3', 'o119', 'm'): 24.674127381109447,\n ('s3', 'o119', 'c'): 49.34825476221889,\n ('s3', 'o119', 'i'): 74.02238214332834,\n ('s4', 'o119', 'm'): 27.486925682052053,\n ('s4', 'o119', 'c'): 54.97385136410411,\n ('s4', 'o119', 'i'): 82.46077704615615,\n ('s5', 'o119', 'm'): 29.593053992196076,\n ('s5', 'o119', 'c'): 59.18610798439215,\n ('s5', 'o119', 'i'): 88.77916197658823,\n ('s6', 'o119', 'm'): 15.693648767727643,\n ('s6', 'o119', 'c'): 31.387297535455286,\n ('s6', 'o119', 'i'): 47.08094630318293,\n ('s7', 'o119', 'm'): 17.213441144647142,\n ('s7', 'o119', 'c'): 34.426882289294284,\n ('s7', 'o119', 'i'): 51.640323433941425,\n ('s8', 'o119', 'm'): 17.7874468406236,\n ('s8', 'o119', 'c'): 35.5748936812472,\n ('s8', 'o119', 'i'): 53.36234052187079,\n ('s9', 'o119', 'm'): 6.319823303326114,\n ('s9', 'o119', 'c'): 12.639646606652228,\n ('s9', 'o119', 'i'): 18.959469909978342,\n ('s10', 'o119', 'm'): 13.832998752780382,\n ('s10', 'o119', 'c'): 27.665997505560764,\n ('s10', 'o119', 'i'): 41.498996258341144,\n ('s11', 'o119', 'm'): 14.367170092763288,\n ('s11', 'o119', 'c'): 28.734340185526577,\n ('s11', 'o119', 'i'): 43.101510278289865,\n ('s12', 'o119', 'm'): 3.593031773017837,\n ('s12', 'o119', 'c'): 7.186063546035674,\n ('s12', 'o119', 'i'): 10.77909531905351,\n ('s13', 'o119', 'm'): 8.432717044865289,\n ('s13', 'o119', 'c'): 16.865434089730577,\n ('s13', 'o119', 'i'): 25.298151134595866,\n ('s14', 'o119', 'm'): 13.72474713604642,\n ('s14', 'o119', 'c'): 27.44949427209284,\n ('s14', 'o119', 'i'): 41.17424140813926,\n ('s15', 'o119', 'm'): 15.448691458367838,\n ('s15', 'o119', 'c'): 30.897382916735676,\n ('s15', 'o119', 'i'): 46.34607437510351,\n ('s16', 'o119', 'm'): 16.000562432104733,\n ('s16', 'o119', 'c'): 32.001124864209466,\n ('s16', 'o119', 'i'): 48.0016872963142,\n ('s17', 'o119', 'm'): 17.152782359301476,\n ('s17', 'o119', 'c'): 34.30556471860295,\n ('s17', 'o119', 'i'): 51.45834707790443,\n ('s18', 'o119', 'm'): 21.848714376938947,\n ('s18', 'o119', 'c'): 43.697428753877894,\n ('s18', 'o119', 'i'): 65.54614313081684,\n ('s19', 'o119', 'm'): 24.082571426660078,\n ('s19', 'o119', 'c'): 48.165142853320155,\n ('s19', 'o119', 'i'): 72.24771427998023,\n ('s20', 'o119', 'm'): 25.246114027123344,\n ('s20', 'o119', 'c'): 50.49222805424669,\n ('s20', 'o119', 'i'): 75.73834208137004,\n ('s1', 'o148', 'm'): 26.412982781455785,\n ('s1', 'o148', 'c'): 52.82596556291157,\n ('s1', 'o148', 'i'): 79.23894834436736,\n ('s2', 'o148', 'm'): 12.191443716045175,\n ('s2', 'o148', 'c'): 24.38288743209035,\n ('s2', 'o148', 'i'): 36.57433114813553,\n ('s3', 'o148', 'm'): 4.584156829173731,\n ('s3', 'o148', 'c'): 9.168313658347461,\n ('s3', 'o148', 'i'): 13.752470487521192,\n ('s4', 'o148', 'm'): 7.127612894104112,\n ('s4', 'o148', 'c'): 14.255225788208223,\n ('s4', 'o148', 'i'): 21.382838682312336,\n ('s5', 'o148', 'm'): 9.4066014506504,\n ('s5', 'o148', 'c'): 18.8132029013008,\n ('s5', 'o148', 'i'): 28.219804351951204,\n ('s6', 'o148', 'm'): 4.843956080411866,\n ('s6', 'o148', 'c'): 9.687912160823732,\n ('s6', 'o148', 'i'): 14.531868241235598,\n ('s7', 'o148', 'm'): 7.3584117318867355,\n ('s7', 'o148', 'c'): 14.716823463773471,\n ('s7', 'o148', 'i'): 22.075235195660206,\n ('s8', 'o148', 'm'): 13.826957072908987,\n ('s8', 'o148', 'c'): 27.653914145817975,\n ('s8', 'o148', 'i'): 41.48087121872696,\n ('s9', 'o148', 'm'): 14.400542834627853,\n ('s9', 'o148', 'c'): 28.801085669255706,\n ('s9', 'o148', 'i'): 43.201628503883555,\n ('s10', 'o148', 'm'): 16.528954981602215,\n ('s10', 'o148', 'c'): 33.05790996320443,\n ('s10', 'o148', 'i'): 49.58686494480665,\n ('s11', 'o148', 'm'): 15.693882696479891,\n ('s11', 'o148', 'c'): 31.387765392959782,\n ('s11', 'o148', 'i'): 47.081648089439675,\n ('s12', 'o148', 'm'): 20.538302565798535,\n ('s12', 'o148', 'c'): 41.07660513159707,\n ('s12', 'o148', 'i'): 61.61490769739561,\n ('s13', 'o148', 'm'): 26.640847683982066,\n ('s13', 'o148', 'c'): 53.28169536796413,\n ('s13', 'o148', 'i'): 79.9225430519462,\n ('s14', 'o148', 'm'): 24.013533189054773,\n ('s14', 'o148', 'c'): 48.027066378109545,\n ('s14', 'o148', 'i'): 72.04059956716432,\n ('s15', 'o148', 'm'): 33.07723217368779,\n ('s15', 'o148', 'c'): 66.15446434737558,\n ('s15', 'o148', 'i'): 99.23169652106337,\n ('s16', 'o148', 'm'): 31.360609244001086,\n ('s16', 'o148', 'c'): 62.72121848800217,\n ('s16', 'o148', 'i'): 94.08182773200326,\n ('s17', 'o148', 'm'): 30.435615733324727,\n ('s17', 'o148', 'c'): 60.871231466649455,\n ('s17', 'o148', 'i'): 91.30684719997419,\n ('s18', 'o148', 'm'): 38.6061700599273,\n ('s18', 'o148', 'c'): 77.2123401198546,\n ('s18', 'o148', 'i'): 115.8185101797819,\n ('s19', 'o148', 'm'): 38.270752018675395,\n ('s19', 'o148', 'c'): 76.54150403735079,\n ('s19', 'o148', 'i'): 114.81225605602619,\n ('s20', 'o148', 'm'): 42.202821627184676,\n ('s20', 'o148', 'c'): 84.40564325436935,\n ('s20', 'o148', 'i'): 126.60846488155403,\n ('s1', 'o208', 'm'): 22.720826765685036,\n ('s1', 'o208', 'c'): 45.44165353137007,\n ('s1', 'o208', 'i'): 68.16248029705511,\n ('s2', 'o208', 'm'): 10.959068029241962,\n ('s2', 'o208', 'c'): 21.918136058483924,\n ('s2', 'o208', 'i'): 32.877204087725886,\n ('s3', 'o208', 'm'): 5.158475278722068,\n ('s3', 'o208', 'c'): 10.316950557444136,\n ('s3', 'o208', 'i'): 15.475425836166202,\n ('s4', 'o208', 'm'): 0.7833848589152154,\n ('s4', 'o208', 'c'): 1.5667697178304307,\n ('s4', 'o208', 'i'): 2.350154576745646,\n ('s5', 'o208', 'm'): 2.1592444856997295,\n ('s5', 'o208', 'c'): 4.318488971399459,\n ('s5', 'o208', 'i'): 6.4777334570991885,\n ('s6', 'o208', 'm'): 11.79852757510834,\n ('s6', 'o208', 'c'): 23.59705515021668,\n ('s6', 'o208', 'i'): 35.39558272532502,\n ('s7', 'o208', 'm'): 11.780762925601326,\n ('s7', 'o208', 'c'): 23.561525851202653,\n ('s7', 'o208', 'i'): 35.34228877680398,\n ('s8', 'o208', 'm'): 16.96869082749078,\n ('s8', 'o208', 'c'): 33.93738165498156,\n ('s8', 'o208', 'i'): 50.90607248247234,\n ('s9', 'o208', 'm'): 21.532789621913384,\n ('s9', 'o208', 'c'): 43.06557924382677,\n ('s9', 'o208', 'i'): 64.59836886574016,\n ('s10', 'o208', 'm'): 21.040886988394227,\n ('s10', 'o208', 'c'): 42.081773976788455,\n ('s10', 'o208', 'i'): 63.12266096518268,\n ('s11', 'o208', 'm'): 20.05807150490671,\n ('s11', 'o208', 'c'): 40.11614300981342,\n ('s11', 'o208', 'i'): 60.174214514720134,\n ('s12', 'o208', 'm'): 27.128042458869444,\n ('s12', 'o208', 'c'): 54.25608491773889,\n ('s12', 'o208', 'i'): 81.38412737660833,\n ('s13', 'o208', 'm'): 32.974971603554145,\n ('s13', 'o208', 'c'): 65.94994320710829,\n ('s13', 'o208', 'i'): 98.92491481066244,\n ('s14', 'o208', 'm'): 28.930934421275996,\n ...}"
     },
     "metadata": {},
     "output_type": "display_data"
    }
   ],
   "source": [
    "print('coordinates_st')\n",
    "display(coordinates_st)\n",
    "\n",
    "print('Demand')\n",
    "display(Demand)\n",
    "print('Availability')\n",
    "display(Availability)\n",
    "print('Eff')\n",
    "display(Eff)\n",
    "\n",
    "print('Distance')\n",
    "display(Distance)\n",
    "\n",
    "print('TimeR')\n",
    "display(TimeR)\n",
    "\n",
    "print('Cf_s'); display(Cf_s)\n",
    "print('Cu_sor')\n",
    "display(Cu_sor)"
   ]
  },
  {
   "cell_type": "code",
   "execution_count": 10,
   "metadata": {
    "ExecuteTime": {
     "end_time": "2023-07-05T02:05:25.169477600Z",
     "start_time": "2023-07-05T02:05:23.147405600Z"
    }
   },
   "outputs": [
    {
     "data": {
      "text/plain": "['o74',\n 'o98',\n 'o53',\n 'o178',\n 'o203',\n 'o127',\n 'o172',\n 'o51',\n 'o7',\n 'o30',\n 'o221',\n 'o64',\n 'o25',\n 'o94',\n 'o119',\n 'o148',\n 'o208',\n 'o86',\n 'o93',\n 'o108',\n 'o131',\n 'o6',\n 'o10',\n 'o41',\n 'o144',\n 'o169',\n 'o185',\n 'o87',\n 'o168',\n 'o24',\n 'o190',\n 'o97',\n 'o162',\n 'o106',\n 'o157',\n 'o175',\n 'o136',\n 'o145',\n 'o3',\n 'o28',\n 'o45',\n 'o27',\n 'o219',\n 'o9',\n 'o212',\n 'o139',\n 'o214',\n 'o113',\n 'o160',\n 'o191',\n 'o104',\n 'o184',\n 'o37',\n 'o165',\n 'o83',\n 'o114',\n 'o155',\n 'o91',\n 'o138',\n 'o183',\n 'o11',\n 'o181',\n 'o159',\n 'o48',\n 'o129',\n 'o158',\n 'o117',\n 'o153',\n 'o101',\n 'o44',\n 'o109',\n 'o59',\n 'o121',\n 'o13',\n 'o128',\n 'o90',\n 'o79',\n 'o161',\n 'o163',\n 'o130',\n 'o107',\n 'o42',\n 'o31',\n 'o19',\n 'o22',\n 'o187',\n 'o84',\n 'o132',\n 'o198',\n 'o49',\n 'o116',\n 'o124',\n 'o134',\n 'o82',\n 'o220',\n 'o207',\n 'o43',\n 'o192',\n 'o174',\n 'o78']"
     },
     "execution_count": 10,
     "metadata": {},
     "output_type": "execute_result"
    }
   ],
   "source": [
    "OilSpills"
   ]
  },
  {
   "cell_type": "code",
   "execution_count": 11,
   "metadata": {
    "ExecuteTime": {
     "end_time": "2023-07-05T02:06:25.471300600Z",
     "start_time": "2023-07-05T02:05:23.202748400Z"
    }
   },
   "outputs": [],
   "source": [
    "#max(Distance.values())\n",
    "SizeSpill = SizeSpill_R = list(spill_data['Spill size']).copy()\n",
    "Sensitivity_R = custom_func.calculate_sensitivity(coordinates_spill[0], sensitivity_dataR)\n",
    "# normalize\n",
    "SizeSpill_n = dict(zip(OilSpills, custom_func.normalize(SizeSpill_R, min(SizeSpill_R), max(SizeSpill_R))))\n",
    "Sensitivity_n = dict(zip(OilSpills, custom_func.normalize(Sensitivity_R, min(Sensitivity_R), max(Sensitivity_R))))\n",
    "\n",
    "Distance_n = dict(zip(Distance.keys(), custom_func.normalize(Distance.values(), min(Distance.values()), max(Distance.values()))))\n",
    "# (x_0-x_min)/(x_max-x_min) \n",
    "Effectiveness_n = dict(zip(Eff.keys(), custom_func.normalize(Eff.values(), min(Eff.values()), max(Eff.values()))))"
   ]
  },
  {
   "cell_type": "code",
   "execution_count": 12,
   "metadata": {
    "ExecuteTime": {
     "end_time": "2023-07-05T02:06:25.653433400Z",
     "start_time": "2023-07-05T02:06:25.474293500Z"
    }
   },
   "outputs": [
    {
     "data": {
      "text/plain": "{('o74', 'm'): 20,\n ('o74', 'c'): 0,\n ('o74', 'i'): 0,\n ('o98', 'm'): 20,\n ('o98', 'c'): 0,\n ('o98', 'i'): 0,\n ('o53', 'm'): 0,\n ('o53', 'c'): 110,\n ('o53', 'i'): 0,\n ('o178', 'm'): 0,\n ('o178', 'c'): 0,\n ('o178', 'i'): 157,\n ('o203', 'm'): 0,\n ('o203', 'c'): 0,\n ('o203', 'i'): 7,\n ('o127', 'm'): 0,\n ('o127', 'c'): 5,\n ('o127', 'i'): 0,\n ('o172', 'm'): 0,\n ('o172', 'c'): 5,\n ('o172', 'i'): 0,\n ('o51', 'm'): 0,\n ('o51', 'c'): 31,\n ('o51', 'i'): 0,\n ('o7', 'm'): 20,\n ('o7', 'c'): 0,\n ('o7', 'i'): 0,\n ('o30', 'm'): 100,\n ('o30', 'c'): 0,\n ('o30', 'i'): 0,\n ('o221', 'm'): 100,\n ('o221', 'c'): 0,\n ('o221', 'i'): 0,\n ('o64', 'm'): 0,\n ('o64', 'c'): 0,\n ('o64', 'i'): 37,\n ('o25', 'm'): 0,\n ('o25', 'c'): 31,\n ('o25', 'i'): 0,\n ('o94', 'm'): 2,\n ('o94', 'c'): 0,\n ('o94', 'i'): 0,\n ('o119', 'm'): 0,\n ('o119', 'c'): 110,\n ('o119', 'i'): 0,\n ('o148', 'm'): 0,\n ('o148', 'c'): 5,\n ('o148', 'i'): 0,\n ('o208', 'm'): 100,\n ('o208', 'c'): 0,\n ('o208', 'i'): 0,\n ('o86', 'm'): 0,\n ('o86', 'c'): 110,\n ('o86', 'i'): 0,\n ('o93', 'm'): 0,\n ('o93', 'c'): 5,\n ('o93', 'i'): 0,\n ('o108', 'm'): 0,\n ('o108', 'c'): 31,\n ('o108', 'i'): 0,\n ('o131', 'm'): 0,\n ('o131', 'c'): 0,\n ('o131', 'i'): 7,\n ('o6', 'm'): 0,\n ('o6', 'c'): 110,\n ('o6', 'i'): 0,\n ('o10', 'm'): 0,\n ('o10', 'c'): 0,\n ('o10', 'i'): 157,\n ('o41', 'm'): 100,\n ('o41', 'c'): 0,\n ('o41', 'i'): 0,\n ('o144', 'm'): 0,\n ('o144', 'c'): 110,\n ('o144', 'i'): 0,\n ('o169', 'm'): 0,\n ('o169', 'c'): 31,\n ('o169', 'i'): 0,\n ('o185', 'm'): 0,\n ('o185', 'c'): 0,\n ('o185', 'i'): 157,\n ('o87', 'm'): 0,\n ('o87', 'c'): 0,\n ('o87', 'i'): 157,\n ('o168', 'm'): 0,\n ('o168', 'c'): 31,\n ('o168', 'i'): 0,\n ('o24', 'm'): 2,\n ('o24', 'c'): 0,\n ('o24', 'i'): 0,\n ('o190', 'm'): 20,\n ('o190', 'c'): 0,\n ('o190', 'i'): 0,\n ('o97', 'm'): 0,\n ('o97', 'c'): 5,\n ('o97', 'i'): 0,\n ('o162', 'm'): 0,\n ('o162', 'c'): 5,\n ('o162', 'i'): 0,\n ('o106', 'm'): 0,\n ('o106', 'c'): 5,\n ('o106', 'i'): 0,\n ('o157', 'm'): 2,\n ('o157', 'c'): 0,\n ('o157', 'i'): 0,\n ('o175', 'm'): 20,\n ('o175', 'c'): 0,\n ('o175', 'i'): 0,\n ('o136', 'm'): 0,\n ('o136', 'c'): 110,\n ('o136', 'i'): 0,\n ('o145', 'm'): 0,\n ('o145', 'c'): 31,\n ('o145', 'i'): 0,\n ('o3', 'm'): 0,\n ('o3', 'c'): 0,\n ('o3', 'i'): 37,\n ('o28', 'm'): 20,\n ('o28', 'c'): 0,\n ('o28', 'i'): 0,\n ('o45', 'm'): 20,\n ('o45', 'c'): 0,\n ('o45', 'i'): 0,\n ('o27', 'm'): 20,\n ('o27', 'c'): 0,\n ('o27', 'i'): 0,\n ('o219', 'm'): 0,\n ('o219', 'c'): 0,\n ('o219', 'i'): 7,\n ('o9', 'm'): 0,\n ('o9', 'c'): 0,\n ('o9', 'i'): 37,\n ('o212', 'm'): 0,\n ('o212', 'c'): 0,\n ('o212', 'i'): 7,\n ('o139', 'm'): 0,\n ('o139', 'c'): 31,\n ('o139', 'i'): 0,\n ('o214', 'm'): 0,\n ('o214', 'c'): 0,\n ('o214', 'i'): 37,\n ('o113', 'm'): 2,\n ('o113', 'c'): 0,\n ('o113', 'i'): 0,\n ('o160', 'm'): 0,\n ('o160', 'c'): 31,\n ('o160', 'i'): 0,\n ('o191', 'm'): 0,\n ('o191', 'c'): 31,\n ('o191', 'i'): 0,\n ('o104', 'm'): 2,\n ('o104', 'c'): 0,\n ('o104', 'i'): 0,\n ('o184', 'm'): 0,\n ('o184', 'c'): 31,\n ('o184', 'i'): 0,\n ('o37', 'm'): 2,\n ('o37', 'c'): 0,\n ('o37', 'i'): 0,\n ('o165', 'm'): 0,\n ('o165', 'c'): 0,\n ('o165', 'i'): 7,\n ('o83', 'm'): 0,\n ('o83', 'c'): 31,\n ('o83', 'i'): 0,\n ('o114', 'm'): 0,\n ('o114', 'c'): 110,\n ('o114', 'i'): 0,\n ('o155', 'm'): 2,\n ('o155', 'c'): 0,\n ('o155', 'i'): 0,\n ('o91', 'm'): 0,\n ('o91', 'c'): 5,\n ('o91', 'i'): 0,\n ('o138', 'm'): 0,\n ('o138', 'c'): 0,\n ('o138', 'i'): 157,\n ('o183', 'm'): 0,\n ('o183', 'c'): 5,\n ('o183', 'i'): 0,\n ('o11', 'm'): 0,\n ('o11', 'c'): 110,\n ('o11', 'i'): 0,\n ('o181', 'm'): 0,\n ('o181', 'c'): 110,\n ('o181', 'i'): 0,\n ('o159', 'm'): 0,\n ('o159', 'c'): 31,\n ('o159', 'i'): 0,\n ('o48', 'm'): 2,\n ('o48', 'c'): 0,\n ('o48', 'i'): 0,\n ('o129', 'm'): 100,\n ('o129', 'c'): 0,\n ('o129', 'i'): 0,\n ('o158', 'm'): 0,\n ('o158', 'c'): 0,\n ('o158', 'i'): 157,\n ('o117', 'm'): 0,\n ('o117', 'c'): 31,\n ('o117', 'i'): 0,\n ('o153', 'm'): 0,\n ('o153', 'c'): 5,\n ('o153', 'i'): 0,\n ('o101', 'm'): 20,\n ('o101', 'c'): 0,\n ('o101', 'i'): 0,\n ('o44', 'm'): 20,\n ('o44', 'c'): 0,\n ('o44', 'i'): 0,\n ('o109', 'm'): 0,\n ('o109', 'c'): 0,\n ('o109', 'i'): 7,\n ('o59', 'm'): 0,\n ('o59', 'c'): 0,\n ('o59', 'i'): 7,\n ('o121', 'm'): 0,\n ('o121', 'c'): 0,\n ('o121', 'i'): 157,\n ('o13', 'm'): 2,\n ('o13', 'c'): 0,\n ('o13', 'i'): 0,\n ('o128', 'm'): 2,\n ('o128', 'c'): 0,\n ('o128', 'i'): 0,\n ('o90', 'm'): 0,\n ('o90', 'c'): 0,\n ('o90', 'i'): 37,\n ('o79', 'm'): 0,\n ('o79', 'c'): 110,\n ('o79', 'i'): 0,\n ('o161', 'm'): 0,\n ('o161', 'c'): 0,\n ('o161', 'i'): 37,\n ('o163', 'm'): 100,\n ('o163', 'c'): 0,\n ('o163', 'i'): 0,\n ('o130', 'm'): 0,\n ('o130', 'c'): 0,\n ('o130', 'i'): 7,\n ('o107', 'm'): 20,\n ('o107', 'c'): 0,\n ('o107', 'i'): 0,\n ('o42', 'm'): 20,\n ('o42', 'c'): 0,\n ('o42', 'i'): 0,\n ('o31', 'm'): 2,\n ('o31', 'c'): 0,\n ('o31', 'i'): 0,\n ('o19', 'm'): 2,\n ('o19', 'c'): 0,\n ('o19', 'i'): 0,\n ('o22', 'm'): 0,\n ('o22', 'c'): 110,\n ('o22', 'i'): 0,\n ('o187', 'm'): 2,\n ('o187', 'c'): 0,\n ('o187', 'i'): 0,\n ('o84', 'm'): 0,\n ('o84', 'c'): 31,\n ('o84', 'i'): 0,\n ('o132', 'm'): 2,\n ('o132', 'c'): 0,\n ('o132', 'i'): 0,\n ('o198', 'm'): 0,\n ('o198', 'c'): 0,\n ('o198', 'i'): 7,\n ('o49', 'm'): 0,\n ('o49', 'c'): 0,\n ('o49', 'i'): 157,\n ('o116', 'm'): 0,\n ('o116', 'c'): 31,\n ('o116', 'i'): 0,\n ('o124', 'm'): 0,\n ('o124', 'c'): 0,\n ('o124', 'i'): 157,\n ('o134', 'm'): 0,\n ('o134', 'c'): 0,\n ('o134', 'i'): 157,\n ('o82', 'm'): 0,\n ('o82', 'c'): 0,\n ('o82', 'i'): 37,\n ('o220', 'm'): 0,\n ('o220', 'c'): 0,\n ('o220', 'i'): 37,\n ('o207', 'm'): 0,\n ('o207', 'c'): 5,\n ('o207', 'i'): 0,\n ('o43', 'm'): 0,\n ('o43', 'c'): 110,\n ('o43', 'i'): 0,\n ('o192', 'm'): 0,\n ('o192', 'c'): 0,\n ('o192', 'i'): 7,\n ('o174', 'm'): 0,\n ('o174', 'c'): 0,\n ('o174', 'i'): 157,\n ('o78', 'm'): 0,\n ('o78', 'c'): 31,\n ('o78', 'i'): 0}"
     },
     "execution_count": 12,
     "metadata": {},
     "output_type": "execute_result"
    }
   ],
   "source": [
    "Demand"
   ]
  },
  {
   "cell_type": "code",
   "execution_count": 12,
   "outputs": [],
   "source": [],
   "metadata": {
    "collapsed": false,
    "ExecuteTime": {
     "end_time": "2023-07-05T02:06:25.687345500Z",
     "start_time": "2023-07-05T02:06:25.549339Z"
    }
   }
  },
  {
   "cell_type": "markdown",
   "metadata": {},
   "source": [
    "# Model Configuration 1\n",
    "## Table 3 (Row 1)"
   ]
  },
  {
   "cell_type": "code",
   "execution_count": 12,
   "outputs": [],
   "source": [],
   "metadata": {
    "collapsed": false,
    "ExecuteTime": {
     "end_time": "2023-07-05T02:06:25.690336800Z",
     "start_time": "2023-07-05T02:06:25.569174800Z"
    }
   }
  },
  {
   "cell_type": "raw",
   "source": [
    "import gurobipy as gp\n",
    "from gurobipy import GRB\n",
    "from datetime import datetime, date\n",
    "\n",
    "# Decision variable\n",
    "os_pair = {(o, s): custom_func.compute_distance(coordinates_spill[1][o], coordinates_st[1][s])\n",
    "           for o in OilSpills\n",
    "           for s in Stations\n",
    "           if\n",
    "           custom_func.compute_distance(tuple(coordinates_spill[1][o]), tuple(coordinates_st[1][s])) < DistanceMax}\n",
    "# coordinates_spill[1][o] [1] access 2nd element of tuple coordinate_spill\n",
    "os_pair = tuple(os_pair.keys())\n",
    "\n",
    "# sr_pair (based on unique statoins in pair_os )\n",
    "st_o = list(set([item[1] for item in os_pair]))  # .unique()\n",
    "sr_pair = []\n",
    "for s in st_o:\n",
    "    for r in ResourcesD:\n",
    "        sr_pair.append((s, r))\n",
    "sr_pair = tuple(sr_pair)\n",
    "\n",
    "o_s = list(set([item[0] for item in os_pair]))  # .unique()\n",
    "or_pair = []\n",
    "for o in o_s:\n",
    "    for r in ResourcesD:\n",
    "        or_pair.append((o, r))\n",
    "or_pair = tuple(or_pair)\n",
    "\n",
    "\"\"\"\n",
    "osr_pair = []\n",
    "for o in OilSpills:\n",
    "    for s in Stations:\n",
    "        if custom_func.compute_distance(tuple(coordinates_spill[1][o]), tuple(coordinates_st[1][s])) < DistanceMax:\n",
    "            for r in ResourcesD:\n",
    "                osr_pair.append([o, s, r])\n",
    "osr_pair = tuple(osr_pair)\n",
    "\"\"\"\n",
    "osr_pair = {(o, s, r): custom_func.compute_distance(coordinates_spill[1][o], coordinates_st[1][s])\n",
    "            for o in OilSpills\n",
    "            for s in Stations\n",
    "            for r in ResourcesD\n",
    "            if\n",
    "            custom_func.compute_distance(tuple(coordinates_spill[1][o]), tuple(coordinates_st[1][s])) < DistanceMax}\n",
    "# coordinates_spill[1][o] [1] access 2nd element of tuple coordinate_spill\n",
    "osr_pair = tuple(osr_pair.keys())\n",
    "\n",
    "print('--------------MIP-moo--------')\n",
    "model = gp.Model(\"MIP-moo\")\n",
    "# Decision variable\n",
    "cover = model.addVars(os_pair, vtype=GRB.BINARY, name='cover')  # OilSpills,  +++\n",
    "# percentage of each spill covered (then, this individual percentage can be summed.\n",
    "select = model.addVars(st_o, ResourcesD, vtype=GRB.BINARY, name='select')\n",
    "deploy = model.addVars(osr_pair, vtype=GRB.CONTINUOUS, lb=0, name='deploy')\n",
    "# Availability = 10000  # ++\n",
    "# Constraints\n",
    "C_open_facility = model.addConstrs((deploy[o, s, r] <= Availability[s, r] * select[s, r]\n",
    "                                    for o, s, r in osr_pair),\n",
    "                                   name='C_open_facility')\n",
    "C_max_facility = model.addConstr((gp.quicksum(select[s, r]\n",
    "                                              for s, r in sr_pair) == NumberStMax),\n",
    "                                 name='C_max_facility')  # +++\n",
    "C_deploy_demand = model.addConstrs((deploy[o, s, r] <= Demand[o, r]\n",
    "                                    for o, s, r in osr_pair),\n",
    "                                   name='C_deploy_demand')\n",
    "\"\"\"\n",
    "C_deploy_demand = model.addConstrs((gp.quicksum(deploy[o, s, r] for s in Stations)\n",
    "                                    <= Demand[o, r] for o in OilSpills for r in ResourcesD\n",
    "                                    if custom_func.compute_distance(tuple(coordinates_spill[1][o]), tuple(coordinates_st[1][s])) < DistanceMax),\n",
    "                                   name='C_deploy_demand')\n",
    "\n",
    "\n",
    "C_facility_to_each_spill = model.addConstrs((gp.quicksum(cover[o, s]  for s in Stations) == 1\n",
    "                                            for o in OilSpills\n",
    "                                            if custom_func.compute_distance(tuple(coordinates_spill[1][o]), tuple(coordinates_st[1][s])) < DistanceMax)\n",
    "                                            , name='C_facility_to_each_spill')\n",
    "\"\"\"\n",
    "C_facility_to_each_spill2 = model.addConstrs((cover.sum(o,'*')  == 1\n",
    "                                            for o in OilSpills)\n",
    "                                            , name='C_facility_to_each_spill')\n",
    "\n",
    "# %% Objective function\n",
    "model.ModelSense = GRB.MINIMIZE\n",
    "objective_1_re = gp.quicksum((SizeSpill_n[o] + Sensitivity_n[o] - Distance_n[o, s]) * cover[o, s]\n",
    "                             for o, s in os_pair) \\\n",
    "                 + gp.quicksum(Effectiveness_n[s, r] * deploy[o, s, r]\n",
    "                               for o, s, r in osr_pair)\n",
    "\n",
    "objective_2_cost = gp.quicksum(select[s, r] * Cf_s[s] for s, r in sr_pair)\n",
    "\n",
    "model.setObjectiveN(objective_1_re, index=0, priority=3, weight=-1, name='objective_re_1')  # weight=1\n",
    "# model.setObjectiveN(obj2_time, index=0, priority=2, weight=1, name='objective_1_time')  # weight=1\n",
    "model.setObjectiveN(objective_2_cost, index=1, priority=1, weight=1, name='objective_cost_2')\n",
    "\n",
    "model.optimize()"
   ],
   "metadata": {
    "collapsed": false
   }
  },
  {
   "cell_type": "code",
   "execution_count": 12,
   "outputs": [],
   "source": [],
   "metadata": {
    "collapsed": false,
    "ExecuteTime": {
     "end_time": "2023-07-05T02:06:25.692333300Z",
     "start_time": "2023-07-05T02:06:25.590327600Z"
    }
   }
  },
  {
   "cell_type": "code",
   "execution_count": 12,
   "outputs": [],
   "source": [],
   "metadata": {
    "collapsed": false,
    "ExecuteTime": {
     "end_time": "2023-07-05T02:06:25.694327100Z",
     "start_time": "2023-07-05T02:06:25.608281500Z"
    }
   }
  },
  {
   "cell_type": "code",
   "execution_count": 12,
   "outputs": [],
   "source": [],
   "metadata": {
    "collapsed": false,
    "ExecuteTime": {
     "end_time": "2023-07-05T02:06:25.698316200Z",
     "start_time": "2023-07-05T02:06:25.634476300Z"
    }
   }
  },
  {
   "cell_type": "code",
   "execution_count": 12,
   "outputs": [],
   "source": [],
   "metadata": {
    "collapsed": false,
    "pycharm": {
     "name": "#%% Model\n"
    },
    "ExecuteTime": {
     "end_time": "2023-07-05T02:06:25.701312100Z",
     "start_time": "2023-07-05T02:06:25.654429500Z"
    }
   }
  },
  {
   "cell_type": "code",
   "execution_count": 12,
   "outputs": [],
   "source": [],
   "metadata": {
    "collapsed": false,
    "ExecuteTime": {
     "end_time": "2023-07-05T02:06:26.017096400Z",
     "start_time": "2023-07-05T02:06:25.677368400Z"
    }
   }
  },
  {
   "cell_type": "code",
   "execution_count": 13,
   "metadata": {
    "ExecuteTime": {
     "end_time": "2023-07-05T02:06:36.346174700Z",
     "start_time": "2023-07-05T02:06:25.699315200Z"
    }
   },
   "outputs": [
    {
     "name": "stdout",
     "output_type": "stream",
     "text": [
      "--------------MIP-moo--------\n",
      "Set parameter Username\n",
      "Academic license - for non-commercial use only - expires 2023-12-04\n",
      "Set parameter PoolSolutions to value 1024\n",
      "Set parameter PoolGap to value 0.8\n",
      "Set parameter PoolSearchMode to value 2\n",
      "Set parameter LogFile to value \"Outputs/Logfiles/model_moo(Jul 04,2306).log\"\n",
      "Gurobi Optimizer version 10.0.2 build v10.0.2rc0 (win64)\n",
      "\n",
      "CPU model: Intel(R) Core(TM) i5-8265U CPU @ 1.60GHz, instruction set [SSE2|AVX|AVX2]\n",
      "Thread count: 4 physical cores, 8 logical processors, using up to 8 threads\n",
      "\n",
      "Optimize a model with 12101 rows, 8060 columns and 20060 nonzeros\n",
      "Model fingerprint: 0x49e6f633\n",
      "Variable types: 6000 continuous, 2060 integer (2060 binary)\n",
      "Coefficient statistics:\n",
      "  Matrix range     [1e+00, 2e+05]\n",
      "  Objective range  [1e-04, 8e+04]\n",
      "  Bounds range     [1e+00, 1e+00]\n",
      "  RHS range        [2e+00, 2e+02]\n",
      "Warning: PoolSearchMode != 0 is not supported for multi-objective optimization.\n",
      "         Reset PoolSearchMode to zero.\n",
      "\n",
      "---------------------------------------------------------------------------\n",
      "Multi-objectives: starting optimization with 2 objectives ... \n",
      "---------------------------------------------------------------------------\n",
      "\n",
      "Multi-objectives: applying initial presolve ...\n",
      "---------------------------------------------------------------------------\n",
      "\n",
      "Presolve removed 10000 rows and 4000 columns\n",
      "Presolve time: 0.11s\n",
      "Presolved: 2101 rows and 4060 columns\n",
      "---------------------------------------------------------------------------\n",
      "\n",
      "Multi-objectives: optimize objective 1 (objective_re_1) ...\n",
      "---------------------------------------------------------------------------\n",
      "\n",
      "Found heuristic solution: objective -190.1375610\n",
      "Presolve removed 2100 rows and 4008 columns\n",
      "Presolve time: 0.48s\n",
      "Presolved: 1 rows, 52 columns, 52 nonzeros\n",
      "Found heuristic solution: objective -6563.066430\n",
      "Variable types: 0 continuous, 52 integer (52 binary)\n",
      "Found heuristic solution: objective -6854.156320\n",
      "\n",
      "Root relaxation: cutoff, 0 iterations, 0.00 seconds (0.00 work units)\n",
      "\n",
      "Explored 1 nodes (0 simplex iterations) in 0.84 seconds (0.01 work units)\n",
      "Thread count was 8 (of 8 available processors)\n",
      "\n",
      "Solution count 2: -6854.16 -6563.07 \n",
      "No other solutions better than -6854.16\n",
      "\n",
      "Optimal solution found (tolerance 1.00e-04)\n",
      "Best objective -6.854156319773e+03, best bound -6.854156319773e+03, gap 0.0000%\n",
      "---------------------------------------------------------------------------\n",
      "\n",
      "Multi-objectives: optimize objective 2 (objective_cost_2) ...\n",
      "---------------------------------------------------------------------------\n",
      "\n",
      "\n",
      "Loaded user MIP start with objective 220000\n",
      "\n",
      "Presolve removed 2001 rows and 2174 columns\n",
      "Presolve time: 0.04s\n",
      "Presolved: 101 rows, 1886 columns, 3772 nonzeros\n",
      "Variable types: 0 continuous, 1886 integer (1886 binary)\n",
      "\n",
      "Root relaxation: cutoff, 103 iterations, 0.01 seconds (0.00 work units)\n",
      "\n",
      "    Nodes    |    Current Node    |     Objective Bounds      |     Work\n",
      " Expl Unexpl |  Obj  Depth IntInf | Incumbent    BestBd   Gap | It/Node Time\n",
      "\n",
      "     0     0     cutoff    0      220000.000 220000.000  0.00%     -    1s\n",
      "\n",
      "Explored 1 nodes (103 simplex iterations) in 1.13 seconds (0.02 work units)\n",
      "Thread count was 8 (of 8 available processors)\n",
      "\n",
      "Solution count 1: 220000 \n",
      "\n",
      "Optimal solution found (tolerance 1.00e-04)\n",
      "Best objective 2.200000000000e+05, best bound 2.200000000000e+05, gap 0.0000%\n",
      "\n",
      "---------------------------------------------------------------------------\n",
      "Multi-objectives: solved in 1.21 seconds (0.02 work units), solution count 2\n",
      "\n",
      "Problem has 2 objectives\n",
      "Gurobi found 2 solutions\n",
      "Solution 0 :  6854.16   220000.0 \n",
      "Solution 1 :  6563.07   240000.0 \n",
      "cover[o74,s14] 1.0  \n",
      "cover[o74,s16] 1.0  \n",
      "cover[o74,s17] 1.0  \n",
      "cover[o98,s13] 1.0  \n",
      "cover[o98,s15] 1.0  \n",
      "cover[o98,s16] 1.0  \n",
      "cover[o53,s8] 1.0  \n",
      "cover[o53,s10] 1.0  \n",
      "cover[o53,s11] 1.0  \n",
      "cover[o178,s1] 1.0  \n",
      "cover[o178,s2] 1.0  \n",
      "cover[o178,s3] 1.0  \n",
      "cover[o203,s18] 1.0  \n",
      "cover[o203,s19] 1.0  \n",
      "cover[o203,s20] 1.0  \n",
      "cover[o127,s13] 1.0  \n",
      "cover[o127,s14] 1.0  \n",
      "cover[o127,s16] 1.0  \n",
      "cover[o172,s2] 1.0  \n",
      "cover[o172,s3] 1.0  \n",
      "cover[o172,s4] 1.0  \n",
      "cover[o51,s12] 1.0  \n",
      "cover[o51,s13] 1.0  \n",
      "cover[o51,s15] 1.0  \n",
      "cover[o7,s18] 1.0  \n",
      "cover[o7,s19] 1.0  \n",
      "cover[o7,s20] 1.0  \n",
      "cover[o30,s1] 1.0  \n",
      "cover[o30,s2] 1.0  \n",
      "cover[o30,s5] 1.0  \n",
      "cover[o221,s1] 1.0  \n",
      "cover[o221,s2] 1.0  \n",
      "cover[o221,s5] 1.0  \n",
      "cover[o64,s8] 1.0  \n",
      "cover[o64,s10] 1.0  \n",
      "cover[o64,s11] 1.0  \n",
      "cover[o25,s1] 1.0  \n",
      "cover[o25,s2] 1.0  \n",
      "cover[o25,s5] 1.0  \n",
      "cover[o94,s18] 1.0  \n",
      "cover[o94,s19] 1.0  \n",
      "cover[o94,s20] 1.0  \n",
      "cover[o119,s9] 1.0  \n",
      "cover[o119,s12] 1.0  \n",
      "cover[o119,s13] 1.0  \n",
      "cover[o148,s3] 1.0  \n",
      "cover[o148,s4] 1.0  \n",
      "cover[o148,s6] 1.0  \n",
      "cover[o208,s3] 1.0  \n",
      "cover[o208,s4] 1.0  \n",
      "cover[o208,s5] 1.0  \n",
      "cover[o86,s18] 1.0  \n",
      "cover[o86,s19] 1.0  \n",
      "cover[o86,s20] 1.0  \n",
      "cover[o93,s18] 1.0  \n",
      "cover[o93,s19] 1.0  \n",
      "cover[o93,s20] 1.0  \n",
      "cover[o108,s9] 1.0  \n",
      "cover[o108,s12] 1.0  \n",
      "cover[o108,s13] 1.0  \n",
      "cover[o131,s9] 1.0  \n",
      "cover[o131,s10] 1.0  \n",
      "cover[o131,s11] 1.0  \n",
      "cover[o6,s18] 1.0  \n",
      "cover[o6,s19] 1.0  \n",
      "cover[o6,s20] 1.0  \n",
      "cover[o10,s15] 1.0  \n",
      "cover[o10,s18] 1.0  \n",
      "cover[o10,s20] 1.0  \n",
      "cover[o41,s2] 1.0  \n",
      "cover[o41,s3] 1.0  \n",
      "cover[o41,s4] 1.0  \n",
      "cover[o144,s3] 1.0  \n",
      "cover[o144,s4] 1.0  \n",
      "cover[o144,s6] 1.0  \n",
      "cover[o169,s1] 1.0  \n",
      "cover[o169,s2] 1.0  \n",
      "cover[o169,s3] 1.0  \n",
      "cover[o185,s1] 1.0  \n",
      "cover[o185,s2] 1.0  \n",
      "cover[o185,s3] 1.0  \n",
      "cover[o87,s18] 1.0  \n",
      "cover[o87,s19] 1.0  \n",
      "cover[o87,s20] 1.0  \n",
      "cover[o168,s2] 1.0  \n",
      "cover[o168,s3] 1.0  \n",
      "cover[o168,s4] 1.0  \n",
      "cover[o24,s1] 1.0  \n",
      "cover[o24,s2] 1.0  \n",
      "cover[o24,s3] 1.0  \n",
      "cover[o190,s8] 1.0  \n",
      "cover[o190,s10] 1.0  \n",
      "cover[o190,s11] 1.0  \n",
      "cover[o97,s13] 1.0  \n",
      "cover[o97,s15] 1.0  \n",
      "cover[o97,s16] 1.0  \n",
      "cover[o162,s2] 1.0  \n",
      "cover[o162,s3] 1.0  \n",
      "cover[o162,s4] 1.0  \n",
      "cover[o106,s13] 1.0  \n",
      "cover[o106,s15] 1.0  \n",
      "cover[o106,s16] 1.0  \n",
      "cover[o157,s2] 1.0  \n",
      "cover[o157,s3] 1.0  \n",
      "cover[o157,s4] 1.0  \n",
      "cover[o175,s1] 1.0  \n",
      "cover[o175,s2] 1.0  \n",
      "cover[o175,s3] 1.0  \n",
      "cover[o136,s9] 1.0  \n",
      "cover[o136,s10] 1.0  \n",
      "cover[o136,s11] 1.0  \n",
      "cover[o145,s3] 1.0  \n",
      "cover[o145,s6] 1.0  \n",
      "cover[o145,s7] 1.0  \n",
      "cover[o3,s8] 1.0  \n",
      "cover[o3,s10] 1.0  \n",
      "cover[o3,s11] 1.0  \n",
      "cover[o28,s1] 1.0  \n",
      "cover[o28,s2] 1.0  \n",
      "cover[o28,s5] 1.0  \n",
      "cover[o45,s10] 1.0  \n",
      "cover[o45,s11] 1.0  \n",
      "cover[o45,s14] 1.0  \n",
      "cover[o27,s1] 1.0  \n",
      "cover[o27,s2] 1.0  \n",
      "cover[o27,s5] 1.0  \n",
      "cover[o219,s1] 1.0  \n",
      "cover[o219,s2] 1.0  \n",
      "cover[o219,s5] 1.0  \n",
      "cover[o9,s13] 1.0  \n",
      "cover[o9,s15] 1.0  \n",
      "cover[o9,s16] 1.0  \n",
      "cover[o212,s3] 1.0  \n",
      "cover[o212,s4] 1.0  \n",
      "cover[o212,s5] 1.0  \n",
      "cover[o139,s6] 1.0  \n",
      "cover[o139,s7] 1.0  \n",
      "cover[o139,s9] 1.0  \n",
      "cover[o214,s3] 1.0  \n",
      "cover[o214,s4] 1.0  \n",
      "cover[o214,s5] 1.0  \n",
      "cover[o113,s9] 1.0  \n",
      "cover[o113,s12] 1.0  \n",
      "cover[o113,s13] 1.0  \n",
      "cover[o160,s2] 1.0  \n",
      "cover[o160,s3] 1.0  \n",
      "cover[o160,s4] 1.0  \n",
      "cover[o191,s8] 1.0  \n",
      "cover[o191,s10] 1.0  \n",
      "cover[o191,s11] 1.0  \n",
      "cover[o104,s12] 1.0  \n",
      "cover[o104,s13] 1.0  \n",
      "cover[o104,s15] 1.0  \n",
      "cover[o184,s1] 1.0  \n",
      "cover[o184,s2] 1.0  \n",
      "cover[o184,s3] 1.0  \n",
      "cover[o37,s1] 1.0  \n",
      "cover[o37,s2] 1.0  \n",
      "cover[o37,s3] 1.0  \n",
      "cover[o165,s2] 1.0  \n",
      "cover[o165,s3] 1.0  \n",
      "cover[o165,s4] 1.0  \n",
      "cover[o83,s18] 1.0  \n",
      "cover[o83,s19] 1.0  \n",
      "cover[o83,s20] 1.0  \n",
      "cover[o114,s9] 1.0  \n",
      "cover[o114,s12] 1.0  \n",
      "cover[o114,s13] 1.0  \n",
      "cover[o155,s2] 1.0  \n",
      "cover[o155,s3] 1.0  \n",
      "cover[o155,s4] 1.0  \n",
      "cover[o91,s18] 1.0  \n",
      "cover[o91,s19] 1.0  \n",
      "cover[o91,s20] 1.0  \n",
      "cover[o138,s6] 1.0  \n",
      "cover[o138,s7] 1.0  \n",
      "cover[o138,s9] 1.0  \n",
      "cover[o183,s1] 1.0  \n",
      "cover[o183,s2] 1.0  \n",
      "cover[o183,s5] 1.0  \n",
      "cover[o11,s12] 1.0  \n",
      "cover[o11,s13] 1.0  \n",
      "cover[o11,s15] 1.0  \n",
      "cover[o181,s1] 1.0  \n",
      "cover[o181,s2] 1.0  \n",
      "cover[o181,s3] 1.0  \n",
      "cover[o159,s2] 1.0  \n",
      "cover[o159,s3] 1.0  \n",
      "cover[o159,s4] 1.0  \n",
      "cover[o48,s12] 1.0  \n",
      "cover[o48,s13] 1.0  \n",
      "cover[o48,s14] 1.0  \n",
      "cover[o129,s13] 1.0  \n",
      "cover[o129,s14] 1.0  \n",
      "cover[o129,s16] 1.0  \n",
      "cover[o158,s2] 1.0  \n",
      "cover[o158,s3] 1.0  \n",
      "cover[o158,s4] 1.0  \n",
      "cover[o117,s9] 1.0  \n",
      "cover[o117,s12] 1.0  \n",
      "cover[o117,s13] 1.0  \n",
      "cover[o153,s3] 1.0  \n",
      "cover[o153,s4] 1.0  \n",
      "cover[o153,s6] 1.0  \n",
      "cover[o101,s12] 1.0  \n",
      "cover[o101,s13] 1.0  \n",
      "cover[o101,s14] 1.0  \n",
      "cover[o44,s16] 1.0  \n",
      "cover[o44,s17] 1.0  \n",
      "cover[o44,s19] 1.0  \n",
      "cover[o109,s13] 1.0  \n",
      "cover[o109,s15] 1.0  \n",
      "cover[o109,s18] 1.0  \n",
      "cover[o59,s8] 1.0  \n",
      "cover[o59,s10] 1.0  \n",
      "cover[o59,s11] 1.0  \n",
      "cover[o121,s9] 1.0  \n",
      "cover[o121,s12] 1.0  \n",
      "cover[o121,s13] 1.0  \n",
      "cover[o13,s9] 1.0  \n",
      "cover[o13,s10] 1.0  \n",
      "cover[o13,s11] 1.0  \n",
      "cover[o128,s13] 1.0  \n",
      "cover[o128,s14] 1.0  \n",
      "cover[o128,s16] 1.0  \n",
      "cover[o90,s18] 1.0  \n",
      "cover[o90,s19] 1.0  \n",
      "cover[o90,s20] 1.0  \n",
      "cover[o79,s16] 1.0  \n",
      "cover[o79,s17] 1.0  \n",
      "cover[o79,s19] 1.0  \n",
      "cover[o161,s2] 1.0  \n",
      "cover[o161,s3] 1.0  \n",
      "cover[o161,s4] 1.0  \n",
      "cover[o163,s2] 1.0  \n",
      "cover[o163,s3] 1.0  \n",
      "cover[o163,s4] 1.0  \n",
      "cover[o130,s9] 1.0  \n",
      "cover[o130,s10] 1.0  \n",
      "cover[o130,s12] 1.0  \n",
      "cover[o107,s12] 1.0  \n",
      "cover[o107,s13] 1.0  \n",
      "cover[o107,s14] 1.0  \n",
      "cover[o42,s1] 1.0  \n",
      "cover[o42,s2] 1.0  \n",
      "cover[o42,s3] 1.0  \n",
      "cover[o31,s1] 1.0  \n",
      "cover[o31,s2] 1.0  \n",
      "cover[o31,s5] 1.0  \n",
      "cover[o19,s3] 1.0  \n",
      "cover[o19,s6] 1.0  \n",
      "cover[o19,s7] 1.0  \n",
      "cover[o22,s1] 1.0  \n",
      "cover[o22,s2] 1.0  \n",
      "cover[o187,s1] 1.0  \n",
      "cover[o187,s2] 1.0  \n",
      "cover[o187,s5] 1.0  \n",
      "cover[o84,s16] 1.0  \n",
      "cover[o84,s17] 1.0  \n",
      "cover[o84,s19] 1.0  \n",
      "cover[o132,s9] 1.0  \n",
      "cover[o132,s10] 1.0  \n",
      "cover[o132,s11] 1.0  \n",
      "cover[o198,s1] 1.0  \n",
      "cover[o198,s2] 1.0  \n",
      "cover[o198,s3] 1.0  \n",
      "cover[o49,s13] 1.0  \n",
      "cover[o49,s15] 1.0  \n",
      "cover[o49,s16] 1.0  \n",
      "cover[o116,s9] 1.0  \n",
      "cover[o116,s12] 1.0  \n",
      "cover[o116,s13] 1.0  \n",
      "cover[o124,s9] 1.0  \n",
      "cover[o124,s12] 1.0  \n",
      "cover[o124,s13] 1.0  \n",
      "cover[o134,s9] 1.0  \n",
      "cover[o134,s10] 1.0  \n",
      "cover[o134,s11] 1.0  \n",
      "cover[o82,s18] 1.0  \n",
      "cover[o82,s19] 1.0  \n",
      "cover[o82,s20] 1.0  \n",
      "cover[o220,s1] 1.0  \n",
      "cover[o220,s2] 1.0  \n",
      "cover[o220,s5] 1.0  \n",
      "cover[o207,s3] 1.0  \n",
      "cover[o207,s4] 1.0  \n",
      "cover[o207,s5] 1.0  \n",
      "cover[o43,s2] 1.0  \n",
      "cover[o43,s3] 1.0  \n",
      "cover[o43,s4] 1.0  \n",
      "cover[o192,s1] 1.0  \n",
      "cover[o192,s2] 1.0  \n",
      "cover[o192,s5] 1.0  \n",
      "cover[o174,s2] 1.0  \n",
      "cover[o174,s3] 1.0  \n",
      "cover[o174,s4] 1.0  \n",
      "cover[o78,s14] 1.0  \n",
      "cover[o78,s16] 1.0  \n",
      "cover[o78,s17] 1.0  \n",
      "select[s3,c] 1.0  \n",
      "select[s6,i] 1.0  \n",
      "select[s12,c] 1.0  \n",
      "select[s7,i] 1.0  \n",
      "select[s10,i] 1.0  \n",
      "deploy[o53,s3,c] 110.0  \n",
      "deploy[o53,s12,c] 110.0  \n",
      "deploy[o178,s6,i] 157.0  \n",
      "deploy[o178,s7,i] 157.0  \n",
      "deploy[o178,s10,i] 157.0  \n",
      "deploy[o203,s6,i] 7.0  \n",
      "deploy[o203,s7,i] 7.0  \n",
      "deploy[o203,s10,i] 7.0  \n",
      "deploy[o127,s3,c] 4.999999999999999  \n",
      "deploy[o127,s12,c] 4.999999999999999  \n",
      "deploy[o172,s3,c] 4.999999999999999  \n",
      "deploy[o172,s12,c] 4.999999999999999  \n",
      "deploy[o51,s3,c] 30.999999999999996  \n",
      "deploy[o51,s12,c] 30.999999999999996  \n",
      "deploy[o64,s6,i] 37.0  \n",
      "deploy[o64,s7,i] 37.0  \n",
      "deploy[o64,s10,i] 37.0  \n",
      "deploy[o25,s3,c] 30.999999999999996  \n",
      "deploy[o25,s12,c] 30.999999999999996  \n",
      "deploy[o119,s3,c] 110.0  \n",
      "deploy[o119,s12,c] 110.0  \n",
      "deploy[o148,s3,c] 4.999999999999999  \n",
      "deploy[o148,s12,c] 4.999999999999999  \n",
      "deploy[o86,s3,c] 110.0  \n",
      "deploy[o86,s12,c] 110.0  \n",
      "deploy[o93,s3,c] 4.999999999999999  \n",
      "deploy[o93,s12,c] 4.999999999999999  \n",
      "deploy[o108,s3,c] 30.999999999999996  \n",
      "deploy[o108,s12,c] 30.999999999999996  \n",
      "deploy[o131,s6,i] 7.0  \n",
      "deploy[o131,s7,i] 7.0  \n",
      "deploy[o131,s10,i] 7.0  \n",
      "deploy[o6,s3,c] 110.0  \n",
      "deploy[o6,s12,c] 110.0  \n",
      "deploy[o10,s6,i] 157.0  \n",
      "deploy[o10,s7,i] 157.0  \n",
      "deploy[o10,s10,i] 157.0  \n",
      "deploy[o144,s3,c] 110.0  \n",
      "deploy[o144,s12,c] 110.0  \n",
      "deploy[o169,s3,c] 30.999999999999996  \n",
      "deploy[o169,s12,c] 30.999999999999996  \n",
      "deploy[o185,s6,i] 157.0  \n",
      "deploy[o185,s7,i] 157.0  \n",
      "deploy[o185,s10,i] 157.0  \n",
      "deploy[o87,s6,i] 157.0  \n",
      "deploy[o87,s7,i] 157.0  \n",
      "deploy[o87,s10,i] 157.0  \n",
      "deploy[o168,s3,c] 30.999999999999996  \n",
      "deploy[o168,s12,c] 30.999999999999996  \n",
      "deploy[o97,s3,c] 4.999999999999999  \n",
      "deploy[o97,s12,c] 4.999999999999999  \n",
      "deploy[o162,s3,c] 4.999999999999999  \n",
      "deploy[o162,s12,c] 4.999999999999999  \n",
      "deploy[o106,s3,c] 4.999999999999999  \n",
      "deploy[o106,s12,c] 4.999999999999999  \n",
      "deploy[o136,s3,c] 110.0  \n",
      "deploy[o136,s12,c] 110.0  \n",
      "deploy[o145,s3,c] 30.999999999999996  \n",
      "deploy[o145,s12,c] 30.999999999999996  \n",
      "deploy[o3,s6,i] 37.0  \n",
      "deploy[o3,s7,i] 37.0  \n",
      "deploy[o3,s10,i] 37.0  \n",
      "deploy[o219,s6,i] 7.0  \n",
      "deploy[o219,s7,i] 7.0  \n",
      "deploy[o219,s10,i] 7.0  \n",
      "deploy[o9,s6,i] 37.0  \n",
      "deploy[o9,s7,i] 37.0  \n",
      "deploy[o9,s10,i] 37.0  \n",
      "deploy[o212,s6,i] 7.0  \n",
      "deploy[o212,s7,i] 7.0  \n",
      "deploy[o212,s10,i] 7.0  \n",
      "deploy[o139,s3,c] 30.999999999999996  \n",
      "deploy[o139,s12,c] 30.999999999999996  \n",
      "deploy[o214,s6,i] 37.0  \n",
      "deploy[o214,s7,i] 37.0  \n",
      "deploy[o214,s10,i] 37.0  \n",
      "deploy[o160,s3,c] 30.999999999999996  \n",
      "deploy[o160,s12,c] 30.999999999999996  \n",
      "deploy[o191,s3,c] 30.999999999999996  \n",
      "deploy[o191,s12,c] 30.999999999999996  \n",
      "deploy[o184,s3,c] 30.999999999999996  \n",
      "deploy[o184,s12,c] 30.999999999999996  \n",
      "deploy[o165,s6,i] 7.0  \n",
      "deploy[o165,s7,i] 7.0  \n",
      "deploy[o165,s10,i] 7.0  \n",
      "deploy[o83,s3,c] 30.999999999999996  \n",
      "deploy[o83,s12,c] 30.999999999999996  \n",
      "deploy[o114,s3,c] 110.0  \n",
      "deploy[o114,s12,c] 110.0  \n",
      "deploy[o91,s3,c] 4.999999999999999  \n",
      "deploy[o91,s12,c] 4.999999999999999  \n",
      "deploy[o138,s6,i] 157.0  \n",
      "deploy[o138,s7,i] 157.0  \n",
      "deploy[o138,s10,i] 157.0  \n",
      "deploy[o183,s3,c] 4.999999999999999  \n",
      "deploy[o183,s12,c] 4.999999999999999  \n",
      "deploy[o11,s3,c] 110.0  \n",
      "deploy[o11,s12,c] 110.0  \n",
      "deploy[o181,s3,c] 110.0  \n",
      "deploy[o181,s12,c] 110.0  \n",
      "deploy[o159,s3,c] 30.999999999999996  \n",
      "deploy[o159,s12,c] 30.999999999999996  \n",
      "deploy[o158,s6,i] 157.0  \n",
      "deploy[o158,s7,i] 157.0  \n",
      "deploy[o158,s10,i] 157.0  \n",
      "deploy[o117,s3,c] 30.999999999999996  \n",
      "deploy[o117,s12,c] 30.999999999999996  \n",
      "deploy[o153,s3,c] 4.999999999999999  \n",
      "deploy[o153,s12,c] 4.999999999999999  \n",
      "deploy[o109,s6,i] 7.0  \n",
      "deploy[o109,s7,i] 7.0  \n",
      "deploy[o109,s10,i] 7.0  \n",
      "deploy[o59,s6,i] 7.0  \n",
      "deploy[o59,s7,i] 7.0  \n",
      "deploy[o59,s10,i] 7.0  \n",
      "deploy[o121,s6,i] 157.0  \n",
      "deploy[o121,s7,i] 157.0  \n",
      "deploy[o121,s10,i] 157.0  \n",
      "deploy[o90,s6,i] 37.0  \n",
      "deploy[o90,s7,i] 37.0  \n",
      "deploy[o90,s10,i] 37.0  \n",
      "deploy[o79,s3,c] 110.0  \n",
      "deploy[o79,s12,c] 110.0  \n",
      "deploy[o161,s6,i] 37.0  \n",
      "deploy[o161,s7,i] 37.0  \n",
      "deploy[o161,s10,i] 37.0  \n",
      "deploy[o130,s6,i] 7.0  \n",
      "deploy[o130,s7,i] 7.0  \n",
      "deploy[o130,s10,i] 7.0  \n",
      "deploy[o22,s3,c] 110.0  \n",
      "deploy[o22,s12,c] 110.0  \n",
      "deploy[o84,s3,c] 30.999999999999996  \n",
      "deploy[o84,s12,c] 30.999999999999996  \n",
      "deploy[o198,s6,i] 7.0  \n",
      "deploy[o198,s7,i] 7.0  \n",
      "deploy[o198,s10,i] 7.0  \n",
      "deploy[o49,s6,i] 157.0  \n",
      "deploy[o49,s7,i] 157.0  \n",
      "deploy[o49,s10,i] 157.0  \n",
      "deploy[o116,s3,c] 30.999999999999996  \n",
      "deploy[o116,s12,c] 30.999999999999996  \n",
      "deploy[o124,s6,i] 157.0  \n",
      "deploy[o124,s7,i] 157.0  \n",
      "deploy[o124,s10,i] 157.0  \n",
      "deploy[o134,s6,i] 157.0  \n",
      "deploy[o134,s7,i] 157.0  \n",
      "deploy[o134,s10,i] 157.0  \n",
      "deploy[o82,s6,i] 37.0  \n",
      "deploy[o82,s7,i] 37.0  \n",
      "deploy[o82,s10,i] 37.0  \n",
      "deploy[o220,s6,i] 37.0  \n",
      "deploy[o220,s7,i] 37.0  \n",
      "deploy[o220,s10,i] 37.0  \n",
      "deploy[o207,s3,c] 4.999999999999999  \n",
      "deploy[o207,s12,c] 4.999999999999999  \n",
      "deploy[o43,s3,c] 110.0  \n",
      "deploy[o43,s12,c] 110.0  \n",
      "deploy[o192,s6,i] 7.0  \n",
      "deploy[o192,s7,i] 7.0  \n",
      "deploy[o192,s10,i] 7.0  \n",
      "deploy[o174,s6,i] 157.0  \n",
      "deploy[o174,s7,i] 157.0  \n",
      "deploy[o174,s10,i] 157.0  \n",
      "deploy[o78,s3,c] 30.999999999999996  \n",
      "deploy[o78,s12,c] 30.999999999999996  \n",
      "\n",
      "    Variable            X \n",
      "-------------------------\n",
      "cover[o74,s14]            1 \n",
      "cover[o74,s16]            1 \n",
      "cover[o74,s17]            1 \n",
      "cover[o98,s13]            1 \n",
      "cover[o98,s15]            1 \n",
      "cover[o98,s16]            1 \n",
      "cover[o53,s8]            1 \n",
      "cover[o53,s10]            1 \n",
      "cover[o53,s11]            1 \n",
      "cover[o178,s1]            1 \n",
      "cover[o178,s2]            1 \n",
      "cover[o178,s3]            1 \n",
      "cover[o203,s18]            1 \n",
      "cover[o203,s19]            1 \n",
      "cover[o203,s20]            1 \n",
      "cover[o127,s13]            1 \n",
      "cover[o127,s14]            1 \n",
      "cover[o127,s16]            1 \n",
      "cover[o172,s2]            1 \n",
      "cover[o172,s3]            1 \n",
      "cover[o172,s4]            1 \n",
      "cover[o51,s12]            1 \n",
      "cover[o51,s13]            1 \n",
      "cover[o51,s15]            1 \n",
      "cover[o7,s18]            1 \n",
      "cover[o7,s19]            1 \n",
      "cover[o7,s20]            1 \n",
      "cover[o30,s1]            1 \n",
      "cover[o30,s2]            1 \n",
      "cover[o30,s5]            1 \n",
      "cover[o221,s1]            1 \n",
      "cover[o221,s2]            1 \n",
      "cover[o221,s5]            1 \n",
      "cover[o64,s8]            1 \n",
      "cover[o64,s10]            1 \n",
      "cover[o64,s11]            1 \n",
      "cover[o25,s1]            1 \n",
      "cover[o25,s2]            1 \n",
      "cover[o25,s5]            1 \n",
      "cover[o94,s18]            1 \n",
      "cover[o94,s19]            1 \n",
      "cover[o94,s20]            1 \n",
      "cover[o119,s9]            1 \n",
      "cover[o119,s12]            1 \n",
      "cover[o119,s13]            1 \n",
      "cover[o148,s3]            1 \n",
      "cover[o148,s4]            1 \n",
      "cover[o148,s6]            1 \n",
      "cover[o208,s3]            1 \n",
      "cover[o208,s4]            1 \n",
      "cover[o208,s5]            1 \n",
      "cover[o86,s18]            1 \n",
      "cover[o86,s19]            1 \n",
      "cover[o86,s20]            1 \n",
      "cover[o93,s18]            1 \n",
      "cover[o93,s19]            1 \n",
      "cover[o93,s20]            1 \n",
      "cover[o108,s9]            1 \n",
      "cover[o108,s12]            1 \n",
      "cover[o108,s13]            1 \n",
      "cover[o131,s9]            1 \n",
      "cover[o131,s10]            1 \n",
      "cover[o131,s11]            1 \n",
      "cover[o6,s18]            1 \n",
      "cover[o6,s19]            1 \n",
      "cover[o6,s20]            1 \n",
      "cover[o10,s15]            1 \n",
      "cover[o10,s18]            1 \n",
      "cover[o10,s20]            1 \n",
      "cover[o41,s2]            1 \n",
      "cover[o41,s3]            1 \n",
      "cover[o41,s4]            1 \n",
      "cover[o144,s3]            1 \n",
      "cover[o144,s4]            1 \n",
      "cover[o144,s6]            1 \n",
      "cover[o169,s1]            1 \n",
      "cover[o169,s2]            1 \n",
      "cover[o169,s3]            1 \n",
      "cover[o185,s1]            1 \n",
      "cover[o185,s2]            1 \n",
      "cover[o185,s3]            1 \n",
      "cover[o87,s18]            1 \n",
      "cover[o87,s19]            1 \n",
      "cover[o87,s20]            1 \n",
      "cover[o168,s2]            1 \n",
      "cover[o168,s3]            1 \n",
      "cover[o168,s4]            1 \n",
      "cover[o24,s1]            1 \n",
      "cover[o24,s2]            1 \n",
      "cover[o24,s3]            1 \n",
      "cover[o190,s8]            1 \n",
      "cover[o190,s10]            1 \n",
      "cover[o190,s11]            1 \n",
      "cover[o97,s13]            1 \n",
      "cover[o97,s15]            1 \n",
      "cover[o97,s16]            1 \n",
      "cover[o162,s2]            1 \n",
      "cover[o162,s3]            1 \n",
      "cover[o162,s4]            1 \n",
      "cover[o106,s13]            1 \n",
      "cover[o106,s15]            1 \n",
      "cover[o106,s16]            1 \n",
      "cover[o157,s2]            1 \n",
      "cover[o157,s3]            1 \n",
      "cover[o157,s4]            1 \n",
      "cover[o175,s1]            1 \n",
      "cover[o175,s2]            1 \n",
      "cover[o175,s3]            1 \n",
      "cover[o136,s9]            1 \n",
      "cover[o136,s10]            1 \n",
      "cover[o136,s11]            1 \n",
      "cover[o145,s3]            1 \n",
      "cover[o145,s6]            1 \n",
      "cover[o145,s7]            1 \n",
      "cover[o3,s8]            1 \n",
      "cover[o3,s10]            1 \n",
      "cover[o3,s11]            1 \n",
      "cover[o28,s1]            1 \n",
      "cover[o28,s2]            1 \n",
      "cover[o28,s5]            1 \n",
      "cover[o45,s10]            1 \n",
      "cover[o45,s11]            1 \n",
      "cover[o45,s14]            1 \n",
      "cover[o27,s1]            1 \n",
      "cover[o27,s2]            1 \n",
      "cover[o27,s5]            1 \n",
      "cover[o219,s1]            1 \n",
      "cover[o219,s2]            1 \n",
      "cover[o219,s5]            1 \n",
      "cover[o9,s13]            1 \n",
      "cover[o9,s15]            1 \n",
      "cover[o9,s16]            1 \n",
      "cover[o212,s3]            1 \n",
      "cover[o212,s4]            1 \n",
      "cover[o212,s5]            1 \n",
      "cover[o139,s6]            1 \n",
      "cover[o139,s7]            1 \n",
      "cover[o139,s9]            1 \n",
      "cover[o214,s3]            1 \n",
      "cover[o214,s4]            1 \n",
      "cover[o214,s5]            1 \n",
      "cover[o113,s9]            1 \n",
      "cover[o113,s12]            1 \n",
      "cover[o113,s13]            1 \n",
      "cover[o160,s2]            1 \n",
      "cover[o160,s3]            1 \n",
      "cover[o160,s4]            1 \n",
      "cover[o191,s8]            1 \n",
      "cover[o191,s10]            1 \n",
      "cover[o191,s11]            1 \n",
      "cover[o104,s12]            1 \n",
      "cover[o104,s13]            1 \n",
      "cover[o104,s15]            1 \n",
      "cover[o184,s1]            1 \n",
      "cover[o184,s2]            1 \n",
      "cover[o184,s3]            1 \n",
      "cover[o37,s1]            1 \n",
      "cover[o37,s2]            1 \n",
      "cover[o37,s3]            1 \n",
      "cover[o165,s2]            1 \n",
      "cover[o165,s3]            1 \n",
      "cover[o165,s4]            1 \n",
      "cover[o83,s18]            1 \n",
      "cover[o83,s19]            1 \n",
      "cover[o83,s20]            1 \n",
      "cover[o114,s9]            1 \n",
      "cover[o114,s12]            1 \n",
      "cover[o114,s13]            1 \n",
      "cover[o155,s2]            1 \n",
      "cover[o155,s3]            1 \n",
      "cover[o155,s4]            1 \n",
      "cover[o91,s18]            1 \n",
      "cover[o91,s19]            1 \n",
      "cover[o91,s20]            1 \n",
      "cover[o138,s6]            1 \n",
      "cover[o138,s7]            1 \n",
      "cover[o138,s9]            1 \n",
      "cover[o183,s1]            1 \n",
      "cover[o183,s2]            1 \n",
      "cover[o183,s5]            1 \n",
      "cover[o11,s12]            1 \n",
      "cover[o11,s13]            1 \n",
      "cover[o11,s15]            1 \n",
      "cover[o181,s1]            1 \n",
      "cover[o181,s2]            1 \n",
      "cover[o181,s3]            1 \n",
      "cover[o159,s2]            1 \n",
      "cover[o159,s3]            1 \n",
      "cover[o159,s4]            1 \n",
      "cover[o48,s12]            1 \n",
      "cover[o48,s13]            1 \n",
      "cover[o48,s14]            1 \n",
      "cover[o129,s13]            1 \n",
      "cover[o129,s14]            1 \n",
      "cover[o129,s16]            1 \n",
      "cover[o158,s2]            1 \n",
      "cover[o158,s3]            1 \n",
      "cover[o158,s4]            1 \n",
      "cover[o117,s9]            1 \n",
      "cover[o117,s12]            1 \n",
      "cover[o117,s13]            1 \n",
      "cover[o153,s3]            1 \n",
      "cover[o153,s4]            1 \n",
      "cover[o153,s6]            1 \n",
      "cover[o101,s12]            1 \n",
      "cover[o101,s13]            1 \n",
      "cover[o101,s14]            1 \n",
      "cover[o44,s16]            1 \n",
      "cover[o44,s17]            1 \n",
      "cover[o44,s19]            1 \n",
      "cover[o109,s13]            1 \n",
      "cover[o109,s15]            1 \n",
      "cover[o109,s18]            1 \n",
      "cover[o59,s8]            1 \n",
      "cover[o59,s10]            1 \n",
      "cover[o59,s11]            1 \n",
      "cover[o121,s9]            1 \n",
      "cover[o121,s12]            1 \n",
      "cover[o121,s13]            1 \n",
      "cover[o13,s9]            1 \n",
      "cover[o13,s10]            1 \n",
      "cover[o13,s11]            1 \n",
      "cover[o128,s13]            1 \n",
      "cover[o128,s14]            1 \n",
      "cover[o128,s16]            1 \n",
      "cover[o90,s18]            1 \n",
      "cover[o90,s19]            1 \n",
      "cover[o90,s20]            1 \n",
      "cover[o79,s16]            1 \n",
      "cover[o79,s17]            1 \n",
      "cover[o79,s19]            1 \n",
      "cover[o161,s2]            1 \n",
      "cover[o161,s3]            1 \n",
      "cover[o161,s4]            1 \n",
      "cover[o163,s2]            1 \n",
      "cover[o163,s3]            1 \n",
      "cover[o163,s4]            1 \n",
      "cover[o130,s9]            1 \n",
      "cover[o130,s10]            1 \n",
      "cover[o130,s12]            1 \n",
      "cover[o107,s12]            1 \n",
      "cover[o107,s13]            1 \n",
      "cover[o107,s14]            1 \n",
      "cover[o42,s1]            1 \n",
      "cover[o42,s2]            1 \n",
      "cover[o42,s3]            1 \n",
      "cover[o31,s1]            1 \n",
      "cover[o31,s2]            1 \n",
      "cover[o31,s5]            1 \n",
      "cover[o19,s3]            1 \n",
      "cover[o19,s6]            1 \n",
      "cover[o19,s7]            1 \n",
      "cover[o22,s1]            1 \n",
      "cover[o22,s2]            1 \n",
      "cover[o187,s1]            1 \n",
      "cover[o187,s2]            1 \n",
      "cover[o187,s5]            1 \n",
      "cover[o84,s16]            1 \n",
      "cover[o84,s17]            1 \n",
      "cover[o84,s19]            1 \n",
      "cover[o132,s9]            1 \n",
      "cover[o132,s10]            1 \n",
      "cover[o132,s11]            1 \n",
      "cover[o198,s1]            1 \n",
      "cover[o198,s2]            1 \n",
      "cover[o198,s3]            1 \n",
      "cover[o49,s13]            1 \n",
      "cover[o49,s15]            1 \n",
      "cover[o49,s16]            1 \n",
      "cover[o116,s9]            1 \n",
      "cover[o116,s12]            1 \n",
      "cover[o116,s13]            1 \n",
      "cover[o124,s9]            1 \n",
      "cover[o124,s12]            1 \n",
      "cover[o124,s13]            1 \n",
      "cover[o134,s9]            1 \n",
      "cover[o134,s10]            1 \n",
      "cover[o134,s11]            1 \n",
      "cover[o82,s18]            1 \n",
      "cover[o82,s19]            1 \n",
      "cover[o82,s20]            1 \n",
      "cover[o220,s1]            1 \n",
      "cover[o220,s2]            1 \n",
      "cover[o220,s5]            1 \n",
      "cover[o207,s3]            1 \n",
      "cover[o207,s4]            1 \n",
      "cover[o207,s5]            1 \n",
      "cover[o43,s2]            1 \n",
      "cover[o43,s3]            1 \n",
      "cover[o43,s4]            1 \n",
      "cover[o192,s1]            1 \n",
      "cover[o192,s2]            1 \n",
      "cover[o192,s5]            1 \n",
      "cover[o174,s2]            1 \n",
      "cover[o174,s3]            1 \n",
      "cover[o174,s4]            1 \n",
      "cover[o78,s14]            1 \n",
      "cover[o78,s16]            1 \n",
      "cover[o78,s17]            1 \n",
      "select[s2,i]            1 \n",
      "select[s14,c]            1 \n",
      "select[s3,c]            1 \n",
      "select[s6,i]            1 \n",
      "select[s7,i]            1 \n",
      "deploy[o53,s3,c]          110 \n",
      "deploy[o53,s14,c]          110 \n",
      "deploy[o178,s2,i]          157 \n",
      "deploy[o178,s6,i]          157 \n",
      "deploy[o178,s7,i]          157 \n",
      "deploy[o203,s2,i]            7 \n",
      "deploy[o203,s6,i]            7 \n",
      "deploy[o203,s7,i]            7 \n",
      "deploy[o127,s3,c]            5 \n",
      "deploy[o127,s14,c]            5 \n",
      "deploy[o172,s3,c]            5 \n",
      "deploy[o172,s14,c]            5 \n",
      "deploy[o51,s3,c]           31 \n",
      "deploy[o51,s14,c]           31 \n",
      "deploy[o64,s2,i]           37 \n",
      "deploy[o64,s6,i]           37 \n",
      "deploy[o64,s7,i]           37 \n",
      "deploy[o25,s3,c]           31 \n",
      "deploy[o25,s14,c]           31 \n",
      "deploy[o119,s3,c]          110 \n",
      "deploy[o119,s14,c]          110 \n",
      "deploy[o148,s3,c]            5 \n",
      "deploy[o148,s14,c]            5 \n",
      "deploy[o86,s3,c]          110 \n",
      "deploy[o86,s14,c]          110 \n",
      "deploy[o93,s3,c]            5 \n",
      "deploy[o93,s14,c]            5 \n",
      "deploy[o108,s3,c]           31 \n",
      "deploy[o108,s14,c]           31 \n",
      "deploy[o131,s2,i]            7 \n",
      "deploy[o131,s6,i]            7 \n",
      "deploy[o131,s7,i]            7 \n",
      "deploy[o6,s3,c]          110 \n",
      "deploy[o6,s14,c]          110 \n",
      "deploy[o10,s2,i]          157 \n",
      "deploy[o10,s6,i]          157 \n",
      "deploy[o10,s7,i]          157 \n",
      "deploy[o144,s3,c]          110 \n",
      "deploy[o144,s14,c]          110 \n",
      "deploy[o169,s3,c]           31 \n",
      "deploy[o169,s14,c]           31 \n",
      "deploy[o185,s2,i]          157 \n",
      "deploy[o185,s6,i]          157 \n",
      "deploy[o185,s7,i]          157 \n",
      "deploy[o87,s2,i]          157 \n",
      "deploy[o87,s6,i]          157 \n",
      "deploy[o87,s7,i]          157 \n",
      "deploy[o168,s3,c]           31 \n",
      "deploy[o168,s14,c]           31 \n",
      "deploy[o97,s3,c]            5 \n",
      "deploy[o97,s14,c]            5 \n",
      "deploy[o162,s3,c]            5 \n",
      "deploy[o162,s14,c]            5 \n",
      "deploy[o106,s3,c]            5 \n",
      "deploy[o106,s14,c]            5 \n",
      "deploy[o136,s3,c]          110 \n",
      "deploy[o136,s14,c]          110 \n",
      "deploy[o145,s3,c]           31 \n",
      "deploy[o145,s14,c]           31 \n",
      "deploy[o3,s2,i]           37 \n",
      "deploy[o3,s6,i]           37 \n",
      "deploy[o3,s7,i]           37 \n",
      "deploy[o219,s2,i]            7 \n",
      "deploy[o219,s6,i]            7 \n",
      "deploy[o219,s7,i]            7 \n",
      "deploy[o9,s2,i]           37 \n",
      "deploy[o9,s6,i]           37 \n",
      "deploy[o9,s7,i]           37 \n",
      "deploy[o212,s2,i]            7 \n",
      "deploy[o212,s6,i]            7 \n",
      "deploy[o212,s7,i]            7 \n",
      "deploy[o139,s3,c]           31 \n",
      "deploy[o139,s14,c]           31 \n",
      "deploy[o214,s2,i]           37 \n",
      "deploy[o214,s6,i]           37 \n",
      "deploy[o214,s7,i]           37 \n",
      "deploy[o160,s3,c]           31 \n",
      "deploy[o160,s14,c]           31 \n",
      "deploy[o191,s3,c]           31 \n",
      "deploy[o191,s14,c]           31 \n",
      "deploy[o184,s3,c]           31 \n",
      "deploy[o184,s14,c]           31 \n",
      "deploy[o165,s2,i]            7 \n",
      "deploy[o165,s6,i]            7 \n",
      "deploy[o165,s7,i]            7 \n",
      "deploy[o83,s3,c]           31 \n",
      "deploy[o83,s14,c]           31 \n",
      "deploy[o114,s3,c]          110 \n",
      "deploy[o114,s14,c]          110 \n",
      "deploy[o91,s3,c]            5 \n",
      "deploy[o91,s14,c]            5 \n",
      "deploy[o138,s2,i]          157 \n",
      "deploy[o138,s6,i]          157 \n",
      "deploy[o138,s7,i]          157 \n",
      "deploy[o183,s3,c]            5 \n",
      "deploy[o183,s14,c]            5 \n",
      "deploy[o11,s3,c]          110 \n",
      "deploy[o11,s14,c]          110 \n",
      "deploy[o181,s3,c]          110 \n",
      "deploy[o181,s14,c]          110 \n",
      "deploy[o159,s3,c]           31 \n",
      "deploy[o159,s14,c]           31 \n",
      "deploy[o158,s2,i]          157 \n",
      "deploy[o158,s6,i]          157 \n",
      "deploy[o158,s7,i]          157 \n",
      "deploy[o117,s3,c]           31 \n",
      "deploy[o117,s14,c]           31 \n",
      "deploy[o153,s3,c]            5 \n",
      "deploy[o153,s14,c]            5 \n",
      "deploy[o109,s2,i]            7 \n",
      "deploy[o109,s6,i]            7 \n",
      "deploy[o109,s7,i]            7 \n",
      "deploy[o59,s2,i]            7 \n",
      "deploy[o59,s6,i]            7 \n",
      "deploy[o59,s7,i]            7 \n",
      "deploy[o121,s2,i]          157 \n",
      "deploy[o121,s6,i]          157 \n",
      "deploy[o121,s7,i]          157 \n",
      "deploy[o90,s2,i]           37 \n",
      "deploy[o90,s6,i]           37 \n",
      "deploy[o90,s7,i]           37 \n",
      "deploy[o79,s3,c]          110 \n",
      "deploy[o79,s14,c]          110 \n",
      "deploy[o161,s2,i]           37 \n",
      "deploy[o161,s6,i]           37 \n",
      "deploy[o161,s7,i]           37 \n",
      "deploy[o130,s2,i]            7 \n",
      "deploy[o130,s6,i]            7 \n",
      "deploy[o130,s7,i]            7 \n",
      "deploy[o22,s3,c]          110 \n",
      "deploy[o22,s14,c]          110 \n",
      "deploy[o84,s3,c]           31 \n",
      "deploy[o84,s14,c]           31 \n",
      "deploy[o198,s2,i]            7 \n",
      "deploy[o198,s6,i]            7 \n",
      "deploy[o198,s7,i]            7 \n",
      "deploy[o49,s2,i]          157 \n",
      "deploy[o49,s6,i]          157 \n",
      "deploy[o49,s7,i]          157 \n",
      "deploy[o116,s3,c]           31 \n",
      "deploy[o116,s14,c]           31 \n",
      "deploy[o124,s2,i]          157 \n",
      "deploy[o124,s6,i]          157 \n",
      "deploy[o124,s7,i]          157 \n",
      "deploy[o134,s2,i]          157 \n",
      "deploy[o134,s6,i]          157 \n",
      "deploy[o134,s7,i]          157 \n",
      "deploy[o82,s2,i]           37 \n",
      "deploy[o82,s6,i]           37 \n",
      "deploy[o82,s7,i]           37 \n",
      "deploy[o220,s2,i]           37 \n",
      "deploy[o220,s6,i]           37 \n",
      "deploy[o220,s7,i]           37 \n",
      "deploy[o207,s3,c]            5 \n",
      "deploy[o207,s14,c]            5 \n",
      "deploy[o43,s3,c]          110 \n",
      "deploy[o43,s14,c]          110 \n",
      "deploy[o192,s2,i]            7 \n",
      "deploy[o192,s6,i]            7 \n",
      "deploy[o192,s7,i]            7 \n",
      "deploy[o174,s2,i]          157 \n",
      "deploy[o174,s6,i]          157 \n",
      "deploy[o174,s7,i]          157 \n",
      "deploy[o78,s3,c]           31 \n",
      "deploy[o78,s14,c]           31 \n",
      "\n",
      "select_1s\n",
      " s2   i    1.0\n",
      "s14  c    1.0\n",
      "s3   c    1.0\n",
      "s6   i    1.0\n",
      "s7   i    1.0\n",
      "dtype: float64\n",
      "\n",
      "deploy_1s\n",
      " o53   s3   c    110.0\n",
      "      s14  c    110.0\n",
      "o178  s2   i    157.0\n",
      "      s6   i    157.0\n",
      "      s7   i    157.0\n",
      "                ...  \n",
      "o174  s2   i    157.0\n",
      "      s6   i    157.0\n",
      "      s7   i    157.0\n",
      "o78   s3   c     31.0\n",
      "      s14  c     31.0\n",
      "Length: 165, dtype: float64\n",
      "\n",
      "cover_1s\n",
      " o74   s14    1.0\n",
      "      s16    1.0\n",
      "      s17    1.0\n",
      "o98   s13    1.0\n",
      "      s15    1.0\n",
      "            ... \n",
      "o174  s3     1.0\n",
      "      s4     1.0\n",
      "o78   s14    1.0\n",
      "      s16    1.0\n",
      "      s17    1.0\n",
      "Length: 299, dtype: float64\n",
      "assignment_name     Spill # Station no. Resource type  Assignments\n",
      "0       o53          s3             c        110.0\n",
      "1       o53         s14             c        110.0\n",
      "2      o178          s2             i        157.0\n",
      "3      o178          s6             i        157.0\n",
      "4      o178          s7             i        157.0\n",
      "..      ...         ...           ...          ...\n",
      "160    o174          s2             i        157.0\n",
      "161    o174          s6             i        157.0\n",
      "162    o174          s7             i        157.0\n",
      "163     o78          s3             c         31.0\n",
      "164     o78         s14             c         31.0\n",
      "\n",
      "[165 rows x 4 columns]\n",
      "Coverage Percentage: 29900%\n",
      "Mean Response Time: 0\n"
     ]
    }
   ],
   "source": [
    "model, select, deploy, mvars, names, values, \\\n",
    "        spill_df, station_df, select_1s, deploy_1s, ResponseTimeT, coverage_percentage, assignment  \\\n",
    "    = model.solve(Stations, OilSpills, ResourcesD, coordinates_st, coordinates_spill, SizeSpill, SizeSpill_n, \\\n",
    "          Demand, Sensitivity_R, Sensitivity_n, Eff, Effectiveness_n, Availability, NumberStMax, Distance, Distance_n, DistanceMax,  Cf_s, Cu_sor)"
   ]
  },
  {
   "cell_type": "code",
   "execution_count": 14,
   "metadata": {
    "ExecuteTime": {
     "end_time": "2023-07-05T02:06:36.453805Z",
     "start_time": "2023-07-05T02:06:36.349168500Z"
    }
   },
   "outputs": [
    {
     "data": {
      "text/plain": "    Spill # Station no.  St_Latitude  St_Longitude  Spill_Latitude  \\\n0       o53          s3    67.089996   -112.320000       58.851135   \n1       o53         s14    64.202003    -83.910004       58.851135   \n2      o127          s3    67.089996   -112.320000       69.348618   \n3      o127         s14    64.202003    -83.910004       69.348618   \n4      o172          s3    67.089996   -112.320000       71.655670   \n..      ...         ...          ...           ...             ...   \n160    o192          s6    68.860001   -103.190002       68.705536   \n161    o192          s7    63.930000   -101.139999       68.705536   \n162    o174          s2    70.639999   -119.430000       72.045486   \n163    o174          s6    68.860001   -103.190002       72.045486   \n164    o174          s7    63.930000   -101.139999       72.045486   \n\n     Spill_Longitude Resource Type  Quantity deployed   Distance  \n0         -94.206932             c              110.0  19.898795  \n1         -94.206932             c              110.0  11.604246  \n2         -81.734749             c                5.0  30.668533  \n3         -81.734749             c                5.0   5.587430  \n4        -119.648705             c                5.0   8.634541  \n..               ...           ...                ...        ...  \n160      -134.233826             i                7.0  31.044208  \n161      -134.233826             i                7.0  33.436613  \n162      -119.409912             i              157.0   1.405631  \n163      -119.409912             i              157.0  16.529755  \n164      -119.409912             i              157.0  19.991269  \n\n[165 rows x 9 columns]",
      "text/html": "<div>\n<style scoped>\n    .dataframe tbody tr th:only-of-type {\n        vertical-align: middle;\n    }\n\n    .dataframe tbody tr th {\n        vertical-align: top;\n    }\n\n    .dataframe thead th {\n        text-align: right;\n    }\n</style>\n<table border=\"1\" class=\"dataframe\">\n  <thead>\n    <tr style=\"text-align: right;\">\n      <th></th>\n      <th>Spill #</th>\n      <th>Station no.</th>\n      <th>St_Latitude</th>\n      <th>St_Longitude</th>\n      <th>Spill_Latitude</th>\n      <th>Spill_Longitude</th>\n      <th>Resource Type</th>\n      <th>Quantity deployed</th>\n      <th>Distance</th>\n    </tr>\n  </thead>\n  <tbody>\n    <tr>\n      <th>0</th>\n      <td>o53</td>\n      <td>s3</td>\n      <td>67.089996</td>\n      <td>-112.320000</td>\n      <td>58.851135</td>\n      <td>-94.206932</td>\n      <td>c</td>\n      <td>110.0</td>\n      <td>19.898795</td>\n    </tr>\n    <tr>\n      <th>1</th>\n      <td>o53</td>\n      <td>s14</td>\n      <td>64.202003</td>\n      <td>-83.910004</td>\n      <td>58.851135</td>\n      <td>-94.206932</td>\n      <td>c</td>\n      <td>110.0</td>\n      <td>11.604246</td>\n    </tr>\n    <tr>\n      <th>2</th>\n      <td>o127</td>\n      <td>s3</td>\n      <td>67.089996</td>\n      <td>-112.320000</td>\n      <td>69.348618</td>\n      <td>-81.734749</td>\n      <td>c</td>\n      <td>5.0</td>\n      <td>30.668533</td>\n    </tr>\n    <tr>\n      <th>3</th>\n      <td>o127</td>\n      <td>s14</td>\n      <td>64.202003</td>\n      <td>-83.910004</td>\n      <td>69.348618</td>\n      <td>-81.734749</td>\n      <td>c</td>\n      <td>5.0</td>\n      <td>5.587430</td>\n    </tr>\n    <tr>\n      <th>4</th>\n      <td>o172</td>\n      <td>s3</td>\n      <td>67.089996</td>\n      <td>-112.320000</td>\n      <td>71.655670</td>\n      <td>-119.648705</td>\n      <td>c</td>\n      <td>5.0</td>\n      <td>8.634541</td>\n    </tr>\n    <tr>\n      <th>...</th>\n      <td>...</td>\n      <td>...</td>\n      <td>...</td>\n      <td>...</td>\n      <td>...</td>\n      <td>...</td>\n      <td>...</td>\n      <td>...</td>\n      <td>...</td>\n    </tr>\n    <tr>\n      <th>160</th>\n      <td>o192</td>\n      <td>s6</td>\n      <td>68.860001</td>\n      <td>-103.190002</td>\n      <td>68.705536</td>\n      <td>-134.233826</td>\n      <td>i</td>\n      <td>7.0</td>\n      <td>31.044208</td>\n    </tr>\n    <tr>\n      <th>161</th>\n      <td>o192</td>\n      <td>s7</td>\n      <td>63.930000</td>\n      <td>-101.139999</td>\n      <td>68.705536</td>\n      <td>-134.233826</td>\n      <td>i</td>\n      <td>7.0</td>\n      <td>33.436613</td>\n    </tr>\n    <tr>\n      <th>162</th>\n      <td>o174</td>\n      <td>s2</td>\n      <td>70.639999</td>\n      <td>-119.430000</td>\n      <td>72.045486</td>\n      <td>-119.409912</td>\n      <td>i</td>\n      <td>157.0</td>\n      <td>1.405631</td>\n    </tr>\n    <tr>\n      <th>163</th>\n      <td>o174</td>\n      <td>s6</td>\n      <td>68.860001</td>\n      <td>-103.190002</td>\n      <td>72.045486</td>\n      <td>-119.409912</td>\n      <td>i</td>\n      <td>157.0</td>\n      <td>16.529755</td>\n    </tr>\n    <tr>\n      <th>164</th>\n      <td>o174</td>\n      <td>s7</td>\n      <td>63.930000</td>\n      <td>-101.139999</td>\n      <td>72.045486</td>\n      <td>-119.409912</td>\n      <td>i</td>\n      <td>157.0</td>\n      <td>19.991269</td>\n    </tr>\n  </tbody>\n</table>\n<p>165 rows × 9 columns</p>\n</div>"
     },
     "execution_count": 14,
     "metadata": {},
     "output_type": "execute_result"
    }
   ],
   "source": [
    "assignment"
   ]
  },
  {
   "cell_type": "code",
   "execution_count": 15,
   "metadata": {
    "ExecuteTime": {
     "end_time": "2023-07-05T02:06:36.453805Z",
     "start_time": "2023-07-05T02:06:36.375193800Z"
    }
   },
   "outputs": [],
   "source": [
    "#display(assignment.loc[assignment['Spill #'] == 'o47'])\n",
    "#display(min(assignment.loc[assignment['Spill #'] == 'o47']['Distance']))"
   ]
  },
  {
   "cell_type": "code",
   "execution_count": 16,
   "outputs": [
    {
     "name": "stdout",
     "output_type": "stream",
     "text": [
      "[]\n"
     ]
    },
    {
     "data": {
      "text/plain": "Index(['Spill #', 'Station no.', 'St_Latitude', 'St_Longitude',\n       'Spill_Latitude', 'Spill_Longitude', 'Resource Type',\n       'Quantity deployed', 'Distance'],\n      dtype='object')"
     },
     "execution_count": 16,
     "metadata": {},
     "output_type": "execute_result"
    }
   ],
   "source": [
    "import numpy as np\n",
    "print(np.where(assignment['Distance'] == 2.651846197637919)[0])\n",
    "\n",
    "# call a df based on index\n",
    "assignment.iloc[np.where(assignment['Distance'] == 2.651846197637919)[0]]\n",
    "assignment.columns"
   ],
   "metadata": {
    "collapsed": false,
    "ExecuteTime": {
     "end_time": "2023-07-05T02:06:36.453805Z",
     "start_time": "2023-07-05T02:06:36.390790500Z"
    }
   }
  },
  {
   "cell_type": "code",
   "execution_count": 17,
   "outputs": [
    {
     "data": {
      "text/plain": "    Spill # Station no.  St_Latitude  St_Longitude  Spill_Latitude  \\\n1       o53         s14    64.202003    -83.910004       58.851135   \n3      o127         s14    64.202003    -83.910004       69.348618   \n4      o172          s3    67.089996   -112.320000       71.655670   \n7       o51         s14    64.202003    -83.910004       73.861763   \n8       o25          s3    67.089996   -112.320000       69.626266   \n..      ...         ...          ...           ...             ...   \n152    o134          s7    63.930000   -101.139999       69.403145   \n155     o82          s7    63.930000   -101.139999       62.762131   \n156    o220          s2    70.639999   -119.430000       69.243050   \n159    o192          s2    70.639999   -119.430000       68.705536   \n162    o174          s2    70.639999   -119.430000       72.045486   \n\n     Spill_Longitude Resource Type  Quantity deployed   Distance  \n1         -94.206932             c              110.0  11.604246  \n3         -81.734749             c                5.0   5.587430  \n4        -119.648705             c                5.0   8.634541  \n7         -82.001617             c               31.0   9.846466  \n8        -138.875046             c               31.0  26.675891  \n..               ...           ...                ...        ...  \n152       -94.051872             i              157.0   8.955270  \n155       -69.962250             i               37.0  31.199615  \n156      -137.326294             i               37.0  17.950732  \n159      -134.233826             i                7.0  14.929682  \n162      -119.409912             i              157.0   1.405631  \n\n[68 rows x 9 columns]",
      "text/html": "<div>\n<style scoped>\n    .dataframe tbody tr th:only-of-type {\n        vertical-align: middle;\n    }\n\n    .dataframe tbody tr th {\n        vertical-align: top;\n    }\n\n    .dataframe thead th {\n        text-align: right;\n    }\n</style>\n<table border=\"1\" class=\"dataframe\">\n  <thead>\n    <tr style=\"text-align: right;\">\n      <th></th>\n      <th>Spill #</th>\n      <th>Station no.</th>\n      <th>St_Latitude</th>\n      <th>St_Longitude</th>\n      <th>Spill_Latitude</th>\n      <th>Spill_Longitude</th>\n      <th>Resource Type</th>\n      <th>Quantity deployed</th>\n      <th>Distance</th>\n    </tr>\n  </thead>\n  <tbody>\n    <tr>\n      <th>1</th>\n      <td>o53</td>\n      <td>s14</td>\n      <td>64.202003</td>\n      <td>-83.910004</td>\n      <td>58.851135</td>\n      <td>-94.206932</td>\n      <td>c</td>\n      <td>110.0</td>\n      <td>11.604246</td>\n    </tr>\n    <tr>\n      <th>3</th>\n      <td>o127</td>\n      <td>s14</td>\n      <td>64.202003</td>\n      <td>-83.910004</td>\n      <td>69.348618</td>\n      <td>-81.734749</td>\n      <td>c</td>\n      <td>5.0</td>\n      <td>5.587430</td>\n    </tr>\n    <tr>\n      <th>4</th>\n      <td>o172</td>\n      <td>s3</td>\n      <td>67.089996</td>\n      <td>-112.320000</td>\n      <td>71.655670</td>\n      <td>-119.648705</td>\n      <td>c</td>\n      <td>5.0</td>\n      <td>8.634541</td>\n    </tr>\n    <tr>\n      <th>7</th>\n      <td>o51</td>\n      <td>s14</td>\n      <td>64.202003</td>\n      <td>-83.910004</td>\n      <td>73.861763</td>\n      <td>-82.001617</td>\n      <td>c</td>\n      <td>31.0</td>\n      <td>9.846466</td>\n    </tr>\n    <tr>\n      <th>8</th>\n      <td>o25</td>\n      <td>s3</td>\n      <td>67.089996</td>\n      <td>-112.320000</td>\n      <td>69.626266</td>\n      <td>-138.875046</td>\n      <td>c</td>\n      <td>31.0</td>\n      <td>26.675891</td>\n    </tr>\n    <tr>\n      <th>...</th>\n      <td>...</td>\n      <td>...</td>\n      <td>...</td>\n      <td>...</td>\n      <td>...</td>\n      <td>...</td>\n      <td>...</td>\n      <td>...</td>\n      <td>...</td>\n    </tr>\n    <tr>\n      <th>152</th>\n      <td>o134</td>\n      <td>s7</td>\n      <td>63.930000</td>\n      <td>-101.139999</td>\n      <td>69.403145</td>\n      <td>-94.051872</td>\n      <td>i</td>\n      <td>157.0</td>\n      <td>8.955270</td>\n    </tr>\n    <tr>\n      <th>155</th>\n      <td>o82</td>\n      <td>s7</td>\n      <td>63.930000</td>\n      <td>-101.139999</td>\n      <td>62.762131</td>\n      <td>-69.962250</td>\n      <td>i</td>\n      <td>37.0</td>\n      <td>31.199615</td>\n    </tr>\n    <tr>\n      <th>156</th>\n      <td>o220</td>\n      <td>s2</td>\n      <td>70.639999</td>\n      <td>-119.430000</td>\n      <td>69.243050</td>\n      <td>-137.326294</td>\n      <td>i</td>\n      <td>37.0</td>\n      <td>17.950732</td>\n    </tr>\n    <tr>\n      <th>159</th>\n      <td>o192</td>\n      <td>s2</td>\n      <td>70.639999</td>\n      <td>-119.430000</td>\n      <td>68.705536</td>\n      <td>-134.233826</td>\n      <td>i</td>\n      <td>7.0</td>\n      <td>14.929682</td>\n    </tr>\n    <tr>\n      <th>162</th>\n      <td>o174</td>\n      <td>s2</td>\n      <td>70.639999</td>\n      <td>-119.430000</td>\n      <td>72.045486</td>\n      <td>-119.409912</td>\n      <td>i</td>\n      <td>157.0</td>\n      <td>1.405631</td>\n    </tr>\n  </tbody>\n</table>\n<p>68 rows × 9 columns</p>\n</div>"
     },
     "execution_count": 17,
     "metadata": {},
     "output_type": "execute_result"
    }
   ],
   "source": [
    "assignment_df = pd.DataFrame(columns=list(assignment.columns.values))\n",
    "for i,o in enumerate(assignment['Spill #'].unique()):\n",
    "    minD = min(assignment.loc[assignment['Spill #'] == o]['Distance'])\n",
    "    df = assignment.iloc[np.where(assignment['Distance'] == minD)[0]]\n",
    "    assignment_df = pd.concat([assignment_df, df])\n",
    "assignment_df"
   ],
   "metadata": {
    "collapsed": false,
    "ExecuteTime": {
     "end_time": "2023-07-05T02:06:40.382782800Z",
     "start_time": "2023-07-05T02:06:36.437785900Z"
    }
   }
  },
  {
   "cell_type": "code",
   "execution_count": 18,
   "outputs": [
    {
     "data": {
      "text/plain": "    Spill # Station no.  St_Latitude  St_Longitude  Spill_Latitude  \\\n162    o174          s2    70.639999       -119.43       72.045486   \n\n     Spill_Longitude Resource Type  Quantity deployed  Distance  \n162      -119.409912             i              157.0  1.405631  ",
      "text/html": "<div>\n<style scoped>\n    .dataframe tbody tr th:only-of-type {\n        vertical-align: middle;\n    }\n\n    .dataframe tbody tr th {\n        vertical-align: top;\n    }\n\n    .dataframe thead th {\n        text-align: right;\n    }\n</style>\n<table border=\"1\" class=\"dataframe\">\n  <thead>\n    <tr style=\"text-align: right;\">\n      <th></th>\n      <th>Spill #</th>\n      <th>Station no.</th>\n      <th>St_Latitude</th>\n      <th>St_Longitude</th>\n      <th>Spill_Latitude</th>\n      <th>Spill_Longitude</th>\n      <th>Resource Type</th>\n      <th>Quantity deployed</th>\n      <th>Distance</th>\n    </tr>\n  </thead>\n  <tbody>\n    <tr>\n      <th>162</th>\n      <td>o174</td>\n      <td>s2</td>\n      <td>70.639999</td>\n      <td>-119.43</td>\n      <td>72.045486</td>\n      <td>-119.409912</td>\n      <td>i</td>\n      <td>157.0</td>\n      <td>1.405631</td>\n    </tr>\n  </tbody>\n</table>\n</div>"
     },
     "execution_count": 18,
     "metadata": {},
     "output_type": "execute_result"
    }
   ],
   "source": [
    "assignment.iloc[np.where(assignment['Distance'] == minD)[0]]"
   ],
   "metadata": {
    "collapsed": false,
    "ExecuteTime": {
     "end_time": "2023-07-05T02:06:40.405722100Z",
     "start_time": "2023-07-05T02:06:40.084495900Z"
    }
   }
  },
  {
   "cell_type": "code",
   "execution_count": 19,
   "metadata": {
    "ExecuteTime": {
     "end_time": "2023-07-05T02:06:40.501366300Z",
     "start_time": "2023-07-05T02:06:40.085493300Z"
    }
   },
   "outputs": [
    {
     "name": "stdout",
     "output_type": "stream",
     "text": [
      "Sensitivity_n\n"
     ]
    },
    {
     "data": {
      "text/plain": "{'o74': 0.9797979797979798,\n 'o98': 0.16161616161616163,\n 'o53': 0.6464646464646465,\n 'o178': 0.2828282828282828,\n 'o203': 0.3939393939393939,\n 'o127': 1.0,\n 'o172': 0.2828282828282828,\n 'o51': 0.6666666666666666,\n 'o7': 0.1111111111111111,\n 'o30': 0.030303030303030304,\n 'o221': 0.8383838383838383,\n 'o64': 0.8484848484848485,\n 'o25': 0.8383838383838383,\n 'o94': 0.09090909090909091,\n 'o119': 0.2727272727272727,\n 'o148': 0.5050505050505051,\n 'o208': 0.0,\n 'o86': 0.3939393939393939,\n 'o93': 0.09090909090909091,\n 'o108': 0.6363636363636364,\n 'o131': 0.6767676767676768,\n 'o6': 0.3939393939393939,\n 'o10': 0.16161616161616163,\n 'o41': 0.2828282828282828,\n 'o144': 0.5050505050505051,\n 'o169': 0.2828282828282828,\n 'o185': 0.8383838383838383,\n 'o87': 0.020202020202020204,\n 'o168': 0.2828282828282828,\n 'o24': 0.23232323232323232,\n 'o190': 0.24242424242424243,\n 'o97': 0.6666666666666666,\n 'o162': 0.20202020202020202,\n 'o106': 0.16161616161616163,\n 'o157': 0.5050505050505051,\n 'o175': 0.2828282828282828,\n 'o136': 0.6767676767676768,\n 'o145': 0.5050505050505051,\n 'o3': 0.8484848484848485,\n 'o28': 0.8383838383838383,\n 'o45': 0.8484848484848485,\n 'o27': 0.8383838383838383,\n 'o219': 0.8383838383838383,\n 'o9': 0.30303030303030304,\n 'o212': 0.0,\n 'o139': 0.6767676767676768,\n 'o214': 0.0,\n 'o113': 0.0707070707070707,\n 'o160': 0.20202020202020202,\n 'o191': 0.24242424242424243,\n 'o104': 0.30303030303030304,\n 'o184': 0.8383838383838383,\n 'o37': 0.23232323232323232,\n 'o165': 0.2828282828282828,\n 'o83': 0.5252525252525253,\n 'o114': 0.2727272727272727,\n 'o155': 0.5050505050505051,\n 'o91': 0.09090909090909091,\n 'o138': 0.6767676767676768,\n 'o183': 0.8383838383838383,\n 'o11': 0.6666666666666666,\n 'o181': 0.8383838383838383,\n 'o159': 0.20202020202020202,\n 'o48': 0.6666666666666666,\n 'o129': 1.0,\n 'o158': 0.20202020202020202,\n 'o117': 0.2727272727272727,\n 'o153': 0.0,\n 'o101': 0.6666666666666666,\n 'o44': 0.8787878787878788,\n 'o109': 0.10101010101010101,\n 'o59': 0.8484848484848485,\n 'o121': 0.2727272727272727,\n 'o13': 0.1717171717171717,\n 'o128': 1.0,\n 'o90': 0.020202020202020204,\n 'o79': 0.8282828282828283,\n 'o161': 0.20202020202020202,\n 'o163': 0.20202020202020202,\n 'o130': 0.6767676767676768,\n 'o107': 0.6666666666666666,\n 'o42': 0.2828282828282828,\n 'o31': 0.030303030303030304,\n 'o19': 0.5050505050505051,\n 'o22': 0.030303030303030304,\n 'o187': 0.8383838383838383,\n 'o84': 0.8282828282828283,\n 'o132': 0.6767676767676768,\n 'o198': 0.8383838383838383,\n 'o49': 0.16161616161616163,\n 'o116': 0.2727272727272727,\n 'o124': 0.6363636363636364,\n 'o134': 0.6767676767676768,\n 'o82': 0.8282828282828283,\n 'o220': 0.8383838383838383,\n 'o207': 0.0,\n 'o43': 0.2828282828282828,\n 'o192': 0.030303030303030304,\n 'o174': 0.2828282828282828,\n 'o78': 0.8787878787878788}"
     },
     "metadata": {},
     "output_type": "display_data"
    },
    {
     "name": "stdout",
     "output_type": "stream",
     "text": [
      "Spill_df\n"
     ]
    },
    {
     "data": {
      "text/plain": "   Spill #  Spill_Latitude  Spill_Longitude  Resource needed  Sensitivity\n0      o74       64.504219       -79.406021             8500        104.0\n1      o98       73.858727       -77.062927             4820         23.0\n2      o53       58.851135       -94.206932             3200         71.0\n3     o178       69.455536      -123.856422             6160         35.0\n4     o203       65.388885       -65.952179             5190         46.0\n..     ...             ...              ...              ...          ...\n95    o207       61.278797      -114.416603             6480          7.0\n96     o43       70.589783      -120.206131             5790         35.0\n97    o192       68.705536      -134.233826             6430         10.0\n98    o174       72.045486      -119.409912              800         35.0\n99     o78       63.448772       -79.562271             5290         94.0\n\n[100 rows x 5 columns]",
      "text/html": "<div>\n<style scoped>\n    .dataframe tbody tr th:only-of-type {\n        vertical-align: middle;\n    }\n\n    .dataframe tbody tr th {\n        vertical-align: top;\n    }\n\n    .dataframe thead th {\n        text-align: right;\n    }\n</style>\n<table border=\"1\" class=\"dataframe\">\n  <thead>\n    <tr style=\"text-align: right;\">\n      <th></th>\n      <th>Spill #</th>\n      <th>Spill_Latitude</th>\n      <th>Spill_Longitude</th>\n      <th>Resource needed</th>\n      <th>Sensitivity</th>\n    </tr>\n  </thead>\n  <tbody>\n    <tr>\n      <th>0</th>\n      <td>o74</td>\n      <td>64.504219</td>\n      <td>-79.406021</td>\n      <td>8500</td>\n      <td>104.0</td>\n    </tr>\n    <tr>\n      <th>1</th>\n      <td>o98</td>\n      <td>73.858727</td>\n      <td>-77.062927</td>\n      <td>4820</td>\n      <td>23.0</td>\n    </tr>\n    <tr>\n      <th>2</th>\n      <td>o53</td>\n      <td>58.851135</td>\n      <td>-94.206932</td>\n      <td>3200</td>\n      <td>71.0</td>\n    </tr>\n    <tr>\n      <th>3</th>\n      <td>o178</td>\n      <td>69.455536</td>\n      <td>-123.856422</td>\n      <td>6160</td>\n      <td>35.0</td>\n    </tr>\n    <tr>\n      <th>4</th>\n      <td>o203</td>\n      <td>65.388885</td>\n      <td>-65.952179</td>\n      <td>5190</td>\n      <td>46.0</td>\n    </tr>\n    <tr>\n      <th>...</th>\n      <td>...</td>\n      <td>...</td>\n      <td>...</td>\n      <td>...</td>\n      <td>...</td>\n    </tr>\n    <tr>\n      <th>95</th>\n      <td>o207</td>\n      <td>61.278797</td>\n      <td>-114.416603</td>\n      <td>6480</td>\n      <td>7.0</td>\n    </tr>\n    <tr>\n      <th>96</th>\n      <td>o43</td>\n      <td>70.589783</td>\n      <td>-120.206131</td>\n      <td>5790</td>\n      <td>35.0</td>\n    </tr>\n    <tr>\n      <th>97</th>\n      <td>o192</td>\n      <td>68.705536</td>\n      <td>-134.233826</td>\n      <td>6430</td>\n      <td>10.0</td>\n    </tr>\n    <tr>\n      <th>98</th>\n      <td>o174</td>\n      <td>72.045486</td>\n      <td>-119.409912</td>\n      <td>800</td>\n      <td>35.0</td>\n    </tr>\n    <tr>\n      <th>99</th>\n      <td>o78</td>\n      <td>63.448772</td>\n      <td>-79.562271</td>\n      <td>5290</td>\n      <td>94.0</td>\n    </tr>\n  </tbody>\n</table>\n<p>100 rows × 5 columns</p>\n</div>"
     },
     "metadata": {},
     "output_type": "display_data"
    },
    {
     "name": "stdout",
     "output_type": "stream",
     "text": [
      "[item for item in deploy_1s.index]\n"
     ]
    },
    {
     "data": {
      "text/plain": "[('o53', 's3', 'c'),\n ('o53', 's14', 'c'),\n ('o178', 's2', 'i'),\n ('o178', 's6', 'i'),\n ('o178', 's7', 'i'),\n ('o203', 's2', 'i'),\n ('o203', 's6', 'i'),\n ('o203', 's7', 'i'),\n ('o127', 's3', 'c'),\n ('o127', 's14', 'c'),\n ('o172', 's3', 'c'),\n ('o172', 's14', 'c'),\n ('o51', 's3', 'c'),\n ('o51', 's14', 'c'),\n ('o64', 's2', 'i'),\n ('o64', 's6', 'i'),\n ('o64', 's7', 'i'),\n ('o25', 's3', 'c'),\n ('o25', 's14', 'c'),\n ('o119', 's3', 'c'),\n ('o119', 's14', 'c'),\n ('o148', 's3', 'c'),\n ('o148', 's14', 'c'),\n ('o86', 's3', 'c'),\n ('o86', 's14', 'c'),\n ('o93', 's3', 'c'),\n ('o93', 's14', 'c'),\n ('o108', 's3', 'c'),\n ('o108', 's14', 'c'),\n ('o131', 's2', 'i'),\n ('o131', 's6', 'i'),\n ('o131', 's7', 'i'),\n ('o6', 's3', 'c'),\n ('o6', 's14', 'c'),\n ('o10', 's2', 'i'),\n ('o10', 's6', 'i'),\n ('o10', 's7', 'i'),\n ('o144', 's3', 'c'),\n ('o144', 's14', 'c'),\n ('o169', 's3', 'c'),\n ('o169', 's14', 'c'),\n ('o185', 's2', 'i'),\n ('o185', 's6', 'i'),\n ('o185', 's7', 'i'),\n ('o87', 's2', 'i'),\n ('o87', 's6', 'i'),\n ('o87', 's7', 'i'),\n ('o168', 's3', 'c'),\n ('o168', 's14', 'c'),\n ('o97', 's3', 'c'),\n ('o97', 's14', 'c'),\n ('o162', 's3', 'c'),\n ('o162', 's14', 'c'),\n ('o106', 's3', 'c'),\n ('o106', 's14', 'c'),\n ('o136', 's3', 'c'),\n ('o136', 's14', 'c'),\n ('o145', 's3', 'c'),\n ('o145', 's14', 'c'),\n ('o3', 's2', 'i'),\n ('o3', 's6', 'i'),\n ('o3', 's7', 'i'),\n ('o219', 's2', 'i'),\n ('o219', 's6', 'i'),\n ('o219', 's7', 'i'),\n ('o9', 's2', 'i'),\n ('o9', 's6', 'i'),\n ('o9', 's7', 'i'),\n ('o212', 's2', 'i'),\n ('o212', 's6', 'i'),\n ('o212', 's7', 'i'),\n ('o139', 's3', 'c'),\n ('o139', 's14', 'c'),\n ('o214', 's2', 'i'),\n ('o214', 's6', 'i'),\n ('o214', 's7', 'i'),\n ('o160', 's3', 'c'),\n ('o160', 's14', 'c'),\n ('o191', 's3', 'c'),\n ('o191', 's14', 'c'),\n ('o184', 's3', 'c'),\n ('o184', 's14', 'c'),\n ('o165', 's2', 'i'),\n ('o165', 's6', 'i'),\n ('o165', 's7', 'i'),\n ('o83', 's3', 'c'),\n ('o83', 's14', 'c'),\n ('o114', 's3', 'c'),\n ('o114', 's14', 'c'),\n ('o91', 's3', 'c'),\n ('o91', 's14', 'c'),\n ('o138', 's2', 'i'),\n ('o138', 's6', 'i'),\n ('o138', 's7', 'i'),\n ('o183', 's3', 'c'),\n ('o183', 's14', 'c'),\n ('o11', 's3', 'c'),\n ('o11', 's14', 'c'),\n ('o181', 's3', 'c'),\n ('o181', 's14', 'c'),\n ('o159', 's3', 'c'),\n ('o159', 's14', 'c'),\n ('o158', 's2', 'i'),\n ('o158', 's6', 'i'),\n ('o158', 's7', 'i'),\n ('o117', 's3', 'c'),\n ('o117', 's14', 'c'),\n ('o153', 's3', 'c'),\n ('o153', 's14', 'c'),\n ('o109', 's2', 'i'),\n ('o109', 's6', 'i'),\n ('o109', 's7', 'i'),\n ('o59', 's2', 'i'),\n ('o59', 's6', 'i'),\n ('o59', 's7', 'i'),\n ('o121', 's2', 'i'),\n ('o121', 's6', 'i'),\n ('o121', 's7', 'i'),\n ('o90', 's2', 'i'),\n ('o90', 's6', 'i'),\n ('o90', 's7', 'i'),\n ('o79', 's3', 'c'),\n ('o79', 's14', 'c'),\n ('o161', 's2', 'i'),\n ('o161', 's6', 'i'),\n ('o161', 's7', 'i'),\n ('o130', 's2', 'i'),\n ('o130', 's6', 'i'),\n ('o130', 's7', 'i'),\n ('o22', 's3', 'c'),\n ('o22', 's14', 'c'),\n ('o84', 's3', 'c'),\n ('o84', 's14', 'c'),\n ('o198', 's2', 'i'),\n ('o198', 's6', 'i'),\n ('o198', 's7', 'i'),\n ('o49', 's2', 'i'),\n ('o49', 's6', 'i'),\n ('o49', 's7', 'i'),\n ('o116', 's3', 'c'),\n ('o116', 's14', 'c'),\n ('o124', 's2', 'i'),\n ('o124', 's6', 'i'),\n ('o124', 's7', 'i'),\n ('o134', 's2', 'i'),\n ('o134', 's6', 'i'),\n ('o134', 's7', 'i'),\n ('o82', 's2', 'i'),\n ('o82', 's6', 'i'),\n ('o82', 's7', 'i'),\n ('o220', 's2', 'i'),\n ('o220', 's6', 'i'),\n ('o220', 's7', 'i'),\n ('o207', 's3', 'c'),\n ('o207', 's14', 'c'),\n ('o43', 's3', 'c'),\n ('o43', 's14', 'c'),\n ('o192', 's2', 'i'),\n ('o192', 's6', 'i'),\n ('o192', 's7', 'i'),\n ('o174', 's2', 'i'),\n ('o174', 's6', 'i'),\n ('o174', 's7', 'i'),\n ('o78', 's3', 'c'),\n ('o78', 's14', 'c')]"
     },
     "metadata": {},
     "output_type": "display_data"
    },
    {
     "name": "stdout",
     "output_type": "stream",
     "text": [
      "deploy_1s\n"
     ]
    },
    {
     "data": {
      "text/plain": "o53   s3   c    110.0\n      s14  c    110.0\no178  s2   i    157.0\n      s6   i    157.0\n      s7   i    157.0\n                ...  \no174  s2   i    157.0\n      s6   i    157.0\n      s7   i    157.0\no78   s3   c     31.0\n      s14  c     31.0\nLength: 165, dtype: float64"
     },
     "metadata": {},
     "output_type": "display_data"
    },
    {
     "name": "stdout",
     "output_type": "stream",
     "text": [
      "deploy_1s.index\n"
     ]
    },
    {
     "data": {
      "text/plain": "MultiIndex([( 'o53',  's3', 'c'),\n            ( 'o53', 's14', 'c'),\n            ('o178',  's2', 'i'),\n            ('o178',  's6', 'i'),\n            ('o178',  's7', 'i'),\n            ('o203',  's2', 'i'),\n            ('o203',  's6', 'i'),\n            ('o203',  's7', 'i'),\n            ('o127',  's3', 'c'),\n            ('o127', 's14', 'c'),\n            ...\n            ( 'o43',  's3', 'c'),\n            ( 'o43', 's14', 'c'),\n            ('o192',  's2', 'i'),\n            ('o192',  's6', 'i'),\n            ('o192',  's7', 'i'),\n            ('o174',  's2', 'i'),\n            ('o174',  's6', 'i'),\n            ('o174',  's7', 'i'),\n            ( 'o78',  's3', 'c'),\n            ( 'o78', 's14', 'c')],\n           length=165)"
     },
     "metadata": {},
     "output_type": "display_data"
    }
   ],
   "source": [
    "print('Sensitivity_n')\n",
    "display(Sensitivity_n)\n",
    "\n",
    "print('Spill_df')\n",
    "display(spill_df)\n",
    "print('[item for item in deploy_1s.index]')\n",
    "display([item for item in deploy_1s.index])\n",
    "print('deploy_1s')\n",
    "display(deploy_1s)\n",
    "print('deploy_1s.index')\n",
    "display(deploy_1s.index)"
   ]
  },
  {
   "cell_type": "markdown",
   "source": [
    "## Fig5a Network Diagram with 4 stations inc. Hay River as hub"
   ],
   "metadata": {
    "collapsed": false
   }
  },
  {
   "cell_type": "code",
   "execution_count": 34,
   "outputs": [
    {
     "name": "stderr",
     "output_type": "stream",
     "text": [
      "H:\\My Drive\\PhD Tan 2023\\Python Implementation of MIPs\\MIP-Python-Lamoscad\\mip_venv\\Lib\\site-packages\\matplotlib\\collections.py:963: RuntimeWarning: invalid value encountered in sqrt\n",
      "  scale = np.sqrt(self._sizes) * dpi / 72.0 * self._factor\n",
      "H:\\My Drive\\PhD Tan 2023\\Python Implementation of MIPs\\MIP-Python-Lamoscad\\mip_venv\\Lib\\site-packages\\matplotlib\\collections.py:963: RuntimeWarning: invalid value encountered in sqrt\n",
      "  scale = np.sqrt(self._sizes) * dpi / 72.0 * self._factor\n"
     ]
    },
    {
     "data": {
      "text/plain": "    Spill # Station no.  St_Latitude  St_Longitude  Spill_Latitude  \\\n1       o53         s14    64.202003    -83.910004       58.851135   \n3      o127         s14    64.202003    -83.910004       69.348618   \n4      o172          s3    67.089996   -112.320000       71.655670   \n7       o51         s14    64.202003    -83.910004       73.861763   \n8       o25          s3    67.089996   -112.320000       69.626266   \n..      ...         ...          ...           ...             ...   \n152    o134          s7    63.930000   -101.139999       69.403145   \n155     o82          s7    63.930000   -101.139999       62.762131   \n156    o220          s2    70.639999   -119.430000       69.243050   \n159    o192          s2    70.639999   -119.430000       68.705536   \n162    o174          s2    70.639999   -119.430000       72.045486   \n\n     Spill_Longitude Resource Type  Quantity deployed   Distance  \n1         -94.206932             c              110.0  11.604246  \n3         -81.734749             c                5.0   5.587430  \n4        -119.648705             c                5.0   8.634541  \n7         -82.001617             c               31.0   9.846466  \n8        -138.875046             c               31.0  26.675891  \n..               ...           ...                ...        ...  \n152       -94.051872             i              157.0   8.955270  \n155       -69.962250             i               37.0  31.199615  \n156      -137.326294             i               37.0  17.950732  \n159      -134.233826             i                7.0  14.929682  \n162      -119.409912             i              157.0   1.405631  \n\n[68 rows x 9 columns]",
      "text/html": "<div>\n<style scoped>\n    .dataframe tbody tr th:only-of-type {\n        vertical-align: middle;\n    }\n\n    .dataframe tbody tr th {\n        vertical-align: top;\n    }\n\n    .dataframe thead th {\n        text-align: right;\n    }\n</style>\n<table border=\"1\" class=\"dataframe\">\n  <thead>\n    <tr style=\"text-align: right;\">\n      <th></th>\n      <th>Spill #</th>\n      <th>Station no.</th>\n      <th>St_Latitude</th>\n      <th>St_Longitude</th>\n      <th>Spill_Latitude</th>\n      <th>Spill_Longitude</th>\n      <th>Resource Type</th>\n      <th>Quantity deployed</th>\n      <th>Distance</th>\n    </tr>\n  </thead>\n  <tbody>\n    <tr>\n      <th>1</th>\n      <td>o53</td>\n      <td>s14</td>\n      <td>64.202003</td>\n      <td>-83.910004</td>\n      <td>58.851135</td>\n      <td>-94.206932</td>\n      <td>c</td>\n      <td>110.0</td>\n      <td>11.604246</td>\n    </tr>\n    <tr>\n      <th>3</th>\n      <td>o127</td>\n      <td>s14</td>\n      <td>64.202003</td>\n      <td>-83.910004</td>\n      <td>69.348618</td>\n      <td>-81.734749</td>\n      <td>c</td>\n      <td>5.0</td>\n      <td>5.587430</td>\n    </tr>\n    <tr>\n      <th>4</th>\n      <td>o172</td>\n      <td>s3</td>\n      <td>67.089996</td>\n      <td>-112.320000</td>\n      <td>71.655670</td>\n      <td>-119.648705</td>\n      <td>c</td>\n      <td>5.0</td>\n      <td>8.634541</td>\n    </tr>\n    <tr>\n      <th>7</th>\n      <td>o51</td>\n      <td>s14</td>\n      <td>64.202003</td>\n      <td>-83.910004</td>\n      <td>73.861763</td>\n      <td>-82.001617</td>\n      <td>c</td>\n      <td>31.0</td>\n      <td>9.846466</td>\n    </tr>\n    <tr>\n      <th>8</th>\n      <td>o25</td>\n      <td>s3</td>\n      <td>67.089996</td>\n      <td>-112.320000</td>\n      <td>69.626266</td>\n      <td>-138.875046</td>\n      <td>c</td>\n      <td>31.0</td>\n      <td>26.675891</td>\n    </tr>\n    <tr>\n      <th>...</th>\n      <td>...</td>\n      <td>...</td>\n      <td>...</td>\n      <td>...</td>\n      <td>...</td>\n      <td>...</td>\n      <td>...</td>\n      <td>...</td>\n      <td>...</td>\n    </tr>\n    <tr>\n      <th>152</th>\n      <td>o134</td>\n      <td>s7</td>\n      <td>63.930000</td>\n      <td>-101.139999</td>\n      <td>69.403145</td>\n      <td>-94.051872</td>\n      <td>i</td>\n      <td>157.0</td>\n      <td>8.955270</td>\n    </tr>\n    <tr>\n      <th>155</th>\n      <td>o82</td>\n      <td>s7</td>\n      <td>63.930000</td>\n      <td>-101.139999</td>\n      <td>62.762131</td>\n      <td>-69.962250</td>\n      <td>i</td>\n      <td>37.0</td>\n      <td>31.199615</td>\n    </tr>\n    <tr>\n      <th>156</th>\n      <td>o220</td>\n      <td>s2</td>\n      <td>70.639999</td>\n      <td>-119.430000</td>\n      <td>69.243050</td>\n      <td>-137.326294</td>\n      <td>i</td>\n      <td>37.0</td>\n      <td>17.950732</td>\n    </tr>\n    <tr>\n      <th>159</th>\n      <td>o192</td>\n      <td>s2</td>\n      <td>70.639999</td>\n      <td>-119.430000</td>\n      <td>68.705536</td>\n      <td>-134.233826</td>\n      <td>i</td>\n      <td>7.0</td>\n      <td>14.929682</td>\n    </tr>\n    <tr>\n      <th>162</th>\n      <td>o174</td>\n      <td>s2</td>\n      <td>70.639999</td>\n      <td>-119.430000</td>\n      <td>72.045486</td>\n      <td>-119.409912</td>\n      <td>i</td>\n      <td>157.0</td>\n      <td>1.405631</td>\n    </tr>\n  </tbody>\n</table>\n<p>68 rows × 9 columns</p>\n</div>"
     },
     "execution_count": 34,
     "metadata": {},
     "output_type": "execute_result"
    },
    {
     "name": "stderr",
     "output_type": "stream",
     "text": [
      "H:\\My Drive\\PhD Tan 2023\\Python Implementation of MIPs\\MIP-Python-Lamoscad\\mip_venv\\Lib\\site-packages\\matplotlib\\collections.py:963: RuntimeWarning: invalid value encountered in sqrt\n",
      "  scale = np.sqrt(self._sizes) * dpi / 72.0 * self._factor\n"
     ]
    },
    {
     "data": {
      "text/plain": "<Figure size 1000x1000 with 1 Axes>",
      "image/png": "[encoded data removed]"
     },
     "metadata": {},
     "output_type": "display_data"
    }
   ],
   "source": [
    "model_analysis.draw_network_diagram(DistanceMax, NumberStMax, Sensitivity_R, spill_df, station_df, ResponseTimeT, coverage_percentage,\n",
    "                         assignment, deploy_1s, select_1s, current_vs_proposed)"
   ],
   "metadata": {
    "collapsed": false,
    "ExecuteTime": {
     "end_time": "2023-07-05T02:15:40.043682900Z",
     "start_time": "2023-07-05T02:15:32.403558200Z"
    }
   }
  },
  {
   "cell_type": "markdown",
   "metadata": {},
   "source": [
    "## Table 4: Resource deployment from facilities"
   ]
  },
  {
   "cell_type": "code",
   "execution_count": 20,
   "metadata": {
    "ExecuteTime": {
     "end_time": "2023-07-05T02:06:40.507172900Z",
     "start_time": "2023-07-05T02:06:40.087493400Z"
    }
   },
   "outputs": [
    {
     "data": {
      "text/plain": "['s2', 's14', 's3', 's6', 's7']"
     },
     "execution_count": 20,
     "metadata": {},
     "output_type": "execute_result"
    }
   ],
   "source": [
    "\n",
    "selected_st_name = list(select_1s.reset_index().level_0)\n",
    "selected_st_name"
   ]
  },
  {
   "cell_type": "code",
   "execution_count": 21,
   "metadata": {
    "ExecuteTime": {
     "end_time": "2023-07-05T02:06:40.508178800Z",
     "start_time": "2023-07-05T02:06:40.088486700Z"
    }
   },
   "outputs": [
    {
     "data": {
      "text/plain": "o53   s3   c    110.0\n      s14  c    110.0\no178  s2   i    157.0\n      s6   i    157.0\n      s7   i    157.0\n                ...  \no174  s2   i    157.0\n      s6   i    157.0\n      s7   i    157.0\no78   s3   c     31.0\n      s14  c     31.0\nLength: 165, dtype: float64"
     },
     "execution_count": 21,
     "metadata": {},
     "output_type": "execute_result"
    }
   ],
   "source": [
    "deploy_1s"
   ]
  },
  {
   "cell_type": "code",
   "execution_count": 22,
   "metadata": {
    "ExecuteTime": {
     "end_time": "2023-07-05T02:06:40.510164700Z",
     "start_time": "2023-07-05T02:06:40.088486700Z"
    }
   },
   "outputs": [
    {
     "data": {
      "text/plain": "    level_0 level_1 level_2      0\n0       o53      s3       c  110.0\n1       o53     s14       c  110.0\n2      o178      s2       i  157.0\n3      o178      s6       i  157.0\n4      o178      s7       i  157.0\n..      ...     ...     ...    ...\n160    o174      s2       i  157.0\n161    o174      s6       i  157.0\n162    o174      s7       i  157.0\n163     o78      s3       c   31.0\n164     o78     s14       c   31.0\n\n[165 rows x 4 columns]",
      "text/html": "<div>\n<style scoped>\n    .dataframe tbody tr th:only-of-type {\n        vertical-align: middle;\n    }\n\n    .dataframe tbody tr th {\n        vertical-align: top;\n    }\n\n    .dataframe thead th {\n        text-align: right;\n    }\n</style>\n<table border=\"1\" class=\"dataframe\">\n  <thead>\n    <tr style=\"text-align: right;\">\n      <th></th>\n      <th>level_0</th>\n      <th>level_1</th>\n      <th>level_2</th>\n      <th>0</th>\n    </tr>\n  </thead>\n  <tbody>\n    <tr>\n      <th>0</th>\n      <td>o53</td>\n      <td>s3</td>\n      <td>c</td>\n      <td>110.0</td>\n    </tr>\n    <tr>\n      <th>1</th>\n      <td>o53</td>\n      <td>s14</td>\n      <td>c</td>\n      <td>110.0</td>\n    </tr>\n    <tr>\n      <th>2</th>\n      <td>o178</td>\n      <td>s2</td>\n      <td>i</td>\n      <td>157.0</td>\n    </tr>\n    <tr>\n      <th>3</th>\n      <td>o178</td>\n      <td>s6</td>\n      <td>i</td>\n      <td>157.0</td>\n    </tr>\n    <tr>\n      <th>4</th>\n      <td>o178</td>\n      <td>s7</td>\n      <td>i</td>\n      <td>157.0</td>\n    </tr>\n    <tr>\n      <th>...</th>\n      <td>...</td>\n      <td>...</td>\n      <td>...</td>\n      <td>...</td>\n    </tr>\n    <tr>\n      <th>160</th>\n      <td>o174</td>\n      <td>s2</td>\n      <td>i</td>\n      <td>157.0</td>\n    </tr>\n    <tr>\n      <th>161</th>\n      <td>o174</td>\n      <td>s6</td>\n      <td>i</td>\n      <td>157.0</td>\n    </tr>\n    <tr>\n      <th>162</th>\n      <td>o174</td>\n      <td>s7</td>\n      <td>i</td>\n      <td>157.0</td>\n    </tr>\n    <tr>\n      <th>163</th>\n      <td>o78</td>\n      <td>s3</td>\n      <td>c</td>\n      <td>31.0</td>\n    </tr>\n    <tr>\n      <th>164</th>\n      <td>o78</td>\n      <td>s14</td>\n      <td>c</td>\n      <td>31.0</td>\n    </tr>\n  </tbody>\n</table>\n<p>165 rows × 4 columns</p>\n</div>"
     },
     "execution_count": 22,
     "metadata": {},
     "output_type": "execute_result"
    }
   ],
   "source": [
    "deploy_df = pd.DataFrame(deploy_1s.reset_index())\n",
    "deploy_df\n",
    "#deploy_df.columns = ['St', 'os', 'rr','amount']\n",
    "#print(deploy_df.columns)"
   ]
  },
  {
   "cell_type": "code",
   "execution_count": 23,
   "outputs": [
    {
     "data": {
      "text/plain": "1.0"
     },
     "execution_count": 23,
     "metadata": {},
     "output_type": "execute_result"
    }
   ],
   "source": [
    "max(Distance_n.values())"
   ],
   "metadata": {
    "collapsed": false,
    "ExecuteTime": {
     "end_time": "2023-07-05T02:06:40.511162800Z",
     "start_time": "2023-07-05T02:06:40.089486600Z"
    }
   }
  },
  {
   "cell_type": "code",
   "execution_count": 24,
   "metadata": {
    "ExecuteTime": {
     "end_time": "2023-07-05T02:06:40.514154500Z",
     "start_time": "2023-07-05T02:06:40.089486600Z"
    }
   },
   "outputs": [
    {
     "data": {
      "text/plain": "<function list.index(value, start=0, stop=9223372036854775807, /)>"
     },
     "execution_count": 24,
     "metadata": {},
     "output_type": "execute_result"
    }
   ],
   "source": [
    "selected_st_name.index"
   ]
  },
  {
   "cell_type": "code",
   "execution_count": 25,
   "metadata": {
    "ExecuteTime": {
     "end_time": "2023-07-05T02:06:40.516161Z",
     "start_time": "2023-07-05T02:06:40.090518200Z"
    }
   },
   "outputs": [
    {
     "data": {
      "text/plain": "       M    C    I\ns2   0.0  0.0  0.0\ns14  0.0  0.0  0.0\ns3   0.0  0.0  0.0\ns6   0.0  0.0  0.0\ns7   0.0  0.0  0.0",
      "text/html": "<div>\n<style scoped>\n    .dataframe tbody tr th:only-of-type {\n        vertical-align: middle;\n    }\n\n    .dataframe tbody tr th {\n        vertical-align: top;\n    }\n\n    .dataframe thead th {\n        text-align: right;\n    }\n</style>\n<table border=\"1\" class=\"dataframe\">\n  <thead>\n    <tr style=\"text-align: right;\">\n      <th></th>\n      <th>M</th>\n      <th>C</th>\n      <th>I</th>\n    </tr>\n  </thead>\n  <tbody>\n    <tr>\n      <th>s2</th>\n      <td>0.0</td>\n      <td>0.0</td>\n      <td>0.0</td>\n    </tr>\n    <tr>\n      <th>s14</th>\n      <td>0.0</td>\n      <td>0.0</td>\n      <td>0.0</td>\n    </tr>\n    <tr>\n      <th>s3</th>\n      <td>0.0</td>\n      <td>0.0</td>\n      <td>0.0</td>\n    </tr>\n    <tr>\n      <th>s6</th>\n      <td>0.0</td>\n      <td>0.0</td>\n      <td>0.0</td>\n    </tr>\n    <tr>\n      <th>s7</th>\n      <td>0.0</td>\n      <td>0.0</td>\n      <td>0.0</td>\n    </tr>\n  </tbody>\n</table>\n</div>"
     },
     "execution_count": 25,
     "metadata": {},
     "output_type": "execute_result"
    }
   ],
   "source": [
    "resource_deployment_from_facility = pd.DataFrame(columns=['M','C','I'])\n",
    "for index, st in enumerate(selected_st_name):\n",
    "    a = deploy_df.loc[(deploy_df['level_0'] == st) & (deploy_df['level_2'] == 'm'), 0].sum()\n",
    "    b = deploy_df.loc[(deploy_df['level_0'] == st) & (deploy_df['level_2'] == 'c'), 0].sum()\n",
    "    c = deploy_df.loc[(deploy_df['level_0'] == st) & (deploy_df['level_2'] == 'i'), 0].sum()\n",
    "    resource_deployment_from_facility.loc[index] = [a,b,c]\n",
    "    \n",
    "resource_deployment_from_facility.index=selected_st_name\n",
    "resource_deployment_from_facility"
   ]
  },
  {
   "cell_type": "code",
   "execution_count": 25,
   "metadata": {
    "ExecuteTime": {
     "end_time": "2023-07-05T02:06:40.517146Z",
     "start_time": "2023-07-05T02:06:40.091477400Z"
    }
   },
   "outputs": [],
   "source": []
  },
  {
   "cell_type": "markdown",
   "metadata": {},
   "source": []
  },
  {
   "cell_type": "code",
   "execution_count": 26,
   "metadata": {
    "ExecuteTime": {
     "end_time": "2023-07-05T02:06:40.519143100Z",
     "start_time": "2023-07-05T02:06:40.092507Z"
    }
   },
   "outputs": [
    {
     "data": {
      "text/plain": "82.62173596329828"
     },
     "execution_count": 26,
     "metadata": {},
     "output_type": "execute_result"
    }
   ],
   "source": [
    "#deploy_1s\n",
    "sum(Distance.values()) / len(Distance)\n",
    "max(Distance.values())"
   ]
  },
  {
   "cell_type": "code",
   "execution_count": 27,
   "metadata": {
    "ExecuteTime": {
     "end_time": "2023-07-05T02:06:40.521144800Z",
     "start_time": "2023-07-05T02:06:40.092507Z"
    }
   },
   "outputs": [
    {
     "data": {
      "text/plain": "s2   i    1.0\ns14  c    1.0\ns3   c    1.0\ns6   i    1.0\ns7   i    1.0\ndtype: float64"
     },
     "metadata": {},
     "output_type": "display_data"
    },
    {
     "data": {
      "text/plain": "   Spill #  Spill_Latitude  Spill_Longitude  Resource needed  Sensitivity\n0      o74       64.504219       -79.406021             8500        104.0\n1      o98       73.858727       -77.062927             4820         23.0\n2      o53       58.851135       -94.206932             3200         71.0\n3     o178       69.455536      -123.856422             6160         35.0\n4     o203       65.388885       -65.952179             5190         46.0\n..     ...             ...              ...              ...          ...\n95    o207       61.278797      -114.416603             6480          7.0\n96     o43       70.589783      -120.206131             5790         35.0\n97    o192       68.705536      -134.233826             6430         10.0\n98    o174       72.045486      -119.409912              800         35.0\n99     o78       63.448772       -79.562271             5290         94.0\n\n[100 rows x 5 columns]",
      "text/html": "<div>\n<style scoped>\n    .dataframe tbody tr th:only-of-type {\n        vertical-align: middle;\n    }\n\n    .dataframe tbody tr th {\n        vertical-align: top;\n    }\n\n    .dataframe thead th {\n        text-align: right;\n    }\n</style>\n<table border=\"1\" class=\"dataframe\">\n  <thead>\n    <tr style=\"text-align: right;\">\n      <th></th>\n      <th>Spill #</th>\n      <th>Spill_Latitude</th>\n      <th>Spill_Longitude</th>\n      <th>Resource needed</th>\n      <th>Sensitivity</th>\n    </tr>\n  </thead>\n  <tbody>\n    <tr>\n      <th>0</th>\n      <td>o74</td>\n      <td>64.504219</td>\n      <td>-79.406021</td>\n      <td>8500</td>\n      <td>104.0</td>\n    </tr>\n    <tr>\n      <th>1</th>\n      <td>o98</td>\n      <td>73.858727</td>\n      <td>-77.062927</td>\n      <td>4820</td>\n      <td>23.0</td>\n    </tr>\n    <tr>\n      <th>2</th>\n      <td>o53</td>\n      <td>58.851135</td>\n      <td>-94.206932</td>\n      <td>3200</td>\n      <td>71.0</td>\n    </tr>\n    <tr>\n      <th>3</th>\n      <td>o178</td>\n      <td>69.455536</td>\n      <td>-123.856422</td>\n      <td>6160</td>\n      <td>35.0</td>\n    </tr>\n    <tr>\n      <th>4</th>\n      <td>o203</td>\n      <td>65.388885</td>\n      <td>-65.952179</td>\n      <td>5190</td>\n      <td>46.0</td>\n    </tr>\n    <tr>\n      <th>...</th>\n      <td>...</td>\n      <td>...</td>\n      <td>...</td>\n      <td>...</td>\n      <td>...</td>\n    </tr>\n    <tr>\n      <th>95</th>\n      <td>o207</td>\n      <td>61.278797</td>\n      <td>-114.416603</td>\n      <td>6480</td>\n      <td>7.0</td>\n    </tr>\n    <tr>\n      <th>96</th>\n      <td>o43</td>\n      <td>70.589783</td>\n      <td>-120.206131</td>\n      <td>5790</td>\n      <td>35.0</td>\n    </tr>\n    <tr>\n      <th>97</th>\n      <td>o192</td>\n      <td>68.705536</td>\n      <td>-134.233826</td>\n      <td>6430</td>\n      <td>10.0</td>\n    </tr>\n    <tr>\n      <th>98</th>\n      <td>o174</td>\n      <td>72.045486</td>\n      <td>-119.409912</td>\n      <td>800</td>\n      <td>35.0</td>\n    </tr>\n    <tr>\n      <th>99</th>\n      <td>o78</td>\n      <td>63.448772</td>\n      <td>-79.562271</td>\n      <td>5290</td>\n      <td>94.0</td>\n    </tr>\n  </tbody>\n</table>\n<p>100 rows × 5 columns</p>\n</div>"
     },
     "metadata": {},
     "output_type": "display_data"
    }
   ],
   "source": [
    "display(select_1s)\n",
    "#display(station_df[station_df['Station no.'].isin(select_1s.reset_index().level_0)])\n",
    "display(spill_df)"
   ]
  },
  {
   "cell_type": "code",
   "execution_count": 28,
   "outputs": [],
   "source": [
    "selected_supply_stations = list(deploy_1s.reset_index().level_1.unique())\n",
    "len(selected_supply_stations)#.shape[0]\n",
    "data_st_selected = station_df[station_df['Station no.'].isin(select_1s.reset_index().level_0)].reset_index()\n",
    "import matplotlib.pyplot as plt"
   ],
   "metadata": {
    "collapsed": false,
    "ExecuteTime": {
     "end_time": "2023-07-05T02:06:40.525127100Z",
     "start_time": "2023-07-05T02:06:40.189418600Z"
    }
   }
  },
  {
   "cell_type": "code",
   "execution_count": 29,
   "outputs": [],
   "source": [
    "#data_st_selected.loc[:, 'Station no.'][i] #+ 1"
   ],
   "metadata": {
    "collapsed": false,
    "ExecuteTime": {
     "end_time": "2023-07-05T02:06:40.527120900Z",
     "start_time": "2023-07-05T02:06:40.263569900Z"
    }
   }
  },
  {
   "cell_type": "code",
   "execution_count": 30,
   "outputs": [
    {
     "ename": "NameError",
     "evalue": "name 'potential_station_data' is not defined",
     "output_type": "error",
     "traceback": [
      "\u001B[1;31m---------------------------------------------------------------------------\u001B[0m",
      "\u001B[1;31mNameError\u001B[0m                                 Traceback (most recent call last)",
      "Cell \u001B[1;32mIn[30], line 3\u001B[0m\n\u001B[0;32m      1\u001B[0m \u001B[38;5;66;03m# Input param\u001B[39;00m\n\u001B[0;32m      2\u001B[0m Stations, OilSpills, ResourcesD, Demand, Availability, Eff, Distance, TimeR, Cf_s, Cu_sor \\\n\u001B[1;32m----> 3\u001B[0m \u001B[38;5;241m=\u001B[39m data_preparation\u001B[38;5;241m.\u001B[39mgenerate_input_data(\u001B[43mpotential_station_data\u001B[49m, spill_data, input_parameters)\n\u001B[0;32m      4\u001B[0m SizeSpill \u001B[38;5;241m=\u001B[39m SizeSpill_R \u001B[38;5;241m=\u001B[39m \u001B[38;5;28mlist\u001B[39m(spill_data[\u001B[38;5;124m'\u001B[39m\u001B[38;5;124mSpill size\u001B[39m\u001B[38;5;124m'\u001B[39m])\u001B[38;5;241m.\u001B[39mcopy()\n\u001B[0;32m      5\u001B[0m Sensitivity_R \u001B[38;5;241m=\u001B[39m custom_func\u001B[38;5;241m.\u001B[39mcalculate_sensitivity(coordinates_spill[\u001B[38;5;241m0\u001B[39m], sensitivity_dataR)\n",
      "\u001B[1;31mNameError\u001B[0m: name 'potential_station_data' is not defined"
     ]
    }
   ],
   "source": [
    "# Input param\n",
    "Stations, OilSpills, ResourcesD, Demand, Availability, Eff, Distance, TimeR, Cf_s, Cu_sor \\\n",
    "= data_preparation.generate_input_data(potential_station_data, spill_data, input_parameters)\n",
    "SizeSpill = SizeSpill_R = list(spill_data['Spill size']).copy()\n",
    "Sensitivity_R = custom_func.calculate_sensitivity(coordinates_spill[0], sensitivity_dataR)\n",
    "# normalize\n",
    "SizeSpill_n = dict(zip(OilSpills, custom_func.normalize(SizeSpill_R, min(SizeSpill_R), max(SizeSpill_R))))\n",
    "Sensitivity_n = dict(zip(OilSpills, custom_func.normalize(Sensitivity_R, min(Sensitivity_R), max(Sensitivity_R))))\n",
    "Distance_n = dict(zip(Distance.keys(), custom_func.normalize(Distance.values(), min(Distance.values()), max(Distance.values()))))\n",
    "# (x_0-x_min)/(x_max-x_min)\n",
    "Effectiveness_n = dict(zip(Eff.keys(), custom_func.normalize(Eff.values(), min(Eff.values()), max(Eff.values()))))\n",
    "\n",
    "# Model\n",
    "model, select, deploy, mvars, names, values, \\\n",
    "        spill_df, station_df, select_1s, deploy_1s, ResponseTimeT, coverage_percentage, assignment  \\\n",
    "    = model.solve(Stations, OilSpills, ResourcesD, coordinates_st, coordinates_spill, SizeSpill, SizeSpill_n, \\\n",
    "          Demand, Sensitivity_R, Sensitivity_n, Eff, Effectiveness_n, Availability, NumberStMax, Distance, Distance_n, DistanceMax,  Cf_s, Cu_sor)\n",
    "\n",
    "# Draw the network\n",
    "model_analysis.draw_network_diagram(DistanceMax, NumberStMax, Sensitivity_R, spill_df, station_df, ResponseTimeT, coverage_percentage,\n",
    "                         assignment, deploy_1s, select_1s)"
   ],
   "metadata": {
    "collapsed": false,
    "ExecuteTime": {
     "end_time": "2023-07-05T02:06:43.551668400Z",
     "start_time": "2023-07-05T02:06:40.308457200Z"
    }
   }
  },
  {
   "cell_type": "code",
   "execution_count": null,
   "outputs": [],
   "source": [],
   "metadata": {
    "collapsed": false,
    "ExecuteTime": {
     "start_time": "2023-07-05T02:06:43.550667300Z"
    }
   }
  },
  {
   "cell_type": "code",
   "execution_count": null,
   "metadata": {},
   "outputs": [],
   "source": [
    "#import model_analysis"
   ]
  },
  {
   "cell_type": "code",
   "execution_count": null,
   "outputs": [],
   "source": [
    "model_analysis.draw_network_diagram(DistanceMax, NumberStMax, Sensitivity_R, spill_df, station_df, ResponseTimeT, coverage_percentage,\n",
    "                         assignment, deploy_1s, select_1s)"
   ],
   "metadata": {
    "collapsed": false
   }
  },
  {
   "cell_type": "code",
   "execution_count": null,
   "outputs": [],
   "source": [
    "import pandas as pd\n",
    "df = pd.DataFrame()\n",
    "#df['ll'] = list([2,10])\n",
    "#df.loc[1]"
   ],
   "metadata": {
    "collapsed": false
   }
  },
  {
   "cell_type": "code",
   "execution_count": null,
   "outputs": [],
   "source": [
    "df"
   ],
   "metadata": {
    "collapsed": false
   }
  },
  {
   "cell_type": "code",
   "execution_count": null,
   "outputs": [],
   "source": [
    "assignment.columns"
   ],
   "metadata": {
    "collapsed": false
   }
  },
  {
   "cell_type": "code",
   "execution_count": null,
   "outputs": [],
   "source": [
    "assignment"
   ],
   "metadata": {
    "collapsed": false
   }
  },
  {
   "cell_type": "code",
   "execution_count": null,
   "metadata": {},
   "outputs": [],
   "source": [
    "display(assignment)\n",
    "display(deploy_1s)"
   ]
  },
  {
   "cell_type": "code",
   "execution_count": null,
   "outputs": [],
   "source": [
    "deploy_reset = deploy_1s.reset_index()\n",
    "deploy_reset.columns = ['Station no.', 'Spill #', 'Resource Type', 'Quantity deployed']"
   ],
   "metadata": {
    "collapsed": false
   }
  },
  {
   "cell_type": "code",
   "execution_count": null,
   "outputs": [],
   "source": [
    "display(assignment)"
   ],
   "metadata": {
    "collapsed": false
   }
  },
  {
   "cell_type": "code",
   "execution_count": null,
   "outputs": [],
   "source": [
    "from matplotlib import collections as mc\n",
    "import matplotlib.pyplot as plt\n",
    "unique_stations = assignment['Station no.'].unique()\n",
    "\n",
    "fig, ax = plt.subplots()\n",
    "ArcticMap = gpd.read_file(\"Inputs/ArcGIS_data/ArcticShapefile2/ArcticShapefile2.shp\")\n",
    "ArcticMap = ArcticMap.to_crs(epsg=4326)  # 3857\n",
    "ArcticLand = ArcticMap[ArcticMap['Region_EN'].isin(['Arctic'])]\n",
    "ArcticLand.plot(ax=ax, color=\"seashell\")\n",
    "\n",
    "for ust in range(len(unique_stations)):\n",
    "    d1 = assignment.loc[assignment['Station no.'] == unique_stations[ust]].reset_index()\n",
    "    d_m = pd.DataFrame(d1.loc[d1['Resource Type'] == 'm'].copy())\n",
    "    d_c = d1.loc[d1['Resource Type'] == 'c'].copy()\n",
    "    d_i = d1.loc[d1['Resource Type'] == 'i'].copy()\n",
    "\n",
    "    new_list_m = []\n",
    "    for r1 in range(d_m.shape[0]):\n",
    "        new_list_m.append([(d_m.loc[r1, 'Spill_Longitude'], d_m.loc[r1, 'Spill_Latitude']), (d_m.loc[r1, 'St_Longitude'], d_m.loc[r1, 'St_Latitude'])])\n",
    "        # d_m.loc[2, 'Spill_Longitude']\n",
    "        # new_list_m.append([(d_m.Spill_Longitude[r1], d_m.Spill_Latitude[r1]), (d_m.St_Longitude[r1], d_m.St_Latitude[r1])])\n",
    "        lc_m = mc.LineCollection(new_list_m, colors=f'C{ust + 1}',\n",
    "                           alpha=.7, linestyle='dashed')  # 'Resource Type' alpha = (ust/len(unique_stations)), colors=ust, linewidths=[1,5,10],\n",
    "    ax.add_collection(lc_m)"
   ],
   "metadata": {
    "collapsed": false
   }
  },
  {
   "cell_type": "code",
   "execution_count": null,
   "outputs": [],
   "source": [
    "d_m.loc[2, 'Spill_Longitude']"
   ],
   "metadata": {
    "collapsed": false
   }
  },
  {
   "cell_type": "code",
   "execution_count": null,
   "outputs": [],
   "source": [
    "d_m.Spill_Longitude[0]"
   ],
   "metadata": {
    "collapsed": false
   }
  },
  {
   "cell_type": "code",
   "execution_count": null,
   "outputs": [],
   "source": [],
   "metadata": {
    "collapsed": false
   }
  },
  {
   "cell_type": "code",
   "execution_count": null,
   "outputs": [],
   "source": [
    "print(d_m.shape)\n",
    "print(d1.shape) #.Spill_Longitude[1]\n",
    "print(d_m.shape[0])\n",
    "display(d1)\n",
    "display(d_m)"
   ],
   "metadata": {
    "collapsed": false
   }
  },
  {
   "cell_type": "code",
   "execution_count": null,
   "outputs": [],
   "source": [
    "d_m\n",
    "#df.loc[df['col1'] == value]"
   ],
   "metadata": {
    "collapsed": false
   }
  },
  {
   "cell_type": "code",
   "execution_count": null,
   "outputs": [],
   "source": [
    "assignment.loc[assignment['Station no.'] == unique_stations[ust]].reset_index()"
   ],
   "metadata": {
    "collapsed": false
   }
  },
  {
   "cell_type": "markdown",
   "source": [
    "# Model Configuration 2"
   ],
   "metadata": {
    "collapsed": false
   }
  },
  {
   "cell_type": "markdown",
   "source": [
    "## Fig5b"
   ],
   "metadata": {
    "collapsed": false
   }
  },
  {
   "cell_type": "code",
   "execution_count": null,
   "outputs": [],
   "source": [],
   "metadata": {
    "collapsed": false
   }
  },
  {
   "cell_type": "markdown",
   "source": [
    "# Pareto Front\n"
   ],
   "metadata": {
    "collapsed": false
   }
  },
  {
   "cell_type": "code",
   "execution_count": null,
   "outputs": [],
   "source": [],
   "metadata": {
    "collapsed": false
   }
  },
  {
   "cell_type": "code",
   "execution_count": null,
   "outputs": [],
   "source": [
    "import pandas as pd\n",
    "import seaborn as sns\n",
    "import matplotlib.pyplot as plt"
   ],
   "metadata": {
    "collapsed": false
   }
  },
  {
   "cell_type": "code",
   "execution_count": null,
   "outputs": [],
   "source": [
    "data_pareto_front = pd.read_excel('Outputs/pareto front.xlsx', sheet_name='pareto front2')\n",
    "data_pareto_front"
   ],
   "metadata": {
    "collapsed": false
   }
  },
  {
   "cell_type": "code",
   "execution_count": null,
   "outputs": [],
   "source": [
    "plt.figure(figsize=(6,4))\n",
    "plt.scatter(data=data_pareto_front, x='Max Coverage', y='Min Cost',\n",
    "            alpha=0.5, edgecolors='b', s=200, color='g')\n",
    "plt.xlabel('Max Coverage')\n",
    "plt.ylabel('Min Cost')\n",
    "plt.grid(False)\n",
    "plt.tight_layout()\n",
    "plt.savefig('Outputs/pareto_front.png', transparent=True)"
   ],
   "metadata": {
    "collapsed": false
   }
  },
  {
   "cell_type": "markdown",
   "source": [],
   "metadata": {
    "collapsed": false
   }
  },
  {
   "cell_type": "code",
   "execution_count": null,
   "outputs": [],
   "source": [
    "plt.figure(figsize=(6,4))\n",
    "plt.scatter(data=data_pareto_front, x='Max Coverage', y='Min Cost',\n",
    "            alpha=0.5, edgecolors='b', s=200, color='g')\n",
    "plt.scatter(data=data_pareto_front, x='Max', y='Min',\n",
    "            alpha=0.5, edgecolors='black', s=200, color='r')\n",
    "Max = data_pareto_front[['Max']]\n",
    "Min = data_pareto_front[['Min']]\n",
    "plt.plot(Max, Min,\n",
    "            ls='--', alpha=0.5, color='r')\n",
    "plt.xlabel('Max Coverage')\n",
    "plt.ylabel('Min Cost')\n",
    "plt.grid(False)\n",
    "plt.tight_layout()\n",
    "#plt.axis('off')\n",
    "plt.savefig('Outputs/pareto_frontier_points.png', transparent=True)"
   ],
   "metadata": {
    "collapsed": false
   }
  },
  {
   "cell_type": "code",
   "execution_count": null,
   "outputs": [],
   "source": [],
   "metadata": {
    "collapsed": false
   }
  }
 ],
 "metadata": {
  "kernelspec": {
   "display_name": "Python 3 (ipykernel)",
   "language": "python",
   "name": "python3"
  },
  "language_info": {
   "codemirror_mode": {
    "name": "ipython",
    "version": 3
   },
   "file_extension": ".py",
   "mimetype": "text/x-python",
   "name": "python",
   "nbconvert_exporter": "python",
   "pygments_lexer": "ipython3",
   "version": "3.11.1"
  }
 },
 "nbformat": 4,
 "nbformat_minor": 1
}
