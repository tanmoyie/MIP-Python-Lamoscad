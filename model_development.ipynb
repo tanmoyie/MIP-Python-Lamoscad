{
 "cells": [
  {
   "cell_type": "markdown",
   "metadata": {},
   "source": [
    "# Model development\n",
    "\n",
    "Apply the model for small instances (e.g. 6 facilities, and 10 oil spills in Hudson)++\n",
    "\n",
    "Outline of this script:\n",
    "1. Input data\n",
    "2. Optimization Model\n",
    "3. Output in a form of Network Diagram"
   ]
  },
  {
   "cell_type": "markdown",
   "metadata": {},
   "source": [
    "# Data"
   ]
  },
  {
   "cell_type": "code",
   "execution_count": 1,
   "metadata": {
    "ExecuteTime": {
     "end_time": "2023-07-10T04:28:14.961116600Z",
     "start_time": "2023-07-10T04:28:10.510471800Z"
    }
   },
   "outputs": [],
   "source": [
    "# import custom functions\n",
    "import data_preparation\n",
    "import custom_func\n",
    "import model\n",
    "import model_analysis\n",
    "# import libraries\n",
    "import pandas as pd\n",
    "import geopandas as gpd\n",
    "import numpy as np"
   ]
  },
  {
   "cell_type": "code",
   "execution_count": 2,
   "metadata": {
    "ExecuteTime": {
     "end_time": "2023-07-10T04:28:25.091457Z",
     "start_time": "2023-07-10T04:28:14.969452700Z"
    }
   },
   "outputs": [],
   "source": [
    "# Import data\n",
    "# spill_data = pd.read_excel('Inputs/data_oil_spill_resource_allocation_Arctic_2023.xlsx', sheet_name='spills', header=0).copy()\n",
    "# spill_data = spill_data.sample(n=100)\n",
    "station_data = pd.read_excel('Inputs/data_oil_spill_resource_allocation_Arctic_2023.xlsx', sheet_name='stations', header=0).copy()\n",
    "#station_data = station_data.iloc[[7,9,10, 13,15,16, 18]] # for small scale problem, we select stations nearby Hudson Bay & Strait\n",
    "input_parameters = pd.read_excel('Inputs/data_oil_spill_resource_allocation_Arctic_2023.xlsx', sheet_name='Estimated parameters', header=0).copy()\n",
    "sensitivity_dataR = gpd.read_file('Inputs/ArcGIS_data/Sensitivity_data/Sensitivity_data5.shp').copy()"
   ]
  },
  {
   "cell_type": "code",
   "execution_count": 3,
   "outputs": [],
   "source": [
    "# spill_data.to_excel('Inputs/data_100_oil_spills.xlsx', sheet_name='spills')\n",
    "spill_data = pd.read_excel('Inputs/data_100_oil_spills.xlsx', sheet_name='spills', header=0).copy()\n"
   ],
   "metadata": {
    "collapsed": false,
    "ExecuteTime": {
     "end_time": "2023-07-10T04:28:25.185215200Z",
     "start_time": "2023-07-10T04:28:25.096496400Z"
    }
   }
  },
  {
   "cell_type": "code",
   "execution_count": 4,
   "metadata": {
    "ExecuteTime": {
     "end_time": "2023-07-10T04:28:25.302852900Z",
     "start_time": "2023-07-10T04:28:25.191754800Z"
    }
   },
   "outputs": [
    {
     "data": {
      "text/plain": "    Unnamed: 0 Spill #                               Coordinates  Spill size  \\\n0           73     o74   (64.50421666200003, -79.40601964599995)        8500   \n1           97     o98   (73.85872545439102, -77.06292927588505)        4820   \n2           52     o53  (58.851133884186325, -94.20693472697955)        3200   \n3          177    o178  (69.45553911240434, -123.85642478117892)        6160   \n4          202    o203   (65.38888826422587, -65.95218121659215)        5190   \n..         ...     ...                                       ...         ...   \n95         206    o207   (61.2787986028355, -114.41660450627202)        6480   \n96          42     o43   (70.5897855138361, -120.20613457011686)        5790   \n97         191    o192  (68.70553599203063, -134.23381941293684)        6430   \n98         173    o174  (72.04548849091111, -119.40991256546548)         800   \n99          77     o78   (63.44877230291223, -79.56227451700632)        5290   \n\n   Spill Size Type  Resource needed 1st Ranking  Skimmer  Dispersant  \\\n0            Large            425.0         CDU        0         800   \n1            Large            241.0         MCR       54           0   \n2            Large            160.0         ISB        0           0   \n3            Large            308.0         MCR       54           0   \n4            Large            259.5         ISB        0           0   \n..             ...              ...         ...      ...         ...   \n95           Large            324.0         MCR       54           0   \n96           Large            289.5         ISB        0           0   \n97           Large            321.5         ISB        0           0   \n98           Small             40.0         CDU        0         100   \n99           Large            264.5         MCR       54           0   \n\n    Burning materials  \n0                   0  \n1                   0  \n2                 257  \n3                   0  \n4                 257  \n..                ...  \n95                  0  \n96                257  \n97                257  \n98                  0  \n99                  0  \n\n[100 rows x 10 columns]",
      "text/html": "<div>\n<style scoped>\n    .dataframe tbody tr th:only-of-type {\n        vertical-align: middle;\n    }\n\n    .dataframe tbody tr th {\n        vertical-align: top;\n    }\n\n    .dataframe thead th {\n        text-align: right;\n    }\n</style>\n<table border=\"1\" class=\"dataframe\">\n  <thead>\n    <tr style=\"text-align: right;\">\n      <th></th>\n      <th>Unnamed: 0</th>\n      <th>Spill #</th>\n      <th>Coordinates</th>\n      <th>Spill size</th>\n      <th>Spill Size Type</th>\n      <th>Resource needed</th>\n      <th>1st Ranking</th>\n      <th>Skimmer</th>\n      <th>Dispersant</th>\n      <th>Burning materials</th>\n    </tr>\n  </thead>\n  <tbody>\n    <tr>\n      <th>0</th>\n      <td>73</td>\n      <td>o74</td>\n      <td>(64.50421666200003, -79.40601964599995)</td>\n      <td>8500</td>\n      <td>Large</td>\n      <td>425.0</td>\n      <td>CDU</td>\n      <td>0</td>\n      <td>800</td>\n      <td>0</td>\n    </tr>\n    <tr>\n      <th>1</th>\n      <td>97</td>\n      <td>o98</td>\n      <td>(73.85872545439102, -77.06292927588505)</td>\n      <td>4820</td>\n      <td>Large</td>\n      <td>241.0</td>\n      <td>MCR</td>\n      <td>54</td>\n      <td>0</td>\n      <td>0</td>\n    </tr>\n    <tr>\n      <th>2</th>\n      <td>52</td>\n      <td>o53</td>\n      <td>(58.851133884186325, -94.20693472697955)</td>\n      <td>3200</td>\n      <td>Large</td>\n      <td>160.0</td>\n      <td>ISB</td>\n      <td>0</td>\n      <td>0</td>\n      <td>257</td>\n    </tr>\n    <tr>\n      <th>3</th>\n      <td>177</td>\n      <td>o178</td>\n      <td>(69.45553911240434, -123.85642478117892)</td>\n      <td>6160</td>\n      <td>Large</td>\n      <td>308.0</td>\n      <td>MCR</td>\n      <td>54</td>\n      <td>0</td>\n      <td>0</td>\n    </tr>\n    <tr>\n      <th>4</th>\n      <td>202</td>\n      <td>o203</td>\n      <td>(65.38888826422587, -65.95218121659215)</td>\n      <td>5190</td>\n      <td>Large</td>\n      <td>259.5</td>\n      <td>ISB</td>\n      <td>0</td>\n      <td>0</td>\n      <td>257</td>\n    </tr>\n    <tr>\n      <th>...</th>\n      <td>...</td>\n      <td>...</td>\n      <td>...</td>\n      <td>...</td>\n      <td>...</td>\n      <td>...</td>\n      <td>...</td>\n      <td>...</td>\n      <td>...</td>\n      <td>...</td>\n    </tr>\n    <tr>\n      <th>95</th>\n      <td>206</td>\n      <td>o207</td>\n      <td>(61.2787986028355, -114.41660450627202)</td>\n      <td>6480</td>\n      <td>Large</td>\n      <td>324.0</td>\n      <td>MCR</td>\n      <td>54</td>\n      <td>0</td>\n      <td>0</td>\n    </tr>\n    <tr>\n      <th>96</th>\n      <td>42</td>\n      <td>o43</td>\n      <td>(70.5897855138361, -120.20613457011686)</td>\n      <td>5790</td>\n      <td>Large</td>\n      <td>289.5</td>\n      <td>ISB</td>\n      <td>0</td>\n      <td>0</td>\n      <td>257</td>\n    </tr>\n    <tr>\n      <th>97</th>\n      <td>191</td>\n      <td>o192</td>\n      <td>(68.70553599203063, -134.23381941293684)</td>\n      <td>6430</td>\n      <td>Large</td>\n      <td>321.5</td>\n      <td>ISB</td>\n      <td>0</td>\n      <td>0</td>\n      <td>257</td>\n    </tr>\n    <tr>\n      <th>98</th>\n      <td>173</td>\n      <td>o174</td>\n      <td>(72.04548849091111, -119.40991256546548)</td>\n      <td>800</td>\n      <td>Small</td>\n      <td>40.0</td>\n      <td>CDU</td>\n      <td>0</td>\n      <td>100</td>\n      <td>0</td>\n    </tr>\n    <tr>\n      <th>99</th>\n      <td>77</td>\n      <td>o78</td>\n      <td>(63.44877230291223, -79.56227451700632)</td>\n      <td>5290</td>\n      <td>Large</td>\n      <td>264.5</td>\n      <td>MCR</td>\n      <td>54</td>\n      <td>0</td>\n      <td>0</td>\n    </tr>\n  </tbody>\n</table>\n<p>100 rows × 10 columns</p>\n</div>"
     },
     "metadata": {},
     "output_type": "display_data"
    },
    {
     "data": {
      "text/plain": "    no. Station #     Station                                Name  \\\n0     1        s1   Station 1                         Beafort sea   \n1     2        s2   Station 2                Northwestern passage   \n2     3        s3   Station 3                    Kitikmeot Region   \n3     4        s4   Station 4                          Fort Smith   \n4     5        s5   Station 5                           Hay River   \n5     6        s6   Station 6                                 NaN   \n6     7        s7   Station 7                                 NaN   \n7     8        s8   Station 8                                 NaN   \n8     9        s9   Station 9                                 NaN   \n9    10       s10  Station 10                     Kivalliq Region   \n10   11       s11  Station 11                                 NaN   \n11   12       s12  Station 12  Baffin Island - Qikiqtaaluk Region   \n12   13       s13  Station 13                                 NaN   \n13   14       s14  Station 14                  Southampton Island   \n14   15       s15  Station 15                                 NaN   \n15   16       s16  Station 16                                 NaN   \n16   17       s17  Station 17                       Baffin Island   \n17   18       s18  Station 18                                 NaN   \n18   19       s19  Station 19                            Kimmirut   \n19   20       s20  Station 20                                 NaN   \n\n         Coordinates  skimmers  booms  dispersant  burning  Resources total  \\\n0          (70,-134)         0      1          33      NaN               34   \n1   (70.64, -119.43)         8      8          55      NaN               71   \n2   (67.09, -112.32)         1      4          58      NaN               63   \n3   (62.60, -113.19)        10      3          32      NaN               45   \n4   (60.53, -114.38)        40     10         100      NaN              150   \n5    (68.86,-103.19)        10      3          44      NaN               57   \n6   (63.93, -101.14)         0      3          47      NaN               50   \n7    (60.06, -95.89)         3      5          58      NaN               66   \n8    (75.11, -95.71)         5      7          59      NaN               71   \n9    (63.03, -91.74)         4      9          36      NaN               49   \n10  (62.67, -92.708)         6      2          37      NaN               45   \n11    (73.4, -88.16)        13      6          42      NaN               61   \n12    (73.4, -81.83)         4      7          50      NaN               61   \n13  (64.202, -83.91)         7      6          33      NaN               46   \n14   (71.71, -74.97)        10      0          32      NaN               42   \n15   (67.67, -76.38)         4      7          50      NaN               61   \n16   (64.62, -77.41)        22      4           0      NaN               26   \n17   (68.93, -69.17)        25      0           0      NaN               25   \n18   (63.15, -69.68)        20      7           0      NaN               27   \n19   (68.93, -65.57)        14      7           0      NaN               21   \n\n    Converted resources  Capacity  Unnamed: 12               Unnamed: 13  \n0                   NaN         0          NaN                       NaN  \n1                   NaN        80          NaN                       NaN  \n2                   NaN        80          NaN                       NaN  \n3                   NaN        80          NaN                       NaN  \n4                   NaN         0          NaN                       NaN  \n5                   NaN        80          NaN  (60.758054, -115.789890)  \n6                   NaN        80          NaN      (58.55084,-93.62352)  \n7                   NaN        80          NaN     (69.459, -132.974304)  \n8                   NaN        80          NaN   (63.742885, -68.464958)  \n9                   NaN        80          NaN                       NaN  \n10                  NaN        80          NaN                       NaN  \n11                  NaN        80          NaN                       NaN  \n12                  NaN        80          NaN                       NaN  \n13                  NaN        80          NaN                       NaN  \n14                  NaN        80          NaN                       NaN  \n15                  NaN        80          NaN                       NaN  \n16                  NaN        80          NaN                       NaN  \n17                  NaN        80          NaN                       NaN  \n18                  NaN         0          NaN                       NaN  \n19                  NaN        80          NaN                       NaN  ",
      "text/html": "<div>\n<style scoped>\n    .dataframe tbody tr th:only-of-type {\n        vertical-align: middle;\n    }\n\n    .dataframe tbody tr th {\n        vertical-align: top;\n    }\n\n    .dataframe thead th {\n        text-align: right;\n    }\n</style>\n<table border=\"1\" class=\"dataframe\">\n  <thead>\n    <tr style=\"text-align: right;\">\n      <th></th>\n      <th>no.</th>\n      <th>Station #</th>\n      <th>Station</th>\n      <th>Name</th>\n      <th>Coordinates</th>\n      <th>skimmers</th>\n      <th>booms</th>\n      <th>dispersant</th>\n      <th>burning</th>\n      <th>Resources total</th>\n      <th>Converted resources</th>\n      <th>Capacity</th>\n      <th>Unnamed: 12</th>\n      <th>Unnamed: 13</th>\n    </tr>\n  </thead>\n  <tbody>\n    <tr>\n      <th>0</th>\n      <td>1</td>\n      <td>s1</td>\n      <td>Station 1</td>\n      <td>Beafort sea</td>\n      <td>(70,-134)</td>\n      <td>0</td>\n      <td>1</td>\n      <td>33</td>\n      <td>NaN</td>\n      <td>34</td>\n      <td>NaN</td>\n      <td>0</td>\n      <td>NaN</td>\n      <td>NaN</td>\n    </tr>\n    <tr>\n      <th>1</th>\n      <td>2</td>\n      <td>s2</td>\n      <td>Station 2</td>\n      <td>Northwestern passage</td>\n      <td>(70.64, -119.43)</td>\n      <td>8</td>\n      <td>8</td>\n      <td>55</td>\n      <td>NaN</td>\n      <td>71</td>\n      <td>NaN</td>\n      <td>80</td>\n      <td>NaN</td>\n      <td>NaN</td>\n    </tr>\n    <tr>\n      <th>2</th>\n      <td>3</td>\n      <td>s3</td>\n      <td>Station 3</td>\n      <td>Kitikmeot Region</td>\n      <td>(67.09, -112.32)</td>\n      <td>1</td>\n      <td>4</td>\n      <td>58</td>\n      <td>NaN</td>\n      <td>63</td>\n      <td>NaN</td>\n      <td>80</td>\n      <td>NaN</td>\n      <td>NaN</td>\n    </tr>\n    <tr>\n      <th>3</th>\n      <td>4</td>\n      <td>s4</td>\n      <td>Station 4</td>\n      <td>Fort Smith</td>\n      <td>(62.60, -113.19)</td>\n      <td>10</td>\n      <td>3</td>\n      <td>32</td>\n      <td>NaN</td>\n      <td>45</td>\n      <td>NaN</td>\n      <td>80</td>\n      <td>NaN</td>\n      <td>NaN</td>\n    </tr>\n    <tr>\n      <th>4</th>\n      <td>5</td>\n      <td>s5</td>\n      <td>Station 5</td>\n      <td>Hay River</td>\n      <td>(60.53, -114.38)</td>\n      <td>40</td>\n      <td>10</td>\n      <td>100</td>\n      <td>NaN</td>\n      <td>150</td>\n      <td>NaN</td>\n      <td>0</td>\n      <td>NaN</td>\n      <td>NaN</td>\n    </tr>\n    <tr>\n      <th>5</th>\n      <td>6</td>\n      <td>s6</td>\n      <td>Station 6</td>\n      <td>NaN</td>\n      <td>(68.86,-103.19)</td>\n      <td>10</td>\n      <td>3</td>\n      <td>44</td>\n      <td>NaN</td>\n      <td>57</td>\n      <td>NaN</td>\n      <td>80</td>\n      <td>NaN</td>\n      <td>(60.758054, -115.789890)</td>\n    </tr>\n    <tr>\n      <th>6</th>\n      <td>7</td>\n      <td>s7</td>\n      <td>Station 7</td>\n      <td>NaN</td>\n      <td>(63.93, -101.14)</td>\n      <td>0</td>\n      <td>3</td>\n      <td>47</td>\n      <td>NaN</td>\n      <td>50</td>\n      <td>NaN</td>\n      <td>80</td>\n      <td>NaN</td>\n      <td>(58.55084,-93.62352)</td>\n    </tr>\n    <tr>\n      <th>7</th>\n      <td>8</td>\n      <td>s8</td>\n      <td>Station 8</td>\n      <td>NaN</td>\n      <td>(60.06, -95.89)</td>\n      <td>3</td>\n      <td>5</td>\n      <td>58</td>\n      <td>NaN</td>\n      <td>66</td>\n      <td>NaN</td>\n      <td>80</td>\n      <td>NaN</td>\n      <td>(69.459, -132.974304)</td>\n    </tr>\n    <tr>\n      <th>8</th>\n      <td>9</td>\n      <td>s9</td>\n      <td>Station 9</td>\n      <td>NaN</td>\n      <td>(75.11, -95.71)</td>\n      <td>5</td>\n      <td>7</td>\n      <td>59</td>\n      <td>NaN</td>\n      <td>71</td>\n      <td>NaN</td>\n      <td>80</td>\n      <td>NaN</td>\n      <td>(63.742885, -68.464958)</td>\n    </tr>\n    <tr>\n      <th>9</th>\n      <td>10</td>\n      <td>s10</td>\n      <td>Station 10</td>\n      <td>Kivalliq Region</td>\n      <td>(63.03, -91.74)</td>\n      <td>4</td>\n      <td>9</td>\n      <td>36</td>\n      <td>NaN</td>\n      <td>49</td>\n      <td>NaN</td>\n      <td>80</td>\n      <td>NaN</td>\n      <td>NaN</td>\n    </tr>\n    <tr>\n      <th>10</th>\n      <td>11</td>\n      <td>s11</td>\n      <td>Station 11</td>\n      <td>NaN</td>\n      <td>(62.67, -92.708)</td>\n      <td>6</td>\n      <td>2</td>\n      <td>37</td>\n      <td>NaN</td>\n      <td>45</td>\n      <td>NaN</td>\n      <td>80</td>\n      <td>NaN</td>\n      <td>NaN</td>\n    </tr>\n    <tr>\n      <th>11</th>\n      <td>12</td>\n      <td>s12</td>\n      <td>Station 12</td>\n      <td>Baffin Island - Qikiqtaaluk Region</td>\n      <td>(73.4, -88.16)</td>\n      <td>13</td>\n      <td>6</td>\n      <td>42</td>\n      <td>NaN</td>\n      <td>61</td>\n      <td>NaN</td>\n      <td>80</td>\n      <td>NaN</td>\n      <td>NaN</td>\n    </tr>\n    <tr>\n      <th>12</th>\n      <td>13</td>\n      <td>s13</td>\n      <td>Station 13</td>\n      <td>NaN</td>\n      <td>(73.4, -81.83)</td>\n      <td>4</td>\n      <td>7</td>\n      <td>50</td>\n      <td>NaN</td>\n      <td>61</td>\n      <td>NaN</td>\n      <td>80</td>\n      <td>NaN</td>\n      <td>NaN</td>\n    </tr>\n    <tr>\n      <th>13</th>\n      <td>14</td>\n      <td>s14</td>\n      <td>Station 14</td>\n      <td>Southampton Island</td>\n      <td>(64.202, -83.91)</td>\n      <td>7</td>\n      <td>6</td>\n      <td>33</td>\n      <td>NaN</td>\n      <td>46</td>\n      <td>NaN</td>\n      <td>80</td>\n      <td>NaN</td>\n      <td>NaN</td>\n    </tr>\n    <tr>\n      <th>14</th>\n      <td>15</td>\n      <td>s15</td>\n      <td>Station 15</td>\n      <td>NaN</td>\n      <td>(71.71, -74.97)</td>\n      <td>10</td>\n      <td>0</td>\n      <td>32</td>\n      <td>NaN</td>\n      <td>42</td>\n      <td>NaN</td>\n      <td>80</td>\n      <td>NaN</td>\n      <td>NaN</td>\n    </tr>\n    <tr>\n      <th>15</th>\n      <td>16</td>\n      <td>s16</td>\n      <td>Station 16</td>\n      <td>NaN</td>\n      <td>(67.67, -76.38)</td>\n      <td>4</td>\n      <td>7</td>\n      <td>50</td>\n      <td>NaN</td>\n      <td>61</td>\n      <td>NaN</td>\n      <td>80</td>\n      <td>NaN</td>\n      <td>NaN</td>\n    </tr>\n    <tr>\n      <th>16</th>\n      <td>17</td>\n      <td>s17</td>\n      <td>Station 17</td>\n      <td>Baffin Island</td>\n      <td>(64.62, -77.41)</td>\n      <td>22</td>\n      <td>4</td>\n      <td>0</td>\n      <td>NaN</td>\n      <td>26</td>\n      <td>NaN</td>\n      <td>80</td>\n      <td>NaN</td>\n      <td>NaN</td>\n    </tr>\n    <tr>\n      <th>17</th>\n      <td>18</td>\n      <td>s18</td>\n      <td>Station 18</td>\n      <td>NaN</td>\n      <td>(68.93, -69.17)</td>\n      <td>25</td>\n      <td>0</td>\n      <td>0</td>\n      <td>NaN</td>\n      <td>25</td>\n      <td>NaN</td>\n      <td>80</td>\n      <td>NaN</td>\n      <td>NaN</td>\n    </tr>\n    <tr>\n      <th>18</th>\n      <td>19</td>\n      <td>s19</td>\n      <td>Station 19</td>\n      <td>Kimmirut</td>\n      <td>(63.15, -69.68)</td>\n      <td>20</td>\n      <td>7</td>\n      <td>0</td>\n      <td>NaN</td>\n      <td>27</td>\n      <td>NaN</td>\n      <td>0</td>\n      <td>NaN</td>\n      <td>NaN</td>\n    </tr>\n    <tr>\n      <th>19</th>\n      <td>20</td>\n      <td>s20</td>\n      <td>Station 20</td>\n      <td>NaN</td>\n      <td>(68.93, -65.57)</td>\n      <td>14</td>\n      <td>7</td>\n      <td>0</td>\n      <td>NaN</td>\n      <td>21</td>\n      <td>NaN</td>\n      <td>80</td>\n      <td>NaN</td>\n      <td>NaN</td>\n    </tr>\n  </tbody>\n</table>\n</div>"
     },
     "metadata": {},
     "output_type": "display_data"
    }
   ],
   "source": [
    "display(spill_data)\n",
    "display(station_data)"
   ]
  },
  {
   "cell_type": "markdown",
   "source": [
    "## Input parameters"
   ],
   "metadata": {
    "collapsed": false
   }
  },
  {
   "cell_type": "code",
   "execution_count": 4,
   "outputs": [],
   "source": [],
   "metadata": {
    "collapsed": false,
    "ExecuteTime": {
     "end_time": "2023-07-10T04:28:25.316089400Z",
     "start_time": "2023-07-10T04:28:25.302852900Z"
    }
   }
  },
  {
   "cell_type": "code",
   "execution_count": 4,
   "outputs": [],
   "source": [],
   "metadata": {
    "collapsed": false,
    "ExecuteTime": {
     "end_time": "2023-07-10T04:28:25.317610400Z",
     "start_time": "2023-07-10T04:28:25.307581Z"
    }
   }
  },
  {
   "cell_type": "code",
   "execution_count": 5,
   "outputs": [],
   "source": [
    "NumberStMax = 10\n",
    "DistanceMax = 10 # (DistanceMax*80)km  convert it to kilometer, typical speed 20km/hr -> 480km/day\n",
    "TimeRMax = 220  # covert it into hours or minutes ++"
   ],
   "metadata": {
    "collapsed": false,
    "ExecuteTime": {
     "end_time": "2023-07-10T04:28:25.377723400Z",
     "start_time": "2023-07-10T04:28:25.320112700Z"
    }
   }
  },
  {
   "cell_type": "code",
   "execution_count": 6,
   "metadata": {
    "ExecuteTime": {
     "end_time": "2023-07-10T04:28:25.377723400Z",
     "start_time": "2023-07-10T04:28:25.327626400Z"
    }
   },
   "outputs": [],
   "source": [
    "BigM = 5000000\n",
    "current_vs_proposed = 'proposed' # current\n",
    "MaxFO = 1\n",
    "Budget = 20000000\n",
    "W = [0.25, 0.25, 0.25, 0.25, 0.25, 0.25]\n",
    "QuantityMin = 2\n",
    "\n",
    "FacilityHudson = ['',]"
   ]
  },
  {
   "cell_type": "code",
   "execution_count": null,
   "metadata": {
    "is_executing": true,
    "ExecuteTime": {
     "start_time": "2023-07-10T04:28:25.337827Z"
    }
   },
   "outputs": [],
   "source": [
    "# \n",
    "Stations, OilSpills, ResourcesD, Demand, Availability, Eff, Distance, TimeR, Cf_s, CostU \\\n",
    "= data_preparation.generate_input_data(station_data, spill_data, input_parameters)\n",
    "coordinates_spill = custom_func.extract_spill_coordinate(spill_data)\n",
    "coordinates_st = custom_func.extract_station_coordinate(station_data)"
   ]
  },
  {
   "cell_type": "code",
   "execution_count": null,
   "outputs": [],
   "source": [
    "max(Distance.values())"
   ],
   "metadata": {
    "collapsed": false,
    "is_executing": true
   }
  },
  {
   "cell_type": "code",
   "execution_count": null,
   "metadata": {
    "is_executing": true
   },
   "outputs": [],
   "source": [
    "print('coordinates_st')\n",
    "display(coordinates_st)\n",
    "\n",
    "print('Demand')\n",
    "display(Demand)\n",
    "print('Availability')\n",
    "display(Availability)\n",
    "print('Eff')\n",
    "display(Eff)\n",
    "\n",
    "print('Distance')\n",
    "display(Distance)\n",
    "\n",
    "print('TimeR')\n",
    "display(TimeR)\n",
    "\n",
    "print('Cf_s'); display(Cf_s)\n",
    "print('CostU')\n",
    "display(CostU)"
   ]
  },
  {
   "cell_type": "code",
   "execution_count": null,
   "metadata": {
    "is_executing": true
   },
   "outputs": [],
   "source": [
    "#max(Distance.values())\n",
    "SizeSpill = SizeSpill_R = list(spill_data['Spill size']).copy()\n",
    "Sensitivity_R = custom_func.calculate_sensitivity(coordinates_spill[0], sensitivity_dataR)\n",
    "# normalize\n",
    "SizeSpill_n = dict(zip(OilSpills, custom_func.normalize(SizeSpill_R, min(SizeSpill_R), max(SizeSpill_R))))\n",
    "Sensitivity_n = dict(zip(OilSpills, custom_func.normalize(Sensitivity_R, min(Sensitivity_R), max(Sensitivity_R))))\n",
    "\n",
    "Distance_n = dict(zip(Distance.keys(), custom_func.normalize(Distance.values(), min(Distance.values()), max(Distance.values()))))\n",
    "# (x_0-x_min)/(x_max-x_min) \n",
    "Effectiveness_n = dict(zip(Eff.keys(), custom_func.normalize(Eff.values(), min(Eff.values()), max(Eff.values()))))"
   ]
  },
  {
   "cell_type": "code",
   "execution_count": null,
   "metadata": {
    "is_executing": true
   },
   "outputs": [],
   "source": [
    "Demand\n"
   ]
  },
  {
   "cell_type": "code",
   "execution_count": null,
   "outputs": [],
   "source": [],
   "metadata": {
    "collapsed": false,
    "is_executing": true
   }
  },
  {
   "cell_type": "markdown",
   "metadata": {},
   "source": [
    "# Model Configuration 1\n",
    "## Table 3 (Row 1)"
   ]
  },
  {
   "cell_type": "code",
   "execution_count": null,
   "outputs": [],
   "source": [],
   "metadata": {
    "collapsed": false,
    "is_executing": true
   }
  },
  {
   "cell_type": "code",
   "execution_count": null,
   "outputs": [],
   "source": [
    "10**-6"
   ],
   "metadata": {
    "collapsed": false,
    "is_executing": true
   }
  },
  {
   "cell_type": "code",
   "execution_count": null,
   "outputs": [],
   "source": [
    "import model"
   ],
   "metadata": {
    "collapsed": false,
    "is_executing": true
   }
  },
  {
   "cell_type": "code",
   "execution_count": null,
   "metadata": {
    "is_executing": true
   },
   "outputs": [],
   "source": [
    "model, select, deploy, mvars, names, values, \\\n",
    "        spill_df, station_df, cover_1s, select_1s, deploy_1s, ResponseTimeT, coverage_percentage, assignment  \\\n",
    "    = model.solve(Stations, OilSpills, ResourcesD, coordinates_st, coordinates_spill, SizeSpill, SizeSpill_n,\n",
    "          Demand, Sensitivity_R, Sensitivity_n, Eff, Effectiveness_n, Availability, NumberStMax, Distance, Distance_n,\n",
    "          W, QuantityMin, DistanceMax, Cf_s, CostU, Budget,\n",
    "          BigM, MaxFO)"
   ]
  },
  {
   "cell_type": "code",
   "execution_count": null,
   "outputs": [],
   "source": [],
   "metadata": {
    "collapsed": false,
    "is_executing": true
   }
  },
  {
   "cell_type": "code",
   "execution_count": null,
   "metadata": {
    "is_executing": true
   },
   "outputs": [],
   "source": [
    "assignment"
   ]
  },
  {
   "cell_type": "code",
   "execution_count": null,
   "outputs": [],
   "source": [
    "cover_1s"
   ],
   "metadata": {
    "collapsed": false,
    "is_executing": true
   }
  },
  {
   "cell_type": "code",
   "execution_count": null,
   "outputs": [],
   "source": [
    "select_1s"
   ],
   "metadata": {
    "collapsed": false,
    "is_executing": true
   }
  },
  {
   "cell_type": "code",
   "execution_count": null,
   "outputs": [],
   "source": [
    "deploy_1s"
   ],
   "metadata": {
    "collapsed": false,
    "is_executing": true
   }
  },
  {
   "cell_type": "code",
   "execution_count": null,
   "metadata": {
    "is_executing": true
   },
   "outputs": [],
   "source": [
    "assignment"
   ]
  },
  {
   "cell_type": "code",
   "execution_count": null,
   "outputs": [],
   "source": [
    "\n"
   ],
   "metadata": {
    "collapsed": false,
    "is_executing": true
   }
  },
  {
   "cell_type": "code",
   "execution_count": null,
   "outputs": [],
   "source": [
    "assignment_df = pd.DataFrame(columns=list(assignment.columns.values))\n",
    "for i,o in enumerate(assignment['Spill #'].unique()):\n",
    "    minD = min(assignment.loc[assignment['Spill #'] == o]['Distance'])\n",
    "    df = assignment.iloc[np.where(assignment['Distance'] == minD)[0]]\n",
    "    assignment_df = pd.concat([assignment_df, df])\n",
    "assignment_df"
   ],
   "metadata": {
    "collapsed": false,
    "is_executing": true
   }
  },
  {
   "cell_type": "code",
   "execution_count": null,
   "outputs": [],
   "source": [],
   "metadata": {
    "collapsed": false,
    "is_executing": true
   }
  },
  {
   "cell_type": "code",
   "execution_count": null,
   "metadata": {
    "is_executing": true
   },
   "outputs": [],
   "source": [
    "print('Sensitivity_n')\n",
    "display(Sensitivity_n)\n",
    "\n",
    "print('Spill_df')\n",
    "display(spill_df)\n",
    "print('[item for item in deploy_1s.index]')\n",
    "display([item for item in deploy_1s.index])\n",
    "print('cover_1s')\n",
    "display(cover_1s)\n",
    "print('select_1s')\n",
    "display(select_1s)\n",
    "print('deploy_1s')\n",
    "display(deploy_1s)\n",
    "print('deploy_1s.index')\n",
    "display(deploy_1s.index)"
   ]
  },
  {
   "cell_type": "code",
   "execution_count": null,
   "outputs": [],
   "source": [
    "data_st_selected = station_df[station_df['Station no.'].isin(select_1s.reset_index())]"
   ],
   "metadata": {
    "collapsed": false,
    "is_executing": true
   }
  },
  {
   "cell_type": "code",
   "execution_count": null,
   "outputs": [],
   "source": [
    "ss2 = select_1s.reset_index()\n",
    "ss2.columns\n",
    "ss3 = select_1s.reset_index().rename({'index':'StationNo'}, axis=1)\n",
    "display(ss3)"
   ],
   "metadata": {
    "collapsed": false,
    "is_executing": true
   }
  },
  {
   "cell_type": "code",
   "execution_count": null,
   "outputs": [],
   "source": [],
   "metadata": {
    "collapsed": false,
    "is_executing": true
   }
  },
  {
   "cell_type": "markdown",
   "source": [
    "## Fig5a Network Diagram with 4 stations inc. Hay River as hub"
   ],
   "metadata": {
    "collapsed": false
   }
  },
  {
   "cell_type": "code",
   "execution_count": null,
   "outputs": [],
   "source": [
    "model_analysis.draw_network_diagram(DistanceMax, NumberStMax, Sensitivity_R, spill_df, station_df, ResponseTimeT, coverage_percentage,\n",
    "                         assignment, deploy_1s, select_1s, current_vs_proposed)"
   ],
   "metadata": {
    "collapsed": false,
    "is_executing": true
   }
  },
  {
   "cell_type": "markdown",
   "source": [
    "### Outputs (coverage percentage & mean Response Time)"
   ],
   "metadata": {
    "collapsed": false
   }
  },
  {
   "cell_type": "code",
   "execution_count": null,
   "outputs": [],
   "source": [
    "print(coverage_percentage)\n",
    "print(ResponseTimeT)"
   ],
   "metadata": {
    "collapsed": false,
    "is_executing": true
   }
  },
  {
   "cell_type": "markdown",
   "metadata": {},
   "source": [
    "## Table 4: Resource deployment from facilities"
   ]
  },
  {
   "cell_type": "code",
   "execution_count": null,
   "metadata": {
    "is_executing": true
   },
   "outputs": [],
   "source": [
    "\n",
    "selected_st_name = select_1s.reset_index()\n",
    "selected_st_name"
   ]
  },
  {
   "cell_type": "code",
   "execution_count": null,
   "metadata": {
    "is_executing": true
   },
   "outputs": [],
   "source": [
    "deploy_1s"
   ]
  },
  {
   "cell_type": "code",
   "execution_count": null,
   "metadata": {
    "is_executing": true
   },
   "outputs": [],
   "source": [
    "deploy_df = pd.DataFrame(deploy_1s.reset_index())\n",
    "deploy_df\n",
    "#deploy_df.columns = ['St', 'os', 'rr','amount']\n",
    "#print(deploy_df.columns)"
   ]
  },
  {
   "cell_type": "code",
   "execution_count": null,
   "outputs": [],
   "source": [
    "max(Distance_n.values())"
   ],
   "metadata": {
    "collapsed": false,
    "is_executing": true
   }
  },
  {
   "cell_type": "code",
   "execution_count": null,
   "metadata": {
    "is_executing": true
   },
   "outputs": [],
   "source": [
    "selected_st_name.index"
   ]
  },
  {
   "cell_type": "code",
   "execution_count": null,
   "metadata": {
    "is_executing": true
   },
   "outputs": [],
   "source": [
    "resource_deployment_from_facility = pd.DataFrame(columns=['M','C','I'])\n",
    "for index, st in enumerate(selected_st_name):\n",
    "    a = deploy_df.loc[(deploy_df['level_0'] == st) & (deploy_df['level_2'] == 'm'), 0].sum()\n",
    "    b = deploy_df.loc[(deploy_df['level_0'] == st) & (deploy_df['level_2'] == 'c'), 0].sum()\n",
    "    c = deploy_df.loc[(deploy_df['level_0'] == st) & (deploy_df['level_2'] == 'i'), 0].sum()\n",
    "    resource_deployment_from_facility.loc[index] = [a,b,c]\n",
    "    \n",
    "resource_deployment_from_facility.index=selected_st_name\n",
    "resource_deployment_from_facility"
   ]
  },
  {
   "cell_type": "code",
   "execution_count": null,
   "metadata": {
    "is_executing": true
   },
   "outputs": [],
   "source": []
  },
  {
   "cell_type": "markdown",
   "metadata": {},
   "source": []
  },
  {
   "cell_type": "code",
   "execution_count": null,
   "metadata": {
    "is_executing": true
   },
   "outputs": [],
   "source": [
    "#deploy_1s\n",
    "sum(Distance.values()) / len(Distance)\n",
    "max(Distance.values())"
   ]
  },
  {
   "cell_type": "code",
   "execution_count": null,
   "metadata": {
    "is_executing": true
   },
   "outputs": [],
   "source": [
    "display(select_1s)\n",
    "#display(station_df[station_df['Station no.'].isin(select_1s.reset_index().level_0)])\n",
    "display(spill_df)"
   ]
  },
  {
   "cell_type": "code",
   "execution_count": null,
   "outputs": [],
   "source": [
    "selected_supply_stations = list(deploy_1s.reset_index().level_1.unique())\n",
    "len(selected_supply_stations)#.shape[0]\n",
    "data_st_selected = station_df[station_df['Station no.'].isin(select_1s.reset_index().level_0)].reset_index()\n",
    "import matplotlib.pyplot as plt"
   ],
   "metadata": {
    "collapsed": false,
    "is_executing": true
   }
  },
  {
   "cell_type": "code",
   "execution_count": null,
   "outputs": [],
   "source": [
    "#data_st_selected.loc[:, 'Station no.'][i] #+ 1"
   ],
   "metadata": {
    "collapsed": false,
    "is_executing": true
   }
  },
  {
   "cell_type": "code",
   "execution_count": null,
   "outputs": [],
   "source": [
    "# Input param\n",
    "Stations, OilSpills, ResourcesD, Demand, Availability, Eff, Distance, TimeR, Cf_s, CostU \\\n",
    "= data_preparation.generate_input_data(potential_station_data, spill_data, input_parameters)\n",
    "SizeSpill = SizeSpill_R = list(spill_data['Spill size']).copy()\n",
    "Sensitivity_R = custom_func.calculate_sensitivity(coordinates_spill[0], sensitivity_dataR)\n",
    "# normalize\n",
    "SizeSpill_n = dict(zip(OilSpills, custom_func.normalize(SizeSpill_R, min(SizeSpill_R), max(SizeSpill_R))))\n",
    "Sensitivity_n = dict(zip(OilSpills, custom_func.normalize(Sensitivity_R, min(Sensitivity_R), max(Sensitivity_R))))\n",
    "Distance_n = dict(zip(Distance.keys(), custom_func.normalize(Distance.values(), min(Distance.values()), max(Distance.values()))))\n",
    "# (x_0-x_min)/(x_max-x_min)\n",
    "Effectiveness_n = dict(zip(Eff.keys(), custom_func.normalize(Eff.values(), min(Eff.values()), max(Eff.values()))))\n",
    "\n",
    "# Model\n",
    "model, select, deploy, mvars, names, values, \\\n",
    "        spill_df, station_df, select_1s, deploy_1s, ResponseTimeT, coverage_percentage, assignment  \\\n",
    "    = model.solve(Stations, OilSpills, ResourcesD, coordinates_st, coordinates_spill, SizeSpill, SizeSpill_n, \\\n",
    "          Demand, Sensitivity_R, Sensitivity_n, Eff, Effectiveness_n, Availability, NumberStMax, Distance, Distance_n, DistanceMax,  Cf_s, CostU)\n",
    "\n",
    "# Draw the network\n",
    "model_analysis.draw_network_diagram(DistanceMax, NumberStMax, Sensitivity_R, spill_df, station_df, ResponseTimeT, coverage_percentage,\n",
    "                         assignment, deploy_1s, select_1s)"
   ],
   "metadata": {
    "collapsed": false,
    "is_executing": true
   }
  },
  {
   "cell_type": "code",
   "execution_count": null,
   "outputs": [],
   "source": [],
   "metadata": {
    "collapsed": false,
    "is_executing": true
   }
  },
  {
   "cell_type": "code",
   "execution_count": null,
   "metadata": {
    "is_executing": true
   },
   "outputs": [],
   "source": [
    "#import model_analysis"
   ]
  },
  {
   "cell_type": "code",
   "execution_count": null,
   "outputs": [],
   "source": [
    "model_analysis.draw_network_diagram(DistanceMax, NumberStMax, Sensitivity_R, spill_df, station_df, ResponseTimeT, coverage_percentage,\n",
    "                         assignment, deploy_1s, select_1s)"
   ],
   "metadata": {
    "collapsed": false,
    "is_executing": true
   }
  },
  {
   "cell_type": "code",
   "execution_count": null,
   "outputs": [],
   "source": [
    "import pandas as pd\n",
    "df = pd.DataFrame()\n",
    "#df['ll'] = list([2,10])\n",
    "#df.loc[1]"
   ],
   "metadata": {
    "collapsed": false,
    "is_executing": true
   }
  },
  {
   "cell_type": "code",
   "execution_count": null,
   "outputs": [],
   "source": [
    "df"
   ],
   "metadata": {
    "collapsed": false,
    "is_executing": true
   }
  },
  {
   "cell_type": "code",
   "execution_count": null,
   "outputs": [],
   "source": [
    "assignment.columns"
   ],
   "metadata": {
    "collapsed": false,
    "is_executing": true
   }
  },
  {
   "cell_type": "code",
   "execution_count": null,
   "outputs": [],
   "source": [
    "assignment"
   ],
   "metadata": {
    "collapsed": false,
    "is_executing": true
   }
  },
  {
   "cell_type": "code",
   "execution_count": null,
   "metadata": {
    "is_executing": true
   },
   "outputs": [],
   "source": [
    "display(assignment)\n",
    "display(deploy_1s)"
   ]
  },
  {
   "cell_type": "code",
   "execution_count": null,
   "outputs": [],
   "source": [
    "deploy_reset = deploy_1s.reset_index()\n",
    "deploy_reset.columns = ['Station no.', 'Spill #', 'Resource Type', 'Quantity deployed']"
   ],
   "metadata": {
    "collapsed": false,
    "is_executing": true
   }
  },
  {
   "cell_type": "code",
   "execution_count": null,
   "outputs": [],
   "source": [
    "display(assignment)"
   ],
   "metadata": {
    "collapsed": false,
    "is_executing": true
   }
  },
  {
   "cell_type": "code",
   "execution_count": null,
   "outputs": [],
   "source": [
    "from matplotlib import collections as mc\n",
    "import matplotlib.pyplot as plt\n",
    "unique_stations = assignment['Station no.'].unique()\n",
    "\n",
    "fig, ax = plt.subplots()\n",
    "ArcticMap = gpd.read_file(\"Inputs/ArcGIS_data/ArcticShapefile2/ArcticShapefile2.shp\")\n",
    "ArcticMap = ArcticMap.to_crs(epsg=4326)  # 3857\n",
    "ArcticLand = ArcticMap[ArcticMap['Region_EN'].isin(['Arctic'])]\n",
    "ArcticLand.plot(ax=ax, color=\"seashell\")\n",
    "\n",
    "for ust in range(len(unique_stations)):\n",
    "    d1 = assignment.loc[assignment['Station no.'] == unique_stations[ust]].reset_index()\n",
    "    d_m = pd.DataFrame(d1.loc[d1['Resource Type'] == 'm'].copy())\n",
    "    d_c = d1.loc[d1['Resource Type'] == 'c'].copy()\n",
    "    d_i = d1.loc[d1['Resource Type'] == 'i'].copy()\n",
    "\n",
    "    new_list_m = []\n",
    "    for r1 in range(d_m.shape[0]):\n",
    "        new_list_m.append([(d_m.loc[r1, 'Spill_Longitude'], d_m.loc[r1, 'Spill_Latitude']), (d_m.loc[r1, 'St_Longitude'], d_m.loc[r1, 'St_Latitude'])])\n",
    "        # d_m.loc[2, 'Spill_Longitude']\n",
    "        # new_list_m.append([(d_m.Spill_Longitude[r1], d_m.Spill_Latitude[r1]), (d_m.St_Longitude[r1], d_m.St_Latitude[r1])])\n",
    "        lc_m = mc.LineCollection(new_list_m, colors=f'C{ust + 1}',\n",
    "                           alpha=.7, linestyle='dashed')  # 'Resource Type' alpha = (ust/len(unique_stations)), colors=ust, linewidths=[1,5,10],\n",
    "    ax.add_collection(lc_m)"
   ],
   "metadata": {
    "collapsed": false,
    "is_executing": true
   }
  },
  {
   "cell_type": "code",
   "execution_count": null,
   "outputs": [],
   "source": [
    "d_m.loc[2, 'Spill_Longitude']"
   ],
   "metadata": {
    "collapsed": false,
    "is_executing": true
   }
  },
  {
   "cell_type": "code",
   "execution_count": null,
   "outputs": [],
   "source": [
    "d_m.Spill_Longitude[0]"
   ],
   "metadata": {
    "collapsed": false,
    "is_executing": true
   }
  },
  {
   "cell_type": "code",
   "execution_count": null,
   "outputs": [],
   "source": [],
   "metadata": {
    "collapsed": false,
    "is_executing": true
   }
  },
  {
   "cell_type": "code",
   "execution_count": null,
   "outputs": [],
   "source": [
    "print(d_m.shape)\n",
    "print(d1.shape) #.Spill_Longitude[1]\n",
    "print(d_m.shape[0])\n",
    "display(d1)\n",
    "display(d_m)"
   ],
   "metadata": {
    "collapsed": false,
    "is_executing": true
   }
  },
  {
   "cell_type": "code",
   "execution_count": null,
   "outputs": [],
   "source": [
    "d_m\n",
    "#df.loc[df['col1'] == value]"
   ],
   "metadata": {
    "collapsed": false,
    "is_executing": true
   }
  },
  {
   "cell_type": "code",
   "execution_count": null,
   "outputs": [],
   "source": [
    "assignment.loc[assignment['Station no.'] == unique_stations[ust]].reset_index()"
   ],
   "metadata": {
    "collapsed": false,
    "is_executing": true
   }
  },
  {
   "cell_type": "markdown",
   "source": [
    "# Model Configuration 2"
   ],
   "metadata": {
    "collapsed": false
   }
  },
  {
   "cell_type": "markdown",
   "source": [
    "## Fig5b"
   ],
   "metadata": {
    "collapsed": false
   }
  },
  {
   "cell_type": "code",
   "execution_count": null,
   "outputs": [],
   "source": [],
   "metadata": {
    "collapsed": false,
    "is_executing": true
   }
  },
  {
   "cell_type": "markdown",
   "source": [
    "# Pareto Front\n"
   ],
   "metadata": {
    "collapsed": false
   }
  },
  {
   "cell_type": "code",
   "execution_count": null,
   "outputs": [],
   "source": [],
   "metadata": {
    "collapsed": false,
    "is_executing": true
   }
  },
  {
   "cell_type": "code",
   "execution_count": null,
   "outputs": [],
   "source": [
    "import pandas as pd\n",
    "import seaborn as sns\n",
    "import matplotlib.pyplot as plt"
   ],
   "metadata": {
    "collapsed": false,
    "is_executing": true
   }
  },
  {
   "cell_type": "code",
   "execution_count": null,
   "outputs": [],
   "source": [
    "data_pareto_front = pd.read_excel('Outputs/pareto front.xlsx', sheet_name='pareto front2')\n",
    "data_pareto_front"
   ],
   "metadata": {
    "collapsed": false,
    "is_executing": true
   }
  },
  {
   "cell_type": "code",
   "execution_count": null,
   "outputs": [],
   "source": [
    "plt.figure(figsize=(6,4))\n",
    "plt.scatter(data=data_pareto_front, x='Max Coverage', y='Min Cost',\n",
    "            alpha=0.5, edgecolors='b', s=200, color='g')\n",
    "plt.xlabel('Max Coverage')\n",
    "plt.ylabel('Min Cost')\n",
    "plt.grid(False)\n",
    "plt.tight_layout()\n",
    "plt.savefig('Outputs/pareto_front.png', transparent=True)"
   ],
   "metadata": {
    "collapsed": false,
    "is_executing": true
   }
  },
  {
   "cell_type": "markdown",
   "source": [],
   "metadata": {
    "collapsed": false
   }
  },
  {
   "cell_type": "code",
   "execution_count": null,
   "outputs": [],
   "source": [
    "plt.figure(figsize=(6,4))\n",
    "plt.scatter(data=data_pareto_front, x='Max Coverage', y='Min Cost',\n",
    "            alpha=0.5, edgecolors='b', s=200, color='g')\n",
    "plt.scatter(data=data_pareto_front, x='Max', y='Min',\n",
    "            alpha=0.5, edgecolors='black', s=200, color='r')\n",
    "Max = data_pareto_front[['Max']]\n",
    "Min = data_pareto_front[['Min']]\n",
    "plt.plot(Max, Min,\n",
    "            ls='--', alpha=0.5, color='r')\n",
    "plt.xlabel('Max Coverage')\n",
    "plt.ylabel('Min Cost')\n",
    "plt.grid(False)\n",
    "plt.tight_layout()\n",
    "#plt.axis('off')\n",
    "plt.savefig('Outputs/pareto_frontier_points.png', transparent=True)"
   ],
   "metadata": {
    "collapsed": false,
    "is_executing": true
   }
  },
  {
   "cell_type": "code",
   "execution_count": null,
   "outputs": [],
   "source": [],
   "metadata": {
    "collapsed": false,
    "is_executing": true
   }
  }
 ],
 "metadata": {
  "kernelspec": {
   "display_name": "Python 3 (ipykernel)",
   "language": "python",
   "name": "python3"
  },
  "language_info": {
   "codemirror_mode": {
    "name": "ipython",
    "version": 3
   },
   "file_extension": ".py",
   "mimetype": "text/x-python",
   "name": "python",
   "nbconvert_exporter": "python",
   "pygments_lexer": "ipython3",
   "version": "3.11.1"
  }
 },
 "nbformat": 4,
 "nbformat_minor": 1
}
