{
 "cells": [
  {
   "cell_type": "markdown",
   "metadata": {},
   "source": [
    "# Exploratory Data Analysis"
   ]
  },
  {
   "cell_type": "markdown",
   "metadata": {},
   "source": [
    "File Name: exploratory_data_analysis.ipynb\n",
    "Purpose: Data visualization (Fig 3)\n",
    "Outline:\n",
    "1. Response Facility in Canadian Arctic\n",
    "2. Sensitive areas\n",
    "3. Draw shipping routes\n",
    "4. Draw Hypothetical oil spills\n",
    "\n",
    "Developer: Tanmoy Das\n",
    "Date: March 2023"
   ]
  },
  {
   "cell_type": "code",
   "execution_count": null,
   "metadata": {},
   "outputs": [],
   "source": [
    "# Import Python libraries\n",
    "import pandas as pd\n",
    "\n",
    "import geopandas as gpd\n",
    "import shapely\n",
    "import custom_func, eda\n",
    "\n",
    "import plotly.express as px\n",
    "import numpy as np\n",
    "import matplotlib.pyplot as plt\n",
    "%matplotlib inline"
   ]
  },
  {
   "cell_type": "code",
   "execution_count": null,
   "outputs": [],
   "source": [
    "# Load geometric file for map\n",
    "ArcticMap = gpd.read_file(\"Inputs/ArcGIS_data/ArcticShapefile2/ArcticShapefile2.shp\")\n",
    "ArcticMap = ArcticMap.to_crs(epsg=4326)  # 3857\n",
    "ArcticLand = ArcticMap[ArcticMap['Region_EN'].isin(['Arctic'])]\n",
    "ArcticWater = ArcticMap[ArcticMap['Region_EN'].isin(['Arctic-Water'])]\n",
    "\n",
    "current_st = pd.read_excel('Inputs/data_oil_spill_resource_allocation_Arctic_2023.xlsx', sheet_name='current')\n",
    "acp2 = pd.read_excel('Inputs/data_oil_spill_resource_allocation_Arctic_2023.xlsx', sheet_name='stations')\n",
    "\n",
    "spill_data = pd.read_excel('Inputs/data_100_oil_spills.xlsx', sheet_name='spills', header=0).copy()\n"
   ],
   "metadata": {
    "collapsed": false
   }
  },
  {
   "cell_type": "code",
   "execution_count": null,
   "outputs": [],
   "source": [
    "current_st"
   ],
   "metadata": {
    "collapsed": false
   }
  },
  {
   "cell_type": "code",
   "execution_count": null,
   "outputs": [],
   "source": [
    "coordinates_current_st = custom_func.extract_station_coordinate(current_st)\n",
    "coordinate_current_st_df = pd.DataFrame(coordinates_current_st[0])\n",
    "coordinate_current_st_df.columns = ['Latitude','Longitude']\n",
    "coordinate_current_st_df['Capacity'] = current_st['Capacity'].copy()\n",
    "coordinate_current_st_df['FacilityLocation'] = current_st['FacilityLocation'].copy()\n",
    "\n",
    "coordinates_acp = custom_func.extract_station_coordinate(acp2)\n",
    "coordinate_df_acp = pd.DataFrame(coordinates_acp[0])\n",
    "coordinate_df_acp.columns = ['Latitude','Longitude']\n",
    "coordinate_df_acp['Capacity'] = acp2['Capacity'].copy()"
   ],
   "metadata": {
    "collapsed": false
   }
  },
  {
   "cell_type": "markdown",
   "source": [
    "# Fig3"
   ],
   "metadata": {
    "collapsed": false
   }
  },
  {
   "cell_type": "markdown",
   "source": [
    "## (a) Current response stations and cache"
   ],
   "metadata": {
    "collapsed": false
   }
  },
  {
   "cell_type": "code",
   "execution_count": null,
   "outputs": [],
   "source": [
    "fig, ax = plt.subplots(figsize=(5,5))\n",
    "ArcticLandPlot = ArcticLand.plot(ax=ax, color=\"seashell\", alpha=.5)  # ax=ax,\n",
    "ArcticWaterPlot = ArcticWater.plot(ax=ax, color=\"lightskyblue\", alpha=.5)\n",
    "acp03 = pd.concat([coordinate_df_acp, acp2], axis=1)\n",
    "acp03.rename(columns={\"Station #\": \"StationNo\"}, inplace=True)\n",
    "\n",
    "st_name = ['$s_{tu}$', '$s_{ha}$', '$s_{ch}$', '$s_{iq}$']\n",
    "acp_name = ['$idx$' for idx in acp03.StationNo]\n",
    "\n",
    "#acp_name = [idx for idx in acp03.StationNo]\n",
    "acp_name = ['$s_1$',  '$s_2$',  '$s_3$',  '$s_4$', '$s_5$',  '$s_6$', '$s_7$',  '$s_8$', '$s_9$',  '$s_{10}$','$s_{11}$','$s_{12}$','$s_{13}$','$s_{14}$','$s_{15}$',\n",
    "            '$s_{16}$','$s_{17}$','$s_{18}$','$s_{19}$','$s_{20}$',]\n",
    "\n",
    "params = {'mathtext.default':'regular'}\n",
    "plt.rcParams.update(params)\n",
    "\n",
    "st = plt.scatter(data=coordinate_current_st_df,\n",
    "                 x='Longitude', y='Latitude', marker='^', alpha=0.6, s='Capacity',\n",
    "                 c='green', edgecolors='black')\n",
    "\n",
    "# Hayriver, churchil\n",
    "for i in range(len(coordinate_current_st_df)):\n",
    "    plt.text(x=coordinate_current_st_df.Longitude[i] + 2.5, y=coordinate_current_st_df.Latitude[i] - .25,\n",
    "             s=coordinate_current_st_df.FacilityLocation[i],  # loc[:, 'Station #'][i],\n",
    "             fontdict=dict(color='blue', size=9))\n",
    "\n",
    "# s_tu, s_ha\n",
    "for i in range(len(coordinate_current_st_df)):\n",
    "    plt.text(x=coordinate_current_st_df.Longitude[i] + 2.5, y=coordinate_current_st_df.Latitude[i] - 1,\n",
    "             s=st_name[i], fontdict=dict(color='green', size=10))\n",
    "\n",
    "# Facility location\n",
    "\n",
    "acp22 = plt.scatter(data=coordinate_df_acp,\n",
    "                 x='Longitude', y='Latitude', marker='^', alpha=0.4, s='Capacity',\n",
    "                 c='blue', edgecolors='black')\n",
    "# s1, s2, s3\n",
    "for i in range(len(acp03)):\n",
    "    plt.text(x=acp03.Longitude[i] - 3.5, y=acp03.Latitude[i] - .25,\n",
    "             s=acp_name[i],  # loc[:, 'Station #'][i],\n",
    "             fontdict=dict(color='blue', size=9))\n",
    "\n",
    "plt.legend((st, acp22),\n",
    "           ('Current Facilities', 'ACP'),\n",
    "           loc='lower left',\n",
    "           ncol=1, handlelength=5, borderpad=.5, markerscale=.4,\n",
    "           fontsize=10)\n",
    "\n",
    "\n",
    "ax.set_xlim([-140,-60])\n",
    "ax.set_ylim([50, 80])\n",
    "ax.grid(False)\n",
    "plt.axis('off')\n",
    "#plt.show()\n",
    "plt.tight_layout()\n",
    "fig.savefig(f'Outputs/Fig3a current facilities & ACP.png', transparent=False, dpi = 350)"
   ],
   "metadata": {
    "collapsed": false
   }
  },
  {
   "cell_type": "code",
   "execution_count": null,
   "outputs": [],
   "source": [],
   "metadata": {
    "collapsed": false
   }
  },
  {
   "cell_type": "markdown",
   "source": [
    "## (b) Sensitive areas"
   ],
   "metadata": {
    "collapsed": false
   }
  },
  {
   "cell_type": "code",
   "execution_count": null,
   "outputs": [],
   "source": [
    "# Load geometric file for map\n",
    "gerome_ = gpd.read_file(\"Inputs/ArcGIS_data/Gerome2/Sensitivity_data_Gerome.shp\")\n",
    "marine_protective_area = gpd.read_file(\"Inputs/ArcGIS_data/Northern_Canada_2011/shapefiles/LCC_NAD83/prot_areas_p.shp\")\n",
    "indigenous_population = gpd.read_file(\"Inputs/ArcGIS_data/Northern_Canada_2011/shapefiles/LCC_NAD83/popplace_pt.shp\")\n",
    "gerome_shp = gerome_.to_crs(epsg=4326)\n",
    "marine_protective_area = marine_protective_area.to_crs(epsg=4326)\n",
    "indigenous_population_area = indigenous_population.to_crs(epsg=4326)"
   ],
   "metadata": {
    "collapsed": false
   }
  },
  {
   "cell_type": "code",
   "execution_count": null,
   "outputs": [],
   "source": [
    "gerome_shp['Sensitivity_n'] = (gerome_shp['Sensitivit']-min(gerome_shp['Sensitivit']))/(max(gerome_shp['Sensitivit'])-min(gerome_shp['Sensitivit']))"
   ],
   "metadata": {
    "collapsed": false
   }
  },
  {
   "cell_type": "markdown",
   "source": [],
   "metadata": {
    "collapsed": false
   }
  },
  {
   "cell_type": "code",
   "execution_count": null,
   "outputs": [],
   "source": [
    "fig, ax = plt.subplots(figsize=(5,5))  #++ figsize=(8,8)\n",
    "ArcticLandPlot = ArcticLand.plot(ax=ax, color=\"seashell\", alpha=.5)  # ax=ax,\n",
    "ArcticWaterPlot = ArcticWater.plot(ax=ax, color=\"lightskyblue\", alpha=.5)\n",
    "\n",
    "gerome_plot = gerome_shp.plot(ax=ax, color='red', alpha=gerome_shp['Sensitivity_n']) # color=\"lightskyblue\",\n",
    "mpa_plot = marine_protective_area.plot(ax=ax, color='gray', zorder=2)\n",
    "\n",
    "\n",
    "ax.set_xlim([-140,-60])\n",
    "ax.set_ylim([50, 80])\n",
    "ax.axis('off')\n",
    "plt.tight_layout()\n",
    "# fig.savefig(f'Outputs/Fig 3b Sensitivity only.png', transparent=True)"
   ],
   "metadata": {
    "collapsed": false
   }
  },
  {
   "cell_type": "markdown",
   "source": [],
   "metadata": {
    "collapsed": false
   }
  },
  {
   "cell_type": "code",
   "execution_count": null,
   "outputs": [],
   "source": [
    "fig, ax = plt.subplots(figsize=(5,5))  #++ figsize=(8,8)\n",
    "ArcticLandPlot = ArcticLand.plot(ax=ax, color=\"seashell\", alpha=0.5)  # ax=ax,\n",
    "ArcticWaterPlot = ArcticWater.plot(ax=ax, color=\"lightskyblue\", alpha=0.5)\n",
    "\n",
    "gerome_plot = gerome_shp.plot(ax=ax, color='red', alpha=gerome_shp['Sensitivity_n']) # color=\"lightskyblue\",\n",
    "mpa_plot = marine_protective_area.plot(ax=ax, color='gray', zorder=2)\n",
    "\n",
    "mpa_plot = indigenous_population_area.plot(ax=ax, marker='*',markersize=25, color='purple', zorder=3, alpha=.5)\n",
    "\n",
    "\n",
    "ax.set_xlim([-140,-60])\n",
    "ax.set_ylim([50, 80])\n",
    "ax.axis('off')\n",
    "plt.tight_layout()\n",
    "fig.savefig(f'Outputs/Fig3b Sensitivity & population.png', transparent=False, dpi = 310)"
   ],
   "metadata": {
    "collapsed": false
   }
  },
  {
   "cell_type": "code",
   "execution_count": null,
   "outputs": [],
   "source": [],
   "metadata": {
    "collapsed": false
   }
  },
  {
   "cell_type": "markdown",
   "source": [
    "## (c) Shipping route"
   ],
   "metadata": {
    "collapsed": false
   }
  },
  {
   "cell_type": "code",
   "execution_count": null,
   "outputs": [],
   "source": [],
   "metadata": {
    "collapsed": false
   }
  },
  {
   "cell_type": "code",
   "execution_count": null,
   "outputs": [],
   "source": [],
   "metadata": {
    "collapsed": false
   }
  },
  {
   "cell_type": "markdown",
   "source": [
    "## (d) Oil spills"
   ],
   "metadata": {
    "collapsed": false
   }
  },
  {
   "cell_type": "code",
   "execution_count": null,
   "outputs": [],
   "source": [
    "\n",
    "name = 'Fig3d oil spills'\n",
    "\n",
    "coordinates = custom_func.extract_coordinate(spill_data)\n",
    "coordinate_df = pd.DataFrame(coordinates[0])\n",
    "coordinate_df.columns = ['Latitude', 'Longitude']\n",
    "coordinate_gdf = gpd.GeoDataFrame(\n",
    "    coordinate_df, geometry=gpd.points_from_xy(coordinate_df.Longitude, coordinate_df.Latitude))\n",
    "coordinate_gdf = coordinate_gdf.set_crs(epsg=4326)"
   ],
   "metadata": {
    "collapsed": false
   }
  },
  {
   "cell_type": "code",
   "execution_count": null,
   "outputs": [],
   "source": [],
   "metadata": {
    "collapsed": false
   }
  },
  {
   "cell_type": "code",
   "execution_count": null,
   "outputs": [],
   "source": [
    "fig, ax = plt.subplots(figsize=(6,6))\n",
    "\n",
    "ArcticLandPlot = ArcticLand.plot(ax=ax, color=\"seashell\", alpha=.5)  # ax=ax,\n",
    "ArcticWaterPlot = ArcticWater.plot(ax=ax, color=\"lightskyblue\", alpha=.5)\n",
    "\n",
    "plt.scatter(data=coordinate_gdf,\n",
    "                 x='Longitude', y='Latitude', marker='o', alpha=.2, s=200,\n",
    "                 # s=amountSt_groupby['amountSt_display'],\n",
    "                 c='black')\n",
    "\n",
    "ax.set_xlim([-141, -60])\n",
    "ax.set_ylim([51, 84])\n",
    "ax.axis('off')\n",
    "plt.tight_layout()\n",
    "plt.show()\n",
    "fig.savefig(f'Outputs/{name}400.png', transparent=False, dpi=400)"
   ],
   "metadata": {
    "collapsed": false
   }
  },
  {
   "cell_type": "code",
   "execution_count": null,
   "outputs": [],
   "source": [],
   "metadata": {
    "collapsed": false
   }
  },
  {
   "cell_type": "markdown",
   "source": [
    "# Transparent Figures for presentation"
   ],
   "metadata": {
    "collapsed": false
   }
  },
  {
   "cell_type": "markdown",
   "source": [
    "## Current facilities"
   ],
   "metadata": {
    "collapsed": false
   }
  },
  {
   "cell_type": "code",
   "execution_count": null,
   "outputs": [],
   "source": [
    "fig, ax = plt.subplots(figsize=(5,5))\n",
    "\n",
    "\n",
    "st = plt.scatter(data=coordinate_current_st_df,\n",
    "                 x='Longitude', y='Latitude', marker='^', alpha=0.6, s='Capacity',\n",
    "                 c='blue', edgecolors='black')\n",
    "\n",
    "for i in range(len(coordinate_current_st_df)):\n",
    "    plt.text(x=coordinate_current_st_df.Longitude[i] + 2.5, y=coordinate_current_st_df.Latitude[i] - .25,\n",
    "             s=coordinate_current_st_df.FacilityLocation[i],  # loc[:, 'Station #'][i],\n",
    "             fontdict=dict(color='blue', size=8))\n",
    "# Facility location\n",
    "\n",
    "acp33 = plt.scatter(data=coordinate_df_acp,\n",
    "                 x='Longitude', y='Latitude', marker='^', alpha=0.4, s='Capacity',\n",
    "                 c='blue', edgecolors='gray')\n",
    "\n",
    "plt.legend((st, acp33),\n",
    "           ('Current Facilities', 'ACP'),\n",
    "           loc='lower left',\n",
    "           ncol=1, handlelength=5, borderpad=.5, markerscale=.4,\n",
    "           fontsize=7)\n",
    "\n",
    "ax.set_xlim([-140,-60])\n",
    "ax.set_ylim([50, 80])\n",
    "ax.grid(False)\n",
    "plt.axis('off')\n",
    "#plt.show()\n",
    "plt.tight_layout()\n",
    "fig.savefig(f'Outputs/Fig4a current facilities & cache.png', transparent=True)"
   ],
   "metadata": {
    "collapsed": false
   }
  },
  {
   "cell_type": "markdown",
   "source": [
    "## Number text in stations"
   ],
   "metadata": {
    "collapsed": false
   }
  },
  {
   "cell_type": "code",
   "execution_count": null,
   "outputs": [],
   "source": [
    "coordinate_df_acp"
   ],
   "metadata": {
    "collapsed": false
   }
  },
  {
   "cell_type": "code",
   "execution_count": null,
   "outputs": [],
   "source": [
    "acp2"
   ],
   "metadata": {
    "collapsed": false
   }
  },
  {
   "cell_type": "code",
   "execution_count": null,
   "outputs": [],
   "source": [
    "display(coordinate_df_acp)\n",
    "display(acp2)\n",
    "#acp02 = acp2.join(coordinate_df_acp) # pd.merge(coordinate_df_acp,current_st[['FacilityLocation','Station #']],on='FacilityLocation', how='left')\n",
    "\n",
    "acp03 = pd.concat([coordinate_df_acp, acp2], axis=1)\n",
    "acp03.rename(columns={\"Station #\": \"StationNo\"}, inplace=True)\n",
    "display(acp03)"
   ],
   "metadata": {
    "collapsed": false
   }
  },
  {
   "cell_type": "code",
   "execution_count": null,
   "outputs": [],
   "source": [
    "fig, ax = plt.subplots(figsize=(5,5))\n",
    "\n",
    "\n",
    "for i in range(len(acp03)):\n",
    "    plt.text(x=acp03.Longitude[i] - 2.5, y=acp03.Latitude[i] - .25,\n",
    "             s=acp03.StationNo[i],  # loc[:, 'Station #'][i],\n",
    "             fontdict=dict(color='blue', size=8))\n",
    "\"\"\"\n",
    "# Facility location\n",
    "st = plt.scatter(data=acp03,\n",
    "                 x='Longitude', y='Latitude', marker='^', alpha=0.6, s='dispersant',\n",
    "                 c='blue', edgecolors='black')\n",
    "acp = plt.scatter(data=coordinate_df_acp,\n",
    "                 x='Longitude', y='Latitude', marker='^', alpha=0.4, s='Capacity',\n",
    "                 c='blue', edgecolors='gray')\n",
    "\n",
    "plt.legend((st, acp),\n",
    "           ('Current Facilities', 'ACP'),\n",
    "           loc='lower left',\n",
    "           ncol=1, handlelength=5, borderpad=.5, markerscale=.4,\n",
    "           fontsize=7)\n",
    "\"\"\"\n",
    "ax.set_xlim([-140,-60])\n",
    "ax.set_ylim([50, 80])\n",
    "ax.grid(False)\n",
    "plt.axis('off')\n",
    "#plt.show()\n",
    "plt.tight_layout()\n",
    "fig.savefig(f'Outputs/Fig4a (text) current facilities & cache.png', transparent=True)"
   ],
   "metadata": {
    "collapsed": false
   }
  },
  {
   "cell_type": "markdown",
   "source": [
    "## Proposed station coordinates"
   ],
   "metadata": {
    "collapsed": false
   }
  },
  {
   "cell_type": "code",
   "execution_count": null,
   "outputs": [],
   "source": [
    "#\n",
    "dataframe = pd.read_excel('Outputs/current vs proposed.xlsx', sheet_name='proposed coordinates')\n",
    "\n",
    "\n",
    "fig, ax = plt.subplots() #figsize=(8,3)\n",
    "coordinates_spill = custom_func.extract_station_coordinate(dataframe)\n",
    "coordinate_df = pd.DataFrame(coordinates_spill[0])\n",
    "coordinate_df.columns = ['Latitude','Longitude']\n",
    "coordinate_gdf = gpd.GeoDataFrame(\n",
    "    coordinate_df, geometry=gpd.points_from_xy(coordinate_df.Longitude, coordinate_df.Latitude))\n",
    "coordinate_gdf = coordinate_gdf.set_crs(epsg=4326)\n",
    "st = plt.scatter(data=coordinate_df,\n",
    "                 x='Longitude', y='Latitude', marker='s', alpha=1, s=200,\n",
    "                 c='yellow')\n",
    "ax.set_xlim([-140,-60])\n",
    "ax.set_ylim([50, 80])\n",
    "ax.axis('off')\n",
    "fig.savefig(f'Outputs/proposed_stations.png', transparent=True)"
   ],
   "metadata": {
    "collapsed": false
   }
  },
  {
   "cell_type": "markdown",
   "source": [
    "## Shapefile to transparent fig"
   ],
   "metadata": {
    "collapsed": false
   }
  },
  {
   "cell_type": "markdown",
   "source": [
    "## Shipping Route\n",
    "\n",
    "++ need to replace Fig3(c)"
   ],
   "metadata": {
    "collapsed": false
   }
  },
  {
   "cell_type": "code",
   "execution_count": null,
   "outputs": [],
   "source": [
    "import eda\n",
    "import geopandas as gpd\n",
    "file_url = \"Inputs/ArcGIS_data/Shipping_and_Hydrography/Canadian_Shipping_Routes.shp\"\n",
    "name = 'shipping_route'\n",
    "#Map_Plot = eda.plot_shp_to_transparent_fig(file_url, name)"
   ],
   "metadata": {
    "collapsed": false
   }
  },
  {
   "cell_type": "code",
   "execution_count": null,
   "outputs": [],
   "source": [
    "fig, ax = plt.subplots(figsize=(8,7))  #++ figsize=(8,8)\n",
    "# plt.figure()\n",
    "# Load geometric file for map\n",
    "Map_shp = gpd.read_file(file_url)\n",
    "Map_shp = Map_shp.to_crs(epsg=4326)  # 3857\n",
    "Map_Plot = Map_shp.plot(ax=ax,  alpha=.5) # color=\"lightskyblue\",\n",
    "ax.set_xlim([-140,-60])\n",
    "ax.set_ylim([50, 80])\n",
    "ax.grid(False)\n",
    "ax.axis('off')\n",
    "fig.savefig(f'Outputs/{name}.png', transparent=True)"
   ],
   "metadata": {
    "collapsed": false
   }
  },
  {
   "cell_type": "markdown",
   "source": [
    "## Sensitivity\n"
   ],
   "metadata": {
    "collapsed": false
   }
  },
  {
   "cell_type": "code",
   "execution_count": null,
   "outputs": [],
   "source": [
    "import eda\n",
    "file_url = \"Inputs/ArcGIS_data/Gerome2/Sensitivity_data_Gerome.shp\"\n",
    "name = 'Sensitivity'\n",
    "eda.plot_shp_to_transparent_fig(file_url, name)"
   ],
   "metadata": {
    "collapsed": false
   }
  },
  {
   "cell_type": "code",
   "execution_count": null,
   "outputs": [],
   "source": [],
   "metadata": {
    "collapsed": false
   }
  },
  {
   "cell_type": "code",
   "execution_count": null,
   "outputs": [],
   "source": [
    "import geopandas as gpd\n",
    "# plt.figure()\n",
    "# Load geometric file for map\n",
    "Map_shp = gpd.read_file(file_url)\n",
    "Map_shp = Map_shp.to_crs(epsg=4326)  # 3857\n",
    "Map_shp"
   ],
   "metadata": {
    "collapsed": false
   }
  },
  {
   "cell_type": "code",
   "execution_count": null,
   "outputs": [],
   "source": [
    "Map_shp['Sensitivity_n'] = (Map_shp['Sensitivit']-min(Map_shp['Sensitivit']))/(max(Map_shp['Sensitivit'])-min(Map_shp['Sensitivit']))\n"
   ],
   "metadata": {
    "collapsed": false
   }
  },
  {
   "cell_type": "code",
   "execution_count": null,
   "outputs": [],
   "source": [
    "display(Map_shp)"
   ],
   "metadata": {
    "collapsed": false
   }
  },
  {
   "cell_type": "code",
   "execution_count": null,
   "outputs": [],
   "source": [],
   "metadata": {
    "collapsed": false
   }
  },
  {
   "cell_type": "code",
   "execution_count": null,
   "outputs": [],
   "source": [
    "fig, ax = plt.subplots(figsize=(8,7))  #++ figsize=(8,8)\n",
    "Map_Plot = Map_shp.plot(ax=ax, color='red', alpha=Map_shp['Sensitivity_n']) # color=\"lightskyblue\",\n",
    "ax.set_xlim([-140,-60])\n",
    "ax.set_ylim([50, 80])\n",
    "ax.axis('off')\n",
    "fig.savefig(f'Outputs/{name}.png', transparent=True)"
   ],
   "metadata": {
    "collapsed": false
   }
  },
  {
   "cell_type": "code",
   "execution_count": null,
   "outputs": [],
   "source": [
    "max(Map_shp['Sensitivit'])"
   ],
   "metadata": {
    "collapsed": false
   }
  },
  {
   "cell_type": "markdown",
   "source": [
    "## Spill coordinates as transparent fig"
   ],
   "metadata": {
    "collapsed": false
   }
  },
  {
   "cell_type": "code",
   "execution_count": null,
   "outputs": [],
   "source": [
    "import eda\n",
    "import pandas as pd\n",
    "import geopandas as gpd\n",
    "import matplotlib.pyplot as plt\n",
    "import custom_func"
   ],
   "metadata": {
    "collapsed": false
   }
  },
  {
   "cell_type": "code",
   "execution_count": null,
   "outputs": [],
   "source": [
    "# spill_data = pd.read_excel('Inputs/data_oil_spill_resource_allocation_Arctic_2023.xlsx', sheet_name='spills', header=0).copy()\n",
    "spill_data = pd.read_excel('Inputs/data_100_oil_spills.xlsx', sheet_name='spills', header=0).copy()\n",
    "name = 'spill points'"
   ],
   "metadata": {
    "collapsed": false
   }
  },
  {
   "cell_type": "code",
   "execution_count": null,
   "outputs": [],
   "source": [],
   "metadata": {
    "collapsed": false
   }
  },
  {
   "cell_type": "code",
   "execution_count": null,
   "outputs": [],
   "source": [],
   "metadata": {
    "collapsed": false
   }
  },
  {
   "cell_type": "code",
   "execution_count": null,
   "outputs": [],
   "source": [
    "spill_data"
   ],
   "metadata": {
    "collapsed": false
   }
  },
  {
   "cell_type": "code",
   "execution_count": null,
   "outputs": [],
   "source": [
    "fig, ax = plt.subplots(figsize=(8,7))\n",
    "coordinates = custom_func.extract_coordinate(spill_data)\n",
    "coordinate_df = pd.DataFrame(coordinates[0])\n",
    "coordinate_df.columns = ['Latitude', 'Longitude']\n",
    "coordinate_gdf = gpd.GeoDataFrame(\n",
    "    coordinate_df, geometry=gpd.points_from_xy(coordinate_df.Longitude, coordinate_df.Latitude))\n",
    "coordinate_gdf = coordinate_gdf.set_crs(epsg=4326)\n",
    "\n",
    "plt.scatter(data=coordinate_gdf,\n",
    "                 x='Longitude', y='Latitude', marker='o', alpha=.2, s=200,\n",
    "                 # s=amountSt_groupby['amountSt_display'],\n",
    "                 c='black')\n",
    "\n",
    "ax.set_xlim([-140, -60])\n",
    "ax.set_ylim([50, 80])\n",
    "ax.axis('off')\n",
    "plt.show()\n",
    "fig.savefig(f'Outputs/{name}.png', transparent=True)"
   ],
   "metadata": {
    "collapsed": false
   }
  },
  {
   "cell_type": "code",
   "execution_count": null,
   "outputs": [],
   "source": [
    "import geopandas as gpd\n",
    "fig, ax = plt.subplots(figsize=(8,7))  #++ figsize=(8,8)\n",
    "# plt.figure()\n",
    "# Load geometric file for map\n",
    "ArcticMap = gpd.read_file(\"Inputs/ArcGIS_data/ArcticShapefile2/ArcticShapefile2.shp\")\n",
    "ArcticMap = ArcticMap.to_crs(epsg=4326)  # 3857\n",
    "ArcticLand = ArcticMap[ArcticMap['Region_EN'].isin(['Arctic'])]\n",
    "ArcticWater = ArcticMap[ArcticMap['Region_EN'].isin(['Arctic-Water'])]\n",
    "ArcticLandPlot = ArcticLand.plot(ax=ax, color=\"seashell\", alpha=.5)  # ax=ax,\n",
    "ArcticWaterPlot = ArcticWater.plot(ax=ax, color=\"lightskyblue\", alpha=.5)\n",
    "ax.set_xlim([-140,-60])\n",
    "ax.set_ylim([50, 80])\n",
    "fig.savefig(f'Outputs/Arctic_transparent.png', transparent=True)\n",
    "# plt.show()"
   ],
   "metadata": {
    "collapsed": false
   }
  }
 ],
 "metadata": {
  "kernelspec": {
   "display_name": "Python 3 (ipykernel)",
   "language": "python",
   "name": "python3"
  },
  "language_info": {
   "codemirror_mode": {
    "name": "ipython",
    "version": 3
   },
   "file_extension": ".py",
   "mimetype": "text/x-python",
   "name": "python",
   "nbconvert_exporter": "python",
   "pygments_lexer": "ipython3",
   "version": "3.11.1"
  }
 },
 "nbformat": 4,
 "nbformat_minor": 1
}
