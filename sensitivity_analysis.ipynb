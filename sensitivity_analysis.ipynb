{
 "cells": [
  {
   "cell_type": "markdown",
   "metadata": {},
   "source": [
    "# Sensitivity analysis.ipynb\n"
   ]
  },
  {
   "cell_type": "markdown",
   "source": [
    "# Data"
   ],
   "metadata": {
    "collapsed": false
   }
  },
  {
   "cell_type": "code",
   "execution_count": null,
   "outputs": [],
   "source": [
    "import data_preparation\n",
    "import custom_func\n",
    "import model, model2\n",
    "import model_analysis\n",
    "\n",
    "import pandas as pd\n",
    "import geopandas as gpd\n",
    "import matplotlib.pyplot as plt\n",
    "import numpy as np\n",
    "import seaborn as sns"
   ],
   "metadata": {
    "collapsed": false
   }
  },
  {
   "cell_type": "code",
   "execution_count": null,
   "outputs": [],
   "source": [
    "# Import data\n",
    "spill_data = pd.read_excel('Inputs/data_oil_spill_resource_allocation_Arctic_2023.xlsx', sheet_name='spills', header=0).copy()\n",
    "spill_data = spill_data.sample(n=1000, random_state=42, replace=True)  #+++\n",
    "current_station_data = pd.read_excel('Inputs/data_oil_spill_resource_allocation_Arctic_2023.xlsx', sheet_name='current', header=0).copy()\n",
    "current_input_param = pd.read_excel('Inputs/data_oil_spill_resource_allocation_Arctic_2023.xlsx', sheet_name='current input param', header=0).copy()\n",
    "\n",
    "\n",
    "potential_station_data = pd.read_excel('Inputs/data_oil_spill_resource_allocation_Arctic_2023.xlsx', sheet_name='stations', header=0).copy()\n",
    "potential_station_data = potential_station_data.iloc[[0, 4,7, 10, 11, 18]]\n",
    "input_parameters = pd.read_excel('Inputs/data_oil_spill_resource_allocation_Arctic_2023.xlsx', sheet_name='Estimated parameters', header=0).copy()\n",
    "sensitivity_dataR = gpd.read_file('Inputs/ArcGIS_data/Sensitivity_data/Sensitivity_data5.shp').copy()"
   ],
   "metadata": {
    "collapsed": false
   }
  },
  {
   "cell_type": "code",
   "execution_count": null,
   "outputs": [],
   "source": [
    "coordinates_st = custom_func.extract_station_coordinate(current_station_data)\n",
    "current_st_coord = pd.DataFrame(coordinates_st[1]).T.reset_index().set_index('index')\n",
    "current_st_coord.columns = ['St_Latitude', 'St_Longitude']\n",
    "display(current_st_coord)\n",
    "\n",
    "coordinates_st2 = custom_func.extract_station_coordinate(potential_station_data)\n",
    "potential_st_coord = pd.DataFrame(coordinates_st2[1]).T.reset_index().set_index('index')\n",
    "potential_st_coord.columns = ['St_Latitude', 'St_Longitude']\n",
    "display(potential_st_coord)\n",
    "\n",
    "coordinates_spill = custom_func.extract_spill_coordinate(spill_data)\n",
    "spill_coord = pd.DataFrame(coordinates_spill[1]).T.reset_index().set_index('index')\n",
    "spill_coord.columns = ['St_Latitude', 'St_Longitude']\n",
    "display(spill_coord)"
   ],
   "metadata": {
    "collapsed": false
   }
  },
  {
   "cell_type": "markdown",
   "source": [],
   "metadata": {
    "collapsed": false
   }
  },
  {
   "cell_type": "code",
   "execution_count": null,
   "outputs": [],
   "source": [],
   "metadata": {
    "collapsed": false
   }
  },
  {
   "cell_type": "code",
   "execution_count": null,
   "outputs": [],
   "source": [],
   "metadata": {
    "collapsed": false
   }
  },
  {
   "cell_type": "code",
   "execution_count": null,
   "outputs": [],
   "source": [],
   "metadata": {
    "collapsed": false
   }
  },
  {
   "cell_type": "markdown",
   "source": [
    "# Model Configuration 3 (Current facility location)\n"
   ],
   "metadata": {
    "collapsed": false
   }
  },
  {
   "cell_type": "code",
   "execution_count": null,
   "outputs": [],
   "source": [
    "current_vs_proposed = 'current'\n",
    "NumberStMax = 6  # Do I need this for current setup?? ++\n",
    "DistanceMax = 15\n",
    "TimeRMax = 220"
   ],
   "metadata": {
    "collapsed": false
   }
  },
  {
   "cell_type": "code",
   "execution_count": null,
   "outputs": [],
   "source": [
    "Stations, OilSpills, ResourcesD, Demand, Availability, Eff, Distance, TimeR, Cf_s, Cu_sor \\\n",
    "= data_preparation.generate_input_data(current_station_data, spill_data, current_input_param)\n",
    "\n",
    "\n",
    "#max(Distance.values())\n",
    "SizeSpill = SizeSpill_R = list(spill_data['Spill size']).copy()\n",
    "Sensitivity_R = custom_func.calculate_sensitivity(coordinates_spill[0], sensitivity_dataR)\n",
    "# normalize\n",
    "SizeSpill_n = dict(zip(OilSpills, custom_func.normalize(SizeSpill_R, min(SizeSpill_R), max(SizeSpill_R))))\n",
    "Sensitivity_n = dict(zip(OilSpills, custom_func.normalize(Sensitivity_R, min(Sensitivity_R), max(Sensitivity_R))))\n",
    "\n",
    "Distance_n = dict(zip(Distance.keys(), custom_func.normalize(Distance.values(), min(Distance.values()), max(Distance.values()))))\n",
    "# (x_0-x_min)/(x_max-x_min)\n",
    "Effectiveness_n = dict(zip(Eff.keys(), custom_func.normalize(Eff.values(), min(Eff.values()), max(Eff.values()))))"
   ],
   "metadata": {
    "collapsed": false
   }
  },
  {
   "cell_type": "code",
   "execution_count": null,
   "outputs": [],
   "source": [
    "# Modeling based on current setup\n",
    "model, select, deploy, mvars, names, values, \\\n",
    "        spill_df, station_df, select_1s, deploy_1s, ResponseTimeM, coverage_percentage, assignment  \\\n",
    "    = model2.solve(Stations, OilSpills, ResourcesD, coordinates_st, coordinates_spill, SizeSpill, SizeSpill_n, \\\n",
    "          Demand, Sensitivity_R, Sensitivity_n, Eff, Effectiveness_n, Availability, NumberStMax, Distance, Distance_n, DistanceMax,  Cf_s, Cu_sor)"
   ],
   "metadata": {
    "collapsed": false
   }
  },
  {
   "cell_type": "markdown",
   "source": [
    "## Fig8(a) Network diagram of current facility"
   ],
   "metadata": {
    "collapsed": false
   }
  },
  {
   "cell_type": "code",
   "execution_count": null,
   "outputs": [],
   "source": [
    "model_analysis.draw_network_diagram(DistanceMax, NumberStMax, Sensitivity_R, spill_df, station_df, ResponseTimeM, coverage_percentage,\n",
    "                         assignment, deploy_1s, select_1s, current_vs_proposed)"
   ],
   "metadata": {
    "collapsed": false
   }
  },
  {
   "cell_type": "code",
   "execution_count": null,
   "outputs": [],
   "source": [
    "assignment_line = pd.DataFrame(columns=list(assignment.columns.values))\n",
    "for i, o in enumerate(assignment['Spill #'].unique()):\n",
    "    minD = min(assignment.loc[assignment['Spill #'] == o]['Distance'])\n",
    "    df = assignment.iloc[np.where(assignment['Distance'] == minD)[0]]\n",
    "    assignment_line = pd.concat([assignment_line, df])\n",
    "\n",
    "resource_allocation_c = assignment_line[['Station no.', 'Resource Type', 'Quantity deployed']]\n",
    "resource_allocation_c = resource_allocation_c.sort_values(by=['Station no.'])\n",
    "resource_allocation_c = resource_allocation_c.groupby(['Station no.', 'Resource Type'])['Quantity deployed'].mean().reset_index()\n",
    "resource_allocation_c\n",
    "resource_allocation_c['Facility'] = 'Current'"
   ],
   "metadata": {
    "collapsed": false
   }
  },
  {
   "cell_type": "markdown",
   "source": [
    "# Model Configuration 4 (Proposed 5 facility location)\n",
    "Resource allocation"
   ],
   "metadata": {
    "collapsed": false
   }
  },
  {
   "cell_type": "code",
   "execution_count": null,
   "outputs": [],
   "source": [
    "NumberStMax = 5\n",
    "current_vs_proposed = 'proposed'"
   ],
   "metadata": {
    "collapsed": false
   }
  },
  {
   "cell_type": "code",
   "execution_count": null,
   "outputs": [],
   "source": [
    "# Input param\n",
    "Stations, OilSpills, ResourcesD, Demand, Availability, Eff, Distance, TimeR, Cf_s, Cu_sor \\\n",
    "= data_preparation.generate_input_data(potential_station_data, spill_data, input_parameters)\n",
    "\n",
    "SizeSpill = SizeSpill_R = list(spill_data['Spill size']).copy()\n",
    "Sensitivity_R = custom_func.calculate_sensitivity(coordinates_spill[0], sensitivity_dataR)\n",
    "# normalize\n",
    "SizeSpill_n = dict(zip(OilSpills, custom_func.normalize(SizeSpill_R, min(SizeSpill_R), max(SizeSpill_R))))\n",
    "Sensitivity_n = dict(zip(OilSpills, custom_func.normalize(Sensitivity_R, min(Sensitivity_R), max(Sensitivity_R))))\n",
    "Distance_n = dict(zip(Distance.keys(), custom_func.normalize(Distance.values(), min(Distance.values()), max(Distance.values()))))\n",
    "# (x_0-x_min)/(x_max-x_min)\n",
    "Effectiveness_n = dict(zip(Eff.keys(), custom_func.normalize(Eff.values(), min(Eff.values()), max(Eff.values()))))\n",
    "\n",
    "# Model\n",
    "model, select, deploy, mvars, names, values, \\\n",
    "        spill_df, station_df, select_1s, deploy_1s, ResponseTimeM, coverage_percentage, assignment  \\\n",
    "    = model2.solve(Stations, OilSpills, ResourcesD, coordinates_st2, coordinates_spill, SizeSpill, SizeSpill_n, \\\n",
    "          Demand, Sensitivity_R, Sensitivity_n, Eff, Effectiveness_n, Availability, NumberStMax, Distance, Distance_n, DistanceMax,  Cf_s, Cu_sor)"
   ],
   "metadata": {
    "collapsed": false
   }
  },
  {
   "cell_type": "markdown",
   "source": [
    "## Fig8(b) Network diagram of proposed 5 facility"
   ],
   "metadata": {
    "collapsed": false
   }
  },
  {
   "cell_type": "code",
   "execution_count": null,
   "outputs": [],
   "source": [
    "# Draw the network\n",
    "assignment_line = model_analysis.draw_network_diagram(DistanceMax, NumberStMax, Sensitivity_R, spill_df, station_df, ResponseTimeM, coverage_percentage,\n",
    "                         assignment, deploy_1s, select_1s, current_vs_proposed)"
   ],
   "metadata": {
    "collapsed": false
   }
  },
  {
   "cell_type": "markdown",
   "source": [
    "## Fig7a barplot - quantity stockplie"
   ],
   "metadata": {
    "collapsed": false
   }
  },
  {
   "cell_type": "code",
   "execution_count": null,
   "outputs": [],
   "source": [
    "assignment_line = pd.DataFrame(columns=list(assignment.columns.values))\n",
    "for i, o in enumerate(assignment['Spill #'].unique()):\n",
    "    minD = min(assignment.loc[assignment['Spill #'] == o]['Distance'])\n",
    "    df = assignment.iloc[np.where(assignment['Distance'] == minD)[0]]\n",
    "    assignment_line = pd.concat([assignment_line, df])\n",
    "\n",
    "resource_allocation_p = assignment_line[['Station no.', 'Resource Type', 'Quantity deployed']]\n",
    "resource_allocation_p = resource_allocation_p.sort_values(by=['Station no.'])\n",
    "resource_allocation_p = resource_allocation_p.groupby(['Station no.', 'Resource Type'])['Quantity deployed'].mean().reset_index()\n",
    "resource_allocation_p\n",
    "resource_allocation_p['Facility'] = 'Proposed'"
   ],
   "metadata": {
    "collapsed": false
   }
  },
  {
   "cell_type": "code",
   "execution_count": null,
   "outputs": [],
   "source": [],
   "metadata": {
    "collapsed": false
   }
  },
  {
   "cell_type": "code",
   "execution_count": null,
   "outputs": [],
   "source": [
    "resource_allocation = pd.concat([resource_allocation_c, resource_allocation_p])\n",
    "resource_allocation"
   ],
   "metadata": {
    "collapsed": false
   }
  },
  {
   "cell_type": "code",
   "execution_count": null,
   "outputs": [],
   "source": [
    "plt.bar(data=resource_allocation,\n",
    "        x=\"Station no.\", height=\"Quantity deployed\",\n",
    "        alpha = 0.5, hatch = 'Resource Type'\n",
    "        ) # color='Facility'"
   ],
   "metadata": {
    "collapsed": false
   }
  },
  {
   "cell_type": "code",
   "execution_count": null,
   "outputs": [],
   "source": [
    "fig = plt.figure()\n",
    "ax = sns.barplot(data=resource_allocation,\n",
    "                 x=\"Station no.\", y=\"Quantity deployed\", errorbar=None,\n",
    "                 hue='Facility', palette=[\"g\", \"yellow\"],\n",
    "                 alpha=0.7)\n",
    "#sns.set_style(style='white')\n",
    "ax.grid(False)\n",
    "plt.show() #, ls='Resource Type'\n",
    "fig.savefig('Outputs/barplot_compare.png', transparent=True)"
   ],
   "metadata": {
    "collapsed": false
   }
  },
  {
   "cell_type": "code",
   "execution_count": null,
   "outputs": [],
   "source": [
    "fig10c = plt.subplots(figsize=(7,3.5))\n",
    "ax = sns.barplot(data=resource_allocation,\n",
    "                 x=\"Station no.\", y=\"Quantity deployed\", errorbar=None,\n",
    "                 hue='Facility', palette=[\"g\", \"yellow\"],\n",
    "                 alpha=0.7)\n",
    "sns.set_style(style='white')\n",
    "ax.grid(False)\n",
    "plt.savefig('Outputs/barplot_compareHatch.png', transparent=True)"
   ],
   "metadata": {
    "collapsed": false
   }
  },
  {
   "cell_type": "code",
   "execution_count": null,
   "outputs": [],
   "source": [
    "fig10c = plt.subplots(figsize=(7,3.5))\n",
    "ax = sns.barplot(data=resource_allocation,\n",
    "                 x=\"Station no.\", y=\"Quantity deployed\", errorbar=None,\n",
    "                 hue='Facility', palette=[\"g\", \"yellow\"],\n",
    "                 alpha=0.7)\n",
    "hatches = ['', '', '', '', '', 'o','o', 'o','','','', '', '', '', '', 'o','o', 'o']\n",
    "# Loop over the bars\n",
    "for i,thisbar in enumerate(ax.patches):\n",
    "    # Set a different hatch for each bar\n",
    "    thisbar.set_hatch(hatches[i])\n",
    "sns.set_style(style='white')\n",
    "ax.grid(False)\n",
    "plt.savefig('Outputs/barplot_compareHatch.png', transparent=True)"
   ],
   "metadata": {
    "collapsed": false
   }
  },
  {
   "cell_type": "code",
   "execution_count": null,
   "outputs": [],
   "source": [
    "ax.patches"
   ],
   "metadata": {
    "collapsed": false
   }
  },
  {
   "cell_type": "markdown",
   "source": [
    "## Fig7b Boxplot - compare coverage, cost, time for current vs proposed"
   ],
   "metadata": {
    "collapsed": false
   }
  },
  {
   "cell_type": "code",
   "execution_count": null,
   "outputs": [],
   "source": [
    "data_compare = pd.read_excel('Outputs/current vs proposed.xlsx', skiprows=[0])\n",
    "\n",
    "data_compare.info()\n",
    "coverage_df_stacked = data_compare[['Current','Proposed']].copy().stack().reset_index()\n",
    "coverage_df_stacked.columns = ['Index','Facility','Coverage']\n",
    "cost_df_stacked = data_compare[['Current.1','Proposed.1']].copy().stack().reset_index()\n",
    "cost_df_stacked.columns = ['Index','Facility','Cost']\n",
    "\n",
    "time_df_stacked = data_compare[['Current.2','Proposed.2']].copy().stack().reset_index()\n",
    "time_df_stacked.columns = ['Index','Facility','Response Time']\n"
   ],
   "metadata": {
    "collapsed": false
   }
  },
  {
   "cell_type": "code",
   "execution_count": null,
   "outputs": [],
   "source": [
    "def draw_boxplot(data, y, ax):\n",
    "    sns.violinplot(data= data,x='Facility', y=y, alpha = 0.5)\n",
    "    sns.stripplot(data= data, x='Facility', y=y)\n",
    "    plt.ylabel = y\n"
   ],
   "metadata": {
    "collapsed": false
   }
  },
  {
   "cell_type": "code",
   "execution_count": null,
   "outputs": [],
   "source": [
    "fig, (ax1, ax2, ax3) = plt.subplots(1,3)\n",
    "draw_boxplot(coverage_df_stacked, 'Coverage', ax1)\n",
    "draw_boxplot(cost_df_stacked, 'Cost', ax2)\n",
    "draw_boxplot(time_df_stacked, 'Response Time', ax3)\n",
    "\n",
    "plt.show()\n",
    "fig.savefig('Outputs/boxplot_{}.png', transparent=True)"
   ],
   "metadata": {
    "collapsed": false
   }
  },
  {
   "cell_type": "code",
   "execution_count": null,
   "outputs": [],
   "source": [
    "plt.rcParams[\"figure.figsize\"] = [7.00, 3]\n",
    "plt.rcParams['axes.edgecolor'] = 'lightgray'\n",
    "fig, (ax1, ax2, ax3) = plt.subplots(1,3)\n",
    "\n",
    "sns.boxplot(data= coverage_df_stacked, ax=ax1, x='Facility', y='Coverage',\n",
    "            boxprops=dict(alpha=.3), palette=[\"g\", \"yellow\"])\n",
    "sns.stripplot(data= coverage_df_stacked, ax=ax1, x='Facility', y='Coverage',\n",
    "              alpha=.3)\n",
    "\n",
    "\n",
    "sns.boxplot(data= cost_df_stacked, ax=ax2, x='Facility', y='Cost',\n",
    "            boxprops=dict(alpha=.3), palette=[\"g\", \"yellow\"])\n",
    "sns.stripplot(data= cost_df_stacked, ax=ax2, x='Facility', y='Cost',\n",
    "              alpha=.3)\n",
    "sns.boxplot(data= time_df_stacked, ax=ax3, x='Facility', y='Response Time',\n",
    "            boxprops=dict(alpha=.3), palette=[\"g\", \"yellow\"])\n",
    "sns.stripplot(data= time_df_stacked, ax=ax3, x='Facility', y='Response Time',\n",
    "              alpha=.3)\n",
    "plt.tight_layout()\n",
    "\n",
    "#plt.axis('off')\n",
    "# plt.xlabel('')\n",
    "plt.show()\n",
    "fig.savefig('Outputs/boxplot.png', transparent=True)"
   ],
   "metadata": {
    "collapsed": false
   }
  },
  {
   "cell_type": "markdown",
   "source": [
    "# Model Configuration 5 (Proposed 6 facility location)"
   ],
   "metadata": {
    "collapsed": false
   }
  },
  {
   "cell_type": "code",
   "execution_count": null,
   "outputs": [],
   "source": [
    "NumberStMax = 6"
   ],
   "metadata": {
    "collapsed": false
   }
  },
  {
   "cell_type": "code",
   "execution_count": null,
   "outputs": [],
   "source": [],
   "metadata": {
    "collapsed": false
   }
  },
  {
   "cell_type": "code",
   "execution_count": null,
   "outputs": [],
   "source": [],
   "metadata": {
    "collapsed": false
   }
  },
  {
   "cell_type": "code",
   "execution_count": null,
   "outputs": [],
   "source": [],
   "metadata": {
    "collapsed": false
   }
  },
  {
   "cell_type": "markdown",
   "source": [
    "## Fig8(b) Network diagram of proposed 5 facility"
   ],
   "metadata": {
    "collapsed": false
   }
  },
  {
   "cell_type": "code",
   "execution_count": null,
   "outputs": [],
   "source": [],
   "metadata": {
    "collapsed": false
   }
  },
  {
   "cell_type": "code",
   "execution_count": null,
   "outputs": [],
   "source": [],
   "metadata": {
    "collapsed": false
   }
  },
  {
   "cell_type": "markdown",
   "source": [
    "# Multiscene"
   ],
   "metadata": {
    "collapsed": false
   }
  },
  {
   "cell_type": "markdown",
   "source": [],
   "metadata": {
    "collapsed": false
   }
  },
  {
   "cell_type": "markdown",
   "source": [
    "## grbtool"
   ],
   "metadata": {
    "collapsed": false
   }
  },
  {
   "cell_type": "code",
   "execution_count": null,
   "outputs": [],
   "source": [
    "# grblogtool\n",
    "# !pip install grblogtools\n",
    "import grblogtools as glt\n",
    "import geopandas as gpd\n",
    "import matplotlib.pyplot as plt"
   ],
   "metadata": {
    "collapsed": false
   }
  },
  {
   "cell_type": "code",
   "execution_count": null,
   "outputs": [],
   "source": [
    "\n",
    "results = glt.parse([\"Outputs/Logfiles/model_moo*.log\"])\n",
    "summary = results.summary()\n",
    "summary.columns\n",
    "\n",
    "summary = summary[['Runtime','ObjVal', 'ObjBound', 'RelaxObj', 'IterCount']].dropna()\n",
    "glt.plot(summary.sort_values(by=\"Runtime\"),\n",
    "         type=\"bar\",\n",
    "         color=\"Log\")\n",
    "\n",
    "progress_iteration = results.progress(\"nodelog\")\n",
    "display(progress_iteration.columns)\n",
    "progress_iteration[['LogFilePath', 'Incumbent', 'BestBd', 'Gap']]\n",
    "\n",
    "results.progress(\"rootlp\")\n",
    "\n",
    "glt.plot(summary.sort_values(by=\"Runtime\"), #\n",
    "         x = \"IterCount\", y = \"ObjVal\", type=\"scatter\",\n",
    "         color=\"LogFilePath\",\n",
    "         log_x=True,\n",
    "         title=\"Gurobi Performance\")\n",
    "\n",
    "glt.plot(timelines[timelines[\"Log\"]==\"model_moo(Mar 01,2217)\"], type='line', y='Gap', color='Seed')\n",
    "glt.plot(summary, x= 'Time', y='Gap', color='Seed', type=\"line\")"
   ],
   "metadata": {
    "collapsed": false
   }
  },
  {
   "cell_type": "markdown",
   "source": [],
   "metadata": {
    "collapsed": false
   }
  },
  {
   "cell_type": "markdown",
   "source": [],
   "metadata": {
    "collapsed": false
   }
  }
 ],
 "metadata": {
  "kernelspec": {
   "display_name": "Python 3 (ipykernel)",
   "language": "python",
   "name": "python3"
  },
  "language_info": {
   "codemirror_mode": {
    "name": "ipython",
    "version": 3
   },
   "file_extension": ".py",
   "mimetype": "text/x-python",
   "name": "python",
   "nbconvert_exporter": "python",
   "pygments_lexer": "ipython3",
   "version": "3.11.1"
  }
 },
 "nbformat": 4,
 "nbformat_minor": 1
}
