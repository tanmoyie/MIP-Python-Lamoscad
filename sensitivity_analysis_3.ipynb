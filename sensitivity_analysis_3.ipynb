{
 "cells": [
  {
   "cell_type": "code",
   "execution_count": null,
   "metadata": {
    "collapsed": true
   },
   "outputs": [],
   "source": []
  },
  {
   "cell_type": "code",
   "execution_count": null,
   "outputs": [],
   "source": [
    "import data_preparation\n",
    "import custom_func\n",
    "import model, model_w\n",
    "import model_analysis\n",
    "\n",
    "import pandas as pd\n",
    "import geopandas as gpd\n",
    "import matplotlib.pyplot as plt\n",
    "import numpy as np\n",
    "import seaborn as sns\n",
    "import plotly.express as px\n",
    "%matplotlib inline"
   ],
   "metadata": {
    "collapsed": false
   }
  },
  {
   "cell_type": "markdown",
   "source": [
    "# Sensitivity Max Distance travelled"
   ],
   "metadata": {
    "collapsed": false
   }
  },
  {
   "cell_type": "code",
   "execution_count": null,
   "outputs": [],
   "source": [],
   "metadata": {
    "collapsed": false
   }
  },
  {
   "cell_type": "code",
   "execution_count": null,
   "outputs": [],
   "source": [
    "potential_station_data = pd.read_excel('Inputs/data_oil_spill_resource_allocation_Arctic_2023.xlsx', sheet_name='stations', header=0).copy()\n",
    "# Import data\n",
    "spill_data = pd.read_excel('Inputs/data_100_oil_spills.xlsx', sheet_name='spills', header=0).copy()\n",
    "\n",
    "current_input_param = pd.read_excel('Inputs/data_oil_spill_resource_allocation_Arctic_2023.xlsx', sheet_name='current input param', header=0).copy()\n",
    "\n",
    "input_parameters = pd.read_excel('Inputs/data_oil_spill_resource_allocation_Arctic_2023.xlsx', sheet_name='Estimated parameters', header=0).copy()\n",
    "sensitivity_dataR = gpd.read_file('Inputs/ArcGIS_data/Sensitivity_data/Sensitivity_data5.shp').copy()"
   ],
   "metadata": {
    "collapsed": false
   }
  },
  {
   "cell_type": "markdown",
   "source": [
    "## Data Extraction"
   ],
   "metadata": {
    "collapsed": false
   }
  },
  {
   "cell_type": "code",
   "execution_count": null,
   "outputs": [],
   "source": [
    "coordinates_potential_st = custom_func.extract_station_coordinate(potential_station_data)\n",
    "potential_st_coord = pd.DataFrame(coordinates_potential_st[1]).T.reset_index().set_index('index')\n",
    "potential_st_coord.columns = ['St_Latitude', 'St_Longitude']\n",
    "display(potential_st_coord)\n",
    "\n",
    "coordinates_spill = custom_func.extract_spill_coordinate(spill_data)\n",
    "spill_coord = pd.DataFrame(coordinates_spill[1]).T.reset_index().set_index('index')\n",
    "spill_coord.columns = ['St_Latitude', 'St_Longitude']\n",
    "display(spill_coord)"
   ],
   "metadata": {
    "collapsed": false
   }
  },
  {
   "cell_type": "code",
   "execution_count": null,
   "outputs": [],
   "source": [
    "# Input param\n",
    "Stations, OilSpills, ResourcesD, Demand, Availability, Eff, Distance, TimeR, Cf_s, CostU \\\n",
    "= data_preparation.generate_input_data(potential_station_data, spill_data, input_parameters)\n",
    "\n",
    "Distance_n = dict(zip(Distance.keys(), custom_func.normalize(Distance.values(), min(Distance.values()), max(Distance.values()))))\n",
    "# (x_0-x_min)/(x_max-x_min)\n",
    "Effectiveness_n = dict(zip(Eff.keys(), custom_func.normalize(Eff.values(), min(Eff.values()), max(Eff.values()))))\n",
    "\n",
    "SizeSpill = SizeSpill_R = list(spill_data['Spill size']).copy()\n",
    "Sensitivity_R = custom_func.calculate_sensitivity(coordinates_spill[0], sensitivity_dataR)\n",
    "# normalize\n",
    "SizeSpill_n = dict(zip(OilSpills, custom_func.normalize(SizeSpill_R, min(SizeSpill_R), max(SizeSpill_R))))\n",
    "Sensitivity_n = dict(zip(OilSpills, custom_func.normalize(Sensitivity_R, min(Sensitivity_R), max(Sensitivity_R))))"
   ],
   "metadata": {
    "collapsed": false
   }
  },
  {
   "cell_type": "markdown",
   "source": [
    "## Emphasize sensitivity"
   ],
   "metadata": {
    "collapsed": false
   }
  },
  {
   "cell_type": "code",
   "execution_count": null,
   "outputs": [],
   "source": [
    "BigM = 10**20\n",
    "current_vs_proposed = 'proposed' # current\n",
    "MaxFO = 1\n",
    "Budget = 10**12\n",
    "W = [0.25, 1000*0.25, 0.25, 10**-4*0.25, 10**-2*0.25, 10 * 0.25]\n",
    "#W = [0.25, 0.25, 0.25, 0.25, 0.25, 0.25]\n",
    "\n",
    "QuantityMin = 2\n",
    "# NumberStMax_m4b = 5\n",
    "current_vs_proposed = 'proposed'"
   ],
   "metadata": {
    "collapsed": false
   }
  },
  {
   "cell_type": "code",
   "execution_count": null,
   "outputs": [],
   "source": [
    "DistanceMaxL = [5, 7, 8, 10, 11, 12, 15, 20]\n",
    "NumberStMaxL = [2, 5, 8, 10, 12]\n",
    "select_1sL =[]\n",
    "coverage_percentageL =[]\n",
    "MeanResponseTimeL =[]\n",
    "max_distance_sensitivity_L = []"
   ],
   "metadata": {
    "collapsed": false
   }
  },
  {
   "cell_type": "code",
   "execution_count": null,
   "outputs": [],
   "source": [
    "# Model\n",
    "for i in range(len(DistanceMaxL)):\n",
    "    for j in range(len(NumberStMaxL)):\n",
    "        model_04b, select_m4b, deploy_m4b, mvars_m4b, names_m4b, values_m4b, objValues_m4b, \\\n",
    "            spill_df_m4b, station_df_m4b, cover_1s_m4b, select_1s_m4b, deploy_1s_m4b, MeanResponseTime_m4b, coverage_percentage_m4b, assignment_m4b  \\\n",
    "            = model_w.solve(Stations, OilSpills, ResourcesD, coordinates_potential_st, coordinates_spill, SizeSpill, SizeSpill_n,\n",
    "                  Demand, Sensitivity_R, Sensitivity_n, Eff, Effectiveness_n, Availability, NumberStMaxL[j], Distance, Distance_n,\n",
    "                  W, QuantityMin, DistanceMaxL[i], Cf_s, CostU, Budget,\n",
    "                  BigM, MaxFO)\n",
    "        select_1sL.append(select_1s_m4b.index)\n",
    "        coverage_percentageL.append(coverage_percentage_m4b)\n",
    "        MeanResponseTimeL.append(MeanResponseTime_m4b)\n",
    "        max_distance_sensitivity_L.append([DistanceMaxL[i], NumberStMaxL[j], MeanResponseTime_m4b])"
   ],
   "metadata": {
    "collapsed": false
   }
  },
  {
   "cell_type": "code",
   "execution_count": null,
   "outputs": [],
   "source": [
    "\n",
    "model_04b, select_m4b, deploy_m4b, mvars_m4b, names_m4b, values_m4b, objValues_m4b, \\\n",
    "    spill_df_m4b, station_df_m4b, cover_1s_m4b, select_1s_m4b, deploy_1s_m4b, MeanResponseTime_m4b, coverage_percentage_m4b, assignment_m4b  \\\n",
    "    = model_w.solve(Stations, OilSpills, ResourcesD, coordinates_potential_st, coordinates_spill, SizeSpill, SizeSpill_n,\n",
    "          Demand, Sensitivity_R, Sensitivity_n, Eff, Effectiveness_n, Availability, NumberStMaxL[1], Distance, Distance_n,\n",
    "          W, QuantityMin, DistanceMaxL[0], Cf_s, CostU, Budget,\n",
    "          BigM, MaxFO)\n",
    "select_1sL.append(select_1s_m4b.index)\n",
    "coverage_percentageL.append(coverage_percentage_m4b)\n",
    "MeanResponseTimeL.append(MeanResponseTime_m4b)\n",
    "max_distance_sensitivity_L.append([DistanceMaxL[0], NumberStMaxL[1], MeanResponseTime_m4b])\n",
    "\n",
    "# Draw the network\n",
    "assignment_line_m4b = model_analysis.draw_network_diagram(DistanceMaxL[0], NumberStMaxL[1], Sensitivity_R, spill_df_m4b, station_df_m4b, MeanResponseTime_m4b, coverage_percentage_m4b, assignment_m4b, deploy_1s_m4b, select_1s_m4b, current_vs_proposed)"
   ],
   "metadata": {
    "collapsed": false
   }
  },
  {
   "cell_type": "code",
   "execution_count": null,
   "outputs": [],
   "source": [
    "# max_distance_sensitivity_L"
   ],
   "metadata": {
    "collapsed": false
   }
  },
  {
   "cell_type": "code",
   "execution_count": null,
   "outputs": [],
   "source": [
    "max_distance_sensitivity_df = pd.DataFrame(max_distance_sensitivity_L,\n",
    "                                              columns=['Max Distance Travelled','Max Number of Station','Mean Response Time'])\n",
    "max_distance_sensitivity_df"
   ],
   "metadata": {
    "collapsed": false
   }
  },
  {
   "cell_type": "code",
   "execution_count": null,
   "outputs": [],
   "source": [
    "sns.lineplot(data = max_distance_sensitivity_df, x='Max Distance Travelled', y='Mean Response Time', hue='Max Number of Station')"
   ],
   "metadata": {
    "collapsed": false
   }
  },
  {
   "cell_type": "code",
   "execution_count": null,
   "outputs": [],
   "source": [
    "a = 2\n",
    "a"
   ],
   "metadata": {
    "collapsed": false
   }
  },
  {
   "cell_type": "markdown",
   "source": [
    "## Emphasize distance metric"
   ],
   "metadata": {
    "collapsed": false
   }
  },
  {
   "cell_type": "code",
   "execution_count": null,
   "outputs": [],
   "source": [
    "\n",
    "BigM = 10**20\n",
    "current_vs_proposed = 'proposed' # current\n",
    "MaxFO = 1\n",
    "Budget = 10**12\n",
    "W = [100*0.25, 0.25, 100*0.25, 10**-4*0.25, 10**-2*0.25, 10 * 0.25]\n",
    "# we should emphasize spill size as well when trying to min distance. otherwise, it will minimize distance, & just assign nothing\n",
    "# dropping 100 from sensitivity weight & add in distance min 100*\n",
    "QuantityMin = 2\n",
    "# NumberStMax_m4b = 5\n",
    "current_vs_proposed = 'proposed'\n",
    "current_vs_proposed"
   ],
   "metadata": {
    "collapsed": false
   }
  },
  {
   "cell_type": "raw",
   "source": [
    "model_04b, select_m4b, deploy_m4b, mvars_m4b, names_m4b, values_m4b, objValues_m4b, \\\n",
    "    spill_df_m4b, station_df_m4b, cover_1s_m4b, select_1s_m4b, deploy_1s_m4b, MeanResponseTime_m4b, coverage_percentage_m4b, assignment_m4b  \\\n",
    "    = model_w.solve(Stations, OilSpills, ResourcesD, coordinates_potential_st, coordinates_spill, SizeSpill, SizeSpill_n,\n",
    "          Demand, Sensitivity_R, Sensitivity_n, Eff, Effectiveness_n, Availability, NumberStMaxL[0], Distance, Distance_n,\n",
    "          W, QuantityMin, DistanceMaxL[0], Cf_s, CostU, Budget,\n",
    "          BigM, MaxFO)\n",
    "select_1sL.append(select_1s_m4b.index)\n",
    "coverage_percentageL.append(coverage_percentage_m4b)\n",
    "MeanResponseTimeL.append(MeanResponseTime_m4b)\n",
    "max_distance_sensitivity_L.append([DistanceMaxL[0], NumberStMaxL[0], MeanResponseTime_m4b])\n",
    "\n",
    "# Draw the network\n",
    "assignment_line_m4b = model_analysis.draw_network_diagram(DistanceMaxL[0], NumberStMaxL[0], Sensitivity_R, spill_df_m4b, station_df_m4b, MeanResponseTime_m4b, coverage_percentage_m4b, assignment_m4b, deploy_1s_m4b, select_1s_m4b, current_vs_proposed)"
   ],
   "metadata": {
    "collapsed": false
   }
  },
  {
   "cell_type": "code",
   "execution_count": null,
   "outputs": [],
   "source": [
    "DistanceMaxL = [5, 7, 8, 10, 11, 12, 15, 20]\n",
    "NumberStMaxL = [5, 8, 10, 12]\n",
    "select_1sL =[]\n",
    "coverage_percentageL =[]\n",
    "MeanResponseTimeL =[]\n",
    "max_distance_sensitivity_L = []\n",
    "\n",
    "pareto_front_max_obj = []\n",
    "pareto_front_min_obj = []\n"
   ],
   "metadata": {
    "collapsed": false
   }
  },
  {
   "cell_type": "code",
   "execution_count": null,
   "outputs": [],
   "source": [
    "# Model\n",
    "for i in range(len(DistanceMaxL)):\n",
    "    for j in range(len(NumberStMaxL)):\n",
    "        model_04b, select_m4b, deploy_m4b, mvars_m4b, names_m4b, values_m4b, objValues_m4b, \\\n",
    "            spill_df_m4b, station_df_m4b, cover_1s_m4b, select_1s_m4b, deploy_1s_m4b, MeanResponseTime_m4b, coverage_percentage_m4b, assignment_m4b  \\\n",
    "            = model_w.solve(Stations, OilSpills, ResourcesD, coordinates_potential_st, coordinates_spill, SizeSpill, SizeSpill_n,\n",
    "                  Demand, Sensitivity_R, Sensitivity_n, Eff, Effectiveness_n, Availability, NumberStMaxL[j], Distance, Distance_n,\n",
    "                  W, QuantityMin, DistanceMaxL[i], Cf_s, CostU, Budget,\n",
    "                  BigM, MaxFO)\n",
    "        select_1sL.append(select_1s_m4b.index)\n",
    "        coverage_percentageL.append(coverage_percentage_m4b)\n",
    "        MeanResponseTimeL.append(MeanResponseTime_m4b)\n",
    "        max_distance_sensitivity_L.append([DistanceMaxL[i], NumberStMaxL[j], MeanResponseTime_m4b])\n",
    "\n",
    "        assignment_line_m4b = model_analysis.draw_network_diagram(DistanceMaxL[i], NumberStMaxL[j], Sensitivity_R, spill_df_m4b, station_df_m4b, MeanResponseTime_m4b,      coverage_percentage_m4b, assignment_m4b, deploy_1s_m4b, select_1s_m4b, current_vs_proposed)"
   ],
   "metadata": {
    "collapsed": false
   }
  },
  {
   "cell_type": "code",
   "execution_count": null,
   "outputs": [],
   "source": [],
   "metadata": {
    "collapsed": false
   }
  },
  {
   "cell_type": "code",
   "execution_count": null,
   "outputs": [],
   "source": [
    "#len(assignment)"
   ],
   "metadata": {
    "collapsed": false
   }
  },
  {
   "cell_type": "code",
   "execution_count": null,
   "outputs": [],
   "source": [
    "max_distance_sensitivity_df = pd.DataFrame(max_distance_sensitivity_L,\n",
    "                                              columns=['Max Distance Travelled','Max Number of Station','Mean Response Time'])\n",
    "max_distance_sensitivity_df"
   ],
   "metadata": {
    "collapsed": false
   }
  },
  {
   "cell_type": "code",
   "execution_count": null,
   "outputs": [],
   "source": [
    "sns.lineplot(data = max_distance_sensitivity_df, x='Max Distance Travelled', y='Mean Response Time', hue='Max Number of Station')"
   ],
   "metadata": {
    "collapsed": false
   }
  },
  {
   "cell_type": "markdown",
   "source": [
    "# Sensitivity: weight vector"
   ],
   "metadata": {
    "collapsed": false
   }
  },
  {
   "cell_type": "code",
   "execution_count": null,
   "outputs": [],
   "source": [
    "## Emphasi"
   ],
   "metadata": {
    "collapsed": false
   }
  },
  {
   "cell_type": "code",
   "execution_count": null,
   "outputs": [],
   "source": [
    "\n",
    "BigM = 10**20\n",
    "current_vs_proposed = 'proposed' # current\n",
    "MaxFO = 1\n",
    "Budget = 10**12\n",
    "W = [100*0.25, 0.25, 100*0.25, 10**-4*0.25, 10**-2*0.25, 10 * 0.25]\n",
    "# we should emphasize spill size as well when trying to min distance. otherwise, it will minimize distance, & just assign nothing\n",
    "# dropping 100 from sensitivity weight & add in distance min 100*\n",
    "QuantityMin = 2\n",
    "# NumberStMax_m4b = 5\n",
    "current_vs_proposed = 'proposed'\n",
    "\n",
    "DistanceMax = 10\n",
    "NumberStMax = 5"
   ],
   "metadata": {
    "collapsed": false
   }
  },
  {
   "cell_type": "code",
   "execution_count": null,
   "outputs": [],
   "source": [],
   "metadata": {
    "collapsed": false
   }
  },
  {
   "cell_type": "code",
   "execution_count": null,
   "outputs": [],
   "source": [
    "# W = [0.25, 0.25, 0.25, 0.25, 0.25, 0.25]\n",
    "# w1 = [.25, .5, .75]; w2 = [.25, .5, .75]; w3 = [.25, .5, .75];\n",
    "w1 = [.25, 10, 100]; w2 = [10**-2, .25, 10, 100, 10**4]; w3 = [10**-2, .25, 1, 10, 100]\n",
    "w4 = [.25, .75]; w5 = .25; w6 = .25; w7 = .25; w8 = .25\n",
    "\n",
    "weight_sensi_L = []\n",
    "MeanResponseTime_m4bL=[]\n",
    "coverage_percentage_m4bL=[]\n",
    "objValues_m4bL = []"
   ],
   "metadata": {
    "collapsed": false
   }
  },
  {
   "cell_type": "code",
   "execution_count": null,
   "outputs": [],
   "source": [
    "#import model"
   ],
   "metadata": {
    "collapsed": false
   }
  },
  {
   "cell_type": "markdown",
   "source": [
    "## Run Model 4(b)"
   ],
   "metadata": {
    "collapsed": false
   }
  },
  {
   "cell_type": "code",
   "execution_count": null,
   "outputs": [],
   "source": [
    "# Model\n",
    "for i in range(len(w1)):\n",
    "    for j in range(len(w2)):\n",
    "        for k in range(len(w3)):\n",
    "            for n in range(len(w4)):\n",
    "                W = [w1[i], w2[j], w3[k], w4[n], w5, w6, w7, w8]\n",
    "                model_04b, select_m4b, deploy_m4b, mvars_m4b, names_m4b, values_m4b, objValues_m4b, \\\n",
    "                    spill_df_m4b, station_df_m4b, cover_1s_m4b, select_1s_m4b, deploy_1s_m4b, MeanResponseTime_m4b, coverage_percentage_m4b, assignment_m4b  \\\n",
    "                    = model.solve(Stations, OilSpills, ResourcesD, coordinates_potential_st, coordinates_spill, SizeSpill, SizeSpill_n,\n",
    "                          Demand, Sensitivity_R, Sensitivity_n, Eff, Effectiveness_n, Availability, NumberStMax, Distance, Distance_n,\n",
    "                          W, QuantityMin, DistanceMax, Cf_s, CostU, Budget,\n",
    "                          BigM, MaxFO)\n",
    "\n",
    "                #coverage_percentage_m4bL.append(coverage_percentage_m4b)\n",
    "                #MeanResponseTime_m4bL.append(MeanResponseTime_m4b)\n",
    "                #objValues_m4bL.append(objValues_m4b[1::2][1]) # negative value of cost for [0] starting guess issue i think\n",
    "                weight_sensi_L.append([w1[i], w2[j], w3[k], w4[n], w5, w6, w7, w8,\n",
    "                                       coverage_percentage_m4b, MeanResponseTime_m4b, objValues_m4b[1::2][1]]) # coverage of sensitive area ++"
   ],
   "metadata": {
    "collapsed": false
   }
  },
  {
   "cell_type": "code",
   "execution_count": null,
   "outputs": [],
   "source": [
    "weight_sensi_L\n"
   ],
   "metadata": {
    "collapsed": false
   }
  },
  {
   "cell_type": "code",
   "execution_count": null,
   "outputs": [],
   "source": [
    "data_weight_pcp = pd.DataFrame(weight_sensi_L)\n",
    "data_weight_pcp.columns = ['w1', 'w2', 'w3', 'w4', 'w5', 'w6', 'w7', 'w8', 'coverage_percentage', 'MeanResponseTime', 'objValues2']\n",
    "data_weight_pcp"
   ],
   "metadata": {
    "collapsed": false
   }
  },
  {
   "cell_type": "code",
   "execution_count": null,
   "outputs": [],
   "source": [
    "data_weight_pcp.info()"
   ],
   "metadata": {
    "collapsed": false
   }
  },
  {
   "cell_type": "code",
   "execution_count": null,
   "outputs": [],
   "source": [
    "data_weight_pcp1 = data_weight_pcp[['w1', 'w3', 'w4', 'w5', 'w6', 'w7', 'w8', 'coverage_percentage']].copy()\n",
    "data_weight_pcp2 = data_weight_pcp[['w1', 'w3', 'w4', 'w5', 'w6', 'w7', 'w8', 'MeanResponseTime']].copy()\n",
    "data_weight_pcp3 = data_weight_pcp[['w1',  'w3', 'w4', 'w5', 'w6', 'w7', 'w8', 'objValues2']].copy()"
   ],
   "metadata": {
    "collapsed": false
   }
  },
  {
   "cell_type": "markdown",
   "source": [
    "## PCP"
   ],
   "metadata": {
    "collapsed": false
   }
  },
  {
   "cell_type": "code",
   "execution_count": null,
   "outputs": [],
   "source": [
    "data_weight_pcp = pd.read_excel('Outputs/data_weight_pcp.xlsx')\n",
    "data_co_sorted = data_weight_pcp.sort_values(['coverage_percentage'], ascending=False)\n",
    "data_MeanRT_sorted = data_weight_pcp.sort_values(['MeanResponseTime'], ascending=False)\n",
    "data_cost_sorted = data_weight_pcp.sort_values(['objValues2'], ascending=False)"
   ],
   "metadata": {
    "collapsed": false
   }
  },
  {
   "cell_type": "code",
   "execution_count": null,
   "outputs": [],
   "source": [
    "import matplotlib.ticker as ticker\n",
    "fig, ax = plt.subplots(figsize=(2,3))\n",
    "kwargs = {'lw':0.6} #'alpha':1,\n",
    "ax = pd.plotting.parallel_coordinates(data_co_sorted, class_column='coverage_percentage',\n",
    "                                 cols=['w1','w2', 'w3'],\n",
    "                                 colormap=plt.get_cmap('hot'),\n",
    "                                axvlines=False,\n",
    "                                 **kwargs                      )\n",
    "plt.yscale(\"log\")\n",
    "plt.ylabel('Coverage', fontsize=10)\n",
    "plt.yticks(fontsize=10)\n",
    "ax.set_xticklabels(['$w_1$', '$w_2$', '$w_3$'])\n",
    "plt.tight_layout()\n",
    "ax.legend(bbox_to_anchor=(1,1), fontsize = 8)\n",
    "ax.grid(False)\n",
    "fig.savefig(f'Outputs/Fig8a PCP.png', transparent=False, dpi=400, bbox_inches = \"tight\")"
   ],
   "metadata": {
    "collapsed": false
   }
  },
  {
   "cell_type": "code",
   "execution_count": null,
   "outputs": [],
   "source": [
    "fig, ax = plt.subplots(figsize=(2,3))\n",
    "kwargs = {'lw':0.6} #'alpha':1,\n",
    "ax = pd.plotting.parallel_coordinates(data_MeanRT_sorted, class_column='MeanResponseTime',\n",
    "                                 cols=['w1','w2', 'w3'],\n",
    "                                 colormap=plt.get_cmap('hot'),\n",
    "                                 **kwargs                      )\n",
    "plt.yscale(\"log\")\n",
    "plt.ylabel('Mean Response Time', fontsize=10)\n",
    "plt.yticks(fontsize=10)\n",
    "ax.set_xticklabels(['$w_1$', '$w_2$', '$w_3$'])\n",
    "plt.tight_layout()\n",
    "ax.legend(bbox_to_anchor=(1,1), fontsize = 8)\n",
    "ax.grid(False)\n",
    "fig.savefig(f'Outputs/Fig8b PCP.png', transparent=False, dpi=400, bbox_inches = \"tight\")\n",
    "\n",
    "fig, ax = plt.subplots(figsize=(2,3))\n",
    "kwargs = {'lw':0.6} #'alpha':1,\n",
    "ax = pd.plotting.parallel_coordinates(data_cost_sorted, class_column='objValues2',\n",
    "                                 cols=['w1','w2', 'w3'],\n",
    "                                 colormap=plt.get_cmap('hot'),\n",
    "                                 **kwargs                      )\n",
    "plt.yscale(\"log\")\n",
    "plt.ylabel('Objective 2', fontsize=10)\n",
    "plt.yticks(fontsize=10)\n",
    "ax.set_xticklabels(['$w_1$', '$w_2$', '$w_3$'])\n",
    "plt.tight_layout()\n",
    "ax.legend(bbox_to_anchor=(1,1), fontsize = 7)\n",
    "ax.grid(False)\n",
    "fig.savefig(f'Outputs/Fig8c PCP.png', transparent=False, dpi=400, bbox_inches = \"tight\")"
   ],
   "metadata": {
    "collapsed": false
   }
  },
  {
   "cell_type": "markdown",
   "source": [],
   "metadata": {
    "collapsed": false
   }
  },
  {
   "cell_type": "markdown",
   "source": [],
   "metadata": {
    "collapsed": false
   }
  },
  {
   "cell_type": "markdown",
   "source": [
    "# Boxplot - compare coverage, cost, time for current vs proposed"
   ],
   "metadata": {
    "collapsed": false
   }
  },
  {
   "cell_type": "markdown",
   "source": [
    "## Data Processing\n",
    "Creating 10 sets of data"
   ],
   "metadata": {
    "collapsed": false
   }
  },
  {
   "cell_type": "code",
   "execution_count": null,
   "outputs": [],
   "source": [],
   "metadata": {
    "collapsed": false
   }
  },
  {
   "cell_type": "code",
   "execution_count": null,
   "outputs": [],
   "source": [
    "# spill_data = pd.read_excel('Inputs/data_oil_spill_resource_allocation_Arctic_2023.xlsx', sheet_name='spills', header=0).copy()\n",
    "# Run the following random sampling 10 times\n",
    "# spill_data = spill_data.sample(n=100)\n",
    "# spill_data.to_csv('Inputs/10 Sets of spills/setJ_data_100_oil_spills.csv')\n",
    "\n",
    "\n",
    "# Load data\n",
    "# read csv file for newly created 10 sets\n",
    "spill_data = pd.read_csv('Inputs/10 Sets of spills/setA_data_100_oil_spills.csv')\n",
    "potential_station_data = pd.read_excel('Inputs/10 Sets of spills/data_oil_spill_resource_allocation_Arctic_2023_setA.xlsx', sheet_name='stations', header=0).copy()\n",
    "input_parameters = pd.read_excel('Inputs/10 Sets of spills/data_oil_spill_resource_allocation_Arctic_2023_setA.xlsx', sheet_name='Estimated parameters', header=0).copy()\n",
    "\n",
    "sensitivity_dataR = gpd.read_file('Inputs/ArcGIS_data/Sensitivity_data/Sensitivity_data5.shp').copy()"
   ],
   "metadata": {
    "collapsed": false
   }
  },
  {
   "cell_type": "code",
   "execution_count": null,
   "outputs": [],
   "source": [
    "# Data Extraction\n",
    "coordinates_potential_st = custom_func.extract_station_coordinate(potential_station_data)\n",
    "potential_st_coord = pd.DataFrame(coordinates_potential_st[1]).T.reset_index().set_index('index')\n",
    "potential_st_coord.columns = ['St_Latitude', 'St_Longitude']\n",
    "\n",
    "\n",
    "coordinates_spill = custom_func.extract_spill_coordinate(spill_data)\n",
    "spill_coord = pd.DataFrame(coordinates_spill[1]).T.reset_index().set_index('index')\n",
    "spill_coord.columns = ['St_Latitude', 'St_Longitude']\n",
    "display(spill_coord)"
   ],
   "metadata": {
    "collapsed": false
   }
  },
  {
   "cell_type": "code",
   "execution_count": null,
   "outputs": [],
   "source": [
    "# Input param\n",
    "Stations, OilSpills, ResourcesD, Demand, Availability, Eff, Distance, TimeR, Cf_s, CostU \\\n",
    "= data_preparation.generate_input_data(potential_station_data, spill_data, input_parameters)\n",
    "\n",
    "SizeSpill = SizeSpill_R = list(spill_data['Spill size']).copy()\n",
    "Sensitivity_R = custom_func.calculate_sensitivity(coordinates_spill[0], sensitivity_dataR)\n",
    "# normalize\n",
    "SizeSpill_n = dict(zip(OilSpills, custom_func.normalize(SizeSpill_R, min(SizeSpill_R), max(SizeSpill_R))))\n",
    "Sensitivity_n = dict(zip(OilSpills, custom_func.normalize(Sensitivity_R, min(Sensitivity_R), max(Sensitivity_R))))\n",
    "\n",
    "Distance_n = dict(zip(Distance.keys(), custom_func.normalize(Distance.values(), min(Distance.values()), max(Distance.values()))))\n",
    "# (x_0-x_min)/(x_max-x_min)\n",
    "Effectiveness_n = dict(zip(Eff.keys(), custom_func.normalize(Eff.values(), min(Eff.values()), max(Eff.values()))))"
   ],
   "metadata": {
    "collapsed": false
   }
  },
  {
   "cell_type": "markdown",
   "source": [
    "## Run model"
   ],
   "metadata": {
    "collapsed": false
   }
  },
  {
   "cell_type": "code",
   "execution_count": null,
   "outputs": [],
   "source": [
    "NumberStMax_m4b = 5\n",
    "DistanceMax = 10\n",
    "current_vs_proposed = 'proposed'"
   ],
   "metadata": {
    "collapsed": false
   }
  },
  {
   "cell_type": "code",
   "execution_count": null,
   "outputs": [],
   "source": [
    "# Model\n",
    "model_04b, select_m4b, deploy_m4b, mvars_m4b, names_m4b, values_m4b, objValues_m4b, \\\n",
    "        spill_df_m4b, station_df_m4b, cover_1s_m4b, select_1s_m4b, deploy_1s_m4b, MeanResponseTime_m4b, coverage_percentage_m4b, assignment_m4b  \\\n",
    "    = model.solve(Stations, OilSpills, ResourcesD, coordinates_potential_st, coordinates_spill, SizeSpill, SizeSpill_n,\n",
    "          Demand, Sensitivity_R, Sensitivity_n, Eff, Effectiveness_n, Availability, NumberStMax_m4b, Distance, Distance_n,\n",
    "          W, QuantityMin, DistanceMax, Cf_s, CostU, Budget,\n",
    "          BigM, MaxFO)"
   ],
   "metadata": {
    "collapsed": false
   }
  },
  {
   "cell_type": "code",
   "execution_count": null,
   "outputs": [],
   "source": [
    "# Draw the network\n",
    "assignment_line_m4b = model_analysis.draw_network_diagram(DistanceMax, NumberStMax_m4b, Sensitivity_R, spill_df_m4b, station_df_m4b, MeanResponseTime_m4b, coverage_percentage_m4b, assignment_m4b, deploy_1s_m4b, select_1s_m4b, current_vs_proposed)"
   ],
   "metadata": {
    "collapsed": false
   }
  },
  {
   "cell_type": "code",
   "execution_count": null,
   "outputs": [],
   "source": [],
   "metadata": {
    "collapsed": false
   }
  },
  {
   "cell_type": "code",
   "execution_count": null,
   "outputs": [],
   "source": [
    "boxplot_df = pd.DataFrame(index=range(10),\n",
    "                          columns=['Set of 100 spills', 'Coverage (%)','Mean Respone Time', 'Cost Objective value'])\n",
    "# boxplot_df"
   ],
   "metadata": {
    "collapsed": false
   }
  },
  {
   "cell_type": "markdown",
   "source": [
    "## Run without for loop"
   ],
   "metadata": {
    "collapsed": false
   }
  },
  {
   "cell_type": "code",
   "execution_count": null,
   "outputs": [],
   "source": [],
   "metadata": {
    "collapsed": false
   }
  },
  {
   "cell_type": "code",
   "execution_count": null,
   "outputs": [],
   "source": [
    "# Load data\n",
    "# read csv file for newly created 10 sets\n",
    "spill_data = pd.read_csv('Inputs/10 Sets of spills/setJ_data_100_oil_spills.csv')\n",
    "potential_station_data = pd.read_excel('Inputs/10 Sets of spills/data_oil_spill_resource_allocation_Arctic_2023_setJ.xlsx', sheet_name='stations', header=0).copy()\n",
    "input_parameters = pd.read_excel('Inputs/10 Sets of spills/data_oil_spill_resource_allocation_Arctic_2023_setJ.xlsx', sheet_name='Estimated parameters', header=0).copy()\n",
    "\n",
    "sensitivity_dataR = gpd.read_file('Inputs/ArcGIS_data/Sensitivity_data/Sensitivity_data5.shp').copy()\n",
    "\n",
    "\n",
    "# Data Extraction\n",
    "coordinates_potential_st = custom_func.extract_station_coordinate(potential_station_data)\n",
    "potential_st_coord = pd.DataFrame(coordinates_potential_st[1]).T.reset_index().set_index('index')\n",
    "potential_st_coord.columns = ['St_Latitude', 'St_Longitude']\n",
    "\n",
    "\n",
    "coordinates_spill = custom_func.extract_spill_coordinate(spill_data)\n",
    "spill_coord = pd.DataFrame(coordinates_spill[1]).T.reset_index().set_index('index')\n",
    "spill_coord.columns = ['St_Latitude', 'St_Longitude']\n",
    "display(spill_coord)\n",
    "\n",
    "\n",
    "# Input param\n",
    "Stations, OilSpills, ResourcesD, Demand, Availability, Eff, Distance, TimeR, Cf_s, CostU \\\n",
    "= data_preparation.generate_input_data(potential_station_data, spill_data, input_parameters)\n",
    "\n",
    "SizeSpill = SizeSpill_R = list(spill_data['Spill size']).copy()\n",
    "Sensitivity_R = custom_func.calculate_sensitivity(coordinates_spill[0], sensitivity_dataR)\n",
    "# normalize\n",
    "SizeSpill_n = dict(zip(OilSpills, custom_func.normalize(SizeSpill_R, min(SizeSpill_R), max(SizeSpill_R))))\n",
    "Sensitivity_n = dict(zip(OilSpills, custom_func.normalize(Sensitivity_R, min(Sensitivity_R), max(Sensitivity_R))))\n",
    "\n",
    "Distance_n = dict(zip(Distance.keys(), custom_func.normalize(Distance.values(), min(Distance.values()), max(Distance.values()))))\n",
    "# (x_0-x_min)/(x_max-x_min)\n",
    "Effectiveness_n = dict(zip(Eff.keys(), custom_func.normalize(Eff.values(), min(Eff.values()), max(Eff.values()))))\n",
    "\n",
    "NumberStMax_m4b = 5\n",
    "DistanceMax = 10\n",
    "current_vs_proposed = 'proposed'\n",
    "\n",
    "# Model\n",
    "model_04b, select_m4b, deploy_m4b, mvars_m4b, names_m4b, values_m4b, objValues_m4b, \\\n",
    "        spill_df_m4b, station_df_m4b, cover_1s_m4b, select_1s_m4b, deploy_1s_m4b, MeanResponseTime_m4b, coverage_percentage_m4b, assignment_m4b  \\\n",
    "    = model.solve(Stations, OilSpills, ResourcesD, coordinates_potential_st, coordinates_spill, SizeSpill, SizeSpill_n,\n",
    "          Demand, Sensitivity_R, Sensitivity_n, Eff, Effectiveness_n, Availability, NumberStMax_m4b, Distance, Distance_n,\n",
    "          W, QuantityMin, DistanceMax, Cf_s, CostU, Budget,\n",
    "          BigM, MaxFO)"
   ],
   "metadata": {
    "collapsed": false
   }
  },
  {
   "cell_type": "markdown",
   "source": [
    "## Save Output"
   ],
   "metadata": {
    "collapsed": false
   }
  },
  {
   "cell_type": "markdown",
   "source": [
    "Performance metric of proposed facility layout (model 4b)"
   ],
   "metadata": {
    "collapsed": false
   }
  },
  {
   "cell_type": "code",
   "execution_count": null,
   "outputs": [],
   "source": [
    "SetName = 'Set J'\n",
    "if SetName == 'Set J':\n",
    "    i = 9\n",
    "    boxplot_df.iloc[i,0] = SetName\n",
    "    boxplot_df.iloc[i,1] = coverage_percentage_m4b\n",
    "    boxplot_df.iloc[i,2] = MeanResponseTime_m4b\n",
    "    boxplot_df.iloc[i,3] = objValues_m4b[1::2][0]\n",
    "boxplot_df"
   ],
   "metadata": {
    "collapsed": false
   }
  },
  {
   "cell_type": "code",
   "execution_count": null,
   "outputs": [],
   "source": [
    "boxplot_df"
   ],
   "metadata": {
    "collapsed": false
   }
  },
  {
   "cell_type": "code",
   "execution_count": null,
   "outputs": [],
   "source": [
    "## model 3 (based on current facility location)"
   ],
   "metadata": {
    "collapsed": false
   }
  },
  {
   "cell_type": "code",
   "execution_count": null,
   "outputs": [],
   "source": [
    "boxplot_df.to_csv('Outputs/boxplot_data_proposed.csv')"
   ],
   "metadata": {
    "collapsed": false
   }
  },
  {
   "cell_type": "markdown",
   "source": [
    "## Current facility location - model 3 (for 10 dataset) using for loop"
   ],
   "metadata": {
    "collapsed": false
   }
  },
  {
   "cell_type": "code",
   "execution_count": null,
   "outputs": [],
   "source": [
    "boxplot_df_model3 = pd.DataFrame(index=range(10),\n",
    "                          columns=['Set of 100 spills', 'Coverage (%)','Mean Respone Time', 'Cost Objective value'])\n",
    "# boxplot_df"
   ],
   "metadata": {
    "collapsed": false
   }
  },
  {
   "cell_type": "code",
   "execution_count": null,
   "outputs": [],
   "source": [
    "SetNameL = ['setA', 'setB', 'setC', 'setD', 'setE', 'setF', 'setG', 'setH', 'setI', 'setJ']\n",
    "\n",
    "NumberStMax_m3 = 6\n",
    "DistanceMax = 10\n",
    "current_vs_proposed = 'current'\n",
    "\n",
    "current_station_data = pd.read_excel('Inputs/data_oil_spill_resource_allocation_Arctic_2023.xlsx', sheet_name='current', header=0).copy()\n",
    "current_input_param = pd.read_excel('Inputs/data_oil_spill_resource_allocation_Arctic_2023.xlsx', sheet_name='current input param', header=0).copy()\n",
    "sensitivity_dataR = gpd.read_file('Inputs/ArcGIS_data/Sensitivity_data/Sensitivity_data5.shp').copy()\n",
    "\n",
    "# Data Extraction\n",
    "coordinates_st = custom_func.extract_station_coordinate(current_station_data)\n",
    "current_st_coord = pd.DataFrame(coordinates_st[1]).T.reset_index().set_index('index')\n",
    "current_st_coord.columns = ['St_Latitude', 'St_Longitude']\n",
    "\n",
    "for SetName in SetNameL:\n",
    "    # Load data\n",
    "    # read csv file for newly created 10 sets\n",
    "    spill_data = pd.read_csv(f'Inputs/10 Sets of spills/{SetName}_data_100_oil_spills.csv')\n",
    "\n",
    "    coordinates_spill = custom_func.extract_spill_coordinate(spill_data)\n",
    "    spill_coord = pd.DataFrame(coordinates_spill[1]).T.reset_index().set_index('index')\n",
    "    spill_coord.columns = ['St_Latitude', 'St_Longitude']\n",
    "\n",
    "    # Input param\n",
    "    Stations, OilSpills, ResourcesD, Demand, Availability, Eff, Distance, TimeR, Cf_s, CostU \\\n",
    "    = data_preparation.generate_input_data(current_station_data, spill_data, current_input_param)\n",
    "\n",
    "    SizeSpill = SizeSpill_R = list(spill_data['Spill size']).copy()\n",
    "    Sensitivity_R = custom_func.calculate_sensitivity(coordinates_spill[0], sensitivity_dataR)\n",
    "    # normalize\n",
    "    SizeSpill_n = dict(zip(OilSpills, custom_func.normalize(SizeSpill_R, min(SizeSpill_R), max(SizeSpill_R))))\n",
    "    Sensitivity_n = dict(zip(OilSpills, custom_func.normalize(Sensitivity_R, min(Sensitivity_R), max(Sensitivity_R))))\n",
    "\n",
    "    Distance_n = dict(zip(Distance.keys(), custom_func.normalize(Distance.values(), min(Distance.values()), max(Distance.values()))))\n",
    "    # (x_0-x_min)/(x_max-x_min)\n",
    "    Effectiveness_n = dict(zip(Eff.keys(), custom_func.normalize(Eff.values(), min(Eff.values()), max(Eff.values()))))\n",
    "\n",
    "    # Modeling based on current setup\n",
    "    model_03, select_m3, deploy_m3, mvars_m3, names_m3, values_m3, objValues_m3, \\\n",
    "            spill_df_m3, station_df_m3, cover_1s_m3, select_1s_m3, deploy_1s_m3, MeanResponseTime_m3, coverage_percentage_m3, assignment_m3  \\\n",
    "        = model.solve(Stations, OilSpills, ResourcesD, coordinates_st, coordinates_spill, SizeSpill, SizeSpill_n,\n",
    "              Demand, Sensitivity_R, Sensitivity_n, Eff, Effectiveness_n, Availability, NumberStMax_m3, Distance, Distance_n,\n",
    "              W, QuantityMin, DistanceMax, Cf_s, CostU, Budget,\n",
    "              BigM, MaxFO)\n",
    "\n",
    "    if SetName == 'setA':\n",
    "        i = 0\n",
    "    elif SetName == 'setB':\n",
    "        i = 1\n",
    "    elif SetName == 'setC':\n",
    "        i = 2\n",
    "    elif SetName == 'setD':\n",
    "        i = 3\n",
    "    elif SetName == 'setE':\n",
    "        i = 4\n",
    "    elif SetName == 'setF':\n",
    "        i = 5\n",
    "    elif SetName == 'setG':\n",
    "        i = 6\n",
    "    elif SetName == 'setH':\n",
    "        i = 7\n",
    "    elif SetName == 'setI':\n",
    "        i = 8\n",
    "    elif SetName == 'setJ':\n",
    "        i = 9\n",
    "    boxplot_df_model3.iloc[i,0] = SetName\n",
    "    boxplot_df_model3.iloc[i,1] = coverage_percentage_m3\n",
    "    boxplot_df_model3.iloc[i,2] = MeanResponseTime_m3\n",
    "    boxplot_df_model3.iloc[i,3] = objValues_m3[1::2][0]\n",
    "\n",
    "boxplot_df_model3"
   ],
   "metadata": {
    "collapsed": false
   }
  },
  {
   "cell_type": "code",
   "execution_count": null,
   "outputs": [],
   "source": [
    "boxplot_df_model3.to_csv('Outputs/boxplot_df_model3.csv')"
   ],
   "metadata": {
    "collapsed": false
   }
  },
  {
   "cell_type": "code",
   "execution_count": null,
   "outputs": [],
   "source": [],
   "metadata": {
    "collapsed": false
   }
  },
  {
   "cell_type": "code",
   "execution_count": null,
   "outputs": [],
   "source": [],
   "metadata": {
    "collapsed": false
   }
  },
  {
   "cell_type": "markdown",
   "source": [
    "## Draw Boxplot"
   ],
   "metadata": {
    "collapsed": false
   }
  },
  {
   "cell_type": "code",
   "execution_count": null,
   "outputs": [],
   "source": [
    "data_compare = pd.read_excel('Outputs/Boxplot_data.xlsx', sheet_name='Sheet1', skiprows=[0])\n",
    "data_compare.info()\n",
    "coverage_df_stacked = data_compare[['Current','Proposed']].copy().stack().reset_index()\n",
    "coverage_df_stacked.columns = ['Index','Facility','Coverage']\n",
    "cost_df_stacked = data_compare[['Current.1','Proposed.1']].copy().stack().reset_index()\n",
    "cost_df_stacked.columns = ['Index','Facility','Cost']\n",
    "\n",
    "time_df_stacked = data_compare[['Current.2','Proposed.2']].copy().stack().reset_index()\n",
    "time_df_stacked.columns = ['Index','Facility','Response Time']"
   ],
   "metadata": {
    "collapsed": false
   }
  },
  {
   "cell_type": "code",
   "execution_count": null,
   "outputs": [],
   "source": [
    "sns.set_theme(style=\"white\")\n",
    "# plt.rcParams[\"figure.figsize\"] = [7.00, 4]\n",
    "plt.rcParams['axes.edgecolor'] = 'lightgray'\n",
    "\n",
    "fig, (ax1, ax2, ax3) = plt.subplots(1,3, figsize=(6,4))\n",
    "alpha_val = 0.7\n",
    "\n",
    "sns.boxplot(data= coverage_df_stacked, ax=ax1, x='Facility', y='Coverage',\n",
    "            boxprops=dict(alpha=alpha_val), palette=[\"g\", \"yellow\"]).set(ylabel='Spill Coverage (%)')\n",
    "sns.stripplot(data= coverage_df_stacked, ax=ax1, x='Facility', y='Coverage',\n",
    "              alpha=alpha_val)\n",
    "sns.boxplot(data= cost_df_stacked, ax=ax2, x='Facility', y='Cost',\n",
    "            boxprops=dict(alpha=alpha_val), palette=[\"g\", \"yellow\"]).set(ylabel='Cost Objective Value')\n",
    "sns.stripplot(data= cost_df_stacked, ax=ax2, x='Facility', y='Cost',\n",
    "              alpha=alpha_val)\n",
    "sns.boxplot(data= time_df_stacked, ax=ax3, x='Facility', y='Response Time',\n",
    "            boxprops=dict(alpha=alpha_val), palette=[\"g\", \"yellow\"]).set(ylabel='Mean Response Time (in hr)')\n",
    "sns.stripplot(data= time_df_stacked, ax=ax3, x='Facility', y='Response Time',\n",
    "              alpha=alpha_val)\n",
    "\n",
    "\n",
    "ax1.set_xticklabels(['Current', 'Proposed']); ax1.set_xlabel(''); ax1.tick_params(axis='x', labelrotation=30)\n",
    "ax2.set_xticklabels(['Current', 'Proposed']); ax2.set_xlabel(''); ax2.tick_params(axis='x', labelrotation=30)\n",
    "ax3.set_xticklabels(['Current', 'Proposed']); ax3.set_xlabel(''); ax3.tick_params(axis='x', labelrotation=30)\n",
    "plt.tight_layout()\n",
    "\n",
    "# plt.axis('off')\n",
    "plt.show()\n",
    "fig.savefig('Outputs/Fig10 boxplot.png', transparent=False, dpi= 500)"
   ],
   "metadata": {
    "collapsed": false
   }
  },
  {
   "cell_type": "markdown",
   "source": [
    "# Pareto Front"
   ],
   "metadata": {
    "collapsed": false
   }
  },
  {
   "cell_type": "code",
   "execution_count": null,
   "outputs": [],
   "source": [],
   "metadata": {
    "collapsed": false
   }
  },
  {
   "cell_type": "markdown",
   "source": [
    "## Create data"
   ],
   "metadata": {
    "collapsed": false
   }
  },
  {
   "cell_type": "code",
   "execution_count": null,
   "outputs": [],
   "source": [
    "## Current facility location - model 4b (for 10 dataset) using for loop\n",
    "pareto_front_df_model4b = pd.DataFrame(index=range(10),\n",
    "                                 columns=['Max coverage',\n",
    "                                          'Min cost'])\n",
    "SetNameL = ['setA', 'setB', 'setC', 'setD', 'setE', 'setF', 'setG', 'setH', 'setI', 'setJ']\n",
    "NumberStMax_m4b = 5\n",
    "DistanceMax = 10\n",
    "current_vs_proposed = 'proposed'\n",
    "BigM = 10**20\n",
    "current_vs_proposed = 'proposed' # current\n",
    "MaxFO = 1\n",
    "Budget = 10**12\n",
    "W = [0.25, 0.25, 0.25, 0.25, 0.25, 0.25]\n",
    "# we should emphasize spill size as well when trying to min distance. otherwise, it will minimize distance, & just assign nothing\n",
    "# dropping 100 from sensitivity weight & add in distance min 100*\n",
    "QuantityMin = 2\n",
    "\n",
    "# Load data\n",
    "potential_station_data = pd.read_excel('Inputs/data_oil_spill_resource_allocation_Arctic_2023.xlsx', sheet_name='stations', header=0).copy()\n",
    "input_parameters = pd.read_excel('Inputs/data_oil_spill_resource_allocation_Arctic_2023.xlsx', sheet_name='Estimated parameters', header=0).copy()\n",
    "sensitivity_dataR = gpd.read_file('Inputs/ArcGIS_data/Sensitivity_data/Sensitivity_data5.shp').copy()\n",
    "\n",
    "# Data Extraction\n",
    "coordinates_potential_st = custom_func.extract_station_coordinate(potential_station_data)\n",
    "potential_st_coord = pd.DataFrame(coordinates_potential_st[1]).T.reset_index().set_index('index')\n",
    "potential_st_coord.columns = ['St_Latitude', 'St_Longitude']"
   ],
   "metadata": {
    "collapsed": false
   }
  },
  {
   "cell_type": "code",
   "execution_count": null,
   "outputs": [],
   "source": [
    "for SetName in SetNameL:\n",
    "    # Load data\n",
    "    # read csv file for newly created 10 sets\n",
    "    spill_data = pd.read_csv(f'Inputs/10 Sets of spills/{SetName}_data_100_oil_spills.csv')\n",
    "\n",
    "    coordinates_spill = custom_func.extract_spill_coordinate(spill_data)\n",
    "    spill_coord = pd.DataFrame(coordinates_spill[1]).T.reset_index().set_index('index')\n",
    "    spill_coord.columns = ['St_Latitude', 'St_Longitude']\n",
    "\n",
    "\n",
    "    # Input param\n",
    "    Stations, OilSpills, ResourcesD, Demand, Availability, Eff, Distance, TimeR, Cf_s, CostU \\\n",
    "    = data_preparation.generate_input_data(potential_station_data, spill_data, input_parameters)\n",
    "\n",
    "    SizeSpill = SizeSpill_R = list(spill_data['Spill size']).copy()\n",
    "    Sensitivity_R = custom_func.calculate_sensitivity(coordinates_spill[0], sensitivity_dataR)\n",
    "    # normalize\n",
    "    SizeSpill_n = dict(zip(OilSpills, custom_func.normalize(SizeSpill_R, min(SizeSpill_R), max(SizeSpill_R))))\n",
    "    Sensitivity_n = dict(zip(OilSpills, custom_func.normalize(Sensitivity_R, min(Sensitivity_R), max(Sensitivity_R))))\n",
    "\n",
    "    Distance_n = dict(zip(Distance.keys(), custom_func.normalize(Distance.values(), min(Distance.values()), max(Distance.values()))))\n",
    "    # (x_0-x_min)/(x_max-x_min)\n",
    "    Effectiveness_n = dict(zip(Eff.keys(), custom_func.normalize(Eff.values(), min(Eff.values()), max(Eff.values()))))\n",
    "\n",
    "\n",
    "    # Model\n",
    "    model_04b, select_m4b, deploy_m4b, mvars_m4b, names_m4b, values_m4b, objValues_m4b, \\\n",
    "            spill_df_m4b, station_df_m4b, cover_1s_m4b, select_1s_m4b, deploy_1s_m4b, MeanResponseTime_m4b, coverage_percentage_m4b, assignment_m4b  \\\n",
    "        = model.solve(Stations, OilSpills, ResourcesD, coordinates_potential_st, coordinates_spill, SizeSpill, SizeSpill_n,\n",
    "              Demand, Sensitivity_R, Sensitivity_n, Eff, Effectiveness_n, Availability, NumberStMax_m4b, Distance, Distance_n,\n",
    "              W, QuantityMin, DistanceMax, Cf_s, CostU, Budget,\n",
    "              BigM, MaxFO)\n",
    "\n",
    "    if SetName == 'setA':\n",
    "        i = 0\n",
    "    elif SetName == 'setB':\n",
    "        i = 1\n",
    "    elif SetName == 'setC':\n",
    "        i = 2\n",
    "    elif SetName == 'setD':\n",
    "        i = 3\n",
    "    elif SetName == 'setE':\n",
    "        i = 4\n",
    "    elif SetName == 'setF':\n",
    "        i = 5\n",
    "    elif SetName == 'setG':\n",
    "        i = 6\n",
    "    elif SetName == 'setH':\n",
    "        i = 7\n",
    "    elif SetName == 'setI':\n",
    "        i = 8\n",
    "    elif SetName == 'setJ':\n",
    "        i = 9\n",
    "    pareto_front_df_model4b.iloc[i, 0] = objValues_m4b[0::2]\n",
    "    pareto_front_df_model4b.iloc[i, 1] = objValues_m4b[1::2]\n",
    "    pareto_front_df_model4b.iloc[i, 1] = SetName\n",
    "\n",
    "\n",
    "pareto_front_df_model4b"
   ],
   "metadata": {
    "collapsed": false
   }
  },
  {
   "cell_type": "code",
   "execution_count": null,
   "outputs": [],
   "source": [
    "pareto_front_df_model4b.to_csv('Outputs/pareto_front_df_model4b.csv')\n",
    "pareto_front_df_model4b"
   ],
   "metadata": {
    "collapsed": false
   }
  },
  {
   "cell_type": "markdown",
   "source": [
    "## Read data"
   ],
   "metadata": {
    "collapsed": false
   }
  },
  {
   "cell_type": "code",
   "execution_count": null,
   "outputs": [],
   "source": [
    "import pandas as pd\n",
    "import seaborn as sns\n",
    "import matplotlib.pyplot as plt"
   ],
   "metadata": {
    "collapsed": false
   }
  },
  {
   "cell_type": "code",
   "execution_count": null,
   "outputs": [],
   "source": [
    "data_pareto_front = pd.read_excel('Outputs/data_pareto_front.xlsx').copy()\n",
    "data_pareto_front"
   ],
   "metadata": {
    "collapsed": false
   }
  },
  {
   "cell_type": "code",
   "execution_count": null,
   "outputs": [],
   "source": [
    "plt.figure(figsize=(6,4))\n",
    "plt.scatter(data = data_pareto_front, x='Max Coverage', y='Min Cost',\n",
    "            alpha=0.5, edgecolors='b', s=200)\n",
    "plt.xlabel('Max Coverage')\n",
    "plt.ylabel('Min Cost')\n",
    "plt.grid(False)\n",
    "plt.tight_layout()\n",
    "plt.savefig('Outputs/pareto_front.png', transparent=True)"
   ],
   "metadata": {
    "collapsed": false
   }
  },
  {
   "cell_type": "code",
   "execution_count": null,
   "outputs": [],
   "source": [
    "data_pareto_front.plot.scatter(x='Max Coverage', y='Min Cost')"
   ],
   "metadata": {
    "collapsed": false
   }
  },
  {
   "cell_type": "markdown",
   "source": [],
   "metadata": {
    "collapsed": false
   }
  },
  {
   "cell_type": "code",
   "execution_count": null,
   "outputs": [],
   "source": [
    "fig11 = plt.subplots(1,3)\n",
    "plt.figure(figsize=(6,4))\n",
    "plt.scatter(data=data_pareto_front, x='Max Coverage', y='Min Cost',\n",
    "            alpha=0.5, edgecolors='b', s=200, color='g')\n",
    "plt.scatter(data=data_pareto_front, x='Max', y='Min',\n",
    "            alpha=0.5, edgecolors='black', s=200, color='r')\n",
    "Max = data_pareto_front[['Max']]\n",
    "Min = data_pareto_front[['Min']]\n",
    "plt.plot(Max, Min,\n",
    "            ls='--', alpha=0.5, color='r')\n",
    "\n",
    "plt.grid(False)\n",
    "plt.tight_layout()\n",
    "#plt.axis('off')\n",
    "plt.savefig('Outputs/pareto_frontier_points.png', transparent=True)\n",
    "plt.show()\n",
    "#savefig()"
   ],
   "metadata": {
    "collapsed": false
   }
  },
  {
   "cell_type": "code",
   "execution_count": null,
   "outputs": [],
   "source": [
    "# pip freeze > requirements.txt"
   ],
   "metadata": {
    "collapsed": false
   }
  }
 ],
 "metadata": {
  "kernelspec": {
   "display_name": "Python 3",
   "language": "python",
   "name": "python3"
  },
  "language_info": {
   "codemirror_mode": {
    "name": "ipython",
    "version": 2
   },
   "file_extension": ".py",
   "mimetype": "text/x-python",
   "name": "python",
   "nbconvert_exporter": "python",
   "pygments_lexer": "ipython2",
   "version": "2.7.6"
  }
 },
 "nbformat": 4,
 "nbformat_minor": 0
}
